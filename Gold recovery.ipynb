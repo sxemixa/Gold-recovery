{
 "cells": [
  {
   "cell_type": "markdown",
   "metadata": {
    "toc": true
   },
   "source": [
    "<h1>Содержание<span class=\"tocSkip\"></span></h1>\n",
    "<div class=\"toc\"><ul class=\"toc-item\"><li><span><a href=\"#Подготовка-данных\" data-toc-modified-id=\"Подготовка-данных-1\"><span class=\"toc-item-num\">1&nbsp;&nbsp;</span>Подготовка данных</a></span><ul class=\"toc-item\"><li><span><a href=\"#Проверим-количество-дубликатов\" data-toc-modified-id=\"Проверим-количество-дубликатов-1.1\"><span class=\"toc-item-num\">1.1&nbsp;&nbsp;</span>Проверим количество дубликатов</a></span></li><li><span><a href=\"#Посмотрим-на-числовые-значения-в-фреймах\" data-toc-modified-id=\"Посмотрим-на-числовые-значения-в-фреймах-1.2\"><span class=\"toc-item-num\">1.2&nbsp;&nbsp;</span>Посмотрим на числовые значения в фреймах</a></span></li><li><span><a href=\"#Рассчитаем-эффективность-обогащения-чернового-концентрата-rougher.output.recovery-(MAE)\" data-toc-modified-id=\"Рассчитаем-эффективность-обогащения-чернового-концентрата-rougher.output.recovery-(MAE)-1.3\"><span class=\"toc-item-num\">1.3&nbsp;&nbsp;</span>Рассчитаем эффективность обогащения чернового концентрата rougher.output.recovery (MAE)</a></span></li><li><span><a href=\"#Выделение-ключевых-столбцов-для-модели-и-их-обработка\" data-toc-modified-id=\"Выделение-ключевых-столбцов-для-модели-и-их-обработка-1.4\"><span class=\"toc-item-num\">1.4&nbsp;&nbsp;</span>Выделение ключевых столбцов для модели и их обработка</a></span></li><li><span><a href=\"#Вывод\" data-toc-modified-id=\"Вывод-1.5\"><span class=\"toc-item-num\">1.5&nbsp;&nbsp;</span>Вывод</a></span></li></ul></li><li><span><a href=\"#Анализ-данных\" data-toc-modified-id=\"Анализ-данных-2\"><span class=\"toc-item-num\">2&nbsp;&nbsp;</span>Анализ данных</a></span><ul class=\"toc-item\"><li><span><a href=\"#Анализ-концентрации-металлов-(Au,-Ag,-Pb)-на-различных-этапах-очистки\" data-toc-modified-id=\"Анализ-концентрации-металлов-(Au,-Ag,-Pb)-на-различных-этапах-очистки-2.1\"><span class=\"toc-item-num\">2.1&nbsp;&nbsp;</span>Анализ концентрации металлов (Au, Ag, Pb) на различных этапах очистки</a></span></li><li><span><a href=\"#Вывод\" data-toc-modified-id=\"Вывод-2.2\"><span class=\"toc-item-num\">2.2&nbsp;&nbsp;</span>Вывод</a></span></li></ul></li><li><span><a href=\"#Модель\" data-toc-modified-id=\"Модель-3\"><span class=\"toc-item-num\">3&nbsp;&nbsp;</span>Модель</a></span><ul class=\"toc-item\"><li><span><a href=\"#Лучшие-результаты-на-тренировочной-выборке\" data-toc-modified-id=\"Лучшие-результаты-на-тренировочной-выборке-3.1\"><span class=\"toc-item-num\">3.1&nbsp;&nbsp;</span>Лучшие результаты на тренировочной выборке</a></span></li><li><span><a href=\"#Финальная-ошибка-на-тестовой-выборке\" data-toc-modified-id=\"Финальная-ошибка-на-тестовой-выборке-3.2\"><span class=\"toc-item-num\">3.2&nbsp;&nbsp;</span>Финальная ошибка на тестовой выборке</a></span></li><li><span><a href=\"#Константная-модель,-сравнение,-анализ.\" data-toc-modified-id=\"Константная-модель,-сравнение,-анализ.-3.3\"><span class=\"toc-item-num\">3.3&nbsp;&nbsp;</span>Константная модель, сравнение, анализ.</a></span></li></ul></li><li><span><a href=\"#Чек-лист-готовности-проекта\" data-toc-modified-id=\"Чек-лист-готовности-проекта-4\"><span class=\"toc-item-num\">4&nbsp;&nbsp;</span>Чек-лист готовности проекта</a></span></li></ul></div>"
   ]
  },
  {
   "cell_type": "markdown",
   "metadata": {},
   "source": [
    "# Восстановление золота из руды"
   ]
  },
  {
   "cell_type": "markdown",
   "metadata": {},
   "source": [
    "Подготовьте прототип модели машинного обучения для «Цифры». Компания разрабатывает решения для эффективной работы промышленных предприятий.\n",
    "\n",
    "Модель должна предсказать коэффициент восстановления золота из золотосодержащей руды. Используйте данные с параметрами добычи и очистки. \n",
    "\n",
    "Модель поможет оптимизировать производство, чтобы не запускать предприятие с убыточными характеристиками.\n",
    "\n",
    "Вам нужно:\n",
    "\n",
    "1. Подготовить данные;\n",
    "2. Провести исследовательский анализ данных;\n",
    "3. Построить и обучить модель.\n",
    "\n",
    "Чтобы выполнить проект, обращайтесь к библиотекам *pandas*, *matplotlib* и *sklearn.* Вам поможет их документация."
   ]
  },
  {
   "cell_type": "markdown",
   "metadata": {},
   "source": [
    "# Технологический процесс\n",
    "![](https://pictures.s3.yandex.net/resources/viruchka_1576238830.jpg)"
   ]
  },
  {
   "cell_type": "markdown",
   "metadata": {},
   "source": [
    "# Описание данных\n",
    "\n",
    "**Технологический процесс**\n",
    "- Rougher feed — исходное сырье\n",
    "- Rougher additions (или reagent additions) — флотационные реагенты: Xanthate, Sulphate, Depressant\n",
    "    - Xanthate — ксантогенат (промотер, или активатор флотации);\n",
    "    - Sulphate — сульфат (на данном производстве сульфид натрия);\n",
    "    - Depressant — депрессант (силикат натрия).\n",
    "- Rougher process (англ. «грубый процесс») — флотация\n",
    "- Rougher tails — отвальные хвосты\n",
    "- Float banks — флотационная установка\n",
    "- Cleaner process — очистка\n",
    "- Rougher Au — черновой концентрат золота\n",
    "- Final Au — финальный концентрат золота\n",
    "\n",
    "**Параметры этапов**\n",
    "- air amount — объём воздуха\n",
    "- fluid levels — уровень жидкости\n",
    "- feed size — размер гранул сырья\n",
    "- feed rate — скорость подачи"
   ]
  },
  {
   "cell_type": "markdown",
   "metadata": {},
   "source": [
    "## Подготовка данных"
   ]
  },
  {
   "cell_type": "code",
   "execution_count": 1,
   "metadata": {},
   "outputs": [],
   "source": [
    "# Загружаем библиотеки\n",
    "import pandas as pd\n",
    "import matplotlib.pyplot as plt\n",
    "import numpy as np\n",
    "from sklearn.ensemble import RandomForestRegressor\n",
    "from sklearn.linear_model import LinearRegression\n",
    "from sklearn.tree import DecisionTreeRegressor\n",
    "from sklearn.ensemble import ExtraTreesRegressor\n",
    "from sklearn.model_selection import train_test_split\n",
    "from sklearn.preprocessing import StandardScaler\n",
    "from sklearn.metrics import r2_score\n",
    "from sklearn.metrics import mean_absolute_error\n",
    "from sklearn.preprocessing import PolynomialFeatures\n",
    "from sklearn.linear_model import Ridge\n",
    "from sklearn.model_selection import cross_val_score\n",
    "from sklearn.model_selection import GridSearchCV\n",
    "from sklearn.pipeline import Pipeline\n",
    "from sklearn.metrics import make_scorer\n",
    "from sklearn.pipeline import  make_pipeline\n",
    "from sklearn.impute import KNNImputer\n",
    "from sklearn.dummy import DummyRegressor\n",
    "import warnings\n",
    "warnings.filterwarnings('ignore')"
   ]
  },
  {
   "cell_type": "code",
   "execution_count": 2,
   "metadata": {},
   "outputs": [],
   "source": [
    "# Подгрузим данные и посмотрим по ним информацию\n",
    "df_train = pd.read_csv('/datasets/gold_recovery_train.csv')\n",
    "df_test = pd.read_csv('/datasets/gold_recovery_test.csv')\n",
    "df_full = pd.read_csv('/datasets/gold_recovery_full.csv')"
   ]
  },
  {
   "cell_type": "code",
   "execution_count": 3,
   "metadata": {},
   "outputs": [],
   "source": [
    "#df_train.head()"
   ]
  },
  {
   "cell_type": "code",
   "execution_count": 13,
   "metadata": {},
   "outputs": [
    {
     "name": "stdout",
     "output_type": "stream",
     "text": [
      "<class 'pandas.core.frame.DataFrame'>\n",
      "RangeIndex: 16860 entries, 0 to 16859\n",
      "Data columns (total 87 columns):\n",
      " #   Column                                              Non-Null Count  Dtype  \n",
      "---  ------                                              --------------  -----  \n",
      " 0   date                                                16860 non-null  object \n",
      " 1   final.output.concentrate_ag                         16788 non-null  float64\n",
      " 2   final.output.concentrate_pb                         16788 non-null  float64\n",
      " 3   final.output.concentrate_sol                        16490 non-null  float64\n",
      " 4   final.output.concentrate_au                         16789 non-null  float64\n",
      " 5   final.output.recovery                               15339 non-null  float64\n",
      " 6   final.output.tail_ag                                16794 non-null  float64\n",
      " 7   final.output.tail_pb                                16677 non-null  float64\n",
      " 8   final.output.tail_sol                               16715 non-null  float64\n",
      " 9   final.output.tail_au                                16794 non-null  float64\n",
      " 10  primary_cleaner.input.sulfate                       15553 non-null  float64\n",
      " 11  primary_cleaner.input.depressant                    15598 non-null  float64\n",
      " 12  primary_cleaner.input.feed_size                     16860 non-null  float64\n",
      " 13  primary_cleaner.input.xanthate                      15875 non-null  float64\n",
      " 14  primary_cleaner.output.concentrate_ag               16778 non-null  float64\n",
      " 15  primary_cleaner.output.concentrate_pb               16502 non-null  float64\n",
      " 16  primary_cleaner.output.concentrate_sol              16224 non-null  float64\n",
      " 17  primary_cleaner.output.concentrate_au               16778 non-null  float64\n",
      " 18  primary_cleaner.output.tail_ag                      16777 non-null  float64\n",
      " 19  primary_cleaner.output.tail_pb                      16761 non-null  float64\n",
      " 20  primary_cleaner.output.tail_sol                     16579 non-null  float64\n",
      " 21  primary_cleaner.output.tail_au                      16777 non-null  float64\n",
      " 22  primary_cleaner.state.floatbank8_a_air              16820 non-null  float64\n",
      " 23  primary_cleaner.state.floatbank8_a_level            16827 non-null  float64\n",
      " 24  primary_cleaner.state.floatbank8_b_air              16820 non-null  float64\n",
      " 25  primary_cleaner.state.floatbank8_b_level            16833 non-null  float64\n",
      " 26  primary_cleaner.state.floatbank8_c_air              16822 non-null  float64\n",
      " 27  primary_cleaner.state.floatbank8_c_level            16833 non-null  float64\n",
      " 28  primary_cleaner.state.floatbank8_d_air              16821 non-null  float64\n",
      " 29  primary_cleaner.state.floatbank8_d_level            16833 non-null  float64\n",
      " 30  rougher.calculation.sulfate_to_au_concentrate       16833 non-null  float64\n",
      " 31  rougher.calculation.floatbank10_sulfate_to_au_feed  16833 non-null  float64\n",
      " 32  rougher.calculation.floatbank11_sulfate_to_au_feed  16833 non-null  float64\n",
      " 33  rougher.calculation.au_pb_ratio                     15618 non-null  float64\n",
      " 34  rougher.input.feed_ag                               16778 non-null  float64\n",
      " 35  rougher.input.feed_pb                               16632 non-null  float64\n",
      " 36  rougher.input.feed_rate                             16347 non-null  float64\n",
      " 37  rougher.input.feed_size                             16443 non-null  float64\n",
      " 38  rougher.input.feed_sol                              16568 non-null  float64\n",
      " 39  rougher.input.feed_au                               16777 non-null  float64\n",
      " 40  rougher.input.floatbank10_sulfate                   15816 non-null  float64\n",
      " 41  rougher.input.floatbank10_xanthate                  16514 non-null  float64\n",
      " 42  rougher.input.floatbank11_sulfate                   16237 non-null  float64\n",
      " 43  rougher.input.floatbank11_xanthate                  14956 non-null  float64\n",
      " 44  rougher.output.concentrate_ag                       16778 non-null  float64\n",
      " 45  rougher.output.concentrate_pb                       16778 non-null  float64\n",
      " 46  rougher.output.concentrate_sol                      16698 non-null  float64\n",
      " 47  rougher.output.concentrate_au                       16778 non-null  float64\n",
      " 48  rougher.output.recovery                             14287 non-null  float64\n",
      " 49  rougher.output.tail_ag                              14610 non-null  float64\n",
      " 50  rougher.output.tail_pb                              16778 non-null  float64\n",
      " 51  rougher.output.tail_sol                             14611 non-null  float64\n",
      " 52  rougher.output.tail_au                              14611 non-null  float64\n",
      " 53  rougher.state.floatbank10_a_air                     16807 non-null  float64\n",
      " 54  rougher.state.floatbank10_a_level                   16807 non-null  float64\n",
      " 55  rougher.state.floatbank10_b_air                     16807 non-null  float64\n",
      " 56  rougher.state.floatbank10_b_level                   16807 non-null  float64\n",
      " 57  rougher.state.floatbank10_c_air                     16807 non-null  float64\n",
      " 58  rougher.state.floatbank10_c_level                   16814 non-null  float64\n",
      " 59  rougher.state.floatbank10_d_air                     16802 non-null  float64\n",
      " 60  rougher.state.floatbank10_d_level                   16809 non-null  float64\n",
      " 61  rougher.state.floatbank10_e_air                     16257 non-null  float64\n",
      " 62  rougher.state.floatbank10_e_level                   16809 non-null  float64\n",
      " 63  rougher.state.floatbank10_f_air                     16802 non-null  float64\n",
      " 64  rougher.state.floatbank10_f_level                   16802 non-null  float64\n",
      " 65  secondary_cleaner.output.tail_ag                    16776 non-null  float64\n",
      " 66  secondary_cleaner.output.tail_pb                    16764 non-null  float64\n",
      " 67  secondary_cleaner.output.tail_sol                   14874 non-null  float64\n",
      " 68  secondary_cleaner.output.tail_au                    16778 non-null  float64\n",
      " 69  secondary_cleaner.state.floatbank2_a_air            16497 non-null  float64\n",
      " 70  secondary_cleaner.state.floatbank2_a_level          16751 non-null  float64\n",
      " 71  secondary_cleaner.state.floatbank2_b_air            16705 non-null  float64\n",
      " 72  secondary_cleaner.state.floatbank2_b_level          16748 non-null  float64\n",
      " 73  secondary_cleaner.state.floatbank3_a_air            16763 non-null  float64\n",
      " 74  secondary_cleaner.state.floatbank3_a_level          16747 non-null  float64\n",
      " 75  secondary_cleaner.state.floatbank3_b_air            16752 non-null  float64\n",
      " 76  secondary_cleaner.state.floatbank3_b_level          16750 non-null  float64\n",
      " 77  secondary_cleaner.state.floatbank4_a_air            16731 non-null  float64\n",
      " 78  secondary_cleaner.state.floatbank4_a_level          16747 non-null  float64\n",
      " 79  secondary_cleaner.state.floatbank4_b_air            16768 non-null  float64\n",
      " 80  secondary_cleaner.state.floatbank4_b_level          16767 non-null  float64\n",
      " 81  secondary_cleaner.state.floatbank5_a_air            16775 non-null  float64\n",
      " 82  secondary_cleaner.state.floatbank5_a_level          16775 non-null  float64\n",
      " 83  secondary_cleaner.state.floatbank5_b_air            16775 non-null  float64\n",
      " 84  secondary_cleaner.state.floatbank5_b_level          16776 non-null  float64\n",
      " 85  secondary_cleaner.state.floatbank6_a_air            16757 non-null  float64\n",
      " 86  secondary_cleaner.state.floatbank6_a_level          16775 non-null  float64\n",
      "dtypes: float64(86), object(1)\n",
      "memory usage: 11.2+ MB\n"
     ]
    }
   ],
   "source": [
    "df_train.info()"
   ]
  },
  {
   "cell_type": "code",
   "execution_count": 14,
   "metadata": {},
   "outputs": [
    {
     "name": "stdout",
     "output_type": "stream",
     "text": [
      "<class 'pandas.core.frame.DataFrame'>\n",
      "RangeIndex: 5856 entries, 0 to 5855\n",
      "Data columns (total 53 columns):\n",
      " #   Column                                      Non-Null Count  Dtype  \n",
      "---  ------                                      --------------  -----  \n",
      " 0   date                                        5856 non-null   object \n",
      " 1   primary_cleaner.input.sulfate               5554 non-null   float64\n",
      " 2   primary_cleaner.input.depressant            5572 non-null   float64\n",
      " 3   primary_cleaner.input.feed_size             5856 non-null   float64\n",
      " 4   primary_cleaner.input.xanthate              5690 non-null   float64\n",
      " 5   primary_cleaner.state.floatbank8_a_air      5840 non-null   float64\n",
      " 6   primary_cleaner.state.floatbank8_a_level    5840 non-null   float64\n",
      " 7   primary_cleaner.state.floatbank8_b_air      5840 non-null   float64\n",
      " 8   primary_cleaner.state.floatbank8_b_level    5840 non-null   float64\n",
      " 9   primary_cleaner.state.floatbank8_c_air      5840 non-null   float64\n",
      " 10  primary_cleaner.state.floatbank8_c_level    5840 non-null   float64\n",
      " 11  primary_cleaner.state.floatbank8_d_air      5840 non-null   float64\n",
      " 12  primary_cleaner.state.floatbank8_d_level    5840 non-null   float64\n",
      " 13  rougher.input.feed_ag                       5840 non-null   float64\n",
      " 14  rougher.input.feed_pb                       5840 non-null   float64\n",
      " 15  rougher.input.feed_rate                     5816 non-null   float64\n",
      " 16  rougher.input.feed_size                     5834 non-null   float64\n",
      " 17  rougher.input.feed_sol                      5789 non-null   float64\n",
      " 18  rougher.input.feed_au                       5840 non-null   float64\n",
      " 19  rougher.input.floatbank10_sulfate           5599 non-null   float64\n",
      " 20  rougher.input.floatbank10_xanthate          5733 non-null   float64\n",
      " 21  rougher.input.floatbank11_sulfate           5801 non-null   float64\n",
      " 22  rougher.input.floatbank11_xanthate          5503 non-null   float64\n",
      " 23  rougher.state.floatbank10_a_air             5839 non-null   float64\n",
      " 24  rougher.state.floatbank10_a_level           5840 non-null   float64\n",
      " 25  rougher.state.floatbank10_b_air             5839 non-null   float64\n",
      " 26  rougher.state.floatbank10_b_level           5840 non-null   float64\n",
      " 27  rougher.state.floatbank10_c_air             5839 non-null   float64\n",
      " 28  rougher.state.floatbank10_c_level           5840 non-null   float64\n",
      " 29  rougher.state.floatbank10_d_air             5839 non-null   float64\n",
      " 30  rougher.state.floatbank10_d_level           5840 non-null   float64\n",
      " 31  rougher.state.floatbank10_e_air             5839 non-null   float64\n",
      " 32  rougher.state.floatbank10_e_level           5840 non-null   float64\n",
      " 33  rougher.state.floatbank10_f_air             5839 non-null   float64\n",
      " 34  rougher.state.floatbank10_f_level           5840 non-null   float64\n",
      " 35  secondary_cleaner.state.floatbank2_a_air    5836 non-null   float64\n",
      " 36  secondary_cleaner.state.floatbank2_a_level  5840 non-null   float64\n",
      " 37  secondary_cleaner.state.floatbank2_b_air    5833 non-null   float64\n",
      " 38  secondary_cleaner.state.floatbank2_b_level  5840 non-null   float64\n",
      " 39  secondary_cleaner.state.floatbank3_a_air    5822 non-null   float64\n",
      " 40  secondary_cleaner.state.floatbank3_a_level  5840 non-null   float64\n",
      " 41  secondary_cleaner.state.floatbank3_b_air    5840 non-null   float64\n",
      " 42  secondary_cleaner.state.floatbank3_b_level  5840 non-null   float64\n",
      " 43  secondary_cleaner.state.floatbank4_a_air    5840 non-null   float64\n",
      " 44  secondary_cleaner.state.floatbank4_a_level  5840 non-null   float64\n",
      " 45  secondary_cleaner.state.floatbank4_b_air    5840 non-null   float64\n",
      " 46  secondary_cleaner.state.floatbank4_b_level  5840 non-null   float64\n",
      " 47  secondary_cleaner.state.floatbank5_a_air    5840 non-null   float64\n",
      " 48  secondary_cleaner.state.floatbank5_a_level  5840 non-null   float64\n",
      " 49  secondary_cleaner.state.floatbank5_b_air    5840 non-null   float64\n",
      " 50  secondary_cleaner.state.floatbank5_b_level  5840 non-null   float64\n",
      " 51  secondary_cleaner.state.floatbank6_a_air    5840 non-null   float64\n",
      " 52  secondary_cleaner.state.floatbank6_a_level  5840 non-null   float64\n",
      "dtypes: float64(52), object(1)\n",
      "memory usage: 2.4+ MB\n"
     ]
    }
   ],
   "source": [
    "df_test.info()"
   ]
  },
  {
   "cell_type": "code",
   "execution_count": 15,
   "metadata": {},
   "outputs": [
    {
     "name": "stdout",
     "output_type": "stream",
     "text": [
      "<class 'pandas.core.frame.DataFrame'>\n",
      "RangeIndex: 22716 entries, 0 to 22715\n",
      "Data columns (total 87 columns):\n",
      " #   Column                                              Non-Null Count  Dtype  \n",
      "---  ------                                              --------------  -----  \n",
      " 0   date                                                22716 non-null  object \n",
      " 1   final.output.concentrate_ag                         22627 non-null  float64\n",
      " 2   final.output.concentrate_pb                         22629 non-null  float64\n",
      " 3   final.output.concentrate_sol                        22331 non-null  float64\n",
      " 4   final.output.concentrate_au                         22630 non-null  float64\n",
      " 5   final.output.recovery                               20753 non-null  float64\n",
      " 6   final.output.tail_ag                                22633 non-null  float64\n",
      " 7   final.output.tail_pb                                22516 non-null  float64\n",
      " 8   final.output.tail_sol                               22445 non-null  float64\n",
      " 9   final.output.tail_au                                22635 non-null  float64\n",
      " 10  primary_cleaner.input.sulfate                       21107 non-null  float64\n",
      " 11  primary_cleaner.input.depressant                    21170 non-null  float64\n",
      " 12  primary_cleaner.input.feed_size                     22716 non-null  float64\n",
      " 13  primary_cleaner.input.xanthate                      21565 non-null  float64\n",
      " 14  primary_cleaner.output.concentrate_ag               22618 non-null  float64\n",
      " 15  primary_cleaner.output.concentrate_pb               22268 non-null  float64\n",
      " 16  primary_cleaner.output.concentrate_sol              21918 non-null  float64\n",
      " 17  primary_cleaner.output.concentrate_au               22618 non-null  float64\n",
      " 18  primary_cleaner.output.tail_ag                      22614 non-null  float64\n",
      " 19  primary_cleaner.output.tail_pb                      22594 non-null  float64\n",
      " 20  primary_cleaner.output.tail_sol                     22365 non-null  float64\n",
      " 21  primary_cleaner.output.tail_au                      22617 non-null  float64\n",
      " 22  primary_cleaner.state.floatbank8_a_air              22660 non-null  float64\n",
      " 23  primary_cleaner.state.floatbank8_a_level            22667 non-null  float64\n",
      " 24  primary_cleaner.state.floatbank8_b_air              22660 non-null  float64\n",
      " 25  primary_cleaner.state.floatbank8_b_level            22673 non-null  float64\n",
      " 26  primary_cleaner.state.floatbank8_c_air              22662 non-null  float64\n",
      " 27  primary_cleaner.state.floatbank8_c_level            22673 non-null  float64\n",
      " 28  primary_cleaner.state.floatbank8_d_air              22661 non-null  float64\n",
      " 29  primary_cleaner.state.floatbank8_d_level            22673 non-null  float64\n",
      " 30  rougher.calculation.sulfate_to_au_concentrate       22672 non-null  float64\n",
      " 31  rougher.calculation.floatbank10_sulfate_to_au_feed  22672 non-null  float64\n",
      " 32  rougher.calculation.floatbank11_sulfate_to_au_feed  22672 non-null  float64\n",
      " 33  rougher.calculation.au_pb_ratio                     21089 non-null  float64\n",
      " 34  rougher.input.feed_ag                               22618 non-null  float64\n",
      " 35  rougher.input.feed_pb                               22472 non-null  float64\n",
      " 36  rougher.input.feed_rate                             22163 non-null  float64\n",
      " 37  rougher.input.feed_size                             22277 non-null  float64\n",
      " 38  rougher.input.feed_sol                              22357 non-null  float64\n",
      " 39  rougher.input.feed_au                               22617 non-null  float64\n",
      " 40  rougher.input.floatbank10_sulfate                   21415 non-null  float64\n",
      " 41  rougher.input.floatbank10_xanthate                  22247 non-null  float64\n",
      " 42  rougher.input.floatbank11_sulfate                   22038 non-null  float64\n",
      " 43  rougher.input.floatbank11_xanthate                  20459 non-null  float64\n",
      " 44  rougher.output.concentrate_ag                       22618 non-null  float64\n",
      " 45  rougher.output.concentrate_pb                       22618 non-null  float64\n",
      " 46  rougher.output.concentrate_sol                      22526 non-null  float64\n",
      " 47  rougher.output.concentrate_au                       22618 non-null  float64\n",
      " 48  rougher.output.recovery                             19597 non-null  float64\n",
      " 49  rougher.output.tail_ag                              19979 non-null  float64\n",
      " 50  rougher.output.tail_pb                              22618 non-null  float64\n",
      " 51  rougher.output.tail_sol                             19980 non-null  float64\n",
      " 52  rougher.output.tail_au                              19980 non-null  float64\n",
      " 53  rougher.state.floatbank10_a_air                     22646 non-null  float64\n",
      " 54  rougher.state.floatbank10_a_level                   22647 non-null  float64\n",
      " 55  rougher.state.floatbank10_b_air                     22646 non-null  float64\n",
      " 56  rougher.state.floatbank10_b_level                   22647 non-null  float64\n",
      " 57  rougher.state.floatbank10_c_air                     22646 non-null  float64\n",
      " 58  rougher.state.floatbank10_c_level                   22654 non-null  float64\n",
      " 59  rougher.state.floatbank10_d_air                     22641 non-null  float64\n",
      " 60  rougher.state.floatbank10_d_level                   22649 non-null  float64\n",
      " 61  rougher.state.floatbank10_e_air                     22096 non-null  float64\n",
      " 62  rougher.state.floatbank10_e_level                   22649 non-null  float64\n",
      " 63  rougher.state.floatbank10_f_air                     22641 non-null  float64\n",
      " 64  rougher.state.floatbank10_f_level                   22642 non-null  float64\n",
      " 65  secondary_cleaner.output.tail_ag                    22616 non-null  float64\n",
      " 66  secondary_cleaner.output.tail_pb                    22600 non-null  float64\n",
      " 67  secondary_cleaner.output.tail_sol                   20501 non-null  float64\n",
      " 68  secondary_cleaner.output.tail_au                    22618 non-null  float64\n",
      " 69  secondary_cleaner.state.floatbank2_a_air            22333 non-null  float64\n",
      " 70  secondary_cleaner.state.floatbank2_a_level          22591 non-null  float64\n",
      " 71  secondary_cleaner.state.floatbank2_b_air            22538 non-null  float64\n",
      " 72  secondary_cleaner.state.floatbank2_b_level          22588 non-null  float64\n",
      " 73  secondary_cleaner.state.floatbank3_a_air            22585 non-null  float64\n",
      " 74  secondary_cleaner.state.floatbank3_a_level          22587 non-null  float64\n",
      " 75  secondary_cleaner.state.floatbank3_b_air            22592 non-null  float64\n",
      " 76  secondary_cleaner.state.floatbank3_b_level          22590 non-null  float64\n",
      " 77  secondary_cleaner.state.floatbank4_a_air            22571 non-null  float64\n",
      " 78  secondary_cleaner.state.floatbank4_a_level          22587 non-null  float64\n",
      " 79  secondary_cleaner.state.floatbank4_b_air            22608 non-null  float64\n",
      " 80  secondary_cleaner.state.floatbank4_b_level          22607 non-null  float64\n",
      " 81  secondary_cleaner.state.floatbank5_a_air            22615 non-null  float64\n",
      " 82  secondary_cleaner.state.floatbank5_a_level          22615 non-null  float64\n",
      " 83  secondary_cleaner.state.floatbank5_b_air            22615 non-null  float64\n",
      " 84  secondary_cleaner.state.floatbank5_b_level          22616 non-null  float64\n",
      " 85  secondary_cleaner.state.floatbank6_a_air            22597 non-null  float64\n",
      " 86  secondary_cleaner.state.floatbank6_a_level          22615 non-null  float64\n",
      "dtypes: float64(86), object(1)\n",
      "memory usage: 15.1+ MB\n"
     ]
    }
   ],
   "source": [
    "df_full.info()"
   ]
  },
  {
   "cell_type": "markdown",
   "metadata": {},
   "source": [
    "### Проверим количество дубликатов"
   ]
  },
  {
   "cell_type": "code",
   "execution_count": 16,
   "metadata": {},
   "outputs": [
    {
     "data": {
      "text/plain": [
       "0"
      ]
     },
     "execution_count": 16,
     "metadata": {},
     "output_type": "execute_result"
    }
   ],
   "source": [
    "df_test.duplicated().sum()"
   ]
  },
  {
   "cell_type": "code",
   "execution_count": 17,
   "metadata": {},
   "outputs": [
    {
     "data": {
      "text/plain": [
       "0"
      ]
     },
     "execution_count": 17,
     "metadata": {},
     "output_type": "execute_result"
    }
   ],
   "source": [
    "df_train.duplicated().sum()"
   ]
  },
  {
   "cell_type": "code",
   "execution_count": 18,
   "metadata": {},
   "outputs": [
    {
     "data": {
      "text/plain": [
       "0"
      ]
     },
     "execution_count": 18,
     "metadata": {},
     "output_type": "execute_result"
    }
   ],
   "source": [
    "df_full.duplicated().sum()"
   ]
  },
  {
   "cell_type": "markdown",
   "metadata": {},
   "source": [
    "### Посмотрим на числовые значения в фреймах"
   ]
  },
  {
   "cell_type": "code",
   "execution_count": 19,
   "metadata": {},
   "outputs": [
    {
     "data": {
      "text/html": [
       "<div>\n",
       "<style scoped>\n",
       "    .dataframe tbody tr th:only-of-type {\n",
       "        vertical-align: middle;\n",
       "    }\n",
       "\n",
       "    .dataframe tbody tr th {\n",
       "        vertical-align: top;\n",
       "    }\n",
       "\n",
       "    .dataframe thead th {\n",
       "        text-align: right;\n",
       "    }\n",
       "</style>\n",
       "<table border=\"1\" class=\"dataframe\">\n",
       "  <thead>\n",
       "    <tr style=\"text-align: right;\">\n",
       "      <th></th>\n",
       "      <th>primary_cleaner.input.sulfate</th>\n",
       "      <th>primary_cleaner.input.depressant</th>\n",
       "      <th>primary_cleaner.input.feed_size</th>\n",
       "      <th>primary_cleaner.input.xanthate</th>\n",
       "      <th>primary_cleaner.state.floatbank8_a_air</th>\n",
       "      <th>primary_cleaner.state.floatbank8_a_level</th>\n",
       "      <th>primary_cleaner.state.floatbank8_b_air</th>\n",
       "      <th>primary_cleaner.state.floatbank8_b_level</th>\n",
       "      <th>primary_cleaner.state.floatbank8_c_air</th>\n",
       "      <th>primary_cleaner.state.floatbank8_c_level</th>\n",
       "      <th>...</th>\n",
       "      <th>secondary_cleaner.state.floatbank4_a_air</th>\n",
       "      <th>secondary_cleaner.state.floatbank4_a_level</th>\n",
       "      <th>secondary_cleaner.state.floatbank4_b_air</th>\n",
       "      <th>secondary_cleaner.state.floatbank4_b_level</th>\n",
       "      <th>secondary_cleaner.state.floatbank5_a_air</th>\n",
       "      <th>secondary_cleaner.state.floatbank5_a_level</th>\n",
       "      <th>secondary_cleaner.state.floatbank5_b_air</th>\n",
       "      <th>secondary_cleaner.state.floatbank5_b_level</th>\n",
       "      <th>secondary_cleaner.state.floatbank6_a_air</th>\n",
       "      <th>secondary_cleaner.state.floatbank6_a_level</th>\n",
       "    </tr>\n",
       "  </thead>\n",
       "  <tbody>\n",
       "    <tr>\n",
       "      <th>count</th>\n",
       "      <td>5554.000000</td>\n",
       "      <td>5572.000000</td>\n",
       "      <td>5856.000000</td>\n",
       "      <td>5690.000000</td>\n",
       "      <td>5840.000000</td>\n",
       "      <td>5840.000000</td>\n",
       "      <td>5840.000000</td>\n",
       "      <td>5840.000000</td>\n",
       "      <td>5840.000000</td>\n",
       "      <td>5840.000000</td>\n",
       "      <td>...</td>\n",
       "      <td>5840.000000</td>\n",
       "      <td>5840.000000</td>\n",
       "      <td>5840.000000</td>\n",
       "      <td>5840.000000</td>\n",
       "      <td>5840.000000</td>\n",
       "      <td>5840.000000</td>\n",
       "      <td>5840.000000</td>\n",
       "      <td>5840.000000</td>\n",
       "      <td>5840.000000</td>\n",
       "      <td>5840.000000</td>\n",
       "    </tr>\n",
       "    <tr>\n",
       "      <th>mean</th>\n",
       "      <td>170.515243</td>\n",
       "      <td>8.482873</td>\n",
       "      <td>7.264651</td>\n",
       "      <td>1.321420</td>\n",
       "      <td>1481.990241</td>\n",
       "      <td>-509.057796</td>\n",
       "      <td>1486.908670</td>\n",
       "      <td>-511.743956</td>\n",
       "      <td>1468.495216</td>\n",
       "      <td>-509.741212</td>\n",
       "      <td>...</td>\n",
       "      <td>15.636031</td>\n",
       "      <td>-516.266074</td>\n",
       "      <td>13.145702</td>\n",
       "      <td>-476.338907</td>\n",
       "      <td>12.308967</td>\n",
       "      <td>-512.208126</td>\n",
       "      <td>9.470986</td>\n",
       "      <td>-505.017827</td>\n",
       "      <td>16.678722</td>\n",
       "      <td>-512.351694</td>\n",
       "    </tr>\n",
       "    <tr>\n",
       "      <th>std</th>\n",
       "      <td>49.608602</td>\n",
       "      <td>3.353105</td>\n",
       "      <td>0.611526</td>\n",
       "      <td>0.693246</td>\n",
       "      <td>310.453166</td>\n",
       "      <td>61.339256</td>\n",
       "      <td>313.224286</td>\n",
       "      <td>67.139074</td>\n",
       "      <td>309.980748</td>\n",
       "      <td>62.671873</td>\n",
       "      <td>...</td>\n",
       "      <td>4.660835</td>\n",
       "      <td>62.756748</td>\n",
       "      <td>4.304086</td>\n",
       "      <td>105.549424</td>\n",
       "      <td>3.762827</td>\n",
       "      <td>58.864651</td>\n",
       "      <td>3.312471</td>\n",
       "      <td>68.785898</td>\n",
       "      <td>5.404514</td>\n",
       "      <td>69.919839</td>\n",
       "    </tr>\n",
       "    <tr>\n",
       "      <th>min</th>\n",
       "      <td>0.000103</td>\n",
       "      <td>0.000031</td>\n",
       "      <td>5.650000</td>\n",
       "      <td>0.000003</td>\n",
       "      <td>0.000000</td>\n",
       "      <td>-799.773788</td>\n",
       "      <td>0.000000</td>\n",
       "      <td>-800.029078</td>\n",
       "      <td>0.000000</td>\n",
       "      <td>-799.995127</td>\n",
       "      <td>...</td>\n",
       "      <td>0.000000</td>\n",
       "      <td>-799.798523</td>\n",
       "      <td>0.000000</td>\n",
       "      <td>-800.836914</td>\n",
       "      <td>-0.223393</td>\n",
       "      <td>-799.661076</td>\n",
       "      <td>0.528083</td>\n",
       "      <td>-800.220337</td>\n",
       "      <td>-0.079426</td>\n",
       "      <td>-809.859706</td>\n",
       "    </tr>\n",
       "    <tr>\n",
       "      <th>25%</th>\n",
       "      <td>143.340022</td>\n",
       "      <td>6.411500</td>\n",
       "      <td>6.885625</td>\n",
       "      <td>0.888769</td>\n",
       "      <td>1497.190681</td>\n",
       "      <td>-500.455211</td>\n",
       "      <td>1497.150234</td>\n",
       "      <td>-500.936639</td>\n",
       "      <td>1437.050321</td>\n",
       "      <td>-501.300441</td>\n",
       "      <td>...</td>\n",
       "      <td>12.057838</td>\n",
       "      <td>-501.054741</td>\n",
       "      <td>11.880119</td>\n",
       "      <td>-500.419113</td>\n",
       "      <td>10.123459</td>\n",
       "      <td>-500.879383</td>\n",
       "      <td>7.991208</td>\n",
       "      <td>-500.223089</td>\n",
       "      <td>13.012422</td>\n",
       "      <td>-500.833821</td>\n",
       "    </tr>\n",
       "    <tr>\n",
       "      <th>50%</th>\n",
       "      <td>176.103893</td>\n",
       "      <td>8.023252</td>\n",
       "      <td>7.259333</td>\n",
       "      <td>1.183362</td>\n",
       "      <td>1554.659783</td>\n",
       "      <td>-499.997402</td>\n",
       "      <td>1553.268084</td>\n",
       "      <td>-500.066588</td>\n",
       "      <td>1546.160672</td>\n",
       "      <td>-500.079537</td>\n",
       "      <td>...</td>\n",
       "      <td>17.001867</td>\n",
       "      <td>-500.160145</td>\n",
       "      <td>14.952102</td>\n",
       "      <td>-499.644328</td>\n",
       "      <td>12.062877</td>\n",
       "      <td>-500.047621</td>\n",
       "      <td>9.980774</td>\n",
       "      <td>-500.001338</td>\n",
       "      <td>16.007242</td>\n",
       "      <td>-500.041085</td>\n",
       "    </tr>\n",
       "    <tr>\n",
       "      <th>75%</th>\n",
       "      <td>207.240761</td>\n",
       "      <td>10.017725</td>\n",
       "      <td>7.650000</td>\n",
       "      <td>1.763797</td>\n",
       "      <td>1601.681656</td>\n",
       "      <td>-499.575313</td>\n",
       "      <td>1601.784707</td>\n",
       "      <td>-499.323361</td>\n",
       "      <td>1600.785573</td>\n",
       "      <td>-499.009545</td>\n",
       "      <td>...</td>\n",
       "      <td>18.030985</td>\n",
       "      <td>-499.441529</td>\n",
       "      <td>15.940011</td>\n",
       "      <td>-401.523664</td>\n",
       "      <td>15.017881</td>\n",
       "      <td>-499.297033</td>\n",
       "      <td>11.992176</td>\n",
       "      <td>-499.722835</td>\n",
       "      <td>21.009076</td>\n",
       "      <td>-499.395621</td>\n",
       "    </tr>\n",
       "    <tr>\n",
       "      <th>max</th>\n",
       "      <td>274.409626</td>\n",
       "      <td>40.024582</td>\n",
       "      <td>15.500000</td>\n",
       "      <td>5.433169</td>\n",
       "      <td>2212.432090</td>\n",
       "      <td>-57.195404</td>\n",
       "      <td>1975.147923</td>\n",
       "      <td>-142.527229</td>\n",
       "      <td>1715.053773</td>\n",
       "      <td>-150.937035</td>\n",
       "      <td>...</td>\n",
       "      <td>30.051797</td>\n",
       "      <td>-401.565212</td>\n",
       "      <td>31.269706</td>\n",
       "      <td>-6.506986</td>\n",
       "      <td>25.258848</td>\n",
       "      <td>-244.483566</td>\n",
       "      <td>14.090194</td>\n",
       "      <td>-126.463446</td>\n",
       "      <td>26.705889</td>\n",
       "      <td>-29.093593</td>\n",
       "    </tr>\n",
       "  </tbody>\n",
       "</table>\n",
       "<p>8 rows × 52 columns</p>\n",
       "</div>"
      ],
      "text/plain": [
       "       primary_cleaner.input.sulfate  primary_cleaner.input.depressant  \\\n",
       "count                    5554.000000                       5572.000000   \n",
       "mean                      170.515243                          8.482873   \n",
       "std                        49.608602                          3.353105   \n",
       "min                         0.000103                          0.000031   \n",
       "25%                       143.340022                          6.411500   \n",
       "50%                       176.103893                          8.023252   \n",
       "75%                       207.240761                         10.017725   \n",
       "max                       274.409626                         40.024582   \n",
       "\n",
       "       primary_cleaner.input.feed_size  primary_cleaner.input.xanthate  \\\n",
       "count                      5856.000000                     5690.000000   \n",
       "mean                          7.264651                        1.321420   \n",
       "std                           0.611526                        0.693246   \n",
       "min                           5.650000                        0.000003   \n",
       "25%                           6.885625                        0.888769   \n",
       "50%                           7.259333                        1.183362   \n",
       "75%                           7.650000                        1.763797   \n",
       "max                          15.500000                        5.433169   \n",
       "\n",
       "       primary_cleaner.state.floatbank8_a_air  \\\n",
       "count                             5840.000000   \n",
       "mean                              1481.990241   \n",
       "std                                310.453166   \n",
       "min                                  0.000000   \n",
       "25%                               1497.190681   \n",
       "50%                               1554.659783   \n",
       "75%                               1601.681656   \n",
       "max                               2212.432090   \n",
       "\n",
       "       primary_cleaner.state.floatbank8_a_level  \\\n",
       "count                               5840.000000   \n",
       "mean                                -509.057796   \n",
       "std                                   61.339256   \n",
       "min                                 -799.773788   \n",
       "25%                                 -500.455211   \n",
       "50%                                 -499.997402   \n",
       "75%                                 -499.575313   \n",
       "max                                  -57.195404   \n",
       "\n",
       "       primary_cleaner.state.floatbank8_b_air  \\\n",
       "count                             5840.000000   \n",
       "mean                              1486.908670   \n",
       "std                                313.224286   \n",
       "min                                  0.000000   \n",
       "25%                               1497.150234   \n",
       "50%                               1553.268084   \n",
       "75%                               1601.784707   \n",
       "max                               1975.147923   \n",
       "\n",
       "       primary_cleaner.state.floatbank8_b_level  \\\n",
       "count                               5840.000000   \n",
       "mean                                -511.743956   \n",
       "std                                   67.139074   \n",
       "min                                 -800.029078   \n",
       "25%                                 -500.936639   \n",
       "50%                                 -500.066588   \n",
       "75%                                 -499.323361   \n",
       "max                                 -142.527229   \n",
       "\n",
       "       primary_cleaner.state.floatbank8_c_air  \\\n",
       "count                             5840.000000   \n",
       "mean                              1468.495216   \n",
       "std                                309.980748   \n",
       "min                                  0.000000   \n",
       "25%                               1437.050321   \n",
       "50%                               1546.160672   \n",
       "75%                               1600.785573   \n",
       "max                               1715.053773   \n",
       "\n",
       "       primary_cleaner.state.floatbank8_c_level  ...  \\\n",
       "count                               5840.000000  ...   \n",
       "mean                                -509.741212  ...   \n",
       "std                                   62.671873  ...   \n",
       "min                                 -799.995127  ...   \n",
       "25%                                 -501.300441  ...   \n",
       "50%                                 -500.079537  ...   \n",
       "75%                                 -499.009545  ...   \n",
       "max                                 -150.937035  ...   \n",
       "\n",
       "       secondary_cleaner.state.floatbank4_a_air  \\\n",
       "count                               5840.000000   \n",
       "mean                                  15.636031   \n",
       "std                                    4.660835   \n",
       "min                                    0.000000   \n",
       "25%                                   12.057838   \n",
       "50%                                   17.001867   \n",
       "75%                                   18.030985   \n",
       "max                                   30.051797   \n",
       "\n",
       "       secondary_cleaner.state.floatbank4_a_level  \\\n",
       "count                                 5840.000000   \n",
       "mean                                  -516.266074   \n",
       "std                                     62.756748   \n",
       "min                                   -799.798523   \n",
       "25%                                   -501.054741   \n",
       "50%                                   -500.160145   \n",
       "75%                                   -499.441529   \n",
       "max                                   -401.565212   \n",
       "\n",
       "       secondary_cleaner.state.floatbank4_b_air  \\\n",
       "count                               5840.000000   \n",
       "mean                                  13.145702   \n",
       "std                                    4.304086   \n",
       "min                                    0.000000   \n",
       "25%                                   11.880119   \n",
       "50%                                   14.952102   \n",
       "75%                                   15.940011   \n",
       "max                                   31.269706   \n",
       "\n",
       "       secondary_cleaner.state.floatbank4_b_level  \\\n",
       "count                                 5840.000000   \n",
       "mean                                  -476.338907   \n",
       "std                                    105.549424   \n",
       "min                                   -800.836914   \n",
       "25%                                   -500.419113   \n",
       "50%                                   -499.644328   \n",
       "75%                                   -401.523664   \n",
       "max                                     -6.506986   \n",
       "\n",
       "       secondary_cleaner.state.floatbank5_a_air  \\\n",
       "count                               5840.000000   \n",
       "mean                                  12.308967   \n",
       "std                                    3.762827   \n",
       "min                                   -0.223393   \n",
       "25%                                   10.123459   \n",
       "50%                                   12.062877   \n",
       "75%                                   15.017881   \n",
       "max                                   25.258848   \n",
       "\n",
       "       secondary_cleaner.state.floatbank5_a_level  \\\n",
       "count                                 5840.000000   \n",
       "mean                                  -512.208126   \n",
       "std                                     58.864651   \n",
       "min                                   -799.661076   \n",
       "25%                                   -500.879383   \n",
       "50%                                   -500.047621   \n",
       "75%                                   -499.297033   \n",
       "max                                   -244.483566   \n",
       "\n",
       "       secondary_cleaner.state.floatbank5_b_air  \\\n",
       "count                               5840.000000   \n",
       "mean                                   9.470986   \n",
       "std                                    3.312471   \n",
       "min                                    0.528083   \n",
       "25%                                    7.991208   \n",
       "50%                                    9.980774   \n",
       "75%                                   11.992176   \n",
       "max                                   14.090194   \n",
       "\n",
       "       secondary_cleaner.state.floatbank5_b_level  \\\n",
       "count                                 5840.000000   \n",
       "mean                                  -505.017827   \n",
       "std                                     68.785898   \n",
       "min                                   -800.220337   \n",
       "25%                                   -500.223089   \n",
       "50%                                   -500.001338   \n",
       "75%                                   -499.722835   \n",
       "max                                   -126.463446   \n",
       "\n",
       "       secondary_cleaner.state.floatbank6_a_air  \\\n",
       "count                               5840.000000   \n",
       "mean                                  16.678722   \n",
       "std                                    5.404514   \n",
       "min                                   -0.079426   \n",
       "25%                                   13.012422   \n",
       "50%                                   16.007242   \n",
       "75%                                   21.009076   \n",
       "max                                   26.705889   \n",
       "\n",
       "       secondary_cleaner.state.floatbank6_a_level  \n",
       "count                                 5840.000000  \n",
       "mean                                  -512.351694  \n",
       "std                                     69.919839  \n",
       "min                                   -809.859706  \n",
       "25%                                   -500.833821  \n",
       "50%                                   -500.041085  \n",
       "75%                                   -499.395621  \n",
       "max                                    -29.093593  \n",
       "\n",
       "[8 rows x 52 columns]"
      ]
     },
     "execution_count": 19,
     "metadata": {},
     "output_type": "execute_result"
    }
   ],
   "source": [
    "df_test.describe()"
   ]
  },
  {
   "cell_type": "code",
   "execution_count": 20,
   "metadata": {},
   "outputs": [
    {
     "data": {
      "text/html": [
       "<div>\n",
       "<style scoped>\n",
       "    .dataframe tbody tr th:only-of-type {\n",
       "        vertical-align: middle;\n",
       "    }\n",
       "\n",
       "    .dataframe tbody tr th {\n",
       "        vertical-align: top;\n",
       "    }\n",
       "\n",
       "    .dataframe thead th {\n",
       "        text-align: right;\n",
       "    }\n",
       "</style>\n",
       "<table border=\"1\" class=\"dataframe\">\n",
       "  <thead>\n",
       "    <tr style=\"text-align: right;\">\n",
       "      <th></th>\n",
       "      <th>final.output.concentrate_ag</th>\n",
       "      <th>final.output.concentrate_pb</th>\n",
       "      <th>final.output.concentrate_sol</th>\n",
       "      <th>final.output.concentrate_au</th>\n",
       "      <th>final.output.recovery</th>\n",
       "      <th>final.output.tail_ag</th>\n",
       "      <th>final.output.tail_pb</th>\n",
       "      <th>final.output.tail_sol</th>\n",
       "      <th>final.output.tail_au</th>\n",
       "      <th>primary_cleaner.input.sulfate</th>\n",
       "      <th>...</th>\n",
       "      <th>secondary_cleaner.state.floatbank4_a_air</th>\n",
       "      <th>secondary_cleaner.state.floatbank4_a_level</th>\n",
       "      <th>secondary_cleaner.state.floatbank4_b_air</th>\n",
       "      <th>secondary_cleaner.state.floatbank4_b_level</th>\n",
       "      <th>secondary_cleaner.state.floatbank5_a_air</th>\n",
       "      <th>secondary_cleaner.state.floatbank5_a_level</th>\n",
       "      <th>secondary_cleaner.state.floatbank5_b_air</th>\n",
       "      <th>secondary_cleaner.state.floatbank5_b_level</th>\n",
       "      <th>secondary_cleaner.state.floatbank6_a_air</th>\n",
       "      <th>secondary_cleaner.state.floatbank6_a_level</th>\n",
       "    </tr>\n",
       "  </thead>\n",
       "  <tbody>\n",
       "    <tr>\n",
       "      <th>count</th>\n",
       "      <td>16788.000000</td>\n",
       "      <td>16788.000000</td>\n",
       "      <td>16490.000000</td>\n",
       "      <td>16789.000000</td>\n",
       "      <td>15339.000000</td>\n",
       "      <td>16794.000000</td>\n",
       "      <td>16677.000000</td>\n",
       "      <td>16715.000000</td>\n",
       "      <td>16794.000000</td>\n",
       "      <td>15553.000000</td>\n",
       "      <td>...</td>\n",
       "      <td>16731.000000</td>\n",
       "      <td>16747.000000</td>\n",
       "      <td>16768.000000</td>\n",
       "      <td>16767.000000</td>\n",
       "      <td>16775.000000</td>\n",
       "      <td>16775.000000</td>\n",
       "      <td>16775.000000</td>\n",
       "      <td>16776.000000</td>\n",
       "      <td>16757.000000</td>\n",
       "      <td>16775.000000</td>\n",
       "    </tr>\n",
       "    <tr>\n",
       "      <th>mean</th>\n",
       "      <td>4.716907</td>\n",
       "      <td>9.113559</td>\n",
       "      <td>8.301123</td>\n",
       "      <td>39.467217</td>\n",
       "      <td>67.213166</td>\n",
       "      <td>8.757048</td>\n",
       "      <td>2.360327</td>\n",
       "      <td>9.303932</td>\n",
       "      <td>2.687512</td>\n",
       "      <td>129.479789</td>\n",
       "      <td>...</td>\n",
       "      <td>19.101874</td>\n",
       "      <td>-494.164481</td>\n",
       "      <td>14.778164</td>\n",
       "      <td>-476.600082</td>\n",
       "      <td>15.779488</td>\n",
       "      <td>-500.230146</td>\n",
       "      <td>12.377241</td>\n",
       "      <td>-498.956257</td>\n",
       "      <td>18.429208</td>\n",
       "      <td>-521.801826</td>\n",
       "    </tr>\n",
       "    <tr>\n",
       "      <th>std</th>\n",
       "      <td>2.096718</td>\n",
       "      <td>3.389495</td>\n",
       "      <td>3.825760</td>\n",
       "      <td>13.917227</td>\n",
       "      <td>11.960446</td>\n",
       "      <td>3.634103</td>\n",
       "      <td>1.215576</td>\n",
       "      <td>4.263208</td>\n",
       "      <td>1.272757</td>\n",
       "      <td>45.386931</td>\n",
       "      <td>...</td>\n",
       "      <td>6.883163</td>\n",
       "      <td>84.803334</td>\n",
       "      <td>5.999149</td>\n",
       "      <td>89.381172</td>\n",
       "      <td>6.834703</td>\n",
       "      <td>76.983542</td>\n",
       "      <td>6.219989</td>\n",
       "      <td>82.146207</td>\n",
       "      <td>6.958294</td>\n",
       "      <td>77.170888</td>\n",
       "    </tr>\n",
       "    <tr>\n",
       "      <th>min</th>\n",
       "      <td>0.000000</td>\n",
       "      <td>0.000000</td>\n",
       "      <td>0.000000</td>\n",
       "      <td>0.000000</td>\n",
       "      <td>0.000000</td>\n",
       "      <td>0.000000</td>\n",
       "      <td>0.000000</td>\n",
       "      <td>0.000000</td>\n",
       "      <td>0.000000</td>\n",
       "      <td>0.000003</td>\n",
       "      <td>...</td>\n",
       "      <td>0.000000</td>\n",
       "      <td>-799.920713</td>\n",
       "      <td>0.000000</td>\n",
       "      <td>-800.021781</td>\n",
       "      <td>-0.423260</td>\n",
       "      <td>-799.741097</td>\n",
       "      <td>0.427084</td>\n",
       "      <td>-800.258209</td>\n",
       "      <td>0.024270</td>\n",
       "      <td>-810.473526</td>\n",
       "    </tr>\n",
       "    <tr>\n",
       "      <th>25%</th>\n",
       "      <td>3.971262</td>\n",
       "      <td>8.825748</td>\n",
       "      <td>6.939185</td>\n",
       "      <td>42.055722</td>\n",
       "      <td>62.625685</td>\n",
       "      <td>7.610544</td>\n",
       "      <td>1.641604</td>\n",
       "      <td>7.870275</td>\n",
       "      <td>2.172953</td>\n",
       "      <td>103.064021</td>\n",
       "      <td>...</td>\n",
       "      <td>14.508299</td>\n",
       "      <td>-500.837689</td>\n",
       "      <td>10.741388</td>\n",
       "      <td>-500.269182</td>\n",
       "      <td>10.977713</td>\n",
       "      <td>-500.530594</td>\n",
       "      <td>8.925586</td>\n",
       "      <td>-500.147603</td>\n",
       "      <td>13.977626</td>\n",
       "      <td>-501.080595</td>\n",
       "    </tr>\n",
       "    <tr>\n",
       "      <th>50%</th>\n",
       "      <td>4.869346</td>\n",
       "      <td>10.065316</td>\n",
       "      <td>8.557228</td>\n",
       "      <td>44.498874</td>\n",
       "      <td>67.644601</td>\n",
       "      <td>9.220393</td>\n",
       "      <td>2.453690</td>\n",
       "      <td>10.021968</td>\n",
       "      <td>2.781132</td>\n",
       "      <td>131.783108</td>\n",
       "      <td>...</td>\n",
       "      <td>19.986958</td>\n",
       "      <td>-499.778379</td>\n",
       "      <td>14.943933</td>\n",
       "      <td>-499.593286</td>\n",
       "      <td>15.998340</td>\n",
       "      <td>-499.784231</td>\n",
       "      <td>11.092839</td>\n",
       "      <td>-499.933330</td>\n",
       "      <td>18.034960</td>\n",
       "      <td>-500.109898</td>\n",
       "    </tr>\n",
       "    <tr>\n",
       "      <th>75%</th>\n",
       "      <td>5.821176</td>\n",
       "      <td>11.054809</td>\n",
       "      <td>10.289741</td>\n",
       "      <td>45.976222</td>\n",
       "      <td>72.824595</td>\n",
       "      <td>10.971110</td>\n",
       "      <td>3.192404</td>\n",
       "      <td>11.648573</td>\n",
       "      <td>3.416936</td>\n",
       "      <td>159.539839</td>\n",
       "      <td>...</td>\n",
       "      <td>24.983961</td>\n",
       "      <td>-494.648754</td>\n",
       "      <td>20.023751</td>\n",
       "      <td>-400.137948</td>\n",
       "      <td>20.000701</td>\n",
       "      <td>-496.531781</td>\n",
       "      <td>15.979467</td>\n",
       "      <td>-498.418000</td>\n",
       "      <td>24.984992</td>\n",
       "      <td>-499.565540</td>\n",
       "    </tr>\n",
       "    <tr>\n",
       "      <th>max</th>\n",
       "      <td>16.001945</td>\n",
       "      <td>17.031899</td>\n",
       "      <td>18.124851</td>\n",
       "      <td>53.611374</td>\n",
       "      <td>100.000000</td>\n",
       "      <td>19.552149</td>\n",
       "      <td>6.086532</td>\n",
       "      <td>22.317730</td>\n",
       "      <td>9.789625</td>\n",
       "      <td>251.999948</td>\n",
       "      <td>...</td>\n",
       "      <td>60.000000</td>\n",
       "      <td>-127.692333</td>\n",
       "      <td>28.003828</td>\n",
       "      <td>-71.472472</td>\n",
       "      <td>63.116298</td>\n",
       "      <td>-275.073125</td>\n",
       "      <td>39.846228</td>\n",
       "      <td>-120.190931</td>\n",
       "      <td>54.876806</td>\n",
       "      <td>-39.784927</td>\n",
       "    </tr>\n",
       "  </tbody>\n",
       "</table>\n",
       "<p>8 rows × 86 columns</p>\n",
       "</div>"
      ],
      "text/plain": [
       "       final.output.concentrate_ag  final.output.concentrate_pb  \\\n",
       "count                 16788.000000                 16788.000000   \n",
       "mean                      4.716907                     9.113559   \n",
       "std                       2.096718                     3.389495   \n",
       "min                       0.000000                     0.000000   \n",
       "25%                       3.971262                     8.825748   \n",
       "50%                       4.869346                    10.065316   \n",
       "75%                       5.821176                    11.054809   \n",
       "max                      16.001945                    17.031899   \n",
       "\n",
       "       final.output.concentrate_sol  final.output.concentrate_au  \\\n",
       "count                  16490.000000                 16789.000000   \n",
       "mean                       8.301123                    39.467217   \n",
       "std                        3.825760                    13.917227   \n",
       "min                        0.000000                     0.000000   \n",
       "25%                        6.939185                    42.055722   \n",
       "50%                        8.557228                    44.498874   \n",
       "75%                       10.289741                    45.976222   \n",
       "max                       18.124851                    53.611374   \n",
       "\n",
       "       final.output.recovery  final.output.tail_ag  final.output.tail_pb  \\\n",
       "count           15339.000000          16794.000000          16677.000000   \n",
       "mean               67.213166              8.757048              2.360327   \n",
       "std                11.960446              3.634103              1.215576   \n",
       "min                 0.000000              0.000000              0.000000   \n",
       "25%                62.625685              7.610544              1.641604   \n",
       "50%                67.644601              9.220393              2.453690   \n",
       "75%                72.824595             10.971110              3.192404   \n",
       "max               100.000000             19.552149              6.086532   \n",
       "\n",
       "       final.output.tail_sol  final.output.tail_au  \\\n",
       "count           16715.000000          16794.000000   \n",
       "mean                9.303932              2.687512   \n",
       "std                 4.263208              1.272757   \n",
       "min                 0.000000              0.000000   \n",
       "25%                 7.870275              2.172953   \n",
       "50%                10.021968              2.781132   \n",
       "75%                11.648573              3.416936   \n",
       "max                22.317730              9.789625   \n",
       "\n",
       "       primary_cleaner.input.sulfate  ...  \\\n",
       "count                   15553.000000  ...   \n",
       "mean                      129.479789  ...   \n",
       "std                        45.386931  ...   \n",
       "min                         0.000003  ...   \n",
       "25%                       103.064021  ...   \n",
       "50%                       131.783108  ...   \n",
       "75%                       159.539839  ...   \n",
       "max                       251.999948  ...   \n",
       "\n",
       "       secondary_cleaner.state.floatbank4_a_air  \\\n",
       "count                              16731.000000   \n",
       "mean                                  19.101874   \n",
       "std                                    6.883163   \n",
       "min                                    0.000000   \n",
       "25%                                   14.508299   \n",
       "50%                                   19.986958   \n",
       "75%                                   24.983961   \n",
       "max                                   60.000000   \n",
       "\n",
       "       secondary_cleaner.state.floatbank4_a_level  \\\n",
       "count                                16747.000000   \n",
       "mean                                  -494.164481   \n",
       "std                                     84.803334   \n",
       "min                                   -799.920713   \n",
       "25%                                   -500.837689   \n",
       "50%                                   -499.778379   \n",
       "75%                                   -494.648754   \n",
       "max                                   -127.692333   \n",
       "\n",
       "       secondary_cleaner.state.floatbank4_b_air  \\\n",
       "count                              16768.000000   \n",
       "mean                                  14.778164   \n",
       "std                                    5.999149   \n",
       "min                                    0.000000   \n",
       "25%                                   10.741388   \n",
       "50%                                   14.943933   \n",
       "75%                                   20.023751   \n",
       "max                                   28.003828   \n",
       "\n",
       "       secondary_cleaner.state.floatbank4_b_level  \\\n",
       "count                                16767.000000   \n",
       "mean                                  -476.600082   \n",
       "std                                     89.381172   \n",
       "min                                   -800.021781   \n",
       "25%                                   -500.269182   \n",
       "50%                                   -499.593286   \n",
       "75%                                   -400.137948   \n",
       "max                                    -71.472472   \n",
       "\n",
       "       secondary_cleaner.state.floatbank5_a_air  \\\n",
       "count                              16775.000000   \n",
       "mean                                  15.779488   \n",
       "std                                    6.834703   \n",
       "min                                   -0.423260   \n",
       "25%                                   10.977713   \n",
       "50%                                   15.998340   \n",
       "75%                                   20.000701   \n",
       "max                                   63.116298   \n",
       "\n",
       "       secondary_cleaner.state.floatbank5_a_level  \\\n",
       "count                                16775.000000   \n",
       "mean                                  -500.230146   \n",
       "std                                     76.983542   \n",
       "min                                   -799.741097   \n",
       "25%                                   -500.530594   \n",
       "50%                                   -499.784231   \n",
       "75%                                   -496.531781   \n",
       "max                                   -275.073125   \n",
       "\n",
       "       secondary_cleaner.state.floatbank5_b_air  \\\n",
       "count                              16775.000000   \n",
       "mean                                  12.377241   \n",
       "std                                    6.219989   \n",
       "min                                    0.427084   \n",
       "25%                                    8.925586   \n",
       "50%                                   11.092839   \n",
       "75%                                   15.979467   \n",
       "max                                   39.846228   \n",
       "\n",
       "       secondary_cleaner.state.floatbank5_b_level  \\\n",
       "count                                16776.000000   \n",
       "mean                                  -498.956257   \n",
       "std                                     82.146207   \n",
       "min                                   -800.258209   \n",
       "25%                                   -500.147603   \n",
       "50%                                   -499.933330   \n",
       "75%                                   -498.418000   \n",
       "max                                   -120.190931   \n",
       "\n",
       "       secondary_cleaner.state.floatbank6_a_air  \\\n",
       "count                              16757.000000   \n",
       "mean                                  18.429208   \n",
       "std                                    6.958294   \n",
       "min                                    0.024270   \n",
       "25%                                   13.977626   \n",
       "50%                                   18.034960   \n",
       "75%                                   24.984992   \n",
       "max                                   54.876806   \n",
       "\n",
       "       secondary_cleaner.state.floatbank6_a_level  \n",
       "count                                16775.000000  \n",
       "mean                                  -521.801826  \n",
       "std                                     77.170888  \n",
       "min                                   -810.473526  \n",
       "25%                                   -501.080595  \n",
       "50%                                   -500.109898  \n",
       "75%                                   -499.565540  \n",
       "max                                    -39.784927  \n",
       "\n",
       "[8 rows x 86 columns]"
      ]
     },
     "execution_count": 20,
     "metadata": {},
     "output_type": "execute_result"
    }
   ],
   "source": [
    "df_train.describe()"
   ]
  },
  {
   "cell_type": "code",
   "execution_count": 21,
   "metadata": {},
   "outputs": [
    {
     "data": {
      "text/html": [
       "<div>\n",
       "<style scoped>\n",
       "    .dataframe tbody tr th:only-of-type {\n",
       "        vertical-align: middle;\n",
       "    }\n",
       "\n",
       "    .dataframe tbody tr th {\n",
       "        vertical-align: top;\n",
       "    }\n",
       "\n",
       "    .dataframe thead th {\n",
       "        text-align: right;\n",
       "    }\n",
       "</style>\n",
       "<table border=\"1\" class=\"dataframe\">\n",
       "  <thead>\n",
       "    <tr style=\"text-align: right;\">\n",
       "      <th></th>\n",
       "      <th>final.output.concentrate_ag</th>\n",
       "      <th>final.output.concentrate_pb</th>\n",
       "      <th>final.output.concentrate_sol</th>\n",
       "      <th>final.output.concentrate_au</th>\n",
       "      <th>final.output.recovery</th>\n",
       "      <th>final.output.tail_ag</th>\n",
       "      <th>final.output.tail_pb</th>\n",
       "      <th>final.output.tail_sol</th>\n",
       "      <th>final.output.tail_au</th>\n",
       "      <th>primary_cleaner.input.sulfate</th>\n",
       "      <th>...</th>\n",
       "      <th>secondary_cleaner.state.floatbank4_a_air</th>\n",
       "      <th>secondary_cleaner.state.floatbank4_a_level</th>\n",
       "      <th>secondary_cleaner.state.floatbank4_b_air</th>\n",
       "      <th>secondary_cleaner.state.floatbank4_b_level</th>\n",
       "      <th>secondary_cleaner.state.floatbank5_a_air</th>\n",
       "      <th>secondary_cleaner.state.floatbank5_a_level</th>\n",
       "      <th>secondary_cleaner.state.floatbank5_b_air</th>\n",
       "      <th>secondary_cleaner.state.floatbank5_b_level</th>\n",
       "      <th>secondary_cleaner.state.floatbank6_a_air</th>\n",
       "      <th>secondary_cleaner.state.floatbank6_a_level</th>\n",
       "    </tr>\n",
       "  </thead>\n",
       "  <tbody>\n",
       "    <tr>\n",
       "      <th>count</th>\n",
       "      <td>22627.000000</td>\n",
       "      <td>22629.000000</td>\n",
       "      <td>22331.000000</td>\n",
       "      <td>22630.000000</td>\n",
       "      <td>20753.000000</td>\n",
       "      <td>22633.000000</td>\n",
       "      <td>22516.000000</td>\n",
       "      <td>22445.000000</td>\n",
       "      <td>22635.000000</td>\n",
       "      <td>21107.000000</td>\n",
       "      <td>...</td>\n",
       "      <td>22571.000000</td>\n",
       "      <td>22587.000000</td>\n",
       "      <td>22608.000000</td>\n",
       "      <td>22607.000000</td>\n",
       "      <td>22615.000000</td>\n",
       "      <td>22615.000000</td>\n",
       "      <td>22615.000000</td>\n",
       "      <td>22616.000000</td>\n",
       "      <td>22597.000000</td>\n",
       "      <td>22615.000000</td>\n",
       "    </tr>\n",
       "    <tr>\n",
       "      <th>mean</th>\n",
       "      <td>4.781559</td>\n",
       "      <td>9.095308</td>\n",
       "      <td>8.640317</td>\n",
       "      <td>40.001172</td>\n",
       "      <td>67.447488</td>\n",
       "      <td>8.923690</td>\n",
       "      <td>2.488252</td>\n",
       "      <td>9.523632</td>\n",
       "      <td>2.827459</td>\n",
       "      <td>140.277672</td>\n",
       "      <td>...</td>\n",
       "      <td>18.205125</td>\n",
       "      <td>-499.878977</td>\n",
       "      <td>14.356474</td>\n",
       "      <td>-476.532613</td>\n",
       "      <td>14.883276</td>\n",
       "      <td>-503.323288</td>\n",
       "      <td>11.626743</td>\n",
       "      <td>-500.521502</td>\n",
       "      <td>17.976810</td>\n",
       "      <td>-519.361465</td>\n",
       "    </tr>\n",
       "    <tr>\n",
       "      <th>std</th>\n",
       "      <td>2.030128</td>\n",
       "      <td>3.230797</td>\n",
       "      <td>3.785035</td>\n",
       "      <td>13.398062</td>\n",
       "      <td>11.616034</td>\n",
       "      <td>3.517917</td>\n",
       "      <td>1.189407</td>\n",
       "      <td>4.079739</td>\n",
       "      <td>1.262834</td>\n",
       "      <td>49.919004</td>\n",
       "      <td>...</td>\n",
       "      <td>6.560700</td>\n",
       "      <td>80.273964</td>\n",
       "      <td>5.655791</td>\n",
       "      <td>93.822791</td>\n",
       "      <td>6.372811</td>\n",
       "      <td>72.925589</td>\n",
       "      <td>5.757449</td>\n",
       "      <td>78.956292</td>\n",
       "      <td>6.636203</td>\n",
       "      <td>75.477151</td>\n",
       "    </tr>\n",
       "    <tr>\n",
       "      <th>min</th>\n",
       "      <td>0.000000</td>\n",
       "      <td>0.000000</td>\n",
       "      <td>0.000000</td>\n",
       "      <td>0.000000</td>\n",
       "      <td>0.000000</td>\n",
       "      <td>0.000000</td>\n",
       "      <td>0.000000</td>\n",
       "      <td>0.000000</td>\n",
       "      <td>0.000000</td>\n",
       "      <td>0.000003</td>\n",
       "      <td>...</td>\n",
       "      <td>0.000000</td>\n",
       "      <td>-799.920713</td>\n",
       "      <td>0.000000</td>\n",
       "      <td>-800.836914</td>\n",
       "      <td>-0.423260</td>\n",
       "      <td>-799.741097</td>\n",
       "      <td>0.427084</td>\n",
       "      <td>-800.258209</td>\n",
       "      <td>-0.079426</td>\n",
       "      <td>-810.473526</td>\n",
       "    </tr>\n",
       "    <tr>\n",
       "      <th>25%</th>\n",
       "      <td>4.018525</td>\n",
       "      <td>8.750171</td>\n",
       "      <td>7.116799</td>\n",
       "      <td>42.383721</td>\n",
       "      <td>63.282393</td>\n",
       "      <td>7.684016</td>\n",
       "      <td>1.805376</td>\n",
       "      <td>8.143576</td>\n",
       "      <td>2.303108</td>\n",
       "      <td>110.177081</td>\n",
       "      <td>...</td>\n",
       "      <td>14.095940</td>\n",
       "      <td>-500.896232</td>\n",
       "      <td>10.882675</td>\n",
       "      <td>-500.309169</td>\n",
       "      <td>10.941299</td>\n",
       "      <td>-500.628697</td>\n",
       "      <td>8.037533</td>\n",
       "      <td>-500.167897</td>\n",
       "      <td>13.968418</td>\n",
       "      <td>-500.981671</td>\n",
       "    </tr>\n",
       "    <tr>\n",
       "      <th>50%</th>\n",
       "      <td>4.953729</td>\n",
       "      <td>9.914519</td>\n",
       "      <td>8.908792</td>\n",
       "      <td>44.653436</td>\n",
       "      <td>68.322258</td>\n",
       "      <td>9.484369</td>\n",
       "      <td>2.653001</td>\n",
       "      <td>10.212998</td>\n",
       "      <td>2.913794</td>\n",
       "      <td>141.330501</td>\n",
       "      <td>...</td>\n",
       "      <td>18.007326</td>\n",
       "      <td>-499.917108</td>\n",
       "      <td>14.947646</td>\n",
       "      <td>-499.612292</td>\n",
       "      <td>14.859117</td>\n",
       "      <td>-499.865158</td>\n",
       "      <td>10.989756</td>\n",
       "      <td>-499.951980</td>\n",
       "      <td>18.004215</td>\n",
       "      <td>-500.095463</td>\n",
       "    </tr>\n",
       "    <tr>\n",
       "      <th>75%</th>\n",
       "      <td>5.862593</td>\n",
       "      <td>10.929839</td>\n",
       "      <td>10.705824</td>\n",
       "      <td>46.111999</td>\n",
       "      <td>72.950836</td>\n",
       "      <td>11.084557</td>\n",
       "      <td>3.287790</td>\n",
       "      <td>11.860824</td>\n",
       "      <td>3.555077</td>\n",
       "      <td>174.049914</td>\n",
       "      <td>...</td>\n",
       "      <td>22.998194</td>\n",
       "      <td>-498.361545</td>\n",
       "      <td>17.977502</td>\n",
       "      <td>-400.224147</td>\n",
       "      <td>18.014914</td>\n",
       "      <td>-498.489381</td>\n",
       "      <td>14.001193</td>\n",
       "      <td>-499.492354</td>\n",
       "      <td>23.009704</td>\n",
       "      <td>-499.526388</td>\n",
       "    </tr>\n",
       "    <tr>\n",
       "      <th>max</th>\n",
       "      <td>16.001945</td>\n",
       "      <td>17.031899</td>\n",
       "      <td>19.615720</td>\n",
       "      <td>53.611374</td>\n",
       "      <td>100.000000</td>\n",
       "      <td>19.552149</td>\n",
       "      <td>6.086532</td>\n",
       "      <td>22.861749</td>\n",
       "      <td>9.789625</td>\n",
       "      <td>274.409626</td>\n",
       "      <td>...</td>\n",
       "      <td>60.000000</td>\n",
       "      <td>-127.692333</td>\n",
       "      <td>31.269706</td>\n",
       "      <td>-6.506986</td>\n",
       "      <td>63.116298</td>\n",
       "      <td>-244.483566</td>\n",
       "      <td>39.846228</td>\n",
       "      <td>-120.190931</td>\n",
       "      <td>54.876806</td>\n",
       "      <td>-29.093593</td>\n",
       "    </tr>\n",
       "  </tbody>\n",
       "</table>\n",
       "<p>8 rows × 86 columns</p>\n",
       "</div>"
      ],
      "text/plain": [
       "       final.output.concentrate_ag  final.output.concentrate_pb  \\\n",
       "count                 22627.000000                 22629.000000   \n",
       "mean                      4.781559                     9.095308   \n",
       "std                       2.030128                     3.230797   \n",
       "min                       0.000000                     0.000000   \n",
       "25%                       4.018525                     8.750171   \n",
       "50%                       4.953729                     9.914519   \n",
       "75%                       5.862593                    10.929839   \n",
       "max                      16.001945                    17.031899   \n",
       "\n",
       "       final.output.concentrate_sol  final.output.concentrate_au  \\\n",
       "count                  22331.000000                 22630.000000   \n",
       "mean                       8.640317                    40.001172   \n",
       "std                        3.785035                    13.398062   \n",
       "min                        0.000000                     0.000000   \n",
       "25%                        7.116799                    42.383721   \n",
       "50%                        8.908792                    44.653436   \n",
       "75%                       10.705824                    46.111999   \n",
       "max                       19.615720                    53.611374   \n",
       "\n",
       "       final.output.recovery  final.output.tail_ag  final.output.tail_pb  \\\n",
       "count           20753.000000          22633.000000          22516.000000   \n",
       "mean               67.447488              8.923690              2.488252   \n",
       "std                11.616034              3.517917              1.189407   \n",
       "min                 0.000000              0.000000              0.000000   \n",
       "25%                63.282393              7.684016              1.805376   \n",
       "50%                68.322258              9.484369              2.653001   \n",
       "75%                72.950836             11.084557              3.287790   \n",
       "max               100.000000             19.552149              6.086532   \n",
       "\n",
       "       final.output.tail_sol  final.output.tail_au  \\\n",
       "count           22445.000000          22635.000000   \n",
       "mean                9.523632              2.827459   \n",
       "std                 4.079739              1.262834   \n",
       "min                 0.000000              0.000000   \n",
       "25%                 8.143576              2.303108   \n",
       "50%                10.212998              2.913794   \n",
       "75%                11.860824              3.555077   \n",
       "max                22.861749              9.789625   \n",
       "\n",
       "       primary_cleaner.input.sulfate  ...  \\\n",
       "count                   21107.000000  ...   \n",
       "mean                      140.277672  ...   \n",
       "std                        49.919004  ...   \n",
       "min                         0.000003  ...   \n",
       "25%                       110.177081  ...   \n",
       "50%                       141.330501  ...   \n",
       "75%                       174.049914  ...   \n",
       "max                       274.409626  ...   \n",
       "\n",
       "       secondary_cleaner.state.floatbank4_a_air  \\\n",
       "count                              22571.000000   \n",
       "mean                                  18.205125   \n",
       "std                                    6.560700   \n",
       "min                                    0.000000   \n",
       "25%                                   14.095940   \n",
       "50%                                   18.007326   \n",
       "75%                                   22.998194   \n",
       "max                                   60.000000   \n",
       "\n",
       "       secondary_cleaner.state.floatbank4_a_level  \\\n",
       "count                                22587.000000   \n",
       "mean                                  -499.878977   \n",
       "std                                     80.273964   \n",
       "min                                   -799.920713   \n",
       "25%                                   -500.896232   \n",
       "50%                                   -499.917108   \n",
       "75%                                   -498.361545   \n",
       "max                                   -127.692333   \n",
       "\n",
       "       secondary_cleaner.state.floatbank4_b_air  \\\n",
       "count                              22608.000000   \n",
       "mean                                  14.356474   \n",
       "std                                    5.655791   \n",
       "min                                    0.000000   \n",
       "25%                                   10.882675   \n",
       "50%                                   14.947646   \n",
       "75%                                   17.977502   \n",
       "max                                   31.269706   \n",
       "\n",
       "       secondary_cleaner.state.floatbank4_b_level  \\\n",
       "count                                22607.000000   \n",
       "mean                                  -476.532613   \n",
       "std                                     93.822791   \n",
       "min                                   -800.836914   \n",
       "25%                                   -500.309169   \n",
       "50%                                   -499.612292   \n",
       "75%                                   -400.224147   \n",
       "max                                     -6.506986   \n",
       "\n",
       "       secondary_cleaner.state.floatbank5_a_air  \\\n",
       "count                              22615.000000   \n",
       "mean                                  14.883276   \n",
       "std                                    6.372811   \n",
       "min                                   -0.423260   \n",
       "25%                                   10.941299   \n",
       "50%                                   14.859117   \n",
       "75%                                   18.014914   \n",
       "max                                   63.116298   \n",
       "\n",
       "       secondary_cleaner.state.floatbank5_a_level  \\\n",
       "count                                22615.000000   \n",
       "mean                                  -503.323288   \n",
       "std                                     72.925589   \n",
       "min                                   -799.741097   \n",
       "25%                                   -500.628697   \n",
       "50%                                   -499.865158   \n",
       "75%                                   -498.489381   \n",
       "max                                   -244.483566   \n",
       "\n",
       "       secondary_cleaner.state.floatbank5_b_air  \\\n",
       "count                              22615.000000   \n",
       "mean                                  11.626743   \n",
       "std                                    5.757449   \n",
       "min                                    0.427084   \n",
       "25%                                    8.037533   \n",
       "50%                                   10.989756   \n",
       "75%                                   14.001193   \n",
       "max                                   39.846228   \n",
       "\n",
       "       secondary_cleaner.state.floatbank5_b_level  \\\n",
       "count                                22616.000000   \n",
       "mean                                  -500.521502   \n",
       "std                                     78.956292   \n",
       "min                                   -800.258209   \n",
       "25%                                   -500.167897   \n",
       "50%                                   -499.951980   \n",
       "75%                                   -499.492354   \n",
       "max                                   -120.190931   \n",
       "\n",
       "       secondary_cleaner.state.floatbank6_a_air  \\\n",
       "count                              22597.000000   \n",
       "mean                                  17.976810   \n",
       "std                                    6.636203   \n",
       "min                                   -0.079426   \n",
       "25%                                   13.968418   \n",
       "50%                                   18.004215   \n",
       "75%                                   23.009704   \n",
       "max                                   54.876806   \n",
       "\n",
       "       secondary_cleaner.state.floatbank6_a_level  \n",
       "count                                22615.000000  \n",
       "mean                                  -519.361465  \n",
       "std                                     75.477151  \n",
       "min                                   -810.473526  \n",
       "25%                                   -500.981671  \n",
       "50%                                   -500.095463  \n",
       "75%                                   -499.526388  \n",
       "max                                    -29.093593  \n",
       "\n",
       "[8 rows x 86 columns]"
      ]
     },
     "execution_count": 21,
     "metadata": {},
     "output_type": "execute_result"
    }
   ],
   "source": [
    "df_full.describe()"
   ]
  },
  {
   "cell_type": "markdown",
   "metadata": {},
   "source": [
    "В таком виде сложно понять какое кол-во пропусков присутсвует во фреймах, так что напишем функцию, которая покажет нам это"
   ]
  },
  {
   "cell_type": "code",
   "execution_count": 22,
   "metadata": {},
   "outputs": [],
   "source": [
    "def show_isna(df):\n",
    "    for column in df.columns:\n",
    "        print('Количество пропусков в каждом столбце')    \n",
    "        print(df.isna().mean())"
   ]
  },
  {
   "cell_type": "code",
   "execution_count": 23,
   "metadata": {},
   "outputs": [
    {
     "name": "stdout",
     "output_type": "stream",
     "text": [
      "Количество пропусков в каждом столбце\n",
      "date                                          0.000000\n",
      "primary_cleaner.input.sulfate                 0.051571\n",
      "primary_cleaner.input.depressant              0.048497\n",
      "primary_cleaner.input.feed_size               0.000000\n",
      "primary_cleaner.input.xanthate                0.028347\n",
      "primary_cleaner.state.floatbank8_a_air        0.002732\n",
      "primary_cleaner.state.floatbank8_a_level      0.002732\n",
      "primary_cleaner.state.floatbank8_b_air        0.002732\n",
      "primary_cleaner.state.floatbank8_b_level      0.002732\n",
      "primary_cleaner.state.floatbank8_c_air        0.002732\n",
      "primary_cleaner.state.floatbank8_c_level      0.002732\n",
      "primary_cleaner.state.floatbank8_d_air        0.002732\n",
      "primary_cleaner.state.floatbank8_d_level      0.002732\n",
      "rougher.input.feed_ag                         0.002732\n",
      "rougher.input.feed_pb                         0.002732\n",
      "rougher.input.feed_rate                       0.006831\n",
      "rougher.input.feed_size                       0.003757\n",
      "rougher.input.feed_sol                        0.011441\n",
      "rougher.input.feed_au                         0.002732\n",
      "rougher.input.floatbank10_sulfate             0.043887\n",
      "rougher.input.floatbank10_xanthate            0.021004\n",
      "rougher.input.floatbank11_sulfate             0.009392\n",
      "rougher.input.floatbank11_xanthate            0.060280\n",
      "rougher.state.floatbank10_a_air               0.002903\n",
      "rougher.state.floatbank10_a_level             0.002732\n",
      "rougher.state.floatbank10_b_air               0.002903\n",
      "rougher.state.floatbank10_b_level             0.002732\n",
      "rougher.state.floatbank10_c_air               0.002903\n",
      "rougher.state.floatbank10_c_level             0.002732\n",
      "rougher.state.floatbank10_d_air               0.002903\n",
      "rougher.state.floatbank10_d_level             0.002732\n",
      "rougher.state.floatbank10_e_air               0.002903\n",
      "rougher.state.floatbank10_e_level             0.002732\n",
      "rougher.state.floatbank10_f_air               0.002903\n",
      "rougher.state.floatbank10_f_level             0.002732\n",
      "secondary_cleaner.state.floatbank2_a_air      0.003415\n",
      "secondary_cleaner.state.floatbank2_a_level    0.002732\n",
      "secondary_cleaner.state.floatbank2_b_air      0.003928\n",
      "secondary_cleaner.state.floatbank2_b_level    0.002732\n",
      "secondary_cleaner.state.floatbank3_a_air      0.005806\n",
      "secondary_cleaner.state.floatbank3_a_level    0.002732\n",
      "secondary_cleaner.state.floatbank3_b_air      0.002732\n",
      "secondary_cleaner.state.floatbank3_b_level    0.002732\n",
      "secondary_cleaner.state.floatbank4_a_air      0.002732\n",
      "secondary_cleaner.state.floatbank4_a_level    0.002732\n",
      "secondary_cleaner.state.floatbank4_b_air      0.002732\n",
      "secondary_cleaner.state.floatbank4_b_level    0.002732\n",
      "secondary_cleaner.state.floatbank5_a_air      0.002732\n",
      "secondary_cleaner.state.floatbank5_a_level    0.002732\n",
      "secondary_cleaner.state.floatbank5_b_air      0.002732\n",
      "secondary_cleaner.state.floatbank5_b_level    0.002732\n",
      "secondary_cleaner.state.floatbank6_a_air      0.002732\n",
      "secondary_cleaner.state.floatbank6_a_level    0.002732\n",
      "dtype: float64\n",
      "Количество пропусков в каждом столбце\n",
      "date                                          0.000000\n",
      "primary_cleaner.input.sulfate                 0.051571\n",
      "primary_cleaner.input.depressant              0.048497\n",
      "primary_cleaner.input.feed_size               0.000000\n",
      "primary_cleaner.input.xanthate                0.028347\n",
      "primary_cleaner.state.floatbank8_a_air        0.002732\n",
      "primary_cleaner.state.floatbank8_a_level      0.002732\n",
      "primary_cleaner.state.floatbank8_b_air        0.002732\n",
      "primary_cleaner.state.floatbank8_b_level      0.002732\n",
      "primary_cleaner.state.floatbank8_c_air        0.002732\n",
      "primary_cleaner.state.floatbank8_c_level      0.002732\n",
      "primary_cleaner.state.floatbank8_d_air        0.002732\n",
      "primary_cleaner.state.floatbank8_d_level      0.002732\n",
      "rougher.input.feed_ag                         0.002732\n",
      "rougher.input.feed_pb                         0.002732\n",
      "rougher.input.feed_rate                       0.006831\n",
      "rougher.input.feed_size                       0.003757\n",
      "rougher.input.feed_sol                        0.011441\n",
      "rougher.input.feed_au                         0.002732\n",
      "rougher.input.floatbank10_sulfate             0.043887\n",
      "rougher.input.floatbank10_xanthate            0.021004\n",
      "rougher.input.floatbank11_sulfate             0.009392\n",
      "rougher.input.floatbank11_xanthate            0.060280\n",
      "rougher.state.floatbank10_a_air               0.002903\n",
      "rougher.state.floatbank10_a_level             0.002732\n",
      "rougher.state.floatbank10_b_air               0.002903\n",
      "rougher.state.floatbank10_b_level             0.002732\n",
      "rougher.state.floatbank10_c_air               0.002903\n",
      "rougher.state.floatbank10_c_level             0.002732\n",
      "rougher.state.floatbank10_d_air               0.002903\n",
      "rougher.state.floatbank10_d_level             0.002732\n",
      "rougher.state.floatbank10_e_air               0.002903\n",
      "rougher.state.floatbank10_e_level             0.002732\n",
      "rougher.state.floatbank10_f_air               0.002903\n",
      "rougher.state.floatbank10_f_level             0.002732\n",
      "secondary_cleaner.state.floatbank2_a_air      0.003415\n",
      "secondary_cleaner.state.floatbank2_a_level    0.002732\n",
      "secondary_cleaner.state.floatbank2_b_air      0.003928\n",
      "secondary_cleaner.state.floatbank2_b_level    0.002732\n",
      "secondary_cleaner.state.floatbank3_a_air      0.005806\n",
      "secondary_cleaner.state.floatbank3_a_level    0.002732\n",
      "secondary_cleaner.state.floatbank3_b_air      0.002732\n",
      "secondary_cleaner.state.floatbank3_b_level    0.002732\n",
      "secondary_cleaner.state.floatbank4_a_air      0.002732\n",
      "secondary_cleaner.state.floatbank4_a_level    0.002732\n",
      "secondary_cleaner.state.floatbank4_b_air      0.002732\n",
      "secondary_cleaner.state.floatbank4_b_level    0.002732\n",
      "secondary_cleaner.state.floatbank5_a_air      0.002732\n",
      "secondary_cleaner.state.floatbank5_a_level    0.002732\n",
      "secondary_cleaner.state.floatbank5_b_air      0.002732\n",
      "secondary_cleaner.state.floatbank5_b_level    0.002732\n",
      "secondary_cleaner.state.floatbank6_a_air      0.002732\n",
      "secondary_cleaner.state.floatbank6_a_level    0.002732\n",
      "dtype: float64\n",
      "Количество пропусков в каждом столбце\n",
      "date                                          0.000000\n",
      "primary_cleaner.input.sulfate                 0.051571\n",
      "primary_cleaner.input.depressant              0.048497\n",
      "primary_cleaner.input.feed_size               0.000000\n",
      "primary_cleaner.input.xanthate                0.028347\n",
      "primary_cleaner.state.floatbank8_a_air        0.002732\n",
      "primary_cleaner.state.floatbank8_a_level      0.002732\n",
      "primary_cleaner.state.floatbank8_b_air        0.002732\n",
      "primary_cleaner.state.floatbank8_b_level      0.002732\n",
      "primary_cleaner.state.floatbank8_c_air        0.002732\n",
      "primary_cleaner.state.floatbank8_c_level      0.002732\n",
      "primary_cleaner.state.floatbank8_d_air        0.002732\n",
      "primary_cleaner.state.floatbank8_d_level      0.002732\n",
      "rougher.input.feed_ag                         0.002732\n",
      "rougher.input.feed_pb                         0.002732\n",
      "rougher.input.feed_rate                       0.006831\n",
      "rougher.input.feed_size                       0.003757\n",
      "rougher.input.feed_sol                        0.011441\n",
      "rougher.input.feed_au                         0.002732\n",
      "rougher.input.floatbank10_sulfate             0.043887\n",
      "rougher.input.floatbank10_xanthate            0.021004\n",
      "rougher.input.floatbank11_sulfate             0.009392\n",
      "rougher.input.floatbank11_xanthate            0.060280\n",
      "rougher.state.floatbank10_a_air               0.002903\n",
      "rougher.state.floatbank10_a_level             0.002732\n",
      "rougher.state.floatbank10_b_air               0.002903\n",
      "rougher.state.floatbank10_b_level             0.002732\n",
      "rougher.state.floatbank10_c_air               0.002903\n",
      "rougher.state.floatbank10_c_level             0.002732\n",
      "rougher.state.floatbank10_d_air               0.002903\n",
      "rougher.state.floatbank10_d_level             0.002732\n",
      "rougher.state.floatbank10_e_air               0.002903\n",
      "rougher.state.floatbank10_e_level             0.002732\n",
      "rougher.state.floatbank10_f_air               0.002903\n",
      "rougher.state.floatbank10_f_level             0.002732\n",
      "secondary_cleaner.state.floatbank2_a_air      0.003415\n",
      "secondary_cleaner.state.floatbank2_a_level    0.002732\n",
      "secondary_cleaner.state.floatbank2_b_air      0.003928\n",
      "secondary_cleaner.state.floatbank2_b_level    0.002732\n",
      "secondary_cleaner.state.floatbank3_a_air      0.005806\n",
      "secondary_cleaner.state.floatbank3_a_level    0.002732\n",
      "secondary_cleaner.state.floatbank3_b_air      0.002732\n",
      "secondary_cleaner.state.floatbank3_b_level    0.002732\n",
      "secondary_cleaner.state.floatbank4_a_air      0.002732\n",
      "secondary_cleaner.state.floatbank4_a_level    0.002732\n",
      "secondary_cleaner.state.floatbank4_b_air      0.002732\n",
      "secondary_cleaner.state.floatbank4_b_level    0.002732\n",
      "secondary_cleaner.state.floatbank5_a_air      0.002732\n",
      "secondary_cleaner.state.floatbank5_a_level    0.002732\n",
      "secondary_cleaner.state.floatbank5_b_air      0.002732\n",
      "secondary_cleaner.state.floatbank5_b_level    0.002732\n",
      "secondary_cleaner.state.floatbank6_a_air      0.002732\n",
      "secondary_cleaner.state.floatbank6_a_level    0.002732\n",
      "dtype: float64\n",
      "Количество пропусков в каждом столбце\n",
      "date                                          0.000000\n",
      "primary_cleaner.input.sulfate                 0.051571\n",
      "primary_cleaner.input.depressant              0.048497\n",
      "primary_cleaner.input.feed_size               0.000000\n",
      "primary_cleaner.input.xanthate                0.028347\n",
      "primary_cleaner.state.floatbank8_a_air        0.002732\n",
      "primary_cleaner.state.floatbank8_a_level      0.002732\n",
      "primary_cleaner.state.floatbank8_b_air        0.002732\n",
      "primary_cleaner.state.floatbank8_b_level      0.002732\n",
      "primary_cleaner.state.floatbank8_c_air        0.002732\n",
      "primary_cleaner.state.floatbank8_c_level      0.002732\n",
      "primary_cleaner.state.floatbank8_d_air        0.002732\n",
      "primary_cleaner.state.floatbank8_d_level      0.002732\n",
      "rougher.input.feed_ag                         0.002732\n",
      "rougher.input.feed_pb                         0.002732\n",
      "rougher.input.feed_rate                       0.006831\n",
      "rougher.input.feed_size                       0.003757\n",
      "rougher.input.feed_sol                        0.011441\n",
      "rougher.input.feed_au                         0.002732\n",
      "rougher.input.floatbank10_sulfate             0.043887\n",
      "rougher.input.floatbank10_xanthate            0.021004\n",
      "rougher.input.floatbank11_sulfate             0.009392\n",
      "rougher.input.floatbank11_xanthate            0.060280\n",
      "rougher.state.floatbank10_a_air               0.002903\n",
      "rougher.state.floatbank10_a_level             0.002732\n",
      "rougher.state.floatbank10_b_air               0.002903\n",
      "rougher.state.floatbank10_b_level             0.002732\n",
      "rougher.state.floatbank10_c_air               0.002903\n",
      "rougher.state.floatbank10_c_level             0.002732\n",
      "rougher.state.floatbank10_d_air               0.002903\n",
      "rougher.state.floatbank10_d_level             0.002732\n",
      "rougher.state.floatbank10_e_air               0.002903\n",
      "rougher.state.floatbank10_e_level             0.002732\n",
      "rougher.state.floatbank10_f_air               0.002903\n",
      "rougher.state.floatbank10_f_level             0.002732\n",
      "secondary_cleaner.state.floatbank2_a_air      0.003415\n",
      "secondary_cleaner.state.floatbank2_a_level    0.002732\n",
      "secondary_cleaner.state.floatbank2_b_air      0.003928\n",
      "secondary_cleaner.state.floatbank2_b_level    0.002732\n",
      "secondary_cleaner.state.floatbank3_a_air      0.005806\n",
      "secondary_cleaner.state.floatbank3_a_level    0.002732\n",
      "secondary_cleaner.state.floatbank3_b_air      0.002732\n",
      "secondary_cleaner.state.floatbank3_b_level    0.002732\n",
      "secondary_cleaner.state.floatbank4_a_air      0.002732\n",
      "secondary_cleaner.state.floatbank4_a_level    0.002732\n",
      "secondary_cleaner.state.floatbank4_b_air      0.002732\n",
      "secondary_cleaner.state.floatbank4_b_level    0.002732\n",
      "secondary_cleaner.state.floatbank5_a_air      0.002732\n",
      "secondary_cleaner.state.floatbank5_a_level    0.002732\n",
      "secondary_cleaner.state.floatbank5_b_air      0.002732\n",
      "secondary_cleaner.state.floatbank5_b_level    0.002732\n",
      "secondary_cleaner.state.floatbank6_a_air      0.002732\n",
      "secondary_cleaner.state.floatbank6_a_level    0.002732\n",
      "dtype: float64\n",
      "Количество пропусков в каждом столбце\n",
      "date                                          0.000000\n",
      "primary_cleaner.input.sulfate                 0.051571\n",
      "primary_cleaner.input.depressant              0.048497\n",
      "primary_cleaner.input.feed_size               0.000000\n",
      "primary_cleaner.input.xanthate                0.028347\n",
      "primary_cleaner.state.floatbank8_a_air        0.002732\n",
      "primary_cleaner.state.floatbank8_a_level      0.002732\n",
      "primary_cleaner.state.floatbank8_b_air        0.002732\n",
      "primary_cleaner.state.floatbank8_b_level      0.002732\n",
      "primary_cleaner.state.floatbank8_c_air        0.002732\n",
      "primary_cleaner.state.floatbank8_c_level      0.002732\n",
      "primary_cleaner.state.floatbank8_d_air        0.002732\n",
      "primary_cleaner.state.floatbank8_d_level      0.002732\n",
      "rougher.input.feed_ag                         0.002732\n",
      "rougher.input.feed_pb                         0.002732\n",
      "rougher.input.feed_rate                       0.006831\n",
      "rougher.input.feed_size                       0.003757\n",
      "rougher.input.feed_sol                        0.011441\n",
      "rougher.input.feed_au                         0.002732\n",
      "rougher.input.floatbank10_sulfate             0.043887\n",
      "rougher.input.floatbank10_xanthate            0.021004\n",
      "rougher.input.floatbank11_sulfate             0.009392\n",
      "rougher.input.floatbank11_xanthate            0.060280\n",
      "rougher.state.floatbank10_a_air               0.002903\n",
      "rougher.state.floatbank10_a_level             0.002732\n",
      "rougher.state.floatbank10_b_air               0.002903\n",
      "rougher.state.floatbank10_b_level             0.002732\n",
      "rougher.state.floatbank10_c_air               0.002903\n",
      "rougher.state.floatbank10_c_level             0.002732\n",
      "rougher.state.floatbank10_d_air               0.002903\n",
      "rougher.state.floatbank10_d_level             0.002732\n",
      "rougher.state.floatbank10_e_air               0.002903\n",
      "rougher.state.floatbank10_e_level             0.002732\n",
      "rougher.state.floatbank10_f_air               0.002903\n",
      "rougher.state.floatbank10_f_level             0.002732\n",
      "secondary_cleaner.state.floatbank2_a_air      0.003415\n",
      "secondary_cleaner.state.floatbank2_a_level    0.002732\n",
      "secondary_cleaner.state.floatbank2_b_air      0.003928\n",
      "secondary_cleaner.state.floatbank2_b_level    0.002732\n",
      "secondary_cleaner.state.floatbank3_a_air      0.005806\n",
      "secondary_cleaner.state.floatbank3_a_level    0.002732\n",
      "secondary_cleaner.state.floatbank3_b_air      0.002732\n",
      "secondary_cleaner.state.floatbank3_b_level    0.002732\n",
      "secondary_cleaner.state.floatbank4_a_air      0.002732\n",
      "secondary_cleaner.state.floatbank4_a_level    0.002732\n",
      "secondary_cleaner.state.floatbank4_b_air      0.002732\n",
      "secondary_cleaner.state.floatbank4_b_level    0.002732\n",
      "secondary_cleaner.state.floatbank5_a_air      0.002732\n",
      "secondary_cleaner.state.floatbank5_a_level    0.002732\n",
      "secondary_cleaner.state.floatbank5_b_air      0.002732\n",
      "secondary_cleaner.state.floatbank5_b_level    0.002732\n",
      "secondary_cleaner.state.floatbank6_a_air      0.002732\n",
      "secondary_cleaner.state.floatbank6_a_level    0.002732\n",
      "dtype: float64\n",
      "Количество пропусков в каждом столбце\n",
      "date                                          0.000000\n",
      "primary_cleaner.input.sulfate                 0.051571\n",
      "primary_cleaner.input.depressant              0.048497\n",
      "primary_cleaner.input.feed_size               0.000000\n",
      "primary_cleaner.input.xanthate                0.028347\n",
      "primary_cleaner.state.floatbank8_a_air        0.002732\n",
      "primary_cleaner.state.floatbank8_a_level      0.002732\n",
      "primary_cleaner.state.floatbank8_b_air        0.002732\n",
      "primary_cleaner.state.floatbank8_b_level      0.002732\n",
      "primary_cleaner.state.floatbank8_c_air        0.002732\n",
      "primary_cleaner.state.floatbank8_c_level      0.002732\n",
      "primary_cleaner.state.floatbank8_d_air        0.002732\n",
      "primary_cleaner.state.floatbank8_d_level      0.002732\n",
      "rougher.input.feed_ag                         0.002732\n",
      "rougher.input.feed_pb                         0.002732\n",
      "rougher.input.feed_rate                       0.006831\n",
      "rougher.input.feed_size                       0.003757\n",
      "rougher.input.feed_sol                        0.011441\n",
      "rougher.input.feed_au                         0.002732\n",
      "rougher.input.floatbank10_sulfate             0.043887\n",
      "rougher.input.floatbank10_xanthate            0.021004\n",
      "rougher.input.floatbank11_sulfate             0.009392\n",
      "rougher.input.floatbank11_xanthate            0.060280\n",
      "rougher.state.floatbank10_a_air               0.002903\n",
      "rougher.state.floatbank10_a_level             0.002732\n",
      "rougher.state.floatbank10_b_air               0.002903\n",
      "rougher.state.floatbank10_b_level             0.002732\n",
      "rougher.state.floatbank10_c_air               0.002903\n",
      "rougher.state.floatbank10_c_level             0.002732\n",
      "rougher.state.floatbank10_d_air               0.002903\n",
      "rougher.state.floatbank10_d_level             0.002732\n",
      "rougher.state.floatbank10_e_air               0.002903\n",
      "rougher.state.floatbank10_e_level             0.002732\n",
      "rougher.state.floatbank10_f_air               0.002903\n",
      "rougher.state.floatbank10_f_level             0.002732\n",
      "secondary_cleaner.state.floatbank2_a_air      0.003415\n",
      "secondary_cleaner.state.floatbank2_a_level    0.002732\n",
      "secondary_cleaner.state.floatbank2_b_air      0.003928\n",
      "secondary_cleaner.state.floatbank2_b_level    0.002732\n",
      "secondary_cleaner.state.floatbank3_a_air      0.005806\n",
      "secondary_cleaner.state.floatbank3_a_level    0.002732\n",
      "secondary_cleaner.state.floatbank3_b_air      0.002732\n",
      "secondary_cleaner.state.floatbank3_b_level    0.002732\n",
      "secondary_cleaner.state.floatbank4_a_air      0.002732\n",
      "secondary_cleaner.state.floatbank4_a_level    0.002732\n",
      "secondary_cleaner.state.floatbank4_b_air      0.002732\n",
      "secondary_cleaner.state.floatbank4_b_level    0.002732\n",
      "secondary_cleaner.state.floatbank5_a_air      0.002732\n",
      "secondary_cleaner.state.floatbank5_a_level    0.002732\n",
      "secondary_cleaner.state.floatbank5_b_air      0.002732\n",
      "secondary_cleaner.state.floatbank5_b_level    0.002732\n",
      "secondary_cleaner.state.floatbank6_a_air      0.002732\n",
      "secondary_cleaner.state.floatbank6_a_level    0.002732\n",
      "dtype: float64\n",
      "Количество пропусков в каждом столбце\n",
      "date                                          0.000000\n",
      "primary_cleaner.input.sulfate                 0.051571\n",
      "primary_cleaner.input.depressant              0.048497\n",
      "primary_cleaner.input.feed_size               0.000000\n",
      "primary_cleaner.input.xanthate                0.028347\n",
      "primary_cleaner.state.floatbank8_a_air        0.002732\n",
      "primary_cleaner.state.floatbank8_a_level      0.002732\n",
      "primary_cleaner.state.floatbank8_b_air        0.002732\n",
      "primary_cleaner.state.floatbank8_b_level      0.002732\n",
      "primary_cleaner.state.floatbank8_c_air        0.002732\n",
      "primary_cleaner.state.floatbank8_c_level      0.002732\n",
      "primary_cleaner.state.floatbank8_d_air        0.002732\n",
      "primary_cleaner.state.floatbank8_d_level      0.002732\n",
      "rougher.input.feed_ag                         0.002732\n",
      "rougher.input.feed_pb                         0.002732\n",
      "rougher.input.feed_rate                       0.006831\n",
      "rougher.input.feed_size                       0.003757\n",
      "rougher.input.feed_sol                        0.011441\n",
      "rougher.input.feed_au                         0.002732\n",
      "rougher.input.floatbank10_sulfate             0.043887\n",
      "rougher.input.floatbank10_xanthate            0.021004\n",
      "rougher.input.floatbank11_sulfate             0.009392\n",
      "rougher.input.floatbank11_xanthate            0.060280\n",
      "rougher.state.floatbank10_a_air               0.002903\n",
      "rougher.state.floatbank10_a_level             0.002732\n",
      "rougher.state.floatbank10_b_air               0.002903\n",
      "rougher.state.floatbank10_b_level             0.002732\n",
      "rougher.state.floatbank10_c_air               0.002903\n",
      "rougher.state.floatbank10_c_level             0.002732\n",
      "rougher.state.floatbank10_d_air               0.002903\n",
      "rougher.state.floatbank10_d_level             0.002732\n",
      "rougher.state.floatbank10_e_air               0.002903\n",
      "rougher.state.floatbank10_e_level             0.002732\n",
      "rougher.state.floatbank10_f_air               0.002903\n",
      "rougher.state.floatbank10_f_level             0.002732\n",
      "secondary_cleaner.state.floatbank2_a_air      0.003415\n",
      "secondary_cleaner.state.floatbank2_a_level    0.002732\n",
      "secondary_cleaner.state.floatbank2_b_air      0.003928\n",
      "secondary_cleaner.state.floatbank2_b_level    0.002732\n",
      "secondary_cleaner.state.floatbank3_a_air      0.005806\n",
      "secondary_cleaner.state.floatbank3_a_level    0.002732\n",
      "secondary_cleaner.state.floatbank3_b_air      0.002732\n",
      "secondary_cleaner.state.floatbank3_b_level    0.002732\n",
      "secondary_cleaner.state.floatbank4_a_air      0.002732\n",
      "secondary_cleaner.state.floatbank4_a_level    0.002732\n",
      "secondary_cleaner.state.floatbank4_b_air      0.002732\n",
      "secondary_cleaner.state.floatbank4_b_level    0.002732\n",
      "secondary_cleaner.state.floatbank5_a_air      0.002732\n",
      "secondary_cleaner.state.floatbank5_a_level    0.002732\n",
      "secondary_cleaner.state.floatbank5_b_air      0.002732\n",
      "secondary_cleaner.state.floatbank5_b_level    0.002732\n",
      "secondary_cleaner.state.floatbank6_a_air      0.002732\n",
      "secondary_cleaner.state.floatbank6_a_level    0.002732\n",
      "dtype: float64\n",
      "Количество пропусков в каждом столбце\n",
      "date                                          0.000000\n",
      "primary_cleaner.input.sulfate                 0.051571\n",
      "primary_cleaner.input.depressant              0.048497\n",
      "primary_cleaner.input.feed_size               0.000000\n",
      "primary_cleaner.input.xanthate                0.028347\n",
      "primary_cleaner.state.floatbank8_a_air        0.002732\n",
      "primary_cleaner.state.floatbank8_a_level      0.002732\n",
      "primary_cleaner.state.floatbank8_b_air        0.002732\n",
      "primary_cleaner.state.floatbank8_b_level      0.002732\n",
      "primary_cleaner.state.floatbank8_c_air        0.002732\n",
      "primary_cleaner.state.floatbank8_c_level      0.002732\n",
      "primary_cleaner.state.floatbank8_d_air        0.002732\n",
      "primary_cleaner.state.floatbank8_d_level      0.002732\n",
      "rougher.input.feed_ag                         0.002732\n",
      "rougher.input.feed_pb                         0.002732\n",
      "rougher.input.feed_rate                       0.006831\n",
      "rougher.input.feed_size                       0.003757\n",
      "rougher.input.feed_sol                        0.011441\n",
      "rougher.input.feed_au                         0.002732\n",
      "rougher.input.floatbank10_sulfate             0.043887\n",
      "rougher.input.floatbank10_xanthate            0.021004\n",
      "rougher.input.floatbank11_sulfate             0.009392\n",
      "rougher.input.floatbank11_xanthate            0.060280\n",
      "rougher.state.floatbank10_a_air               0.002903\n",
      "rougher.state.floatbank10_a_level             0.002732\n",
      "rougher.state.floatbank10_b_air               0.002903\n",
      "rougher.state.floatbank10_b_level             0.002732\n",
      "rougher.state.floatbank10_c_air               0.002903\n",
      "rougher.state.floatbank10_c_level             0.002732\n",
      "rougher.state.floatbank10_d_air               0.002903\n",
      "rougher.state.floatbank10_d_level             0.002732\n",
      "rougher.state.floatbank10_e_air               0.002903\n",
      "rougher.state.floatbank10_e_level             0.002732\n",
      "rougher.state.floatbank10_f_air               0.002903\n",
      "rougher.state.floatbank10_f_level             0.002732\n",
      "secondary_cleaner.state.floatbank2_a_air      0.003415\n",
      "secondary_cleaner.state.floatbank2_a_level    0.002732\n",
      "secondary_cleaner.state.floatbank2_b_air      0.003928\n",
      "secondary_cleaner.state.floatbank2_b_level    0.002732\n",
      "secondary_cleaner.state.floatbank3_a_air      0.005806\n",
      "secondary_cleaner.state.floatbank3_a_level    0.002732\n",
      "secondary_cleaner.state.floatbank3_b_air      0.002732\n",
      "secondary_cleaner.state.floatbank3_b_level    0.002732\n",
      "secondary_cleaner.state.floatbank4_a_air      0.002732\n",
      "secondary_cleaner.state.floatbank4_a_level    0.002732\n",
      "secondary_cleaner.state.floatbank4_b_air      0.002732\n",
      "secondary_cleaner.state.floatbank4_b_level    0.002732\n",
      "secondary_cleaner.state.floatbank5_a_air      0.002732\n",
      "secondary_cleaner.state.floatbank5_a_level    0.002732\n",
      "secondary_cleaner.state.floatbank5_b_air      0.002732\n",
      "secondary_cleaner.state.floatbank5_b_level    0.002732\n",
      "secondary_cleaner.state.floatbank6_a_air      0.002732\n",
      "secondary_cleaner.state.floatbank6_a_level    0.002732\n",
      "dtype: float64\n",
      "Количество пропусков в каждом столбце\n",
      "date                                          0.000000\n",
      "primary_cleaner.input.sulfate                 0.051571\n",
      "primary_cleaner.input.depressant              0.048497\n",
      "primary_cleaner.input.feed_size               0.000000\n",
      "primary_cleaner.input.xanthate                0.028347\n",
      "primary_cleaner.state.floatbank8_a_air        0.002732\n",
      "primary_cleaner.state.floatbank8_a_level      0.002732\n",
      "primary_cleaner.state.floatbank8_b_air        0.002732\n",
      "primary_cleaner.state.floatbank8_b_level      0.002732\n",
      "primary_cleaner.state.floatbank8_c_air        0.002732\n",
      "primary_cleaner.state.floatbank8_c_level      0.002732\n",
      "primary_cleaner.state.floatbank8_d_air        0.002732\n",
      "primary_cleaner.state.floatbank8_d_level      0.002732\n",
      "rougher.input.feed_ag                         0.002732\n",
      "rougher.input.feed_pb                         0.002732\n",
      "rougher.input.feed_rate                       0.006831\n",
      "rougher.input.feed_size                       0.003757\n",
      "rougher.input.feed_sol                        0.011441\n",
      "rougher.input.feed_au                         0.002732\n",
      "rougher.input.floatbank10_sulfate             0.043887\n",
      "rougher.input.floatbank10_xanthate            0.021004\n",
      "rougher.input.floatbank11_sulfate             0.009392\n",
      "rougher.input.floatbank11_xanthate            0.060280\n",
      "rougher.state.floatbank10_a_air               0.002903\n",
      "rougher.state.floatbank10_a_level             0.002732\n",
      "rougher.state.floatbank10_b_air               0.002903\n",
      "rougher.state.floatbank10_b_level             0.002732\n",
      "rougher.state.floatbank10_c_air               0.002903\n",
      "rougher.state.floatbank10_c_level             0.002732\n",
      "rougher.state.floatbank10_d_air               0.002903\n",
      "rougher.state.floatbank10_d_level             0.002732\n",
      "rougher.state.floatbank10_e_air               0.002903\n",
      "rougher.state.floatbank10_e_level             0.002732\n",
      "rougher.state.floatbank10_f_air               0.002903\n",
      "rougher.state.floatbank10_f_level             0.002732\n",
      "secondary_cleaner.state.floatbank2_a_air      0.003415\n",
      "secondary_cleaner.state.floatbank2_a_level    0.002732\n",
      "secondary_cleaner.state.floatbank2_b_air      0.003928\n",
      "secondary_cleaner.state.floatbank2_b_level    0.002732\n",
      "secondary_cleaner.state.floatbank3_a_air      0.005806\n",
      "secondary_cleaner.state.floatbank3_a_level    0.002732\n",
      "secondary_cleaner.state.floatbank3_b_air      0.002732\n",
      "secondary_cleaner.state.floatbank3_b_level    0.002732\n",
      "secondary_cleaner.state.floatbank4_a_air      0.002732\n",
      "secondary_cleaner.state.floatbank4_a_level    0.002732\n",
      "secondary_cleaner.state.floatbank4_b_air      0.002732\n",
      "secondary_cleaner.state.floatbank4_b_level    0.002732\n",
      "secondary_cleaner.state.floatbank5_a_air      0.002732\n",
      "secondary_cleaner.state.floatbank5_a_level    0.002732\n",
      "secondary_cleaner.state.floatbank5_b_air      0.002732\n",
      "secondary_cleaner.state.floatbank5_b_level    0.002732\n",
      "secondary_cleaner.state.floatbank6_a_air      0.002732\n",
      "secondary_cleaner.state.floatbank6_a_level    0.002732\n",
      "dtype: float64\n",
      "Количество пропусков в каждом столбце\n",
      "date                                          0.000000\n",
      "primary_cleaner.input.sulfate                 0.051571\n",
      "primary_cleaner.input.depressant              0.048497\n",
      "primary_cleaner.input.feed_size               0.000000\n",
      "primary_cleaner.input.xanthate                0.028347\n",
      "primary_cleaner.state.floatbank8_a_air        0.002732\n",
      "primary_cleaner.state.floatbank8_a_level      0.002732\n",
      "primary_cleaner.state.floatbank8_b_air        0.002732\n",
      "primary_cleaner.state.floatbank8_b_level      0.002732\n",
      "primary_cleaner.state.floatbank8_c_air        0.002732\n",
      "primary_cleaner.state.floatbank8_c_level      0.002732\n",
      "primary_cleaner.state.floatbank8_d_air        0.002732\n",
      "primary_cleaner.state.floatbank8_d_level      0.002732\n",
      "rougher.input.feed_ag                         0.002732\n",
      "rougher.input.feed_pb                         0.002732\n",
      "rougher.input.feed_rate                       0.006831\n",
      "rougher.input.feed_size                       0.003757\n",
      "rougher.input.feed_sol                        0.011441\n",
      "rougher.input.feed_au                         0.002732\n",
      "rougher.input.floatbank10_sulfate             0.043887\n",
      "rougher.input.floatbank10_xanthate            0.021004\n",
      "rougher.input.floatbank11_sulfate             0.009392\n",
      "rougher.input.floatbank11_xanthate            0.060280\n",
      "rougher.state.floatbank10_a_air               0.002903\n",
      "rougher.state.floatbank10_a_level             0.002732\n",
      "rougher.state.floatbank10_b_air               0.002903\n",
      "rougher.state.floatbank10_b_level             0.002732\n",
      "rougher.state.floatbank10_c_air               0.002903\n",
      "rougher.state.floatbank10_c_level             0.002732\n",
      "rougher.state.floatbank10_d_air               0.002903\n",
      "rougher.state.floatbank10_d_level             0.002732\n",
      "rougher.state.floatbank10_e_air               0.002903\n",
      "rougher.state.floatbank10_e_level             0.002732\n",
      "rougher.state.floatbank10_f_air               0.002903\n",
      "rougher.state.floatbank10_f_level             0.002732\n",
      "secondary_cleaner.state.floatbank2_a_air      0.003415\n",
      "secondary_cleaner.state.floatbank2_a_level    0.002732\n",
      "secondary_cleaner.state.floatbank2_b_air      0.003928\n",
      "secondary_cleaner.state.floatbank2_b_level    0.002732\n",
      "secondary_cleaner.state.floatbank3_a_air      0.005806\n",
      "secondary_cleaner.state.floatbank3_a_level    0.002732\n",
      "secondary_cleaner.state.floatbank3_b_air      0.002732\n",
      "secondary_cleaner.state.floatbank3_b_level    0.002732\n",
      "secondary_cleaner.state.floatbank4_a_air      0.002732\n",
      "secondary_cleaner.state.floatbank4_a_level    0.002732\n",
      "secondary_cleaner.state.floatbank4_b_air      0.002732\n",
      "secondary_cleaner.state.floatbank4_b_level    0.002732\n",
      "secondary_cleaner.state.floatbank5_a_air      0.002732\n",
      "secondary_cleaner.state.floatbank5_a_level    0.002732\n",
      "secondary_cleaner.state.floatbank5_b_air      0.002732\n",
      "secondary_cleaner.state.floatbank5_b_level    0.002732\n",
      "secondary_cleaner.state.floatbank6_a_air      0.002732\n",
      "secondary_cleaner.state.floatbank6_a_level    0.002732\n",
      "dtype: float64\n",
      "Количество пропусков в каждом столбце\n",
      "date                                          0.000000\n",
      "primary_cleaner.input.sulfate                 0.051571\n",
      "primary_cleaner.input.depressant              0.048497\n",
      "primary_cleaner.input.feed_size               0.000000\n",
      "primary_cleaner.input.xanthate                0.028347\n",
      "primary_cleaner.state.floatbank8_a_air        0.002732\n",
      "primary_cleaner.state.floatbank8_a_level      0.002732\n",
      "primary_cleaner.state.floatbank8_b_air        0.002732\n",
      "primary_cleaner.state.floatbank8_b_level      0.002732\n",
      "primary_cleaner.state.floatbank8_c_air        0.002732\n",
      "primary_cleaner.state.floatbank8_c_level      0.002732\n",
      "primary_cleaner.state.floatbank8_d_air        0.002732\n",
      "primary_cleaner.state.floatbank8_d_level      0.002732\n",
      "rougher.input.feed_ag                         0.002732\n",
      "rougher.input.feed_pb                         0.002732\n",
      "rougher.input.feed_rate                       0.006831\n",
      "rougher.input.feed_size                       0.003757\n",
      "rougher.input.feed_sol                        0.011441\n",
      "rougher.input.feed_au                         0.002732\n",
      "rougher.input.floatbank10_sulfate             0.043887\n",
      "rougher.input.floatbank10_xanthate            0.021004\n",
      "rougher.input.floatbank11_sulfate             0.009392\n",
      "rougher.input.floatbank11_xanthate            0.060280\n",
      "rougher.state.floatbank10_a_air               0.002903\n",
      "rougher.state.floatbank10_a_level             0.002732\n",
      "rougher.state.floatbank10_b_air               0.002903\n",
      "rougher.state.floatbank10_b_level             0.002732\n",
      "rougher.state.floatbank10_c_air               0.002903\n",
      "rougher.state.floatbank10_c_level             0.002732\n",
      "rougher.state.floatbank10_d_air               0.002903\n",
      "rougher.state.floatbank10_d_level             0.002732\n",
      "rougher.state.floatbank10_e_air               0.002903\n",
      "rougher.state.floatbank10_e_level             0.002732\n",
      "rougher.state.floatbank10_f_air               0.002903\n",
      "rougher.state.floatbank10_f_level             0.002732\n",
      "secondary_cleaner.state.floatbank2_a_air      0.003415\n",
      "secondary_cleaner.state.floatbank2_a_level    0.002732\n",
      "secondary_cleaner.state.floatbank2_b_air      0.003928\n",
      "secondary_cleaner.state.floatbank2_b_level    0.002732\n",
      "secondary_cleaner.state.floatbank3_a_air      0.005806\n",
      "secondary_cleaner.state.floatbank3_a_level    0.002732\n",
      "secondary_cleaner.state.floatbank3_b_air      0.002732\n",
      "secondary_cleaner.state.floatbank3_b_level    0.002732\n",
      "secondary_cleaner.state.floatbank4_a_air      0.002732\n",
      "secondary_cleaner.state.floatbank4_a_level    0.002732\n",
      "secondary_cleaner.state.floatbank4_b_air      0.002732\n",
      "secondary_cleaner.state.floatbank4_b_level    0.002732\n",
      "secondary_cleaner.state.floatbank5_a_air      0.002732\n",
      "secondary_cleaner.state.floatbank5_a_level    0.002732\n",
      "secondary_cleaner.state.floatbank5_b_air      0.002732\n",
      "secondary_cleaner.state.floatbank5_b_level    0.002732\n",
      "secondary_cleaner.state.floatbank6_a_air      0.002732\n",
      "secondary_cleaner.state.floatbank6_a_level    0.002732\n",
      "dtype: float64\n",
      "Количество пропусков в каждом столбце\n",
      "date                                          0.000000\n",
      "primary_cleaner.input.sulfate                 0.051571\n",
      "primary_cleaner.input.depressant              0.048497\n",
      "primary_cleaner.input.feed_size               0.000000\n",
      "primary_cleaner.input.xanthate                0.028347\n",
      "primary_cleaner.state.floatbank8_a_air        0.002732\n",
      "primary_cleaner.state.floatbank8_a_level      0.002732\n",
      "primary_cleaner.state.floatbank8_b_air        0.002732\n",
      "primary_cleaner.state.floatbank8_b_level      0.002732\n",
      "primary_cleaner.state.floatbank8_c_air        0.002732\n",
      "primary_cleaner.state.floatbank8_c_level      0.002732\n",
      "primary_cleaner.state.floatbank8_d_air        0.002732\n",
      "primary_cleaner.state.floatbank8_d_level      0.002732\n",
      "rougher.input.feed_ag                         0.002732\n",
      "rougher.input.feed_pb                         0.002732\n",
      "rougher.input.feed_rate                       0.006831\n",
      "rougher.input.feed_size                       0.003757\n",
      "rougher.input.feed_sol                        0.011441\n",
      "rougher.input.feed_au                         0.002732\n",
      "rougher.input.floatbank10_sulfate             0.043887\n",
      "rougher.input.floatbank10_xanthate            0.021004\n",
      "rougher.input.floatbank11_sulfate             0.009392\n",
      "rougher.input.floatbank11_xanthate            0.060280\n",
      "rougher.state.floatbank10_a_air               0.002903\n",
      "rougher.state.floatbank10_a_level             0.002732\n",
      "rougher.state.floatbank10_b_air               0.002903\n",
      "rougher.state.floatbank10_b_level             0.002732\n",
      "rougher.state.floatbank10_c_air               0.002903\n",
      "rougher.state.floatbank10_c_level             0.002732\n",
      "rougher.state.floatbank10_d_air               0.002903\n",
      "rougher.state.floatbank10_d_level             0.002732\n",
      "rougher.state.floatbank10_e_air               0.002903\n",
      "rougher.state.floatbank10_e_level             0.002732\n",
      "rougher.state.floatbank10_f_air               0.002903\n",
      "rougher.state.floatbank10_f_level             0.002732\n",
      "secondary_cleaner.state.floatbank2_a_air      0.003415\n",
      "secondary_cleaner.state.floatbank2_a_level    0.002732\n",
      "secondary_cleaner.state.floatbank2_b_air      0.003928\n",
      "secondary_cleaner.state.floatbank2_b_level    0.002732\n",
      "secondary_cleaner.state.floatbank3_a_air      0.005806\n",
      "secondary_cleaner.state.floatbank3_a_level    0.002732\n",
      "secondary_cleaner.state.floatbank3_b_air      0.002732\n",
      "secondary_cleaner.state.floatbank3_b_level    0.002732\n",
      "secondary_cleaner.state.floatbank4_a_air      0.002732\n",
      "secondary_cleaner.state.floatbank4_a_level    0.002732\n",
      "secondary_cleaner.state.floatbank4_b_air      0.002732\n",
      "secondary_cleaner.state.floatbank4_b_level    0.002732\n",
      "secondary_cleaner.state.floatbank5_a_air      0.002732\n",
      "secondary_cleaner.state.floatbank5_a_level    0.002732\n",
      "secondary_cleaner.state.floatbank5_b_air      0.002732\n",
      "secondary_cleaner.state.floatbank5_b_level    0.002732\n",
      "secondary_cleaner.state.floatbank6_a_air      0.002732\n",
      "secondary_cleaner.state.floatbank6_a_level    0.002732\n",
      "dtype: float64\n",
      "Количество пропусков в каждом столбце\n",
      "date                                          0.000000\n",
      "primary_cleaner.input.sulfate                 0.051571\n",
      "primary_cleaner.input.depressant              0.048497\n",
      "primary_cleaner.input.feed_size               0.000000\n",
      "primary_cleaner.input.xanthate                0.028347\n",
      "primary_cleaner.state.floatbank8_a_air        0.002732\n",
      "primary_cleaner.state.floatbank8_a_level      0.002732\n",
      "primary_cleaner.state.floatbank8_b_air        0.002732\n",
      "primary_cleaner.state.floatbank8_b_level      0.002732\n",
      "primary_cleaner.state.floatbank8_c_air        0.002732\n",
      "primary_cleaner.state.floatbank8_c_level      0.002732\n",
      "primary_cleaner.state.floatbank8_d_air        0.002732\n",
      "primary_cleaner.state.floatbank8_d_level      0.002732\n",
      "rougher.input.feed_ag                         0.002732\n",
      "rougher.input.feed_pb                         0.002732\n",
      "rougher.input.feed_rate                       0.006831\n",
      "rougher.input.feed_size                       0.003757\n",
      "rougher.input.feed_sol                        0.011441\n",
      "rougher.input.feed_au                         0.002732\n",
      "rougher.input.floatbank10_sulfate             0.043887\n",
      "rougher.input.floatbank10_xanthate            0.021004\n",
      "rougher.input.floatbank11_sulfate             0.009392\n",
      "rougher.input.floatbank11_xanthate            0.060280\n",
      "rougher.state.floatbank10_a_air               0.002903\n",
      "rougher.state.floatbank10_a_level             0.002732\n",
      "rougher.state.floatbank10_b_air               0.002903\n",
      "rougher.state.floatbank10_b_level             0.002732\n",
      "rougher.state.floatbank10_c_air               0.002903\n",
      "rougher.state.floatbank10_c_level             0.002732\n",
      "rougher.state.floatbank10_d_air               0.002903\n",
      "rougher.state.floatbank10_d_level             0.002732\n",
      "rougher.state.floatbank10_e_air               0.002903\n",
      "rougher.state.floatbank10_e_level             0.002732\n",
      "rougher.state.floatbank10_f_air               0.002903\n",
      "rougher.state.floatbank10_f_level             0.002732\n",
      "secondary_cleaner.state.floatbank2_a_air      0.003415\n",
      "secondary_cleaner.state.floatbank2_a_level    0.002732\n",
      "secondary_cleaner.state.floatbank2_b_air      0.003928\n",
      "secondary_cleaner.state.floatbank2_b_level    0.002732\n",
      "secondary_cleaner.state.floatbank3_a_air      0.005806\n",
      "secondary_cleaner.state.floatbank3_a_level    0.002732\n",
      "secondary_cleaner.state.floatbank3_b_air      0.002732\n",
      "secondary_cleaner.state.floatbank3_b_level    0.002732\n",
      "secondary_cleaner.state.floatbank4_a_air      0.002732\n",
      "secondary_cleaner.state.floatbank4_a_level    0.002732\n",
      "secondary_cleaner.state.floatbank4_b_air      0.002732\n",
      "secondary_cleaner.state.floatbank4_b_level    0.002732\n",
      "secondary_cleaner.state.floatbank5_a_air      0.002732\n",
      "secondary_cleaner.state.floatbank5_a_level    0.002732\n",
      "secondary_cleaner.state.floatbank5_b_air      0.002732\n",
      "secondary_cleaner.state.floatbank5_b_level    0.002732\n",
      "secondary_cleaner.state.floatbank6_a_air      0.002732\n",
      "secondary_cleaner.state.floatbank6_a_level    0.002732\n",
      "dtype: float64\n",
      "Количество пропусков в каждом столбце\n",
      "date                                          0.000000\n",
      "primary_cleaner.input.sulfate                 0.051571\n",
      "primary_cleaner.input.depressant              0.048497\n",
      "primary_cleaner.input.feed_size               0.000000\n",
      "primary_cleaner.input.xanthate                0.028347\n",
      "primary_cleaner.state.floatbank8_a_air        0.002732\n",
      "primary_cleaner.state.floatbank8_a_level      0.002732\n",
      "primary_cleaner.state.floatbank8_b_air        0.002732\n",
      "primary_cleaner.state.floatbank8_b_level      0.002732\n",
      "primary_cleaner.state.floatbank8_c_air        0.002732\n",
      "primary_cleaner.state.floatbank8_c_level      0.002732\n",
      "primary_cleaner.state.floatbank8_d_air        0.002732\n",
      "primary_cleaner.state.floatbank8_d_level      0.002732\n",
      "rougher.input.feed_ag                         0.002732\n",
      "rougher.input.feed_pb                         0.002732\n",
      "rougher.input.feed_rate                       0.006831\n",
      "rougher.input.feed_size                       0.003757\n",
      "rougher.input.feed_sol                        0.011441\n",
      "rougher.input.feed_au                         0.002732\n",
      "rougher.input.floatbank10_sulfate             0.043887\n",
      "rougher.input.floatbank10_xanthate            0.021004\n",
      "rougher.input.floatbank11_sulfate             0.009392\n",
      "rougher.input.floatbank11_xanthate            0.060280\n",
      "rougher.state.floatbank10_a_air               0.002903\n",
      "rougher.state.floatbank10_a_level             0.002732\n",
      "rougher.state.floatbank10_b_air               0.002903\n",
      "rougher.state.floatbank10_b_level             0.002732\n",
      "rougher.state.floatbank10_c_air               0.002903\n",
      "rougher.state.floatbank10_c_level             0.002732\n",
      "rougher.state.floatbank10_d_air               0.002903\n",
      "rougher.state.floatbank10_d_level             0.002732\n",
      "rougher.state.floatbank10_e_air               0.002903\n",
      "rougher.state.floatbank10_e_level             0.002732\n",
      "rougher.state.floatbank10_f_air               0.002903\n",
      "rougher.state.floatbank10_f_level             0.002732\n",
      "secondary_cleaner.state.floatbank2_a_air      0.003415\n",
      "secondary_cleaner.state.floatbank2_a_level    0.002732\n",
      "secondary_cleaner.state.floatbank2_b_air      0.003928\n",
      "secondary_cleaner.state.floatbank2_b_level    0.002732\n",
      "secondary_cleaner.state.floatbank3_a_air      0.005806\n",
      "secondary_cleaner.state.floatbank3_a_level    0.002732\n",
      "secondary_cleaner.state.floatbank3_b_air      0.002732\n",
      "secondary_cleaner.state.floatbank3_b_level    0.002732\n",
      "secondary_cleaner.state.floatbank4_a_air      0.002732\n",
      "secondary_cleaner.state.floatbank4_a_level    0.002732\n",
      "secondary_cleaner.state.floatbank4_b_air      0.002732\n",
      "secondary_cleaner.state.floatbank4_b_level    0.002732\n",
      "secondary_cleaner.state.floatbank5_a_air      0.002732\n",
      "secondary_cleaner.state.floatbank5_a_level    0.002732\n",
      "secondary_cleaner.state.floatbank5_b_air      0.002732\n",
      "secondary_cleaner.state.floatbank5_b_level    0.002732\n",
      "secondary_cleaner.state.floatbank6_a_air      0.002732\n",
      "secondary_cleaner.state.floatbank6_a_level    0.002732\n",
      "dtype: float64\n",
      "Количество пропусков в каждом столбце\n",
      "date                                          0.000000\n",
      "primary_cleaner.input.sulfate                 0.051571\n",
      "primary_cleaner.input.depressant              0.048497\n",
      "primary_cleaner.input.feed_size               0.000000\n",
      "primary_cleaner.input.xanthate                0.028347\n",
      "primary_cleaner.state.floatbank8_a_air        0.002732\n",
      "primary_cleaner.state.floatbank8_a_level      0.002732\n",
      "primary_cleaner.state.floatbank8_b_air        0.002732\n",
      "primary_cleaner.state.floatbank8_b_level      0.002732\n",
      "primary_cleaner.state.floatbank8_c_air        0.002732\n",
      "primary_cleaner.state.floatbank8_c_level      0.002732\n",
      "primary_cleaner.state.floatbank8_d_air        0.002732\n",
      "primary_cleaner.state.floatbank8_d_level      0.002732\n",
      "rougher.input.feed_ag                         0.002732\n",
      "rougher.input.feed_pb                         0.002732\n",
      "rougher.input.feed_rate                       0.006831\n",
      "rougher.input.feed_size                       0.003757\n",
      "rougher.input.feed_sol                        0.011441\n",
      "rougher.input.feed_au                         0.002732\n",
      "rougher.input.floatbank10_sulfate             0.043887\n",
      "rougher.input.floatbank10_xanthate            0.021004\n",
      "rougher.input.floatbank11_sulfate             0.009392\n",
      "rougher.input.floatbank11_xanthate            0.060280\n",
      "rougher.state.floatbank10_a_air               0.002903\n",
      "rougher.state.floatbank10_a_level             0.002732\n",
      "rougher.state.floatbank10_b_air               0.002903\n",
      "rougher.state.floatbank10_b_level             0.002732\n",
      "rougher.state.floatbank10_c_air               0.002903\n",
      "rougher.state.floatbank10_c_level             0.002732\n",
      "rougher.state.floatbank10_d_air               0.002903\n",
      "rougher.state.floatbank10_d_level             0.002732\n",
      "rougher.state.floatbank10_e_air               0.002903\n",
      "rougher.state.floatbank10_e_level             0.002732\n",
      "rougher.state.floatbank10_f_air               0.002903\n",
      "rougher.state.floatbank10_f_level             0.002732\n",
      "secondary_cleaner.state.floatbank2_a_air      0.003415\n",
      "secondary_cleaner.state.floatbank2_a_level    0.002732\n",
      "secondary_cleaner.state.floatbank2_b_air      0.003928\n",
      "secondary_cleaner.state.floatbank2_b_level    0.002732\n",
      "secondary_cleaner.state.floatbank3_a_air      0.005806\n",
      "secondary_cleaner.state.floatbank3_a_level    0.002732\n",
      "secondary_cleaner.state.floatbank3_b_air      0.002732\n",
      "secondary_cleaner.state.floatbank3_b_level    0.002732\n",
      "secondary_cleaner.state.floatbank4_a_air      0.002732\n",
      "secondary_cleaner.state.floatbank4_a_level    0.002732\n",
      "secondary_cleaner.state.floatbank4_b_air      0.002732\n",
      "secondary_cleaner.state.floatbank4_b_level    0.002732\n",
      "secondary_cleaner.state.floatbank5_a_air      0.002732\n",
      "secondary_cleaner.state.floatbank5_a_level    0.002732\n",
      "secondary_cleaner.state.floatbank5_b_air      0.002732\n",
      "secondary_cleaner.state.floatbank5_b_level    0.002732\n",
      "secondary_cleaner.state.floatbank6_a_air      0.002732\n",
      "secondary_cleaner.state.floatbank6_a_level    0.002732\n",
      "dtype: float64\n",
      "Количество пропусков в каждом столбце\n",
      "date                                          0.000000\n",
      "primary_cleaner.input.sulfate                 0.051571\n",
      "primary_cleaner.input.depressant              0.048497\n",
      "primary_cleaner.input.feed_size               0.000000\n",
      "primary_cleaner.input.xanthate                0.028347\n",
      "primary_cleaner.state.floatbank8_a_air        0.002732\n",
      "primary_cleaner.state.floatbank8_a_level      0.002732\n",
      "primary_cleaner.state.floatbank8_b_air        0.002732\n",
      "primary_cleaner.state.floatbank8_b_level      0.002732\n",
      "primary_cleaner.state.floatbank8_c_air        0.002732\n",
      "primary_cleaner.state.floatbank8_c_level      0.002732\n",
      "primary_cleaner.state.floatbank8_d_air        0.002732\n",
      "primary_cleaner.state.floatbank8_d_level      0.002732\n",
      "rougher.input.feed_ag                         0.002732\n",
      "rougher.input.feed_pb                         0.002732\n",
      "rougher.input.feed_rate                       0.006831\n",
      "rougher.input.feed_size                       0.003757\n",
      "rougher.input.feed_sol                        0.011441\n",
      "rougher.input.feed_au                         0.002732\n",
      "rougher.input.floatbank10_sulfate             0.043887\n",
      "rougher.input.floatbank10_xanthate            0.021004\n",
      "rougher.input.floatbank11_sulfate             0.009392\n",
      "rougher.input.floatbank11_xanthate            0.060280\n",
      "rougher.state.floatbank10_a_air               0.002903\n",
      "rougher.state.floatbank10_a_level             0.002732\n",
      "rougher.state.floatbank10_b_air               0.002903\n",
      "rougher.state.floatbank10_b_level             0.002732\n",
      "rougher.state.floatbank10_c_air               0.002903\n",
      "rougher.state.floatbank10_c_level             0.002732\n",
      "rougher.state.floatbank10_d_air               0.002903\n",
      "rougher.state.floatbank10_d_level             0.002732\n",
      "rougher.state.floatbank10_e_air               0.002903\n",
      "rougher.state.floatbank10_e_level             0.002732\n",
      "rougher.state.floatbank10_f_air               0.002903\n",
      "rougher.state.floatbank10_f_level             0.002732\n",
      "secondary_cleaner.state.floatbank2_a_air      0.003415\n",
      "secondary_cleaner.state.floatbank2_a_level    0.002732\n",
      "secondary_cleaner.state.floatbank2_b_air      0.003928\n",
      "secondary_cleaner.state.floatbank2_b_level    0.002732\n",
      "secondary_cleaner.state.floatbank3_a_air      0.005806\n",
      "secondary_cleaner.state.floatbank3_a_level    0.002732\n",
      "secondary_cleaner.state.floatbank3_b_air      0.002732\n",
      "secondary_cleaner.state.floatbank3_b_level    0.002732\n",
      "secondary_cleaner.state.floatbank4_a_air      0.002732\n",
      "secondary_cleaner.state.floatbank4_a_level    0.002732\n",
      "secondary_cleaner.state.floatbank4_b_air      0.002732\n",
      "secondary_cleaner.state.floatbank4_b_level    0.002732\n",
      "secondary_cleaner.state.floatbank5_a_air      0.002732\n",
      "secondary_cleaner.state.floatbank5_a_level    0.002732\n",
      "secondary_cleaner.state.floatbank5_b_air      0.002732\n",
      "secondary_cleaner.state.floatbank5_b_level    0.002732\n",
      "secondary_cleaner.state.floatbank6_a_air      0.002732\n",
      "secondary_cleaner.state.floatbank6_a_level    0.002732\n",
      "dtype: float64\n",
      "Количество пропусков в каждом столбце\n",
      "date                                          0.000000\n",
      "primary_cleaner.input.sulfate                 0.051571\n",
      "primary_cleaner.input.depressant              0.048497\n",
      "primary_cleaner.input.feed_size               0.000000\n",
      "primary_cleaner.input.xanthate                0.028347\n",
      "primary_cleaner.state.floatbank8_a_air        0.002732\n",
      "primary_cleaner.state.floatbank8_a_level      0.002732\n",
      "primary_cleaner.state.floatbank8_b_air        0.002732\n",
      "primary_cleaner.state.floatbank8_b_level      0.002732\n",
      "primary_cleaner.state.floatbank8_c_air        0.002732\n",
      "primary_cleaner.state.floatbank8_c_level      0.002732\n",
      "primary_cleaner.state.floatbank8_d_air        0.002732\n",
      "primary_cleaner.state.floatbank8_d_level      0.002732\n",
      "rougher.input.feed_ag                         0.002732\n",
      "rougher.input.feed_pb                         0.002732\n",
      "rougher.input.feed_rate                       0.006831\n",
      "rougher.input.feed_size                       0.003757\n",
      "rougher.input.feed_sol                        0.011441\n",
      "rougher.input.feed_au                         0.002732\n",
      "rougher.input.floatbank10_sulfate             0.043887\n",
      "rougher.input.floatbank10_xanthate            0.021004\n",
      "rougher.input.floatbank11_sulfate             0.009392\n",
      "rougher.input.floatbank11_xanthate            0.060280\n",
      "rougher.state.floatbank10_a_air               0.002903\n",
      "rougher.state.floatbank10_a_level             0.002732\n",
      "rougher.state.floatbank10_b_air               0.002903\n",
      "rougher.state.floatbank10_b_level             0.002732\n",
      "rougher.state.floatbank10_c_air               0.002903\n",
      "rougher.state.floatbank10_c_level             0.002732\n",
      "rougher.state.floatbank10_d_air               0.002903\n",
      "rougher.state.floatbank10_d_level             0.002732\n",
      "rougher.state.floatbank10_e_air               0.002903\n",
      "rougher.state.floatbank10_e_level             0.002732\n",
      "rougher.state.floatbank10_f_air               0.002903\n",
      "rougher.state.floatbank10_f_level             0.002732\n",
      "secondary_cleaner.state.floatbank2_a_air      0.003415\n",
      "secondary_cleaner.state.floatbank2_a_level    0.002732\n",
      "secondary_cleaner.state.floatbank2_b_air      0.003928\n",
      "secondary_cleaner.state.floatbank2_b_level    0.002732\n",
      "secondary_cleaner.state.floatbank3_a_air      0.005806\n",
      "secondary_cleaner.state.floatbank3_a_level    0.002732\n",
      "secondary_cleaner.state.floatbank3_b_air      0.002732\n",
      "secondary_cleaner.state.floatbank3_b_level    0.002732\n",
      "secondary_cleaner.state.floatbank4_a_air      0.002732\n",
      "secondary_cleaner.state.floatbank4_a_level    0.002732\n",
      "secondary_cleaner.state.floatbank4_b_air      0.002732\n",
      "secondary_cleaner.state.floatbank4_b_level    0.002732\n",
      "secondary_cleaner.state.floatbank5_a_air      0.002732\n",
      "secondary_cleaner.state.floatbank5_a_level    0.002732\n",
      "secondary_cleaner.state.floatbank5_b_air      0.002732\n",
      "secondary_cleaner.state.floatbank5_b_level    0.002732\n",
      "secondary_cleaner.state.floatbank6_a_air      0.002732\n",
      "secondary_cleaner.state.floatbank6_a_level    0.002732\n",
      "dtype: float64\n",
      "Количество пропусков в каждом столбце\n",
      "date                                          0.000000\n",
      "primary_cleaner.input.sulfate                 0.051571\n",
      "primary_cleaner.input.depressant              0.048497\n",
      "primary_cleaner.input.feed_size               0.000000\n",
      "primary_cleaner.input.xanthate                0.028347\n",
      "primary_cleaner.state.floatbank8_a_air        0.002732\n",
      "primary_cleaner.state.floatbank8_a_level      0.002732\n",
      "primary_cleaner.state.floatbank8_b_air        0.002732\n",
      "primary_cleaner.state.floatbank8_b_level      0.002732\n",
      "primary_cleaner.state.floatbank8_c_air        0.002732\n",
      "primary_cleaner.state.floatbank8_c_level      0.002732\n",
      "primary_cleaner.state.floatbank8_d_air        0.002732\n",
      "primary_cleaner.state.floatbank8_d_level      0.002732\n",
      "rougher.input.feed_ag                         0.002732\n",
      "rougher.input.feed_pb                         0.002732\n",
      "rougher.input.feed_rate                       0.006831\n",
      "rougher.input.feed_size                       0.003757\n",
      "rougher.input.feed_sol                        0.011441\n",
      "rougher.input.feed_au                         0.002732\n",
      "rougher.input.floatbank10_sulfate             0.043887\n",
      "rougher.input.floatbank10_xanthate            0.021004\n",
      "rougher.input.floatbank11_sulfate             0.009392\n",
      "rougher.input.floatbank11_xanthate            0.060280\n",
      "rougher.state.floatbank10_a_air               0.002903\n",
      "rougher.state.floatbank10_a_level             0.002732\n",
      "rougher.state.floatbank10_b_air               0.002903\n",
      "rougher.state.floatbank10_b_level             0.002732\n",
      "rougher.state.floatbank10_c_air               0.002903\n",
      "rougher.state.floatbank10_c_level             0.002732\n",
      "rougher.state.floatbank10_d_air               0.002903\n",
      "rougher.state.floatbank10_d_level             0.002732\n",
      "rougher.state.floatbank10_e_air               0.002903\n",
      "rougher.state.floatbank10_e_level             0.002732\n",
      "rougher.state.floatbank10_f_air               0.002903\n",
      "rougher.state.floatbank10_f_level             0.002732\n",
      "secondary_cleaner.state.floatbank2_a_air      0.003415\n",
      "secondary_cleaner.state.floatbank2_a_level    0.002732\n",
      "secondary_cleaner.state.floatbank2_b_air      0.003928\n",
      "secondary_cleaner.state.floatbank2_b_level    0.002732\n",
      "secondary_cleaner.state.floatbank3_a_air      0.005806\n",
      "secondary_cleaner.state.floatbank3_a_level    0.002732\n",
      "secondary_cleaner.state.floatbank3_b_air      0.002732\n",
      "secondary_cleaner.state.floatbank3_b_level    0.002732\n",
      "secondary_cleaner.state.floatbank4_a_air      0.002732\n",
      "secondary_cleaner.state.floatbank4_a_level    0.002732\n",
      "secondary_cleaner.state.floatbank4_b_air      0.002732\n",
      "secondary_cleaner.state.floatbank4_b_level    0.002732\n",
      "secondary_cleaner.state.floatbank5_a_air      0.002732\n",
      "secondary_cleaner.state.floatbank5_a_level    0.002732\n",
      "secondary_cleaner.state.floatbank5_b_air      0.002732\n",
      "secondary_cleaner.state.floatbank5_b_level    0.002732\n",
      "secondary_cleaner.state.floatbank6_a_air      0.002732\n",
      "secondary_cleaner.state.floatbank6_a_level    0.002732\n",
      "dtype: float64\n",
      "Количество пропусков в каждом столбце\n",
      "date                                          0.000000\n",
      "primary_cleaner.input.sulfate                 0.051571\n",
      "primary_cleaner.input.depressant              0.048497\n",
      "primary_cleaner.input.feed_size               0.000000\n",
      "primary_cleaner.input.xanthate                0.028347\n",
      "primary_cleaner.state.floatbank8_a_air        0.002732\n",
      "primary_cleaner.state.floatbank8_a_level      0.002732\n",
      "primary_cleaner.state.floatbank8_b_air        0.002732\n",
      "primary_cleaner.state.floatbank8_b_level      0.002732\n",
      "primary_cleaner.state.floatbank8_c_air        0.002732\n",
      "primary_cleaner.state.floatbank8_c_level      0.002732\n",
      "primary_cleaner.state.floatbank8_d_air        0.002732\n",
      "primary_cleaner.state.floatbank8_d_level      0.002732\n",
      "rougher.input.feed_ag                         0.002732\n",
      "rougher.input.feed_pb                         0.002732\n",
      "rougher.input.feed_rate                       0.006831\n",
      "rougher.input.feed_size                       0.003757\n",
      "rougher.input.feed_sol                        0.011441\n",
      "rougher.input.feed_au                         0.002732\n",
      "rougher.input.floatbank10_sulfate             0.043887\n",
      "rougher.input.floatbank10_xanthate            0.021004\n",
      "rougher.input.floatbank11_sulfate             0.009392\n",
      "rougher.input.floatbank11_xanthate            0.060280\n",
      "rougher.state.floatbank10_a_air               0.002903\n",
      "rougher.state.floatbank10_a_level             0.002732\n",
      "rougher.state.floatbank10_b_air               0.002903\n",
      "rougher.state.floatbank10_b_level             0.002732\n",
      "rougher.state.floatbank10_c_air               0.002903\n",
      "rougher.state.floatbank10_c_level             0.002732\n",
      "rougher.state.floatbank10_d_air               0.002903\n",
      "rougher.state.floatbank10_d_level             0.002732\n",
      "rougher.state.floatbank10_e_air               0.002903\n",
      "rougher.state.floatbank10_e_level             0.002732\n",
      "rougher.state.floatbank10_f_air               0.002903\n",
      "rougher.state.floatbank10_f_level             0.002732\n",
      "secondary_cleaner.state.floatbank2_a_air      0.003415\n",
      "secondary_cleaner.state.floatbank2_a_level    0.002732\n",
      "secondary_cleaner.state.floatbank2_b_air      0.003928\n",
      "secondary_cleaner.state.floatbank2_b_level    0.002732\n",
      "secondary_cleaner.state.floatbank3_a_air      0.005806\n",
      "secondary_cleaner.state.floatbank3_a_level    0.002732\n",
      "secondary_cleaner.state.floatbank3_b_air      0.002732\n",
      "secondary_cleaner.state.floatbank3_b_level    0.002732\n",
      "secondary_cleaner.state.floatbank4_a_air      0.002732\n",
      "secondary_cleaner.state.floatbank4_a_level    0.002732\n",
      "secondary_cleaner.state.floatbank4_b_air      0.002732\n",
      "secondary_cleaner.state.floatbank4_b_level    0.002732\n",
      "secondary_cleaner.state.floatbank5_a_air      0.002732\n",
      "secondary_cleaner.state.floatbank5_a_level    0.002732\n",
      "secondary_cleaner.state.floatbank5_b_air      0.002732\n",
      "secondary_cleaner.state.floatbank5_b_level    0.002732\n",
      "secondary_cleaner.state.floatbank6_a_air      0.002732\n",
      "secondary_cleaner.state.floatbank6_a_level    0.002732\n",
      "dtype: float64\n",
      "Количество пропусков в каждом столбце\n",
      "date                                          0.000000\n",
      "primary_cleaner.input.sulfate                 0.051571\n",
      "primary_cleaner.input.depressant              0.048497\n",
      "primary_cleaner.input.feed_size               0.000000\n",
      "primary_cleaner.input.xanthate                0.028347\n",
      "primary_cleaner.state.floatbank8_a_air        0.002732\n",
      "primary_cleaner.state.floatbank8_a_level      0.002732\n",
      "primary_cleaner.state.floatbank8_b_air        0.002732\n",
      "primary_cleaner.state.floatbank8_b_level      0.002732\n",
      "primary_cleaner.state.floatbank8_c_air        0.002732\n",
      "primary_cleaner.state.floatbank8_c_level      0.002732\n",
      "primary_cleaner.state.floatbank8_d_air        0.002732\n",
      "primary_cleaner.state.floatbank8_d_level      0.002732\n",
      "rougher.input.feed_ag                         0.002732\n",
      "rougher.input.feed_pb                         0.002732\n",
      "rougher.input.feed_rate                       0.006831\n",
      "rougher.input.feed_size                       0.003757\n",
      "rougher.input.feed_sol                        0.011441\n",
      "rougher.input.feed_au                         0.002732\n",
      "rougher.input.floatbank10_sulfate             0.043887\n",
      "rougher.input.floatbank10_xanthate            0.021004\n",
      "rougher.input.floatbank11_sulfate             0.009392\n",
      "rougher.input.floatbank11_xanthate            0.060280\n",
      "rougher.state.floatbank10_a_air               0.002903\n",
      "rougher.state.floatbank10_a_level             0.002732\n",
      "rougher.state.floatbank10_b_air               0.002903\n",
      "rougher.state.floatbank10_b_level             0.002732\n",
      "rougher.state.floatbank10_c_air               0.002903\n",
      "rougher.state.floatbank10_c_level             0.002732\n",
      "rougher.state.floatbank10_d_air               0.002903\n",
      "rougher.state.floatbank10_d_level             0.002732\n",
      "rougher.state.floatbank10_e_air               0.002903\n",
      "rougher.state.floatbank10_e_level             0.002732\n",
      "rougher.state.floatbank10_f_air               0.002903\n",
      "rougher.state.floatbank10_f_level             0.002732\n",
      "secondary_cleaner.state.floatbank2_a_air      0.003415\n",
      "secondary_cleaner.state.floatbank2_a_level    0.002732\n",
      "secondary_cleaner.state.floatbank2_b_air      0.003928\n",
      "secondary_cleaner.state.floatbank2_b_level    0.002732\n",
      "secondary_cleaner.state.floatbank3_a_air      0.005806\n",
      "secondary_cleaner.state.floatbank3_a_level    0.002732\n",
      "secondary_cleaner.state.floatbank3_b_air      0.002732\n",
      "secondary_cleaner.state.floatbank3_b_level    0.002732\n",
      "secondary_cleaner.state.floatbank4_a_air      0.002732\n",
      "secondary_cleaner.state.floatbank4_a_level    0.002732\n",
      "secondary_cleaner.state.floatbank4_b_air      0.002732\n",
      "secondary_cleaner.state.floatbank4_b_level    0.002732\n",
      "secondary_cleaner.state.floatbank5_a_air      0.002732\n",
      "secondary_cleaner.state.floatbank5_a_level    0.002732\n",
      "secondary_cleaner.state.floatbank5_b_air      0.002732\n",
      "secondary_cleaner.state.floatbank5_b_level    0.002732\n",
      "secondary_cleaner.state.floatbank6_a_air      0.002732\n",
      "secondary_cleaner.state.floatbank6_a_level    0.002732\n",
      "dtype: float64\n",
      "Количество пропусков в каждом столбце\n",
      "date                                          0.000000\n",
      "primary_cleaner.input.sulfate                 0.051571\n",
      "primary_cleaner.input.depressant              0.048497\n",
      "primary_cleaner.input.feed_size               0.000000\n",
      "primary_cleaner.input.xanthate                0.028347\n",
      "primary_cleaner.state.floatbank8_a_air        0.002732\n",
      "primary_cleaner.state.floatbank8_a_level      0.002732\n",
      "primary_cleaner.state.floatbank8_b_air        0.002732\n",
      "primary_cleaner.state.floatbank8_b_level      0.002732\n",
      "primary_cleaner.state.floatbank8_c_air        0.002732\n",
      "primary_cleaner.state.floatbank8_c_level      0.002732\n",
      "primary_cleaner.state.floatbank8_d_air        0.002732\n",
      "primary_cleaner.state.floatbank8_d_level      0.002732\n",
      "rougher.input.feed_ag                         0.002732\n",
      "rougher.input.feed_pb                         0.002732\n",
      "rougher.input.feed_rate                       0.006831\n",
      "rougher.input.feed_size                       0.003757\n",
      "rougher.input.feed_sol                        0.011441\n",
      "rougher.input.feed_au                         0.002732\n",
      "rougher.input.floatbank10_sulfate             0.043887\n",
      "rougher.input.floatbank10_xanthate            0.021004\n",
      "rougher.input.floatbank11_sulfate             0.009392\n",
      "rougher.input.floatbank11_xanthate            0.060280\n",
      "rougher.state.floatbank10_a_air               0.002903\n",
      "rougher.state.floatbank10_a_level             0.002732\n",
      "rougher.state.floatbank10_b_air               0.002903\n",
      "rougher.state.floatbank10_b_level             0.002732\n",
      "rougher.state.floatbank10_c_air               0.002903\n",
      "rougher.state.floatbank10_c_level             0.002732\n",
      "rougher.state.floatbank10_d_air               0.002903\n",
      "rougher.state.floatbank10_d_level             0.002732\n",
      "rougher.state.floatbank10_e_air               0.002903\n",
      "rougher.state.floatbank10_e_level             0.002732\n",
      "rougher.state.floatbank10_f_air               0.002903\n",
      "rougher.state.floatbank10_f_level             0.002732\n",
      "secondary_cleaner.state.floatbank2_a_air      0.003415\n",
      "secondary_cleaner.state.floatbank2_a_level    0.002732\n",
      "secondary_cleaner.state.floatbank2_b_air      0.003928\n",
      "secondary_cleaner.state.floatbank2_b_level    0.002732\n",
      "secondary_cleaner.state.floatbank3_a_air      0.005806\n",
      "secondary_cleaner.state.floatbank3_a_level    0.002732\n",
      "secondary_cleaner.state.floatbank3_b_air      0.002732\n",
      "secondary_cleaner.state.floatbank3_b_level    0.002732\n",
      "secondary_cleaner.state.floatbank4_a_air      0.002732\n",
      "secondary_cleaner.state.floatbank4_a_level    0.002732\n",
      "secondary_cleaner.state.floatbank4_b_air      0.002732\n",
      "secondary_cleaner.state.floatbank4_b_level    0.002732\n",
      "secondary_cleaner.state.floatbank5_a_air      0.002732\n",
      "secondary_cleaner.state.floatbank5_a_level    0.002732\n",
      "secondary_cleaner.state.floatbank5_b_air      0.002732\n",
      "secondary_cleaner.state.floatbank5_b_level    0.002732\n",
      "secondary_cleaner.state.floatbank6_a_air      0.002732\n",
      "secondary_cleaner.state.floatbank6_a_level    0.002732\n",
      "dtype: float64\n",
      "Количество пропусков в каждом столбце\n",
      "date                                          0.000000\n",
      "primary_cleaner.input.sulfate                 0.051571\n",
      "primary_cleaner.input.depressant              0.048497\n",
      "primary_cleaner.input.feed_size               0.000000\n",
      "primary_cleaner.input.xanthate                0.028347\n",
      "primary_cleaner.state.floatbank8_a_air        0.002732\n",
      "primary_cleaner.state.floatbank8_a_level      0.002732\n",
      "primary_cleaner.state.floatbank8_b_air        0.002732\n",
      "primary_cleaner.state.floatbank8_b_level      0.002732\n",
      "primary_cleaner.state.floatbank8_c_air        0.002732\n",
      "primary_cleaner.state.floatbank8_c_level      0.002732\n",
      "primary_cleaner.state.floatbank8_d_air        0.002732\n",
      "primary_cleaner.state.floatbank8_d_level      0.002732\n",
      "rougher.input.feed_ag                         0.002732\n",
      "rougher.input.feed_pb                         0.002732\n",
      "rougher.input.feed_rate                       0.006831\n",
      "rougher.input.feed_size                       0.003757\n",
      "rougher.input.feed_sol                        0.011441\n",
      "rougher.input.feed_au                         0.002732\n",
      "rougher.input.floatbank10_sulfate             0.043887\n",
      "rougher.input.floatbank10_xanthate            0.021004\n",
      "rougher.input.floatbank11_sulfate             0.009392\n",
      "rougher.input.floatbank11_xanthate            0.060280\n",
      "rougher.state.floatbank10_a_air               0.002903\n",
      "rougher.state.floatbank10_a_level             0.002732\n",
      "rougher.state.floatbank10_b_air               0.002903\n",
      "rougher.state.floatbank10_b_level             0.002732\n",
      "rougher.state.floatbank10_c_air               0.002903\n",
      "rougher.state.floatbank10_c_level             0.002732\n",
      "rougher.state.floatbank10_d_air               0.002903\n",
      "rougher.state.floatbank10_d_level             0.002732\n",
      "rougher.state.floatbank10_e_air               0.002903\n",
      "rougher.state.floatbank10_e_level             0.002732\n",
      "rougher.state.floatbank10_f_air               0.002903\n",
      "rougher.state.floatbank10_f_level             0.002732\n",
      "secondary_cleaner.state.floatbank2_a_air      0.003415\n",
      "secondary_cleaner.state.floatbank2_a_level    0.002732\n",
      "secondary_cleaner.state.floatbank2_b_air      0.003928\n",
      "secondary_cleaner.state.floatbank2_b_level    0.002732\n",
      "secondary_cleaner.state.floatbank3_a_air      0.005806\n",
      "secondary_cleaner.state.floatbank3_a_level    0.002732\n",
      "secondary_cleaner.state.floatbank3_b_air      0.002732\n",
      "secondary_cleaner.state.floatbank3_b_level    0.002732\n",
      "secondary_cleaner.state.floatbank4_a_air      0.002732\n",
      "secondary_cleaner.state.floatbank4_a_level    0.002732\n",
      "secondary_cleaner.state.floatbank4_b_air      0.002732\n",
      "secondary_cleaner.state.floatbank4_b_level    0.002732\n",
      "secondary_cleaner.state.floatbank5_a_air      0.002732\n",
      "secondary_cleaner.state.floatbank5_a_level    0.002732\n",
      "secondary_cleaner.state.floatbank5_b_air      0.002732\n",
      "secondary_cleaner.state.floatbank5_b_level    0.002732\n",
      "secondary_cleaner.state.floatbank6_a_air      0.002732\n",
      "secondary_cleaner.state.floatbank6_a_level    0.002732\n",
      "dtype: float64\n",
      "Количество пропусков в каждом столбце\n",
      "date                                          0.000000\n",
      "primary_cleaner.input.sulfate                 0.051571\n",
      "primary_cleaner.input.depressant              0.048497\n",
      "primary_cleaner.input.feed_size               0.000000\n",
      "primary_cleaner.input.xanthate                0.028347\n",
      "primary_cleaner.state.floatbank8_a_air        0.002732\n",
      "primary_cleaner.state.floatbank8_a_level      0.002732\n",
      "primary_cleaner.state.floatbank8_b_air        0.002732\n",
      "primary_cleaner.state.floatbank8_b_level      0.002732\n",
      "primary_cleaner.state.floatbank8_c_air        0.002732\n",
      "primary_cleaner.state.floatbank8_c_level      0.002732\n",
      "primary_cleaner.state.floatbank8_d_air        0.002732\n",
      "primary_cleaner.state.floatbank8_d_level      0.002732\n",
      "rougher.input.feed_ag                         0.002732\n",
      "rougher.input.feed_pb                         0.002732\n",
      "rougher.input.feed_rate                       0.006831\n",
      "rougher.input.feed_size                       0.003757\n",
      "rougher.input.feed_sol                        0.011441\n",
      "rougher.input.feed_au                         0.002732\n",
      "rougher.input.floatbank10_sulfate             0.043887\n",
      "rougher.input.floatbank10_xanthate            0.021004\n",
      "rougher.input.floatbank11_sulfate             0.009392\n",
      "rougher.input.floatbank11_xanthate            0.060280\n",
      "rougher.state.floatbank10_a_air               0.002903\n",
      "rougher.state.floatbank10_a_level             0.002732\n",
      "rougher.state.floatbank10_b_air               0.002903\n",
      "rougher.state.floatbank10_b_level             0.002732\n",
      "rougher.state.floatbank10_c_air               0.002903\n",
      "rougher.state.floatbank10_c_level             0.002732\n",
      "rougher.state.floatbank10_d_air               0.002903\n",
      "rougher.state.floatbank10_d_level             0.002732\n",
      "rougher.state.floatbank10_e_air               0.002903\n",
      "rougher.state.floatbank10_e_level             0.002732\n",
      "rougher.state.floatbank10_f_air               0.002903\n",
      "rougher.state.floatbank10_f_level             0.002732\n",
      "secondary_cleaner.state.floatbank2_a_air      0.003415\n",
      "secondary_cleaner.state.floatbank2_a_level    0.002732\n",
      "secondary_cleaner.state.floatbank2_b_air      0.003928\n",
      "secondary_cleaner.state.floatbank2_b_level    0.002732\n",
      "secondary_cleaner.state.floatbank3_a_air      0.005806\n",
      "secondary_cleaner.state.floatbank3_a_level    0.002732\n",
      "secondary_cleaner.state.floatbank3_b_air      0.002732\n",
      "secondary_cleaner.state.floatbank3_b_level    0.002732\n",
      "secondary_cleaner.state.floatbank4_a_air      0.002732\n",
      "secondary_cleaner.state.floatbank4_a_level    0.002732\n",
      "secondary_cleaner.state.floatbank4_b_air      0.002732\n",
      "secondary_cleaner.state.floatbank4_b_level    0.002732\n",
      "secondary_cleaner.state.floatbank5_a_air      0.002732\n",
      "secondary_cleaner.state.floatbank5_a_level    0.002732\n",
      "secondary_cleaner.state.floatbank5_b_air      0.002732\n",
      "secondary_cleaner.state.floatbank5_b_level    0.002732\n",
      "secondary_cleaner.state.floatbank6_a_air      0.002732\n",
      "secondary_cleaner.state.floatbank6_a_level    0.002732\n",
      "dtype: float64\n",
      "Количество пропусков в каждом столбце\n",
      "date                                          0.000000\n",
      "primary_cleaner.input.sulfate                 0.051571\n",
      "primary_cleaner.input.depressant              0.048497\n",
      "primary_cleaner.input.feed_size               0.000000\n",
      "primary_cleaner.input.xanthate                0.028347\n",
      "primary_cleaner.state.floatbank8_a_air        0.002732\n",
      "primary_cleaner.state.floatbank8_a_level      0.002732\n",
      "primary_cleaner.state.floatbank8_b_air        0.002732\n",
      "primary_cleaner.state.floatbank8_b_level      0.002732\n",
      "primary_cleaner.state.floatbank8_c_air        0.002732\n",
      "primary_cleaner.state.floatbank8_c_level      0.002732\n",
      "primary_cleaner.state.floatbank8_d_air        0.002732\n",
      "primary_cleaner.state.floatbank8_d_level      0.002732\n",
      "rougher.input.feed_ag                         0.002732\n",
      "rougher.input.feed_pb                         0.002732\n",
      "rougher.input.feed_rate                       0.006831\n",
      "rougher.input.feed_size                       0.003757\n",
      "rougher.input.feed_sol                        0.011441\n",
      "rougher.input.feed_au                         0.002732\n",
      "rougher.input.floatbank10_sulfate             0.043887\n",
      "rougher.input.floatbank10_xanthate            0.021004\n",
      "rougher.input.floatbank11_sulfate             0.009392\n",
      "rougher.input.floatbank11_xanthate            0.060280\n",
      "rougher.state.floatbank10_a_air               0.002903\n",
      "rougher.state.floatbank10_a_level             0.002732\n",
      "rougher.state.floatbank10_b_air               0.002903\n",
      "rougher.state.floatbank10_b_level             0.002732\n",
      "rougher.state.floatbank10_c_air               0.002903\n",
      "rougher.state.floatbank10_c_level             0.002732\n",
      "rougher.state.floatbank10_d_air               0.002903\n",
      "rougher.state.floatbank10_d_level             0.002732\n",
      "rougher.state.floatbank10_e_air               0.002903\n",
      "rougher.state.floatbank10_e_level             0.002732\n",
      "rougher.state.floatbank10_f_air               0.002903\n",
      "rougher.state.floatbank10_f_level             0.002732\n",
      "secondary_cleaner.state.floatbank2_a_air      0.003415\n",
      "secondary_cleaner.state.floatbank2_a_level    0.002732\n",
      "secondary_cleaner.state.floatbank2_b_air      0.003928\n",
      "secondary_cleaner.state.floatbank2_b_level    0.002732\n",
      "secondary_cleaner.state.floatbank3_a_air      0.005806\n",
      "secondary_cleaner.state.floatbank3_a_level    0.002732\n",
      "secondary_cleaner.state.floatbank3_b_air      0.002732\n",
      "secondary_cleaner.state.floatbank3_b_level    0.002732\n",
      "secondary_cleaner.state.floatbank4_a_air      0.002732\n",
      "secondary_cleaner.state.floatbank4_a_level    0.002732\n",
      "secondary_cleaner.state.floatbank4_b_air      0.002732\n",
      "secondary_cleaner.state.floatbank4_b_level    0.002732\n",
      "secondary_cleaner.state.floatbank5_a_air      0.002732\n",
      "secondary_cleaner.state.floatbank5_a_level    0.002732\n",
      "secondary_cleaner.state.floatbank5_b_air      0.002732\n",
      "secondary_cleaner.state.floatbank5_b_level    0.002732\n",
      "secondary_cleaner.state.floatbank6_a_air      0.002732\n",
      "secondary_cleaner.state.floatbank6_a_level    0.002732\n",
      "dtype: float64\n",
      "Количество пропусков в каждом столбце\n",
      "date                                          0.000000\n",
      "primary_cleaner.input.sulfate                 0.051571\n",
      "primary_cleaner.input.depressant              0.048497\n",
      "primary_cleaner.input.feed_size               0.000000\n",
      "primary_cleaner.input.xanthate                0.028347\n",
      "primary_cleaner.state.floatbank8_a_air        0.002732\n",
      "primary_cleaner.state.floatbank8_a_level      0.002732\n",
      "primary_cleaner.state.floatbank8_b_air        0.002732\n",
      "primary_cleaner.state.floatbank8_b_level      0.002732\n",
      "primary_cleaner.state.floatbank8_c_air        0.002732\n",
      "primary_cleaner.state.floatbank8_c_level      0.002732\n",
      "primary_cleaner.state.floatbank8_d_air        0.002732\n",
      "primary_cleaner.state.floatbank8_d_level      0.002732\n",
      "rougher.input.feed_ag                         0.002732\n",
      "rougher.input.feed_pb                         0.002732\n",
      "rougher.input.feed_rate                       0.006831\n",
      "rougher.input.feed_size                       0.003757\n",
      "rougher.input.feed_sol                        0.011441\n",
      "rougher.input.feed_au                         0.002732\n",
      "rougher.input.floatbank10_sulfate             0.043887\n",
      "rougher.input.floatbank10_xanthate            0.021004\n",
      "rougher.input.floatbank11_sulfate             0.009392\n",
      "rougher.input.floatbank11_xanthate            0.060280\n",
      "rougher.state.floatbank10_a_air               0.002903\n",
      "rougher.state.floatbank10_a_level             0.002732\n",
      "rougher.state.floatbank10_b_air               0.002903\n",
      "rougher.state.floatbank10_b_level             0.002732\n",
      "rougher.state.floatbank10_c_air               0.002903\n",
      "rougher.state.floatbank10_c_level             0.002732\n",
      "rougher.state.floatbank10_d_air               0.002903\n",
      "rougher.state.floatbank10_d_level             0.002732\n",
      "rougher.state.floatbank10_e_air               0.002903\n",
      "rougher.state.floatbank10_e_level             0.002732\n",
      "rougher.state.floatbank10_f_air               0.002903\n",
      "rougher.state.floatbank10_f_level             0.002732\n",
      "secondary_cleaner.state.floatbank2_a_air      0.003415\n",
      "secondary_cleaner.state.floatbank2_a_level    0.002732\n",
      "secondary_cleaner.state.floatbank2_b_air      0.003928\n",
      "secondary_cleaner.state.floatbank2_b_level    0.002732\n",
      "secondary_cleaner.state.floatbank3_a_air      0.005806\n",
      "secondary_cleaner.state.floatbank3_a_level    0.002732\n",
      "secondary_cleaner.state.floatbank3_b_air      0.002732\n",
      "secondary_cleaner.state.floatbank3_b_level    0.002732\n",
      "secondary_cleaner.state.floatbank4_a_air      0.002732\n",
      "secondary_cleaner.state.floatbank4_a_level    0.002732\n",
      "secondary_cleaner.state.floatbank4_b_air      0.002732\n",
      "secondary_cleaner.state.floatbank4_b_level    0.002732\n",
      "secondary_cleaner.state.floatbank5_a_air      0.002732\n",
      "secondary_cleaner.state.floatbank5_a_level    0.002732\n",
      "secondary_cleaner.state.floatbank5_b_air      0.002732\n",
      "secondary_cleaner.state.floatbank5_b_level    0.002732\n",
      "secondary_cleaner.state.floatbank6_a_air      0.002732\n",
      "secondary_cleaner.state.floatbank6_a_level    0.002732\n",
      "dtype: float64\n",
      "Количество пропусков в каждом столбце\n",
      "date                                          0.000000\n",
      "primary_cleaner.input.sulfate                 0.051571\n",
      "primary_cleaner.input.depressant              0.048497\n",
      "primary_cleaner.input.feed_size               0.000000\n",
      "primary_cleaner.input.xanthate                0.028347\n",
      "primary_cleaner.state.floatbank8_a_air        0.002732\n",
      "primary_cleaner.state.floatbank8_a_level      0.002732\n",
      "primary_cleaner.state.floatbank8_b_air        0.002732\n",
      "primary_cleaner.state.floatbank8_b_level      0.002732\n",
      "primary_cleaner.state.floatbank8_c_air        0.002732\n",
      "primary_cleaner.state.floatbank8_c_level      0.002732\n",
      "primary_cleaner.state.floatbank8_d_air        0.002732\n",
      "primary_cleaner.state.floatbank8_d_level      0.002732\n",
      "rougher.input.feed_ag                         0.002732\n",
      "rougher.input.feed_pb                         0.002732\n",
      "rougher.input.feed_rate                       0.006831\n",
      "rougher.input.feed_size                       0.003757\n",
      "rougher.input.feed_sol                        0.011441\n",
      "rougher.input.feed_au                         0.002732\n",
      "rougher.input.floatbank10_sulfate             0.043887\n",
      "rougher.input.floatbank10_xanthate            0.021004\n",
      "rougher.input.floatbank11_sulfate             0.009392\n",
      "rougher.input.floatbank11_xanthate            0.060280\n",
      "rougher.state.floatbank10_a_air               0.002903\n",
      "rougher.state.floatbank10_a_level             0.002732\n",
      "rougher.state.floatbank10_b_air               0.002903\n",
      "rougher.state.floatbank10_b_level             0.002732\n",
      "rougher.state.floatbank10_c_air               0.002903\n",
      "rougher.state.floatbank10_c_level             0.002732\n",
      "rougher.state.floatbank10_d_air               0.002903\n",
      "rougher.state.floatbank10_d_level             0.002732\n",
      "rougher.state.floatbank10_e_air               0.002903\n",
      "rougher.state.floatbank10_e_level             0.002732\n",
      "rougher.state.floatbank10_f_air               0.002903\n",
      "rougher.state.floatbank10_f_level             0.002732\n",
      "secondary_cleaner.state.floatbank2_a_air      0.003415\n",
      "secondary_cleaner.state.floatbank2_a_level    0.002732\n",
      "secondary_cleaner.state.floatbank2_b_air      0.003928\n",
      "secondary_cleaner.state.floatbank2_b_level    0.002732\n",
      "secondary_cleaner.state.floatbank3_a_air      0.005806\n",
      "secondary_cleaner.state.floatbank3_a_level    0.002732\n",
      "secondary_cleaner.state.floatbank3_b_air      0.002732\n",
      "secondary_cleaner.state.floatbank3_b_level    0.002732\n",
      "secondary_cleaner.state.floatbank4_a_air      0.002732\n",
      "secondary_cleaner.state.floatbank4_a_level    0.002732\n",
      "secondary_cleaner.state.floatbank4_b_air      0.002732\n",
      "secondary_cleaner.state.floatbank4_b_level    0.002732\n",
      "secondary_cleaner.state.floatbank5_a_air      0.002732\n",
      "secondary_cleaner.state.floatbank5_a_level    0.002732\n",
      "secondary_cleaner.state.floatbank5_b_air      0.002732\n",
      "secondary_cleaner.state.floatbank5_b_level    0.002732\n",
      "secondary_cleaner.state.floatbank6_a_air      0.002732\n",
      "secondary_cleaner.state.floatbank6_a_level    0.002732\n",
      "dtype: float64\n",
      "Количество пропусков в каждом столбце\n",
      "date                                          0.000000\n",
      "primary_cleaner.input.sulfate                 0.051571\n",
      "primary_cleaner.input.depressant              0.048497\n",
      "primary_cleaner.input.feed_size               0.000000\n",
      "primary_cleaner.input.xanthate                0.028347\n",
      "primary_cleaner.state.floatbank8_a_air        0.002732\n",
      "primary_cleaner.state.floatbank8_a_level      0.002732\n",
      "primary_cleaner.state.floatbank8_b_air        0.002732\n",
      "primary_cleaner.state.floatbank8_b_level      0.002732\n",
      "primary_cleaner.state.floatbank8_c_air        0.002732\n",
      "primary_cleaner.state.floatbank8_c_level      0.002732\n",
      "primary_cleaner.state.floatbank8_d_air        0.002732\n",
      "primary_cleaner.state.floatbank8_d_level      0.002732\n",
      "rougher.input.feed_ag                         0.002732\n",
      "rougher.input.feed_pb                         0.002732\n",
      "rougher.input.feed_rate                       0.006831\n",
      "rougher.input.feed_size                       0.003757\n",
      "rougher.input.feed_sol                        0.011441\n",
      "rougher.input.feed_au                         0.002732\n",
      "rougher.input.floatbank10_sulfate             0.043887\n",
      "rougher.input.floatbank10_xanthate            0.021004\n",
      "rougher.input.floatbank11_sulfate             0.009392\n",
      "rougher.input.floatbank11_xanthate            0.060280\n",
      "rougher.state.floatbank10_a_air               0.002903\n",
      "rougher.state.floatbank10_a_level             0.002732\n",
      "rougher.state.floatbank10_b_air               0.002903\n",
      "rougher.state.floatbank10_b_level             0.002732\n",
      "rougher.state.floatbank10_c_air               0.002903\n",
      "rougher.state.floatbank10_c_level             0.002732\n",
      "rougher.state.floatbank10_d_air               0.002903\n",
      "rougher.state.floatbank10_d_level             0.002732\n",
      "rougher.state.floatbank10_e_air               0.002903\n",
      "rougher.state.floatbank10_e_level             0.002732\n",
      "rougher.state.floatbank10_f_air               0.002903\n",
      "rougher.state.floatbank10_f_level             0.002732\n",
      "secondary_cleaner.state.floatbank2_a_air      0.003415\n",
      "secondary_cleaner.state.floatbank2_a_level    0.002732\n",
      "secondary_cleaner.state.floatbank2_b_air      0.003928\n",
      "secondary_cleaner.state.floatbank2_b_level    0.002732\n",
      "secondary_cleaner.state.floatbank3_a_air      0.005806\n",
      "secondary_cleaner.state.floatbank3_a_level    0.002732\n",
      "secondary_cleaner.state.floatbank3_b_air      0.002732\n",
      "secondary_cleaner.state.floatbank3_b_level    0.002732\n",
      "secondary_cleaner.state.floatbank4_a_air      0.002732\n",
      "secondary_cleaner.state.floatbank4_a_level    0.002732\n",
      "secondary_cleaner.state.floatbank4_b_air      0.002732\n",
      "secondary_cleaner.state.floatbank4_b_level    0.002732\n",
      "secondary_cleaner.state.floatbank5_a_air      0.002732\n",
      "secondary_cleaner.state.floatbank5_a_level    0.002732\n",
      "secondary_cleaner.state.floatbank5_b_air      0.002732\n",
      "secondary_cleaner.state.floatbank5_b_level    0.002732\n",
      "secondary_cleaner.state.floatbank6_a_air      0.002732\n",
      "secondary_cleaner.state.floatbank6_a_level    0.002732\n",
      "dtype: float64\n",
      "Количество пропусков в каждом столбце\n",
      "date                                          0.000000\n",
      "primary_cleaner.input.sulfate                 0.051571\n",
      "primary_cleaner.input.depressant              0.048497\n",
      "primary_cleaner.input.feed_size               0.000000\n",
      "primary_cleaner.input.xanthate                0.028347\n",
      "primary_cleaner.state.floatbank8_a_air        0.002732\n",
      "primary_cleaner.state.floatbank8_a_level      0.002732\n",
      "primary_cleaner.state.floatbank8_b_air        0.002732\n",
      "primary_cleaner.state.floatbank8_b_level      0.002732\n",
      "primary_cleaner.state.floatbank8_c_air        0.002732\n",
      "primary_cleaner.state.floatbank8_c_level      0.002732\n",
      "primary_cleaner.state.floatbank8_d_air        0.002732\n",
      "primary_cleaner.state.floatbank8_d_level      0.002732\n",
      "rougher.input.feed_ag                         0.002732\n",
      "rougher.input.feed_pb                         0.002732\n",
      "rougher.input.feed_rate                       0.006831\n",
      "rougher.input.feed_size                       0.003757\n",
      "rougher.input.feed_sol                        0.011441\n",
      "rougher.input.feed_au                         0.002732\n",
      "rougher.input.floatbank10_sulfate             0.043887\n",
      "rougher.input.floatbank10_xanthate            0.021004\n",
      "rougher.input.floatbank11_sulfate             0.009392\n",
      "rougher.input.floatbank11_xanthate            0.060280\n",
      "rougher.state.floatbank10_a_air               0.002903\n",
      "rougher.state.floatbank10_a_level             0.002732\n",
      "rougher.state.floatbank10_b_air               0.002903\n",
      "rougher.state.floatbank10_b_level             0.002732\n",
      "rougher.state.floatbank10_c_air               0.002903\n",
      "rougher.state.floatbank10_c_level             0.002732\n",
      "rougher.state.floatbank10_d_air               0.002903\n",
      "rougher.state.floatbank10_d_level             0.002732\n",
      "rougher.state.floatbank10_e_air               0.002903\n",
      "rougher.state.floatbank10_e_level             0.002732\n",
      "rougher.state.floatbank10_f_air               0.002903\n",
      "rougher.state.floatbank10_f_level             0.002732\n",
      "secondary_cleaner.state.floatbank2_a_air      0.003415\n",
      "secondary_cleaner.state.floatbank2_a_level    0.002732\n",
      "secondary_cleaner.state.floatbank2_b_air      0.003928\n",
      "secondary_cleaner.state.floatbank2_b_level    0.002732\n",
      "secondary_cleaner.state.floatbank3_a_air      0.005806\n",
      "secondary_cleaner.state.floatbank3_a_level    0.002732\n",
      "secondary_cleaner.state.floatbank3_b_air      0.002732\n",
      "secondary_cleaner.state.floatbank3_b_level    0.002732\n",
      "secondary_cleaner.state.floatbank4_a_air      0.002732\n",
      "secondary_cleaner.state.floatbank4_a_level    0.002732\n",
      "secondary_cleaner.state.floatbank4_b_air      0.002732\n",
      "secondary_cleaner.state.floatbank4_b_level    0.002732\n",
      "secondary_cleaner.state.floatbank5_a_air      0.002732\n",
      "secondary_cleaner.state.floatbank5_a_level    0.002732\n",
      "secondary_cleaner.state.floatbank5_b_air      0.002732\n",
      "secondary_cleaner.state.floatbank5_b_level    0.002732\n",
      "secondary_cleaner.state.floatbank6_a_air      0.002732\n",
      "secondary_cleaner.state.floatbank6_a_level    0.002732\n",
      "dtype: float64\n",
      "Количество пропусков в каждом столбце\n",
      "date                                          0.000000\n",
      "primary_cleaner.input.sulfate                 0.051571\n",
      "primary_cleaner.input.depressant              0.048497\n",
      "primary_cleaner.input.feed_size               0.000000\n",
      "primary_cleaner.input.xanthate                0.028347\n",
      "primary_cleaner.state.floatbank8_a_air        0.002732\n",
      "primary_cleaner.state.floatbank8_a_level      0.002732\n",
      "primary_cleaner.state.floatbank8_b_air        0.002732\n",
      "primary_cleaner.state.floatbank8_b_level      0.002732\n",
      "primary_cleaner.state.floatbank8_c_air        0.002732\n",
      "primary_cleaner.state.floatbank8_c_level      0.002732\n",
      "primary_cleaner.state.floatbank8_d_air        0.002732\n",
      "primary_cleaner.state.floatbank8_d_level      0.002732\n",
      "rougher.input.feed_ag                         0.002732\n",
      "rougher.input.feed_pb                         0.002732\n",
      "rougher.input.feed_rate                       0.006831\n",
      "rougher.input.feed_size                       0.003757\n",
      "rougher.input.feed_sol                        0.011441\n",
      "rougher.input.feed_au                         0.002732\n",
      "rougher.input.floatbank10_sulfate             0.043887\n",
      "rougher.input.floatbank10_xanthate            0.021004\n",
      "rougher.input.floatbank11_sulfate             0.009392\n",
      "rougher.input.floatbank11_xanthate            0.060280\n",
      "rougher.state.floatbank10_a_air               0.002903\n",
      "rougher.state.floatbank10_a_level             0.002732\n",
      "rougher.state.floatbank10_b_air               0.002903\n",
      "rougher.state.floatbank10_b_level             0.002732\n",
      "rougher.state.floatbank10_c_air               0.002903\n",
      "rougher.state.floatbank10_c_level             0.002732\n",
      "rougher.state.floatbank10_d_air               0.002903\n",
      "rougher.state.floatbank10_d_level             0.002732\n",
      "rougher.state.floatbank10_e_air               0.002903\n",
      "rougher.state.floatbank10_e_level             0.002732\n",
      "rougher.state.floatbank10_f_air               0.002903\n",
      "rougher.state.floatbank10_f_level             0.002732\n",
      "secondary_cleaner.state.floatbank2_a_air      0.003415\n",
      "secondary_cleaner.state.floatbank2_a_level    0.002732\n",
      "secondary_cleaner.state.floatbank2_b_air      0.003928\n",
      "secondary_cleaner.state.floatbank2_b_level    0.002732\n",
      "secondary_cleaner.state.floatbank3_a_air      0.005806\n",
      "secondary_cleaner.state.floatbank3_a_level    0.002732\n",
      "secondary_cleaner.state.floatbank3_b_air      0.002732\n",
      "secondary_cleaner.state.floatbank3_b_level    0.002732\n",
      "secondary_cleaner.state.floatbank4_a_air      0.002732\n",
      "secondary_cleaner.state.floatbank4_a_level    0.002732\n",
      "secondary_cleaner.state.floatbank4_b_air      0.002732\n",
      "secondary_cleaner.state.floatbank4_b_level    0.002732\n",
      "secondary_cleaner.state.floatbank5_a_air      0.002732\n",
      "secondary_cleaner.state.floatbank5_a_level    0.002732\n",
      "secondary_cleaner.state.floatbank5_b_air      0.002732\n",
      "secondary_cleaner.state.floatbank5_b_level    0.002732\n",
      "secondary_cleaner.state.floatbank6_a_air      0.002732\n",
      "secondary_cleaner.state.floatbank6_a_level    0.002732\n",
      "dtype: float64\n",
      "Количество пропусков в каждом столбце\n",
      "date                                          0.000000\n",
      "primary_cleaner.input.sulfate                 0.051571\n",
      "primary_cleaner.input.depressant              0.048497\n",
      "primary_cleaner.input.feed_size               0.000000\n",
      "primary_cleaner.input.xanthate                0.028347\n",
      "primary_cleaner.state.floatbank8_a_air        0.002732\n",
      "primary_cleaner.state.floatbank8_a_level      0.002732\n",
      "primary_cleaner.state.floatbank8_b_air        0.002732\n",
      "primary_cleaner.state.floatbank8_b_level      0.002732\n",
      "primary_cleaner.state.floatbank8_c_air        0.002732\n",
      "primary_cleaner.state.floatbank8_c_level      0.002732\n",
      "primary_cleaner.state.floatbank8_d_air        0.002732\n",
      "primary_cleaner.state.floatbank8_d_level      0.002732\n",
      "rougher.input.feed_ag                         0.002732\n",
      "rougher.input.feed_pb                         0.002732\n",
      "rougher.input.feed_rate                       0.006831\n",
      "rougher.input.feed_size                       0.003757\n",
      "rougher.input.feed_sol                        0.011441\n",
      "rougher.input.feed_au                         0.002732\n",
      "rougher.input.floatbank10_sulfate             0.043887\n",
      "rougher.input.floatbank10_xanthate            0.021004\n",
      "rougher.input.floatbank11_sulfate             0.009392\n",
      "rougher.input.floatbank11_xanthate            0.060280\n",
      "rougher.state.floatbank10_a_air               0.002903\n",
      "rougher.state.floatbank10_a_level             0.002732\n",
      "rougher.state.floatbank10_b_air               0.002903\n",
      "rougher.state.floatbank10_b_level             0.002732\n",
      "rougher.state.floatbank10_c_air               0.002903\n",
      "rougher.state.floatbank10_c_level             0.002732\n",
      "rougher.state.floatbank10_d_air               0.002903\n",
      "rougher.state.floatbank10_d_level             0.002732\n",
      "rougher.state.floatbank10_e_air               0.002903\n",
      "rougher.state.floatbank10_e_level             0.002732\n",
      "rougher.state.floatbank10_f_air               0.002903\n",
      "rougher.state.floatbank10_f_level             0.002732\n",
      "secondary_cleaner.state.floatbank2_a_air      0.003415\n",
      "secondary_cleaner.state.floatbank2_a_level    0.002732\n",
      "secondary_cleaner.state.floatbank2_b_air      0.003928\n",
      "secondary_cleaner.state.floatbank2_b_level    0.002732\n",
      "secondary_cleaner.state.floatbank3_a_air      0.005806\n",
      "secondary_cleaner.state.floatbank3_a_level    0.002732\n",
      "secondary_cleaner.state.floatbank3_b_air      0.002732\n",
      "secondary_cleaner.state.floatbank3_b_level    0.002732\n",
      "secondary_cleaner.state.floatbank4_a_air      0.002732\n",
      "secondary_cleaner.state.floatbank4_a_level    0.002732\n",
      "secondary_cleaner.state.floatbank4_b_air      0.002732\n",
      "secondary_cleaner.state.floatbank4_b_level    0.002732\n",
      "secondary_cleaner.state.floatbank5_a_air      0.002732\n",
      "secondary_cleaner.state.floatbank5_a_level    0.002732\n",
      "secondary_cleaner.state.floatbank5_b_air      0.002732\n",
      "secondary_cleaner.state.floatbank5_b_level    0.002732\n",
      "secondary_cleaner.state.floatbank6_a_air      0.002732\n",
      "secondary_cleaner.state.floatbank6_a_level    0.002732\n",
      "dtype: float64\n",
      "Количество пропусков в каждом столбце\n",
      "date                                          0.000000\n",
      "primary_cleaner.input.sulfate                 0.051571\n",
      "primary_cleaner.input.depressant              0.048497\n",
      "primary_cleaner.input.feed_size               0.000000\n",
      "primary_cleaner.input.xanthate                0.028347\n",
      "primary_cleaner.state.floatbank8_a_air        0.002732\n",
      "primary_cleaner.state.floatbank8_a_level      0.002732\n",
      "primary_cleaner.state.floatbank8_b_air        0.002732\n",
      "primary_cleaner.state.floatbank8_b_level      0.002732\n",
      "primary_cleaner.state.floatbank8_c_air        0.002732\n",
      "primary_cleaner.state.floatbank8_c_level      0.002732\n",
      "primary_cleaner.state.floatbank8_d_air        0.002732\n",
      "primary_cleaner.state.floatbank8_d_level      0.002732\n",
      "rougher.input.feed_ag                         0.002732\n",
      "rougher.input.feed_pb                         0.002732\n",
      "rougher.input.feed_rate                       0.006831\n",
      "rougher.input.feed_size                       0.003757\n",
      "rougher.input.feed_sol                        0.011441\n",
      "rougher.input.feed_au                         0.002732\n",
      "rougher.input.floatbank10_sulfate             0.043887\n",
      "rougher.input.floatbank10_xanthate            0.021004\n",
      "rougher.input.floatbank11_sulfate             0.009392\n",
      "rougher.input.floatbank11_xanthate            0.060280\n",
      "rougher.state.floatbank10_a_air               0.002903\n",
      "rougher.state.floatbank10_a_level             0.002732\n",
      "rougher.state.floatbank10_b_air               0.002903\n",
      "rougher.state.floatbank10_b_level             0.002732\n",
      "rougher.state.floatbank10_c_air               0.002903\n",
      "rougher.state.floatbank10_c_level             0.002732\n",
      "rougher.state.floatbank10_d_air               0.002903\n",
      "rougher.state.floatbank10_d_level             0.002732\n",
      "rougher.state.floatbank10_e_air               0.002903\n",
      "rougher.state.floatbank10_e_level             0.002732\n",
      "rougher.state.floatbank10_f_air               0.002903\n",
      "rougher.state.floatbank10_f_level             0.002732\n",
      "secondary_cleaner.state.floatbank2_a_air      0.003415\n",
      "secondary_cleaner.state.floatbank2_a_level    0.002732\n",
      "secondary_cleaner.state.floatbank2_b_air      0.003928\n",
      "secondary_cleaner.state.floatbank2_b_level    0.002732\n",
      "secondary_cleaner.state.floatbank3_a_air      0.005806\n",
      "secondary_cleaner.state.floatbank3_a_level    0.002732\n",
      "secondary_cleaner.state.floatbank3_b_air      0.002732\n",
      "secondary_cleaner.state.floatbank3_b_level    0.002732\n",
      "secondary_cleaner.state.floatbank4_a_air      0.002732\n",
      "secondary_cleaner.state.floatbank4_a_level    0.002732\n",
      "secondary_cleaner.state.floatbank4_b_air      0.002732\n",
      "secondary_cleaner.state.floatbank4_b_level    0.002732\n",
      "secondary_cleaner.state.floatbank5_a_air      0.002732\n",
      "secondary_cleaner.state.floatbank5_a_level    0.002732\n",
      "secondary_cleaner.state.floatbank5_b_air      0.002732\n",
      "secondary_cleaner.state.floatbank5_b_level    0.002732\n",
      "secondary_cleaner.state.floatbank6_a_air      0.002732\n",
      "secondary_cleaner.state.floatbank6_a_level    0.002732\n",
      "dtype: float64\n",
      "Количество пропусков в каждом столбце\n",
      "date                                          0.000000\n",
      "primary_cleaner.input.sulfate                 0.051571\n",
      "primary_cleaner.input.depressant              0.048497\n",
      "primary_cleaner.input.feed_size               0.000000\n",
      "primary_cleaner.input.xanthate                0.028347\n",
      "primary_cleaner.state.floatbank8_a_air        0.002732\n",
      "primary_cleaner.state.floatbank8_a_level      0.002732\n",
      "primary_cleaner.state.floatbank8_b_air        0.002732\n",
      "primary_cleaner.state.floatbank8_b_level      0.002732\n",
      "primary_cleaner.state.floatbank8_c_air        0.002732\n",
      "primary_cleaner.state.floatbank8_c_level      0.002732\n",
      "primary_cleaner.state.floatbank8_d_air        0.002732\n",
      "primary_cleaner.state.floatbank8_d_level      0.002732\n",
      "rougher.input.feed_ag                         0.002732\n",
      "rougher.input.feed_pb                         0.002732\n",
      "rougher.input.feed_rate                       0.006831\n",
      "rougher.input.feed_size                       0.003757\n",
      "rougher.input.feed_sol                        0.011441\n",
      "rougher.input.feed_au                         0.002732\n",
      "rougher.input.floatbank10_sulfate             0.043887\n",
      "rougher.input.floatbank10_xanthate            0.021004\n",
      "rougher.input.floatbank11_sulfate             0.009392\n",
      "rougher.input.floatbank11_xanthate            0.060280\n",
      "rougher.state.floatbank10_a_air               0.002903\n",
      "rougher.state.floatbank10_a_level             0.002732\n",
      "rougher.state.floatbank10_b_air               0.002903\n",
      "rougher.state.floatbank10_b_level             0.002732\n",
      "rougher.state.floatbank10_c_air               0.002903\n",
      "rougher.state.floatbank10_c_level             0.002732\n",
      "rougher.state.floatbank10_d_air               0.002903\n",
      "rougher.state.floatbank10_d_level             0.002732\n",
      "rougher.state.floatbank10_e_air               0.002903\n",
      "rougher.state.floatbank10_e_level             0.002732\n",
      "rougher.state.floatbank10_f_air               0.002903\n",
      "rougher.state.floatbank10_f_level             0.002732\n",
      "secondary_cleaner.state.floatbank2_a_air      0.003415\n",
      "secondary_cleaner.state.floatbank2_a_level    0.002732\n",
      "secondary_cleaner.state.floatbank2_b_air      0.003928\n",
      "secondary_cleaner.state.floatbank2_b_level    0.002732\n",
      "secondary_cleaner.state.floatbank3_a_air      0.005806\n",
      "secondary_cleaner.state.floatbank3_a_level    0.002732\n",
      "secondary_cleaner.state.floatbank3_b_air      0.002732\n",
      "secondary_cleaner.state.floatbank3_b_level    0.002732\n",
      "secondary_cleaner.state.floatbank4_a_air      0.002732\n",
      "secondary_cleaner.state.floatbank4_a_level    0.002732\n",
      "secondary_cleaner.state.floatbank4_b_air      0.002732\n",
      "secondary_cleaner.state.floatbank4_b_level    0.002732\n",
      "secondary_cleaner.state.floatbank5_a_air      0.002732\n",
      "secondary_cleaner.state.floatbank5_a_level    0.002732\n",
      "secondary_cleaner.state.floatbank5_b_air      0.002732\n",
      "secondary_cleaner.state.floatbank5_b_level    0.002732\n",
      "secondary_cleaner.state.floatbank6_a_air      0.002732\n",
      "secondary_cleaner.state.floatbank6_a_level    0.002732\n",
      "dtype: float64\n",
      "Количество пропусков в каждом столбце\n",
      "date                                          0.000000\n",
      "primary_cleaner.input.sulfate                 0.051571\n",
      "primary_cleaner.input.depressant              0.048497\n",
      "primary_cleaner.input.feed_size               0.000000\n",
      "primary_cleaner.input.xanthate                0.028347\n",
      "primary_cleaner.state.floatbank8_a_air        0.002732\n",
      "primary_cleaner.state.floatbank8_a_level      0.002732\n",
      "primary_cleaner.state.floatbank8_b_air        0.002732\n",
      "primary_cleaner.state.floatbank8_b_level      0.002732\n",
      "primary_cleaner.state.floatbank8_c_air        0.002732\n",
      "primary_cleaner.state.floatbank8_c_level      0.002732\n",
      "primary_cleaner.state.floatbank8_d_air        0.002732\n",
      "primary_cleaner.state.floatbank8_d_level      0.002732\n",
      "rougher.input.feed_ag                         0.002732\n",
      "rougher.input.feed_pb                         0.002732\n",
      "rougher.input.feed_rate                       0.006831\n",
      "rougher.input.feed_size                       0.003757\n",
      "rougher.input.feed_sol                        0.011441\n",
      "rougher.input.feed_au                         0.002732\n",
      "rougher.input.floatbank10_sulfate             0.043887\n",
      "rougher.input.floatbank10_xanthate            0.021004\n",
      "rougher.input.floatbank11_sulfate             0.009392\n",
      "rougher.input.floatbank11_xanthate            0.060280\n",
      "rougher.state.floatbank10_a_air               0.002903\n",
      "rougher.state.floatbank10_a_level             0.002732\n",
      "rougher.state.floatbank10_b_air               0.002903\n",
      "rougher.state.floatbank10_b_level             0.002732\n",
      "rougher.state.floatbank10_c_air               0.002903\n",
      "rougher.state.floatbank10_c_level             0.002732\n",
      "rougher.state.floatbank10_d_air               0.002903\n",
      "rougher.state.floatbank10_d_level             0.002732\n",
      "rougher.state.floatbank10_e_air               0.002903\n",
      "rougher.state.floatbank10_e_level             0.002732\n",
      "rougher.state.floatbank10_f_air               0.002903\n",
      "rougher.state.floatbank10_f_level             0.002732\n",
      "secondary_cleaner.state.floatbank2_a_air      0.003415\n",
      "secondary_cleaner.state.floatbank2_a_level    0.002732\n",
      "secondary_cleaner.state.floatbank2_b_air      0.003928\n",
      "secondary_cleaner.state.floatbank2_b_level    0.002732\n",
      "secondary_cleaner.state.floatbank3_a_air      0.005806\n",
      "secondary_cleaner.state.floatbank3_a_level    0.002732\n",
      "secondary_cleaner.state.floatbank3_b_air      0.002732\n",
      "secondary_cleaner.state.floatbank3_b_level    0.002732\n",
      "secondary_cleaner.state.floatbank4_a_air      0.002732\n",
      "secondary_cleaner.state.floatbank4_a_level    0.002732\n",
      "secondary_cleaner.state.floatbank4_b_air      0.002732\n",
      "secondary_cleaner.state.floatbank4_b_level    0.002732\n",
      "secondary_cleaner.state.floatbank5_a_air      0.002732\n",
      "secondary_cleaner.state.floatbank5_a_level    0.002732\n",
      "secondary_cleaner.state.floatbank5_b_air      0.002732\n",
      "secondary_cleaner.state.floatbank5_b_level    0.002732\n",
      "secondary_cleaner.state.floatbank6_a_air      0.002732\n",
      "secondary_cleaner.state.floatbank6_a_level    0.002732\n",
      "dtype: float64\n",
      "Количество пропусков в каждом столбце\n",
      "date                                          0.000000\n",
      "primary_cleaner.input.sulfate                 0.051571\n",
      "primary_cleaner.input.depressant              0.048497\n",
      "primary_cleaner.input.feed_size               0.000000\n",
      "primary_cleaner.input.xanthate                0.028347\n",
      "primary_cleaner.state.floatbank8_a_air        0.002732\n",
      "primary_cleaner.state.floatbank8_a_level      0.002732\n",
      "primary_cleaner.state.floatbank8_b_air        0.002732\n",
      "primary_cleaner.state.floatbank8_b_level      0.002732\n",
      "primary_cleaner.state.floatbank8_c_air        0.002732\n",
      "primary_cleaner.state.floatbank8_c_level      0.002732\n",
      "primary_cleaner.state.floatbank8_d_air        0.002732\n",
      "primary_cleaner.state.floatbank8_d_level      0.002732\n",
      "rougher.input.feed_ag                         0.002732\n",
      "rougher.input.feed_pb                         0.002732\n",
      "rougher.input.feed_rate                       0.006831\n",
      "rougher.input.feed_size                       0.003757\n",
      "rougher.input.feed_sol                        0.011441\n",
      "rougher.input.feed_au                         0.002732\n",
      "rougher.input.floatbank10_sulfate             0.043887\n",
      "rougher.input.floatbank10_xanthate            0.021004\n",
      "rougher.input.floatbank11_sulfate             0.009392\n",
      "rougher.input.floatbank11_xanthate            0.060280\n",
      "rougher.state.floatbank10_a_air               0.002903\n",
      "rougher.state.floatbank10_a_level             0.002732\n",
      "rougher.state.floatbank10_b_air               0.002903\n",
      "rougher.state.floatbank10_b_level             0.002732\n",
      "rougher.state.floatbank10_c_air               0.002903\n",
      "rougher.state.floatbank10_c_level             0.002732\n",
      "rougher.state.floatbank10_d_air               0.002903\n",
      "rougher.state.floatbank10_d_level             0.002732\n",
      "rougher.state.floatbank10_e_air               0.002903\n",
      "rougher.state.floatbank10_e_level             0.002732\n",
      "rougher.state.floatbank10_f_air               0.002903\n",
      "rougher.state.floatbank10_f_level             0.002732\n",
      "secondary_cleaner.state.floatbank2_a_air      0.003415\n",
      "secondary_cleaner.state.floatbank2_a_level    0.002732\n",
      "secondary_cleaner.state.floatbank2_b_air      0.003928\n",
      "secondary_cleaner.state.floatbank2_b_level    0.002732\n",
      "secondary_cleaner.state.floatbank3_a_air      0.005806\n",
      "secondary_cleaner.state.floatbank3_a_level    0.002732\n",
      "secondary_cleaner.state.floatbank3_b_air      0.002732\n",
      "secondary_cleaner.state.floatbank3_b_level    0.002732\n",
      "secondary_cleaner.state.floatbank4_a_air      0.002732\n",
      "secondary_cleaner.state.floatbank4_a_level    0.002732\n",
      "secondary_cleaner.state.floatbank4_b_air      0.002732\n",
      "secondary_cleaner.state.floatbank4_b_level    0.002732\n",
      "secondary_cleaner.state.floatbank5_a_air      0.002732\n",
      "secondary_cleaner.state.floatbank5_a_level    0.002732\n",
      "secondary_cleaner.state.floatbank5_b_air      0.002732\n",
      "secondary_cleaner.state.floatbank5_b_level    0.002732\n",
      "secondary_cleaner.state.floatbank6_a_air      0.002732\n",
      "secondary_cleaner.state.floatbank6_a_level    0.002732\n",
      "dtype: float64\n",
      "Количество пропусков в каждом столбце\n",
      "date                                          0.000000\n",
      "primary_cleaner.input.sulfate                 0.051571\n",
      "primary_cleaner.input.depressant              0.048497\n",
      "primary_cleaner.input.feed_size               0.000000\n",
      "primary_cleaner.input.xanthate                0.028347\n",
      "primary_cleaner.state.floatbank8_a_air        0.002732\n",
      "primary_cleaner.state.floatbank8_a_level      0.002732\n",
      "primary_cleaner.state.floatbank8_b_air        0.002732\n",
      "primary_cleaner.state.floatbank8_b_level      0.002732\n",
      "primary_cleaner.state.floatbank8_c_air        0.002732\n",
      "primary_cleaner.state.floatbank8_c_level      0.002732\n",
      "primary_cleaner.state.floatbank8_d_air        0.002732\n",
      "primary_cleaner.state.floatbank8_d_level      0.002732\n",
      "rougher.input.feed_ag                         0.002732\n",
      "rougher.input.feed_pb                         0.002732\n",
      "rougher.input.feed_rate                       0.006831\n",
      "rougher.input.feed_size                       0.003757\n",
      "rougher.input.feed_sol                        0.011441\n",
      "rougher.input.feed_au                         0.002732\n",
      "rougher.input.floatbank10_sulfate             0.043887\n",
      "rougher.input.floatbank10_xanthate            0.021004\n",
      "rougher.input.floatbank11_sulfate             0.009392\n",
      "rougher.input.floatbank11_xanthate            0.060280\n",
      "rougher.state.floatbank10_a_air               0.002903\n",
      "rougher.state.floatbank10_a_level             0.002732\n",
      "rougher.state.floatbank10_b_air               0.002903\n",
      "rougher.state.floatbank10_b_level             0.002732\n",
      "rougher.state.floatbank10_c_air               0.002903\n",
      "rougher.state.floatbank10_c_level             0.002732\n",
      "rougher.state.floatbank10_d_air               0.002903\n",
      "rougher.state.floatbank10_d_level             0.002732\n",
      "rougher.state.floatbank10_e_air               0.002903\n",
      "rougher.state.floatbank10_e_level             0.002732\n",
      "rougher.state.floatbank10_f_air               0.002903\n",
      "rougher.state.floatbank10_f_level             0.002732\n",
      "secondary_cleaner.state.floatbank2_a_air      0.003415\n",
      "secondary_cleaner.state.floatbank2_a_level    0.002732\n",
      "secondary_cleaner.state.floatbank2_b_air      0.003928\n",
      "secondary_cleaner.state.floatbank2_b_level    0.002732\n",
      "secondary_cleaner.state.floatbank3_a_air      0.005806\n",
      "secondary_cleaner.state.floatbank3_a_level    0.002732\n",
      "secondary_cleaner.state.floatbank3_b_air      0.002732\n",
      "secondary_cleaner.state.floatbank3_b_level    0.002732\n",
      "secondary_cleaner.state.floatbank4_a_air      0.002732\n",
      "secondary_cleaner.state.floatbank4_a_level    0.002732\n",
      "secondary_cleaner.state.floatbank4_b_air      0.002732\n",
      "secondary_cleaner.state.floatbank4_b_level    0.002732\n",
      "secondary_cleaner.state.floatbank5_a_air      0.002732\n",
      "secondary_cleaner.state.floatbank5_a_level    0.002732\n",
      "secondary_cleaner.state.floatbank5_b_air      0.002732\n",
      "secondary_cleaner.state.floatbank5_b_level    0.002732\n",
      "secondary_cleaner.state.floatbank6_a_air      0.002732\n",
      "secondary_cleaner.state.floatbank6_a_level    0.002732\n",
      "dtype: float64\n",
      "Количество пропусков в каждом столбце\n",
      "date                                          0.000000\n",
      "primary_cleaner.input.sulfate                 0.051571\n",
      "primary_cleaner.input.depressant              0.048497\n",
      "primary_cleaner.input.feed_size               0.000000\n",
      "primary_cleaner.input.xanthate                0.028347\n",
      "primary_cleaner.state.floatbank8_a_air        0.002732\n",
      "primary_cleaner.state.floatbank8_a_level      0.002732\n",
      "primary_cleaner.state.floatbank8_b_air        0.002732\n",
      "primary_cleaner.state.floatbank8_b_level      0.002732\n",
      "primary_cleaner.state.floatbank8_c_air        0.002732\n",
      "primary_cleaner.state.floatbank8_c_level      0.002732\n",
      "primary_cleaner.state.floatbank8_d_air        0.002732\n",
      "primary_cleaner.state.floatbank8_d_level      0.002732\n",
      "rougher.input.feed_ag                         0.002732\n",
      "rougher.input.feed_pb                         0.002732\n",
      "rougher.input.feed_rate                       0.006831\n",
      "rougher.input.feed_size                       0.003757\n",
      "rougher.input.feed_sol                        0.011441\n",
      "rougher.input.feed_au                         0.002732\n",
      "rougher.input.floatbank10_sulfate             0.043887\n",
      "rougher.input.floatbank10_xanthate            0.021004\n",
      "rougher.input.floatbank11_sulfate             0.009392\n",
      "rougher.input.floatbank11_xanthate            0.060280\n",
      "rougher.state.floatbank10_a_air               0.002903\n",
      "rougher.state.floatbank10_a_level             0.002732\n",
      "rougher.state.floatbank10_b_air               0.002903\n",
      "rougher.state.floatbank10_b_level             0.002732\n",
      "rougher.state.floatbank10_c_air               0.002903\n",
      "rougher.state.floatbank10_c_level             0.002732\n",
      "rougher.state.floatbank10_d_air               0.002903\n",
      "rougher.state.floatbank10_d_level             0.002732\n",
      "rougher.state.floatbank10_e_air               0.002903\n",
      "rougher.state.floatbank10_e_level             0.002732\n",
      "rougher.state.floatbank10_f_air               0.002903\n",
      "rougher.state.floatbank10_f_level             0.002732\n",
      "secondary_cleaner.state.floatbank2_a_air      0.003415\n",
      "secondary_cleaner.state.floatbank2_a_level    0.002732\n",
      "secondary_cleaner.state.floatbank2_b_air      0.003928\n",
      "secondary_cleaner.state.floatbank2_b_level    0.002732\n",
      "secondary_cleaner.state.floatbank3_a_air      0.005806\n",
      "secondary_cleaner.state.floatbank3_a_level    0.002732\n",
      "secondary_cleaner.state.floatbank3_b_air      0.002732\n",
      "secondary_cleaner.state.floatbank3_b_level    0.002732\n",
      "secondary_cleaner.state.floatbank4_a_air      0.002732\n",
      "secondary_cleaner.state.floatbank4_a_level    0.002732\n",
      "secondary_cleaner.state.floatbank4_b_air      0.002732\n",
      "secondary_cleaner.state.floatbank4_b_level    0.002732\n",
      "secondary_cleaner.state.floatbank5_a_air      0.002732\n",
      "secondary_cleaner.state.floatbank5_a_level    0.002732\n",
      "secondary_cleaner.state.floatbank5_b_air      0.002732\n",
      "secondary_cleaner.state.floatbank5_b_level    0.002732\n",
      "secondary_cleaner.state.floatbank6_a_air      0.002732\n",
      "secondary_cleaner.state.floatbank6_a_level    0.002732\n",
      "dtype: float64\n",
      "Количество пропусков в каждом столбце\n",
      "date                                          0.000000\n",
      "primary_cleaner.input.sulfate                 0.051571\n",
      "primary_cleaner.input.depressant              0.048497\n",
      "primary_cleaner.input.feed_size               0.000000\n",
      "primary_cleaner.input.xanthate                0.028347\n",
      "primary_cleaner.state.floatbank8_a_air        0.002732\n",
      "primary_cleaner.state.floatbank8_a_level      0.002732\n",
      "primary_cleaner.state.floatbank8_b_air        0.002732\n",
      "primary_cleaner.state.floatbank8_b_level      0.002732\n",
      "primary_cleaner.state.floatbank8_c_air        0.002732\n",
      "primary_cleaner.state.floatbank8_c_level      0.002732\n",
      "primary_cleaner.state.floatbank8_d_air        0.002732\n",
      "primary_cleaner.state.floatbank8_d_level      0.002732\n",
      "rougher.input.feed_ag                         0.002732\n",
      "rougher.input.feed_pb                         0.002732\n",
      "rougher.input.feed_rate                       0.006831\n",
      "rougher.input.feed_size                       0.003757\n",
      "rougher.input.feed_sol                        0.011441\n",
      "rougher.input.feed_au                         0.002732\n",
      "rougher.input.floatbank10_sulfate             0.043887\n",
      "rougher.input.floatbank10_xanthate            0.021004\n",
      "rougher.input.floatbank11_sulfate             0.009392\n",
      "rougher.input.floatbank11_xanthate            0.060280\n",
      "rougher.state.floatbank10_a_air               0.002903\n",
      "rougher.state.floatbank10_a_level             0.002732\n",
      "rougher.state.floatbank10_b_air               0.002903\n",
      "rougher.state.floatbank10_b_level             0.002732\n",
      "rougher.state.floatbank10_c_air               0.002903\n",
      "rougher.state.floatbank10_c_level             0.002732\n",
      "rougher.state.floatbank10_d_air               0.002903\n",
      "rougher.state.floatbank10_d_level             0.002732\n",
      "rougher.state.floatbank10_e_air               0.002903\n",
      "rougher.state.floatbank10_e_level             0.002732\n",
      "rougher.state.floatbank10_f_air               0.002903\n",
      "rougher.state.floatbank10_f_level             0.002732\n",
      "secondary_cleaner.state.floatbank2_a_air      0.003415\n",
      "secondary_cleaner.state.floatbank2_a_level    0.002732\n",
      "secondary_cleaner.state.floatbank2_b_air      0.003928\n",
      "secondary_cleaner.state.floatbank2_b_level    0.002732\n",
      "secondary_cleaner.state.floatbank3_a_air      0.005806\n",
      "secondary_cleaner.state.floatbank3_a_level    0.002732\n",
      "secondary_cleaner.state.floatbank3_b_air      0.002732\n",
      "secondary_cleaner.state.floatbank3_b_level    0.002732\n",
      "secondary_cleaner.state.floatbank4_a_air      0.002732\n",
      "secondary_cleaner.state.floatbank4_a_level    0.002732\n",
      "secondary_cleaner.state.floatbank4_b_air      0.002732\n",
      "secondary_cleaner.state.floatbank4_b_level    0.002732\n",
      "secondary_cleaner.state.floatbank5_a_air      0.002732\n",
      "secondary_cleaner.state.floatbank5_a_level    0.002732\n",
      "secondary_cleaner.state.floatbank5_b_air      0.002732\n",
      "secondary_cleaner.state.floatbank5_b_level    0.002732\n",
      "secondary_cleaner.state.floatbank6_a_air      0.002732\n",
      "secondary_cleaner.state.floatbank6_a_level    0.002732\n",
      "dtype: float64\n",
      "Количество пропусков в каждом столбце\n",
      "date                                          0.000000\n",
      "primary_cleaner.input.sulfate                 0.051571\n",
      "primary_cleaner.input.depressant              0.048497\n",
      "primary_cleaner.input.feed_size               0.000000\n",
      "primary_cleaner.input.xanthate                0.028347\n",
      "primary_cleaner.state.floatbank8_a_air        0.002732\n",
      "primary_cleaner.state.floatbank8_a_level      0.002732\n",
      "primary_cleaner.state.floatbank8_b_air        0.002732\n",
      "primary_cleaner.state.floatbank8_b_level      0.002732\n",
      "primary_cleaner.state.floatbank8_c_air        0.002732\n",
      "primary_cleaner.state.floatbank8_c_level      0.002732\n",
      "primary_cleaner.state.floatbank8_d_air        0.002732\n",
      "primary_cleaner.state.floatbank8_d_level      0.002732\n",
      "rougher.input.feed_ag                         0.002732\n",
      "rougher.input.feed_pb                         0.002732\n",
      "rougher.input.feed_rate                       0.006831\n",
      "rougher.input.feed_size                       0.003757\n",
      "rougher.input.feed_sol                        0.011441\n",
      "rougher.input.feed_au                         0.002732\n",
      "rougher.input.floatbank10_sulfate             0.043887\n",
      "rougher.input.floatbank10_xanthate            0.021004\n",
      "rougher.input.floatbank11_sulfate             0.009392\n",
      "rougher.input.floatbank11_xanthate            0.060280\n",
      "rougher.state.floatbank10_a_air               0.002903\n",
      "rougher.state.floatbank10_a_level             0.002732\n",
      "rougher.state.floatbank10_b_air               0.002903\n",
      "rougher.state.floatbank10_b_level             0.002732\n",
      "rougher.state.floatbank10_c_air               0.002903\n",
      "rougher.state.floatbank10_c_level             0.002732\n",
      "rougher.state.floatbank10_d_air               0.002903\n",
      "rougher.state.floatbank10_d_level             0.002732\n",
      "rougher.state.floatbank10_e_air               0.002903\n",
      "rougher.state.floatbank10_e_level             0.002732\n",
      "rougher.state.floatbank10_f_air               0.002903\n",
      "rougher.state.floatbank10_f_level             0.002732\n",
      "secondary_cleaner.state.floatbank2_a_air      0.003415\n",
      "secondary_cleaner.state.floatbank2_a_level    0.002732\n",
      "secondary_cleaner.state.floatbank2_b_air      0.003928\n",
      "secondary_cleaner.state.floatbank2_b_level    0.002732\n",
      "secondary_cleaner.state.floatbank3_a_air      0.005806\n",
      "secondary_cleaner.state.floatbank3_a_level    0.002732\n",
      "secondary_cleaner.state.floatbank3_b_air      0.002732\n",
      "secondary_cleaner.state.floatbank3_b_level    0.002732\n",
      "secondary_cleaner.state.floatbank4_a_air      0.002732\n",
      "secondary_cleaner.state.floatbank4_a_level    0.002732\n",
      "secondary_cleaner.state.floatbank4_b_air      0.002732\n",
      "secondary_cleaner.state.floatbank4_b_level    0.002732\n",
      "secondary_cleaner.state.floatbank5_a_air      0.002732\n",
      "secondary_cleaner.state.floatbank5_a_level    0.002732\n",
      "secondary_cleaner.state.floatbank5_b_air      0.002732\n",
      "secondary_cleaner.state.floatbank5_b_level    0.002732\n",
      "secondary_cleaner.state.floatbank6_a_air      0.002732\n",
      "secondary_cleaner.state.floatbank6_a_level    0.002732\n",
      "dtype: float64\n",
      "Количество пропусков в каждом столбце\n",
      "date                                          0.000000\n",
      "primary_cleaner.input.sulfate                 0.051571\n",
      "primary_cleaner.input.depressant              0.048497\n",
      "primary_cleaner.input.feed_size               0.000000\n",
      "primary_cleaner.input.xanthate                0.028347\n",
      "primary_cleaner.state.floatbank8_a_air        0.002732\n",
      "primary_cleaner.state.floatbank8_a_level      0.002732\n",
      "primary_cleaner.state.floatbank8_b_air        0.002732\n",
      "primary_cleaner.state.floatbank8_b_level      0.002732\n",
      "primary_cleaner.state.floatbank8_c_air        0.002732\n",
      "primary_cleaner.state.floatbank8_c_level      0.002732\n",
      "primary_cleaner.state.floatbank8_d_air        0.002732\n",
      "primary_cleaner.state.floatbank8_d_level      0.002732\n",
      "rougher.input.feed_ag                         0.002732\n",
      "rougher.input.feed_pb                         0.002732\n",
      "rougher.input.feed_rate                       0.006831\n",
      "rougher.input.feed_size                       0.003757\n",
      "rougher.input.feed_sol                        0.011441\n",
      "rougher.input.feed_au                         0.002732\n",
      "rougher.input.floatbank10_sulfate             0.043887\n",
      "rougher.input.floatbank10_xanthate            0.021004\n",
      "rougher.input.floatbank11_sulfate             0.009392\n",
      "rougher.input.floatbank11_xanthate            0.060280\n",
      "rougher.state.floatbank10_a_air               0.002903\n",
      "rougher.state.floatbank10_a_level             0.002732\n",
      "rougher.state.floatbank10_b_air               0.002903\n",
      "rougher.state.floatbank10_b_level             0.002732\n",
      "rougher.state.floatbank10_c_air               0.002903\n",
      "rougher.state.floatbank10_c_level             0.002732\n",
      "rougher.state.floatbank10_d_air               0.002903\n",
      "rougher.state.floatbank10_d_level             0.002732\n",
      "rougher.state.floatbank10_e_air               0.002903\n",
      "rougher.state.floatbank10_e_level             0.002732\n",
      "rougher.state.floatbank10_f_air               0.002903\n",
      "rougher.state.floatbank10_f_level             0.002732\n",
      "secondary_cleaner.state.floatbank2_a_air      0.003415\n",
      "secondary_cleaner.state.floatbank2_a_level    0.002732\n",
      "secondary_cleaner.state.floatbank2_b_air      0.003928\n",
      "secondary_cleaner.state.floatbank2_b_level    0.002732\n",
      "secondary_cleaner.state.floatbank3_a_air      0.005806\n",
      "secondary_cleaner.state.floatbank3_a_level    0.002732\n",
      "secondary_cleaner.state.floatbank3_b_air      0.002732\n",
      "secondary_cleaner.state.floatbank3_b_level    0.002732\n",
      "secondary_cleaner.state.floatbank4_a_air      0.002732\n",
      "secondary_cleaner.state.floatbank4_a_level    0.002732\n",
      "secondary_cleaner.state.floatbank4_b_air      0.002732\n",
      "secondary_cleaner.state.floatbank4_b_level    0.002732\n",
      "secondary_cleaner.state.floatbank5_a_air      0.002732\n",
      "secondary_cleaner.state.floatbank5_a_level    0.002732\n",
      "secondary_cleaner.state.floatbank5_b_air      0.002732\n",
      "secondary_cleaner.state.floatbank5_b_level    0.002732\n",
      "secondary_cleaner.state.floatbank6_a_air      0.002732\n",
      "secondary_cleaner.state.floatbank6_a_level    0.002732\n",
      "dtype: float64\n",
      "Количество пропусков в каждом столбце\n",
      "date                                          0.000000\n",
      "primary_cleaner.input.sulfate                 0.051571\n",
      "primary_cleaner.input.depressant              0.048497\n",
      "primary_cleaner.input.feed_size               0.000000\n",
      "primary_cleaner.input.xanthate                0.028347\n",
      "primary_cleaner.state.floatbank8_a_air        0.002732\n",
      "primary_cleaner.state.floatbank8_a_level      0.002732\n",
      "primary_cleaner.state.floatbank8_b_air        0.002732\n",
      "primary_cleaner.state.floatbank8_b_level      0.002732\n",
      "primary_cleaner.state.floatbank8_c_air        0.002732\n",
      "primary_cleaner.state.floatbank8_c_level      0.002732\n",
      "primary_cleaner.state.floatbank8_d_air        0.002732\n",
      "primary_cleaner.state.floatbank8_d_level      0.002732\n",
      "rougher.input.feed_ag                         0.002732\n",
      "rougher.input.feed_pb                         0.002732\n",
      "rougher.input.feed_rate                       0.006831\n",
      "rougher.input.feed_size                       0.003757\n",
      "rougher.input.feed_sol                        0.011441\n",
      "rougher.input.feed_au                         0.002732\n",
      "rougher.input.floatbank10_sulfate             0.043887\n",
      "rougher.input.floatbank10_xanthate            0.021004\n",
      "rougher.input.floatbank11_sulfate             0.009392\n",
      "rougher.input.floatbank11_xanthate            0.060280\n",
      "rougher.state.floatbank10_a_air               0.002903\n",
      "rougher.state.floatbank10_a_level             0.002732\n",
      "rougher.state.floatbank10_b_air               0.002903\n",
      "rougher.state.floatbank10_b_level             0.002732\n",
      "rougher.state.floatbank10_c_air               0.002903\n",
      "rougher.state.floatbank10_c_level             0.002732\n",
      "rougher.state.floatbank10_d_air               0.002903\n",
      "rougher.state.floatbank10_d_level             0.002732\n",
      "rougher.state.floatbank10_e_air               0.002903\n",
      "rougher.state.floatbank10_e_level             0.002732\n",
      "rougher.state.floatbank10_f_air               0.002903\n",
      "rougher.state.floatbank10_f_level             0.002732\n",
      "secondary_cleaner.state.floatbank2_a_air      0.003415\n",
      "secondary_cleaner.state.floatbank2_a_level    0.002732\n",
      "secondary_cleaner.state.floatbank2_b_air      0.003928\n",
      "secondary_cleaner.state.floatbank2_b_level    0.002732\n",
      "secondary_cleaner.state.floatbank3_a_air      0.005806\n",
      "secondary_cleaner.state.floatbank3_a_level    0.002732\n",
      "secondary_cleaner.state.floatbank3_b_air      0.002732\n",
      "secondary_cleaner.state.floatbank3_b_level    0.002732\n",
      "secondary_cleaner.state.floatbank4_a_air      0.002732\n",
      "secondary_cleaner.state.floatbank4_a_level    0.002732\n",
      "secondary_cleaner.state.floatbank4_b_air      0.002732\n",
      "secondary_cleaner.state.floatbank4_b_level    0.002732\n",
      "secondary_cleaner.state.floatbank5_a_air      0.002732\n",
      "secondary_cleaner.state.floatbank5_a_level    0.002732\n",
      "secondary_cleaner.state.floatbank5_b_air      0.002732\n",
      "secondary_cleaner.state.floatbank5_b_level    0.002732\n",
      "secondary_cleaner.state.floatbank6_a_air      0.002732\n",
      "secondary_cleaner.state.floatbank6_a_level    0.002732\n",
      "dtype: float64\n",
      "Количество пропусков в каждом столбце\n",
      "date                                          0.000000\n",
      "primary_cleaner.input.sulfate                 0.051571\n",
      "primary_cleaner.input.depressant              0.048497\n",
      "primary_cleaner.input.feed_size               0.000000\n",
      "primary_cleaner.input.xanthate                0.028347\n",
      "primary_cleaner.state.floatbank8_a_air        0.002732\n",
      "primary_cleaner.state.floatbank8_a_level      0.002732\n",
      "primary_cleaner.state.floatbank8_b_air        0.002732\n",
      "primary_cleaner.state.floatbank8_b_level      0.002732\n",
      "primary_cleaner.state.floatbank8_c_air        0.002732\n",
      "primary_cleaner.state.floatbank8_c_level      0.002732\n",
      "primary_cleaner.state.floatbank8_d_air        0.002732\n",
      "primary_cleaner.state.floatbank8_d_level      0.002732\n",
      "rougher.input.feed_ag                         0.002732\n",
      "rougher.input.feed_pb                         0.002732\n",
      "rougher.input.feed_rate                       0.006831\n",
      "rougher.input.feed_size                       0.003757\n",
      "rougher.input.feed_sol                        0.011441\n",
      "rougher.input.feed_au                         0.002732\n",
      "rougher.input.floatbank10_sulfate             0.043887\n",
      "rougher.input.floatbank10_xanthate            0.021004\n",
      "rougher.input.floatbank11_sulfate             0.009392\n",
      "rougher.input.floatbank11_xanthate            0.060280\n",
      "rougher.state.floatbank10_a_air               0.002903\n",
      "rougher.state.floatbank10_a_level             0.002732\n",
      "rougher.state.floatbank10_b_air               0.002903\n",
      "rougher.state.floatbank10_b_level             0.002732\n",
      "rougher.state.floatbank10_c_air               0.002903\n",
      "rougher.state.floatbank10_c_level             0.002732\n",
      "rougher.state.floatbank10_d_air               0.002903\n",
      "rougher.state.floatbank10_d_level             0.002732\n",
      "rougher.state.floatbank10_e_air               0.002903\n",
      "rougher.state.floatbank10_e_level             0.002732\n",
      "rougher.state.floatbank10_f_air               0.002903\n",
      "rougher.state.floatbank10_f_level             0.002732\n",
      "secondary_cleaner.state.floatbank2_a_air      0.003415\n",
      "secondary_cleaner.state.floatbank2_a_level    0.002732\n",
      "secondary_cleaner.state.floatbank2_b_air      0.003928\n",
      "secondary_cleaner.state.floatbank2_b_level    0.002732\n",
      "secondary_cleaner.state.floatbank3_a_air      0.005806\n",
      "secondary_cleaner.state.floatbank3_a_level    0.002732\n",
      "secondary_cleaner.state.floatbank3_b_air      0.002732\n",
      "secondary_cleaner.state.floatbank3_b_level    0.002732\n",
      "secondary_cleaner.state.floatbank4_a_air      0.002732\n",
      "secondary_cleaner.state.floatbank4_a_level    0.002732\n",
      "secondary_cleaner.state.floatbank4_b_air      0.002732\n",
      "secondary_cleaner.state.floatbank4_b_level    0.002732\n",
      "secondary_cleaner.state.floatbank5_a_air      0.002732\n",
      "secondary_cleaner.state.floatbank5_a_level    0.002732\n",
      "secondary_cleaner.state.floatbank5_b_air      0.002732\n",
      "secondary_cleaner.state.floatbank5_b_level    0.002732\n",
      "secondary_cleaner.state.floatbank6_a_air      0.002732\n",
      "secondary_cleaner.state.floatbank6_a_level    0.002732\n",
      "dtype: float64\n",
      "Количество пропусков в каждом столбце\n",
      "date                                          0.000000\n",
      "primary_cleaner.input.sulfate                 0.051571\n",
      "primary_cleaner.input.depressant              0.048497\n",
      "primary_cleaner.input.feed_size               0.000000\n",
      "primary_cleaner.input.xanthate                0.028347\n",
      "primary_cleaner.state.floatbank8_a_air        0.002732\n",
      "primary_cleaner.state.floatbank8_a_level      0.002732\n",
      "primary_cleaner.state.floatbank8_b_air        0.002732\n",
      "primary_cleaner.state.floatbank8_b_level      0.002732\n",
      "primary_cleaner.state.floatbank8_c_air        0.002732\n",
      "primary_cleaner.state.floatbank8_c_level      0.002732\n",
      "primary_cleaner.state.floatbank8_d_air        0.002732\n",
      "primary_cleaner.state.floatbank8_d_level      0.002732\n",
      "rougher.input.feed_ag                         0.002732\n",
      "rougher.input.feed_pb                         0.002732\n",
      "rougher.input.feed_rate                       0.006831\n",
      "rougher.input.feed_size                       0.003757\n",
      "rougher.input.feed_sol                        0.011441\n",
      "rougher.input.feed_au                         0.002732\n",
      "rougher.input.floatbank10_sulfate             0.043887\n",
      "rougher.input.floatbank10_xanthate            0.021004\n",
      "rougher.input.floatbank11_sulfate             0.009392\n",
      "rougher.input.floatbank11_xanthate            0.060280\n",
      "rougher.state.floatbank10_a_air               0.002903\n",
      "rougher.state.floatbank10_a_level             0.002732\n",
      "rougher.state.floatbank10_b_air               0.002903\n",
      "rougher.state.floatbank10_b_level             0.002732\n",
      "rougher.state.floatbank10_c_air               0.002903\n",
      "rougher.state.floatbank10_c_level             0.002732\n",
      "rougher.state.floatbank10_d_air               0.002903\n",
      "rougher.state.floatbank10_d_level             0.002732\n",
      "rougher.state.floatbank10_e_air               0.002903\n",
      "rougher.state.floatbank10_e_level             0.002732\n",
      "rougher.state.floatbank10_f_air               0.002903\n",
      "rougher.state.floatbank10_f_level             0.002732\n",
      "secondary_cleaner.state.floatbank2_a_air      0.003415\n",
      "secondary_cleaner.state.floatbank2_a_level    0.002732\n",
      "secondary_cleaner.state.floatbank2_b_air      0.003928\n",
      "secondary_cleaner.state.floatbank2_b_level    0.002732\n",
      "secondary_cleaner.state.floatbank3_a_air      0.005806\n",
      "secondary_cleaner.state.floatbank3_a_level    0.002732\n",
      "secondary_cleaner.state.floatbank3_b_air      0.002732\n",
      "secondary_cleaner.state.floatbank3_b_level    0.002732\n",
      "secondary_cleaner.state.floatbank4_a_air      0.002732\n",
      "secondary_cleaner.state.floatbank4_a_level    0.002732\n",
      "secondary_cleaner.state.floatbank4_b_air      0.002732\n",
      "secondary_cleaner.state.floatbank4_b_level    0.002732\n",
      "secondary_cleaner.state.floatbank5_a_air      0.002732\n",
      "secondary_cleaner.state.floatbank5_a_level    0.002732\n",
      "secondary_cleaner.state.floatbank5_b_air      0.002732\n",
      "secondary_cleaner.state.floatbank5_b_level    0.002732\n",
      "secondary_cleaner.state.floatbank6_a_air      0.002732\n",
      "secondary_cleaner.state.floatbank6_a_level    0.002732\n",
      "dtype: float64\n",
      "Количество пропусков в каждом столбце\n",
      "date                                          0.000000\n",
      "primary_cleaner.input.sulfate                 0.051571\n",
      "primary_cleaner.input.depressant              0.048497\n",
      "primary_cleaner.input.feed_size               0.000000\n",
      "primary_cleaner.input.xanthate                0.028347\n",
      "primary_cleaner.state.floatbank8_a_air        0.002732\n",
      "primary_cleaner.state.floatbank8_a_level      0.002732\n",
      "primary_cleaner.state.floatbank8_b_air        0.002732\n",
      "primary_cleaner.state.floatbank8_b_level      0.002732\n",
      "primary_cleaner.state.floatbank8_c_air        0.002732\n",
      "primary_cleaner.state.floatbank8_c_level      0.002732\n",
      "primary_cleaner.state.floatbank8_d_air        0.002732\n",
      "primary_cleaner.state.floatbank8_d_level      0.002732\n",
      "rougher.input.feed_ag                         0.002732\n",
      "rougher.input.feed_pb                         0.002732\n",
      "rougher.input.feed_rate                       0.006831\n",
      "rougher.input.feed_size                       0.003757\n",
      "rougher.input.feed_sol                        0.011441\n",
      "rougher.input.feed_au                         0.002732\n",
      "rougher.input.floatbank10_sulfate             0.043887\n",
      "rougher.input.floatbank10_xanthate            0.021004\n",
      "rougher.input.floatbank11_sulfate             0.009392\n",
      "rougher.input.floatbank11_xanthate            0.060280\n",
      "rougher.state.floatbank10_a_air               0.002903\n",
      "rougher.state.floatbank10_a_level             0.002732\n",
      "rougher.state.floatbank10_b_air               0.002903\n",
      "rougher.state.floatbank10_b_level             0.002732\n",
      "rougher.state.floatbank10_c_air               0.002903\n",
      "rougher.state.floatbank10_c_level             0.002732\n",
      "rougher.state.floatbank10_d_air               0.002903\n",
      "rougher.state.floatbank10_d_level             0.002732\n",
      "rougher.state.floatbank10_e_air               0.002903\n",
      "rougher.state.floatbank10_e_level             0.002732\n",
      "rougher.state.floatbank10_f_air               0.002903\n",
      "rougher.state.floatbank10_f_level             0.002732\n",
      "secondary_cleaner.state.floatbank2_a_air      0.003415\n",
      "secondary_cleaner.state.floatbank2_a_level    0.002732\n",
      "secondary_cleaner.state.floatbank2_b_air      0.003928\n",
      "secondary_cleaner.state.floatbank2_b_level    0.002732\n",
      "secondary_cleaner.state.floatbank3_a_air      0.005806\n",
      "secondary_cleaner.state.floatbank3_a_level    0.002732\n",
      "secondary_cleaner.state.floatbank3_b_air      0.002732\n",
      "secondary_cleaner.state.floatbank3_b_level    0.002732\n",
      "secondary_cleaner.state.floatbank4_a_air      0.002732\n",
      "secondary_cleaner.state.floatbank4_a_level    0.002732\n",
      "secondary_cleaner.state.floatbank4_b_air      0.002732\n",
      "secondary_cleaner.state.floatbank4_b_level    0.002732\n",
      "secondary_cleaner.state.floatbank5_a_air      0.002732\n",
      "secondary_cleaner.state.floatbank5_a_level    0.002732\n",
      "secondary_cleaner.state.floatbank5_b_air      0.002732\n",
      "secondary_cleaner.state.floatbank5_b_level    0.002732\n",
      "secondary_cleaner.state.floatbank6_a_air      0.002732\n",
      "secondary_cleaner.state.floatbank6_a_level    0.002732\n",
      "dtype: float64\n",
      "Количество пропусков в каждом столбце\n",
      "date                                          0.000000\n",
      "primary_cleaner.input.sulfate                 0.051571\n",
      "primary_cleaner.input.depressant              0.048497\n",
      "primary_cleaner.input.feed_size               0.000000\n",
      "primary_cleaner.input.xanthate                0.028347\n",
      "primary_cleaner.state.floatbank8_a_air        0.002732\n",
      "primary_cleaner.state.floatbank8_a_level      0.002732\n",
      "primary_cleaner.state.floatbank8_b_air        0.002732\n",
      "primary_cleaner.state.floatbank8_b_level      0.002732\n",
      "primary_cleaner.state.floatbank8_c_air        0.002732\n",
      "primary_cleaner.state.floatbank8_c_level      0.002732\n",
      "primary_cleaner.state.floatbank8_d_air        0.002732\n",
      "primary_cleaner.state.floatbank8_d_level      0.002732\n",
      "rougher.input.feed_ag                         0.002732\n",
      "rougher.input.feed_pb                         0.002732\n",
      "rougher.input.feed_rate                       0.006831\n",
      "rougher.input.feed_size                       0.003757\n",
      "rougher.input.feed_sol                        0.011441\n",
      "rougher.input.feed_au                         0.002732\n",
      "rougher.input.floatbank10_sulfate             0.043887\n",
      "rougher.input.floatbank10_xanthate            0.021004\n",
      "rougher.input.floatbank11_sulfate             0.009392\n",
      "rougher.input.floatbank11_xanthate            0.060280\n",
      "rougher.state.floatbank10_a_air               0.002903\n",
      "rougher.state.floatbank10_a_level             0.002732\n",
      "rougher.state.floatbank10_b_air               0.002903\n",
      "rougher.state.floatbank10_b_level             0.002732\n",
      "rougher.state.floatbank10_c_air               0.002903\n",
      "rougher.state.floatbank10_c_level             0.002732\n",
      "rougher.state.floatbank10_d_air               0.002903\n",
      "rougher.state.floatbank10_d_level             0.002732\n",
      "rougher.state.floatbank10_e_air               0.002903\n",
      "rougher.state.floatbank10_e_level             0.002732\n",
      "rougher.state.floatbank10_f_air               0.002903\n",
      "rougher.state.floatbank10_f_level             0.002732\n",
      "secondary_cleaner.state.floatbank2_a_air      0.003415\n",
      "secondary_cleaner.state.floatbank2_a_level    0.002732\n",
      "secondary_cleaner.state.floatbank2_b_air      0.003928\n",
      "secondary_cleaner.state.floatbank2_b_level    0.002732\n",
      "secondary_cleaner.state.floatbank3_a_air      0.005806\n",
      "secondary_cleaner.state.floatbank3_a_level    0.002732\n",
      "secondary_cleaner.state.floatbank3_b_air      0.002732\n",
      "secondary_cleaner.state.floatbank3_b_level    0.002732\n",
      "secondary_cleaner.state.floatbank4_a_air      0.002732\n",
      "secondary_cleaner.state.floatbank4_a_level    0.002732\n",
      "secondary_cleaner.state.floatbank4_b_air      0.002732\n",
      "secondary_cleaner.state.floatbank4_b_level    0.002732\n",
      "secondary_cleaner.state.floatbank5_a_air      0.002732\n",
      "secondary_cleaner.state.floatbank5_a_level    0.002732\n",
      "secondary_cleaner.state.floatbank5_b_air      0.002732\n",
      "secondary_cleaner.state.floatbank5_b_level    0.002732\n",
      "secondary_cleaner.state.floatbank6_a_air      0.002732\n",
      "secondary_cleaner.state.floatbank6_a_level    0.002732\n",
      "dtype: float64\n",
      "Количество пропусков в каждом столбце\n",
      "date                                          0.000000\n",
      "primary_cleaner.input.sulfate                 0.051571\n",
      "primary_cleaner.input.depressant              0.048497\n",
      "primary_cleaner.input.feed_size               0.000000\n",
      "primary_cleaner.input.xanthate                0.028347\n",
      "primary_cleaner.state.floatbank8_a_air        0.002732\n",
      "primary_cleaner.state.floatbank8_a_level      0.002732\n",
      "primary_cleaner.state.floatbank8_b_air        0.002732\n",
      "primary_cleaner.state.floatbank8_b_level      0.002732\n",
      "primary_cleaner.state.floatbank8_c_air        0.002732\n",
      "primary_cleaner.state.floatbank8_c_level      0.002732\n",
      "primary_cleaner.state.floatbank8_d_air        0.002732\n",
      "primary_cleaner.state.floatbank8_d_level      0.002732\n",
      "rougher.input.feed_ag                         0.002732\n",
      "rougher.input.feed_pb                         0.002732\n",
      "rougher.input.feed_rate                       0.006831\n",
      "rougher.input.feed_size                       0.003757\n",
      "rougher.input.feed_sol                        0.011441\n",
      "rougher.input.feed_au                         0.002732\n",
      "rougher.input.floatbank10_sulfate             0.043887\n",
      "rougher.input.floatbank10_xanthate            0.021004\n",
      "rougher.input.floatbank11_sulfate             0.009392\n",
      "rougher.input.floatbank11_xanthate            0.060280\n",
      "rougher.state.floatbank10_a_air               0.002903\n",
      "rougher.state.floatbank10_a_level             0.002732\n",
      "rougher.state.floatbank10_b_air               0.002903\n",
      "rougher.state.floatbank10_b_level             0.002732\n",
      "rougher.state.floatbank10_c_air               0.002903\n",
      "rougher.state.floatbank10_c_level             0.002732\n",
      "rougher.state.floatbank10_d_air               0.002903\n",
      "rougher.state.floatbank10_d_level             0.002732\n",
      "rougher.state.floatbank10_e_air               0.002903\n",
      "rougher.state.floatbank10_e_level             0.002732\n",
      "rougher.state.floatbank10_f_air               0.002903\n",
      "rougher.state.floatbank10_f_level             0.002732\n",
      "secondary_cleaner.state.floatbank2_a_air      0.003415\n",
      "secondary_cleaner.state.floatbank2_a_level    0.002732\n",
      "secondary_cleaner.state.floatbank2_b_air      0.003928\n",
      "secondary_cleaner.state.floatbank2_b_level    0.002732\n",
      "secondary_cleaner.state.floatbank3_a_air      0.005806\n",
      "secondary_cleaner.state.floatbank3_a_level    0.002732\n",
      "secondary_cleaner.state.floatbank3_b_air      0.002732\n",
      "secondary_cleaner.state.floatbank3_b_level    0.002732\n",
      "secondary_cleaner.state.floatbank4_a_air      0.002732\n",
      "secondary_cleaner.state.floatbank4_a_level    0.002732\n",
      "secondary_cleaner.state.floatbank4_b_air      0.002732\n",
      "secondary_cleaner.state.floatbank4_b_level    0.002732\n",
      "secondary_cleaner.state.floatbank5_a_air      0.002732\n",
      "secondary_cleaner.state.floatbank5_a_level    0.002732\n",
      "secondary_cleaner.state.floatbank5_b_air      0.002732\n",
      "secondary_cleaner.state.floatbank5_b_level    0.002732\n",
      "secondary_cleaner.state.floatbank6_a_air      0.002732\n",
      "secondary_cleaner.state.floatbank6_a_level    0.002732\n",
      "dtype: float64\n",
      "Количество пропусков в каждом столбце\n",
      "date                                          0.000000\n",
      "primary_cleaner.input.sulfate                 0.051571\n",
      "primary_cleaner.input.depressant              0.048497\n",
      "primary_cleaner.input.feed_size               0.000000\n",
      "primary_cleaner.input.xanthate                0.028347\n",
      "primary_cleaner.state.floatbank8_a_air        0.002732\n",
      "primary_cleaner.state.floatbank8_a_level      0.002732\n",
      "primary_cleaner.state.floatbank8_b_air        0.002732\n",
      "primary_cleaner.state.floatbank8_b_level      0.002732\n",
      "primary_cleaner.state.floatbank8_c_air        0.002732\n",
      "primary_cleaner.state.floatbank8_c_level      0.002732\n",
      "primary_cleaner.state.floatbank8_d_air        0.002732\n",
      "primary_cleaner.state.floatbank8_d_level      0.002732\n",
      "rougher.input.feed_ag                         0.002732\n",
      "rougher.input.feed_pb                         0.002732\n",
      "rougher.input.feed_rate                       0.006831\n",
      "rougher.input.feed_size                       0.003757\n",
      "rougher.input.feed_sol                        0.011441\n",
      "rougher.input.feed_au                         0.002732\n",
      "rougher.input.floatbank10_sulfate             0.043887\n",
      "rougher.input.floatbank10_xanthate            0.021004\n",
      "rougher.input.floatbank11_sulfate             0.009392\n",
      "rougher.input.floatbank11_xanthate            0.060280\n",
      "rougher.state.floatbank10_a_air               0.002903\n",
      "rougher.state.floatbank10_a_level             0.002732\n",
      "rougher.state.floatbank10_b_air               0.002903\n",
      "rougher.state.floatbank10_b_level             0.002732\n",
      "rougher.state.floatbank10_c_air               0.002903\n",
      "rougher.state.floatbank10_c_level             0.002732\n",
      "rougher.state.floatbank10_d_air               0.002903\n",
      "rougher.state.floatbank10_d_level             0.002732\n",
      "rougher.state.floatbank10_e_air               0.002903\n",
      "rougher.state.floatbank10_e_level             0.002732\n",
      "rougher.state.floatbank10_f_air               0.002903\n",
      "rougher.state.floatbank10_f_level             0.002732\n",
      "secondary_cleaner.state.floatbank2_a_air      0.003415\n",
      "secondary_cleaner.state.floatbank2_a_level    0.002732\n",
      "secondary_cleaner.state.floatbank2_b_air      0.003928\n",
      "secondary_cleaner.state.floatbank2_b_level    0.002732\n",
      "secondary_cleaner.state.floatbank3_a_air      0.005806\n",
      "secondary_cleaner.state.floatbank3_a_level    0.002732\n",
      "secondary_cleaner.state.floatbank3_b_air      0.002732\n",
      "secondary_cleaner.state.floatbank3_b_level    0.002732\n",
      "secondary_cleaner.state.floatbank4_a_air      0.002732\n",
      "secondary_cleaner.state.floatbank4_a_level    0.002732\n",
      "secondary_cleaner.state.floatbank4_b_air      0.002732\n",
      "secondary_cleaner.state.floatbank4_b_level    0.002732\n",
      "secondary_cleaner.state.floatbank5_a_air      0.002732\n",
      "secondary_cleaner.state.floatbank5_a_level    0.002732\n",
      "secondary_cleaner.state.floatbank5_b_air      0.002732\n",
      "secondary_cleaner.state.floatbank5_b_level    0.002732\n",
      "secondary_cleaner.state.floatbank6_a_air      0.002732\n",
      "secondary_cleaner.state.floatbank6_a_level    0.002732\n",
      "dtype: float64\n",
      "Количество пропусков в каждом столбце\n",
      "date                                          0.000000\n",
      "primary_cleaner.input.sulfate                 0.051571\n",
      "primary_cleaner.input.depressant              0.048497\n",
      "primary_cleaner.input.feed_size               0.000000\n",
      "primary_cleaner.input.xanthate                0.028347\n",
      "primary_cleaner.state.floatbank8_a_air        0.002732\n",
      "primary_cleaner.state.floatbank8_a_level      0.002732\n",
      "primary_cleaner.state.floatbank8_b_air        0.002732\n",
      "primary_cleaner.state.floatbank8_b_level      0.002732\n",
      "primary_cleaner.state.floatbank8_c_air        0.002732\n",
      "primary_cleaner.state.floatbank8_c_level      0.002732\n",
      "primary_cleaner.state.floatbank8_d_air        0.002732\n",
      "primary_cleaner.state.floatbank8_d_level      0.002732\n",
      "rougher.input.feed_ag                         0.002732\n",
      "rougher.input.feed_pb                         0.002732\n",
      "rougher.input.feed_rate                       0.006831\n",
      "rougher.input.feed_size                       0.003757\n",
      "rougher.input.feed_sol                        0.011441\n",
      "rougher.input.feed_au                         0.002732\n",
      "rougher.input.floatbank10_sulfate             0.043887\n",
      "rougher.input.floatbank10_xanthate            0.021004\n",
      "rougher.input.floatbank11_sulfate             0.009392\n",
      "rougher.input.floatbank11_xanthate            0.060280\n",
      "rougher.state.floatbank10_a_air               0.002903\n",
      "rougher.state.floatbank10_a_level             0.002732\n",
      "rougher.state.floatbank10_b_air               0.002903\n",
      "rougher.state.floatbank10_b_level             0.002732\n",
      "rougher.state.floatbank10_c_air               0.002903\n",
      "rougher.state.floatbank10_c_level             0.002732\n",
      "rougher.state.floatbank10_d_air               0.002903\n",
      "rougher.state.floatbank10_d_level             0.002732\n",
      "rougher.state.floatbank10_e_air               0.002903\n",
      "rougher.state.floatbank10_e_level             0.002732\n",
      "rougher.state.floatbank10_f_air               0.002903\n",
      "rougher.state.floatbank10_f_level             0.002732\n",
      "secondary_cleaner.state.floatbank2_a_air      0.003415\n",
      "secondary_cleaner.state.floatbank2_a_level    0.002732\n",
      "secondary_cleaner.state.floatbank2_b_air      0.003928\n",
      "secondary_cleaner.state.floatbank2_b_level    0.002732\n",
      "secondary_cleaner.state.floatbank3_a_air      0.005806\n",
      "secondary_cleaner.state.floatbank3_a_level    0.002732\n",
      "secondary_cleaner.state.floatbank3_b_air      0.002732\n",
      "secondary_cleaner.state.floatbank3_b_level    0.002732\n",
      "secondary_cleaner.state.floatbank4_a_air      0.002732\n",
      "secondary_cleaner.state.floatbank4_a_level    0.002732\n",
      "secondary_cleaner.state.floatbank4_b_air      0.002732\n",
      "secondary_cleaner.state.floatbank4_b_level    0.002732\n",
      "secondary_cleaner.state.floatbank5_a_air      0.002732\n",
      "secondary_cleaner.state.floatbank5_a_level    0.002732\n",
      "secondary_cleaner.state.floatbank5_b_air      0.002732\n",
      "secondary_cleaner.state.floatbank5_b_level    0.002732\n",
      "secondary_cleaner.state.floatbank6_a_air      0.002732\n",
      "secondary_cleaner.state.floatbank6_a_level    0.002732\n",
      "dtype: float64\n",
      "Количество пропусков в каждом столбце\n",
      "date                                          0.000000\n",
      "primary_cleaner.input.sulfate                 0.051571\n",
      "primary_cleaner.input.depressant              0.048497\n",
      "primary_cleaner.input.feed_size               0.000000\n",
      "primary_cleaner.input.xanthate                0.028347\n",
      "primary_cleaner.state.floatbank8_a_air        0.002732\n",
      "primary_cleaner.state.floatbank8_a_level      0.002732\n",
      "primary_cleaner.state.floatbank8_b_air        0.002732\n",
      "primary_cleaner.state.floatbank8_b_level      0.002732\n",
      "primary_cleaner.state.floatbank8_c_air        0.002732\n",
      "primary_cleaner.state.floatbank8_c_level      0.002732\n",
      "primary_cleaner.state.floatbank8_d_air        0.002732\n",
      "primary_cleaner.state.floatbank8_d_level      0.002732\n",
      "rougher.input.feed_ag                         0.002732\n",
      "rougher.input.feed_pb                         0.002732\n",
      "rougher.input.feed_rate                       0.006831\n",
      "rougher.input.feed_size                       0.003757\n",
      "rougher.input.feed_sol                        0.011441\n",
      "rougher.input.feed_au                         0.002732\n",
      "rougher.input.floatbank10_sulfate             0.043887\n",
      "rougher.input.floatbank10_xanthate            0.021004\n",
      "rougher.input.floatbank11_sulfate             0.009392\n",
      "rougher.input.floatbank11_xanthate            0.060280\n",
      "rougher.state.floatbank10_a_air               0.002903\n",
      "rougher.state.floatbank10_a_level             0.002732\n",
      "rougher.state.floatbank10_b_air               0.002903\n",
      "rougher.state.floatbank10_b_level             0.002732\n",
      "rougher.state.floatbank10_c_air               0.002903\n",
      "rougher.state.floatbank10_c_level             0.002732\n",
      "rougher.state.floatbank10_d_air               0.002903\n",
      "rougher.state.floatbank10_d_level             0.002732\n",
      "rougher.state.floatbank10_e_air               0.002903\n",
      "rougher.state.floatbank10_e_level             0.002732\n",
      "rougher.state.floatbank10_f_air               0.002903\n",
      "rougher.state.floatbank10_f_level             0.002732\n",
      "secondary_cleaner.state.floatbank2_a_air      0.003415\n",
      "secondary_cleaner.state.floatbank2_a_level    0.002732\n",
      "secondary_cleaner.state.floatbank2_b_air      0.003928\n",
      "secondary_cleaner.state.floatbank2_b_level    0.002732\n",
      "secondary_cleaner.state.floatbank3_a_air      0.005806\n",
      "secondary_cleaner.state.floatbank3_a_level    0.002732\n",
      "secondary_cleaner.state.floatbank3_b_air      0.002732\n",
      "secondary_cleaner.state.floatbank3_b_level    0.002732\n",
      "secondary_cleaner.state.floatbank4_a_air      0.002732\n",
      "secondary_cleaner.state.floatbank4_a_level    0.002732\n",
      "secondary_cleaner.state.floatbank4_b_air      0.002732\n",
      "secondary_cleaner.state.floatbank4_b_level    0.002732\n",
      "secondary_cleaner.state.floatbank5_a_air      0.002732\n",
      "secondary_cleaner.state.floatbank5_a_level    0.002732\n",
      "secondary_cleaner.state.floatbank5_b_air      0.002732\n",
      "secondary_cleaner.state.floatbank5_b_level    0.002732\n",
      "secondary_cleaner.state.floatbank6_a_air      0.002732\n",
      "secondary_cleaner.state.floatbank6_a_level    0.002732\n",
      "dtype: float64\n",
      "Количество пропусков в каждом столбце\n",
      "date                                          0.000000\n",
      "primary_cleaner.input.sulfate                 0.051571\n",
      "primary_cleaner.input.depressant              0.048497\n",
      "primary_cleaner.input.feed_size               0.000000\n",
      "primary_cleaner.input.xanthate                0.028347\n",
      "primary_cleaner.state.floatbank8_a_air        0.002732\n",
      "primary_cleaner.state.floatbank8_a_level      0.002732\n",
      "primary_cleaner.state.floatbank8_b_air        0.002732\n",
      "primary_cleaner.state.floatbank8_b_level      0.002732\n",
      "primary_cleaner.state.floatbank8_c_air        0.002732\n",
      "primary_cleaner.state.floatbank8_c_level      0.002732\n",
      "primary_cleaner.state.floatbank8_d_air        0.002732\n",
      "primary_cleaner.state.floatbank8_d_level      0.002732\n",
      "rougher.input.feed_ag                         0.002732\n",
      "rougher.input.feed_pb                         0.002732\n",
      "rougher.input.feed_rate                       0.006831\n",
      "rougher.input.feed_size                       0.003757\n",
      "rougher.input.feed_sol                        0.011441\n",
      "rougher.input.feed_au                         0.002732\n",
      "rougher.input.floatbank10_sulfate             0.043887\n",
      "rougher.input.floatbank10_xanthate            0.021004\n",
      "rougher.input.floatbank11_sulfate             0.009392\n",
      "rougher.input.floatbank11_xanthate            0.060280\n",
      "rougher.state.floatbank10_a_air               0.002903\n",
      "rougher.state.floatbank10_a_level             0.002732\n",
      "rougher.state.floatbank10_b_air               0.002903\n",
      "rougher.state.floatbank10_b_level             0.002732\n",
      "rougher.state.floatbank10_c_air               0.002903\n",
      "rougher.state.floatbank10_c_level             0.002732\n",
      "rougher.state.floatbank10_d_air               0.002903\n",
      "rougher.state.floatbank10_d_level             0.002732\n",
      "rougher.state.floatbank10_e_air               0.002903\n",
      "rougher.state.floatbank10_e_level             0.002732\n",
      "rougher.state.floatbank10_f_air               0.002903\n",
      "rougher.state.floatbank10_f_level             0.002732\n",
      "secondary_cleaner.state.floatbank2_a_air      0.003415\n",
      "secondary_cleaner.state.floatbank2_a_level    0.002732\n",
      "secondary_cleaner.state.floatbank2_b_air      0.003928\n",
      "secondary_cleaner.state.floatbank2_b_level    0.002732\n",
      "secondary_cleaner.state.floatbank3_a_air      0.005806\n",
      "secondary_cleaner.state.floatbank3_a_level    0.002732\n",
      "secondary_cleaner.state.floatbank3_b_air      0.002732\n",
      "secondary_cleaner.state.floatbank3_b_level    0.002732\n",
      "secondary_cleaner.state.floatbank4_a_air      0.002732\n",
      "secondary_cleaner.state.floatbank4_a_level    0.002732\n",
      "secondary_cleaner.state.floatbank4_b_air      0.002732\n",
      "secondary_cleaner.state.floatbank4_b_level    0.002732\n",
      "secondary_cleaner.state.floatbank5_a_air      0.002732\n",
      "secondary_cleaner.state.floatbank5_a_level    0.002732\n",
      "secondary_cleaner.state.floatbank5_b_air      0.002732\n",
      "secondary_cleaner.state.floatbank5_b_level    0.002732\n",
      "secondary_cleaner.state.floatbank6_a_air      0.002732\n",
      "secondary_cleaner.state.floatbank6_a_level    0.002732\n",
      "dtype: float64\n",
      "Количество пропусков в каждом столбце\n",
      "date                                          0.000000\n",
      "primary_cleaner.input.sulfate                 0.051571\n",
      "primary_cleaner.input.depressant              0.048497\n",
      "primary_cleaner.input.feed_size               0.000000\n",
      "primary_cleaner.input.xanthate                0.028347\n",
      "primary_cleaner.state.floatbank8_a_air        0.002732\n",
      "primary_cleaner.state.floatbank8_a_level      0.002732\n",
      "primary_cleaner.state.floatbank8_b_air        0.002732\n",
      "primary_cleaner.state.floatbank8_b_level      0.002732\n",
      "primary_cleaner.state.floatbank8_c_air        0.002732\n",
      "primary_cleaner.state.floatbank8_c_level      0.002732\n",
      "primary_cleaner.state.floatbank8_d_air        0.002732\n",
      "primary_cleaner.state.floatbank8_d_level      0.002732\n",
      "rougher.input.feed_ag                         0.002732\n",
      "rougher.input.feed_pb                         0.002732\n",
      "rougher.input.feed_rate                       0.006831\n",
      "rougher.input.feed_size                       0.003757\n",
      "rougher.input.feed_sol                        0.011441\n",
      "rougher.input.feed_au                         0.002732\n",
      "rougher.input.floatbank10_sulfate             0.043887\n",
      "rougher.input.floatbank10_xanthate            0.021004\n",
      "rougher.input.floatbank11_sulfate             0.009392\n",
      "rougher.input.floatbank11_xanthate            0.060280\n",
      "rougher.state.floatbank10_a_air               0.002903\n",
      "rougher.state.floatbank10_a_level             0.002732\n",
      "rougher.state.floatbank10_b_air               0.002903\n",
      "rougher.state.floatbank10_b_level             0.002732\n",
      "rougher.state.floatbank10_c_air               0.002903\n",
      "rougher.state.floatbank10_c_level             0.002732\n",
      "rougher.state.floatbank10_d_air               0.002903\n",
      "rougher.state.floatbank10_d_level             0.002732\n",
      "rougher.state.floatbank10_e_air               0.002903\n",
      "rougher.state.floatbank10_e_level             0.002732\n",
      "rougher.state.floatbank10_f_air               0.002903\n",
      "rougher.state.floatbank10_f_level             0.002732\n",
      "secondary_cleaner.state.floatbank2_a_air      0.003415\n",
      "secondary_cleaner.state.floatbank2_a_level    0.002732\n",
      "secondary_cleaner.state.floatbank2_b_air      0.003928\n",
      "secondary_cleaner.state.floatbank2_b_level    0.002732\n",
      "secondary_cleaner.state.floatbank3_a_air      0.005806\n",
      "secondary_cleaner.state.floatbank3_a_level    0.002732\n",
      "secondary_cleaner.state.floatbank3_b_air      0.002732\n",
      "secondary_cleaner.state.floatbank3_b_level    0.002732\n",
      "secondary_cleaner.state.floatbank4_a_air      0.002732\n",
      "secondary_cleaner.state.floatbank4_a_level    0.002732\n",
      "secondary_cleaner.state.floatbank4_b_air      0.002732\n",
      "secondary_cleaner.state.floatbank4_b_level    0.002732\n",
      "secondary_cleaner.state.floatbank5_a_air      0.002732\n",
      "secondary_cleaner.state.floatbank5_a_level    0.002732\n",
      "secondary_cleaner.state.floatbank5_b_air      0.002732\n",
      "secondary_cleaner.state.floatbank5_b_level    0.002732\n",
      "secondary_cleaner.state.floatbank6_a_air      0.002732\n",
      "secondary_cleaner.state.floatbank6_a_level    0.002732\n",
      "dtype: float64\n",
      "Количество пропусков в каждом столбце\n",
      "date                                          0.000000\n",
      "primary_cleaner.input.sulfate                 0.051571\n",
      "primary_cleaner.input.depressant              0.048497\n",
      "primary_cleaner.input.feed_size               0.000000\n",
      "primary_cleaner.input.xanthate                0.028347\n",
      "primary_cleaner.state.floatbank8_a_air        0.002732\n",
      "primary_cleaner.state.floatbank8_a_level      0.002732\n",
      "primary_cleaner.state.floatbank8_b_air        0.002732\n",
      "primary_cleaner.state.floatbank8_b_level      0.002732\n",
      "primary_cleaner.state.floatbank8_c_air        0.002732\n",
      "primary_cleaner.state.floatbank8_c_level      0.002732\n",
      "primary_cleaner.state.floatbank8_d_air        0.002732\n",
      "primary_cleaner.state.floatbank8_d_level      0.002732\n",
      "rougher.input.feed_ag                         0.002732\n",
      "rougher.input.feed_pb                         0.002732\n",
      "rougher.input.feed_rate                       0.006831\n",
      "rougher.input.feed_size                       0.003757\n",
      "rougher.input.feed_sol                        0.011441\n",
      "rougher.input.feed_au                         0.002732\n",
      "rougher.input.floatbank10_sulfate             0.043887\n",
      "rougher.input.floatbank10_xanthate            0.021004\n",
      "rougher.input.floatbank11_sulfate             0.009392\n",
      "rougher.input.floatbank11_xanthate            0.060280\n",
      "rougher.state.floatbank10_a_air               0.002903\n",
      "rougher.state.floatbank10_a_level             0.002732\n",
      "rougher.state.floatbank10_b_air               0.002903\n",
      "rougher.state.floatbank10_b_level             0.002732\n",
      "rougher.state.floatbank10_c_air               0.002903\n",
      "rougher.state.floatbank10_c_level             0.002732\n",
      "rougher.state.floatbank10_d_air               0.002903\n",
      "rougher.state.floatbank10_d_level             0.002732\n",
      "rougher.state.floatbank10_e_air               0.002903\n",
      "rougher.state.floatbank10_e_level             0.002732\n",
      "rougher.state.floatbank10_f_air               0.002903\n",
      "rougher.state.floatbank10_f_level             0.002732\n",
      "secondary_cleaner.state.floatbank2_a_air      0.003415\n",
      "secondary_cleaner.state.floatbank2_a_level    0.002732\n",
      "secondary_cleaner.state.floatbank2_b_air      0.003928\n",
      "secondary_cleaner.state.floatbank2_b_level    0.002732\n",
      "secondary_cleaner.state.floatbank3_a_air      0.005806\n",
      "secondary_cleaner.state.floatbank3_a_level    0.002732\n",
      "secondary_cleaner.state.floatbank3_b_air      0.002732\n",
      "secondary_cleaner.state.floatbank3_b_level    0.002732\n",
      "secondary_cleaner.state.floatbank4_a_air      0.002732\n",
      "secondary_cleaner.state.floatbank4_a_level    0.002732\n",
      "secondary_cleaner.state.floatbank4_b_air      0.002732\n",
      "secondary_cleaner.state.floatbank4_b_level    0.002732\n",
      "secondary_cleaner.state.floatbank5_a_air      0.002732\n",
      "secondary_cleaner.state.floatbank5_a_level    0.002732\n",
      "secondary_cleaner.state.floatbank5_b_air      0.002732\n",
      "secondary_cleaner.state.floatbank5_b_level    0.002732\n",
      "secondary_cleaner.state.floatbank6_a_air      0.002732\n",
      "secondary_cleaner.state.floatbank6_a_level    0.002732\n",
      "dtype: float64\n",
      "Количество пропусков в каждом столбце\n",
      "date                                          0.000000\n",
      "primary_cleaner.input.sulfate                 0.051571\n",
      "primary_cleaner.input.depressant              0.048497\n",
      "primary_cleaner.input.feed_size               0.000000\n",
      "primary_cleaner.input.xanthate                0.028347\n",
      "primary_cleaner.state.floatbank8_a_air        0.002732\n",
      "primary_cleaner.state.floatbank8_a_level      0.002732\n",
      "primary_cleaner.state.floatbank8_b_air        0.002732\n",
      "primary_cleaner.state.floatbank8_b_level      0.002732\n",
      "primary_cleaner.state.floatbank8_c_air        0.002732\n",
      "primary_cleaner.state.floatbank8_c_level      0.002732\n",
      "primary_cleaner.state.floatbank8_d_air        0.002732\n",
      "primary_cleaner.state.floatbank8_d_level      0.002732\n",
      "rougher.input.feed_ag                         0.002732\n",
      "rougher.input.feed_pb                         0.002732\n",
      "rougher.input.feed_rate                       0.006831\n",
      "rougher.input.feed_size                       0.003757\n",
      "rougher.input.feed_sol                        0.011441\n",
      "rougher.input.feed_au                         0.002732\n",
      "rougher.input.floatbank10_sulfate             0.043887\n",
      "rougher.input.floatbank10_xanthate            0.021004\n",
      "rougher.input.floatbank11_sulfate             0.009392\n",
      "rougher.input.floatbank11_xanthate            0.060280\n",
      "rougher.state.floatbank10_a_air               0.002903\n",
      "rougher.state.floatbank10_a_level             0.002732\n",
      "rougher.state.floatbank10_b_air               0.002903\n",
      "rougher.state.floatbank10_b_level             0.002732\n",
      "rougher.state.floatbank10_c_air               0.002903\n",
      "rougher.state.floatbank10_c_level             0.002732\n",
      "rougher.state.floatbank10_d_air               0.002903\n",
      "rougher.state.floatbank10_d_level             0.002732\n",
      "rougher.state.floatbank10_e_air               0.002903\n",
      "rougher.state.floatbank10_e_level             0.002732\n",
      "rougher.state.floatbank10_f_air               0.002903\n",
      "rougher.state.floatbank10_f_level             0.002732\n",
      "secondary_cleaner.state.floatbank2_a_air      0.003415\n",
      "secondary_cleaner.state.floatbank2_a_level    0.002732\n",
      "secondary_cleaner.state.floatbank2_b_air      0.003928\n",
      "secondary_cleaner.state.floatbank2_b_level    0.002732\n",
      "secondary_cleaner.state.floatbank3_a_air      0.005806\n",
      "secondary_cleaner.state.floatbank3_a_level    0.002732\n",
      "secondary_cleaner.state.floatbank3_b_air      0.002732\n",
      "secondary_cleaner.state.floatbank3_b_level    0.002732\n",
      "secondary_cleaner.state.floatbank4_a_air      0.002732\n",
      "secondary_cleaner.state.floatbank4_a_level    0.002732\n",
      "secondary_cleaner.state.floatbank4_b_air      0.002732\n",
      "secondary_cleaner.state.floatbank4_b_level    0.002732\n",
      "secondary_cleaner.state.floatbank5_a_air      0.002732\n",
      "secondary_cleaner.state.floatbank5_a_level    0.002732\n",
      "secondary_cleaner.state.floatbank5_b_air      0.002732\n",
      "secondary_cleaner.state.floatbank5_b_level    0.002732\n",
      "secondary_cleaner.state.floatbank6_a_air      0.002732\n",
      "secondary_cleaner.state.floatbank6_a_level    0.002732\n",
      "dtype: float64\n",
      "Количество пропусков в каждом столбце\n",
      "date                                          0.000000\n",
      "primary_cleaner.input.sulfate                 0.051571\n",
      "primary_cleaner.input.depressant              0.048497\n",
      "primary_cleaner.input.feed_size               0.000000\n",
      "primary_cleaner.input.xanthate                0.028347\n",
      "primary_cleaner.state.floatbank8_a_air        0.002732\n",
      "primary_cleaner.state.floatbank8_a_level      0.002732\n",
      "primary_cleaner.state.floatbank8_b_air        0.002732\n",
      "primary_cleaner.state.floatbank8_b_level      0.002732\n",
      "primary_cleaner.state.floatbank8_c_air        0.002732\n",
      "primary_cleaner.state.floatbank8_c_level      0.002732\n",
      "primary_cleaner.state.floatbank8_d_air        0.002732\n",
      "primary_cleaner.state.floatbank8_d_level      0.002732\n",
      "rougher.input.feed_ag                         0.002732\n",
      "rougher.input.feed_pb                         0.002732\n",
      "rougher.input.feed_rate                       0.006831\n",
      "rougher.input.feed_size                       0.003757\n",
      "rougher.input.feed_sol                        0.011441\n",
      "rougher.input.feed_au                         0.002732\n",
      "rougher.input.floatbank10_sulfate             0.043887\n",
      "rougher.input.floatbank10_xanthate            0.021004\n",
      "rougher.input.floatbank11_sulfate             0.009392\n",
      "rougher.input.floatbank11_xanthate            0.060280\n",
      "rougher.state.floatbank10_a_air               0.002903\n",
      "rougher.state.floatbank10_a_level             0.002732\n",
      "rougher.state.floatbank10_b_air               0.002903\n",
      "rougher.state.floatbank10_b_level             0.002732\n",
      "rougher.state.floatbank10_c_air               0.002903\n",
      "rougher.state.floatbank10_c_level             0.002732\n",
      "rougher.state.floatbank10_d_air               0.002903\n",
      "rougher.state.floatbank10_d_level             0.002732\n",
      "rougher.state.floatbank10_e_air               0.002903\n",
      "rougher.state.floatbank10_e_level             0.002732\n",
      "rougher.state.floatbank10_f_air               0.002903\n",
      "rougher.state.floatbank10_f_level             0.002732\n",
      "secondary_cleaner.state.floatbank2_a_air      0.003415\n",
      "secondary_cleaner.state.floatbank2_a_level    0.002732\n",
      "secondary_cleaner.state.floatbank2_b_air      0.003928\n",
      "secondary_cleaner.state.floatbank2_b_level    0.002732\n",
      "secondary_cleaner.state.floatbank3_a_air      0.005806\n",
      "secondary_cleaner.state.floatbank3_a_level    0.002732\n",
      "secondary_cleaner.state.floatbank3_b_air      0.002732\n",
      "secondary_cleaner.state.floatbank3_b_level    0.002732\n",
      "secondary_cleaner.state.floatbank4_a_air      0.002732\n",
      "secondary_cleaner.state.floatbank4_a_level    0.002732\n",
      "secondary_cleaner.state.floatbank4_b_air      0.002732\n",
      "secondary_cleaner.state.floatbank4_b_level    0.002732\n",
      "secondary_cleaner.state.floatbank5_a_air      0.002732\n",
      "secondary_cleaner.state.floatbank5_a_level    0.002732\n",
      "secondary_cleaner.state.floatbank5_b_air      0.002732\n",
      "secondary_cleaner.state.floatbank5_b_level    0.002732\n",
      "secondary_cleaner.state.floatbank6_a_air      0.002732\n",
      "secondary_cleaner.state.floatbank6_a_level    0.002732\n",
      "dtype: float64\n"
     ]
    }
   ],
   "source": [
    "show_isna(df_test)"
   ]
  },
  {
   "cell_type": "code",
   "execution_count": 24,
   "metadata": {},
   "outputs": [
    {
     "name": "stdout",
     "output_type": "stream",
     "text": [
      "Количество пропусков в каждом столбце\n",
      "date                                          0.000000\n",
      "final.output.concentrate_ag                   0.004270\n",
      "final.output.concentrate_pb                   0.004270\n",
      "final.output.concentrate_sol                  0.021945\n",
      "final.output.concentrate_au                   0.004211\n",
      "                                                ...   \n",
      "secondary_cleaner.state.floatbank5_a_level    0.005042\n",
      "secondary_cleaner.state.floatbank5_b_air      0.005042\n",
      "secondary_cleaner.state.floatbank5_b_level    0.004982\n",
      "secondary_cleaner.state.floatbank6_a_air      0.006109\n",
      "secondary_cleaner.state.floatbank6_a_level    0.005042\n",
      "Length: 87, dtype: float64\n",
      "Количество пропусков в каждом столбце\n",
      "date                                          0.000000\n",
      "final.output.concentrate_ag                   0.004270\n",
      "final.output.concentrate_pb                   0.004270\n",
      "final.output.concentrate_sol                  0.021945\n",
      "final.output.concentrate_au                   0.004211\n",
      "                                                ...   \n",
      "secondary_cleaner.state.floatbank5_a_level    0.005042\n",
      "secondary_cleaner.state.floatbank5_b_air      0.005042\n",
      "secondary_cleaner.state.floatbank5_b_level    0.004982\n",
      "secondary_cleaner.state.floatbank6_a_air      0.006109\n",
      "secondary_cleaner.state.floatbank6_a_level    0.005042\n",
      "Length: 87, dtype: float64\n",
      "Количество пропусков в каждом столбце\n",
      "date                                          0.000000\n",
      "final.output.concentrate_ag                   0.004270\n",
      "final.output.concentrate_pb                   0.004270\n",
      "final.output.concentrate_sol                  0.021945\n",
      "final.output.concentrate_au                   0.004211\n",
      "                                                ...   \n",
      "secondary_cleaner.state.floatbank5_a_level    0.005042\n",
      "secondary_cleaner.state.floatbank5_b_air      0.005042\n",
      "secondary_cleaner.state.floatbank5_b_level    0.004982\n",
      "secondary_cleaner.state.floatbank6_a_air      0.006109\n",
      "secondary_cleaner.state.floatbank6_a_level    0.005042\n",
      "Length: 87, dtype: float64\n",
      "Количество пропусков в каждом столбце\n",
      "date                                          0.000000\n",
      "final.output.concentrate_ag                   0.004270\n",
      "final.output.concentrate_pb                   0.004270\n",
      "final.output.concentrate_sol                  0.021945\n",
      "final.output.concentrate_au                   0.004211\n",
      "                                                ...   \n",
      "secondary_cleaner.state.floatbank5_a_level    0.005042\n",
      "secondary_cleaner.state.floatbank5_b_air      0.005042\n",
      "secondary_cleaner.state.floatbank5_b_level    0.004982\n",
      "secondary_cleaner.state.floatbank6_a_air      0.006109\n",
      "secondary_cleaner.state.floatbank6_a_level    0.005042\n",
      "Length: 87, dtype: float64\n",
      "Количество пропусков в каждом столбце\n",
      "date                                          0.000000\n",
      "final.output.concentrate_ag                   0.004270\n",
      "final.output.concentrate_pb                   0.004270\n",
      "final.output.concentrate_sol                  0.021945\n",
      "final.output.concentrate_au                   0.004211\n",
      "                                                ...   \n",
      "secondary_cleaner.state.floatbank5_a_level    0.005042\n",
      "secondary_cleaner.state.floatbank5_b_air      0.005042\n",
      "secondary_cleaner.state.floatbank5_b_level    0.004982\n",
      "secondary_cleaner.state.floatbank6_a_air      0.006109\n",
      "secondary_cleaner.state.floatbank6_a_level    0.005042\n",
      "Length: 87, dtype: float64\n",
      "Количество пропусков в каждом столбце\n",
      "date                                          0.000000\n",
      "final.output.concentrate_ag                   0.004270\n",
      "final.output.concentrate_pb                   0.004270\n",
      "final.output.concentrate_sol                  0.021945\n",
      "final.output.concentrate_au                   0.004211\n",
      "                                                ...   \n",
      "secondary_cleaner.state.floatbank5_a_level    0.005042\n",
      "secondary_cleaner.state.floatbank5_b_air      0.005042\n",
      "secondary_cleaner.state.floatbank5_b_level    0.004982\n",
      "secondary_cleaner.state.floatbank6_a_air      0.006109\n",
      "secondary_cleaner.state.floatbank6_a_level    0.005042\n",
      "Length: 87, dtype: float64\n",
      "Количество пропусков в каждом столбце\n",
      "date                                          0.000000\n",
      "final.output.concentrate_ag                   0.004270\n",
      "final.output.concentrate_pb                   0.004270\n",
      "final.output.concentrate_sol                  0.021945\n",
      "final.output.concentrate_au                   0.004211\n",
      "                                                ...   \n",
      "secondary_cleaner.state.floatbank5_a_level    0.005042\n",
      "secondary_cleaner.state.floatbank5_b_air      0.005042\n",
      "secondary_cleaner.state.floatbank5_b_level    0.004982\n",
      "secondary_cleaner.state.floatbank6_a_air      0.006109\n",
      "secondary_cleaner.state.floatbank6_a_level    0.005042\n",
      "Length: 87, dtype: float64\n",
      "Количество пропусков в каждом столбце\n",
      "date                                          0.000000\n",
      "final.output.concentrate_ag                   0.004270\n",
      "final.output.concentrate_pb                   0.004270\n",
      "final.output.concentrate_sol                  0.021945\n",
      "final.output.concentrate_au                   0.004211\n",
      "                                                ...   \n",
      "secondary_cleaner.state.floatbank5_a_level    0.005042\n",
      "secondary_cleaner.state.floatbank5_b_air      0.005042\n",
      "secondary_cleaner.state.floatbank5_b_level    0.004982\n",
      "secondary_cleaner.state.floatbank6_a_air      0.006109\n",
      "secondary_cleaner.state.floatbank6_a_level    0.005042\n",
      "Length: 87, dtype: float64\n",
      "Количество пропусков в каждом столбце\n",
      "date                                          0.000000\n",
      "final.output.concentrate_ag                   0.004270\n",
      "final.output.concentrate_pb                   0.004270\n",
      "final.output.concentrate_sol                  0.021945\n",
      "final.output.concentrate_au                   0.004211\n",
      "                                                ...   \n",
      "secondary_cleaner.state.floatbank5_a_level    0.005042\n",
      "secondary_cleaner.state.floatbank5_b_air      0.005042\n",
      "secondary_cleaner.state.floatbank5_b_level    0.004982\n",
      "secondary_cleaner.state.floatbank6_a_air      0.006109\n",
      "secondary_cleaner.state.floatbank6_a_level    0.005042\n",
      "Length: 87, dtype: float64\n",
      "Количество пропусков в каждом столбце\n",
      "date                                          0.000000\n",
      "final.output.concentrate_ag                   0.004270\n",
      "final.output.concentrate_pb                   0.004270\n",
      "final.output.concentrate_sol                  0.021945\n",
      "final.output.concentrate_au                   0.004211\n",
      "                                                ...   \n",
      "secondary_cleaner.state.floatbank5_a_level    0.005042\n",
      "secondary_cleaner.state.floatbank5_b_air      0.005042\n",
      "secondary_cleaner.state.floatbank5_b_level    0.004982\n",
      "secondary_cleaner.state.floatbank6_a_air      0.006109\n",
      "secondary_cleaner.state.floatbank6_a_level    0.005042\n",
      "Length: 87, dtype: float64\n",
      "Количество пропусков в каждом столбце\n",
      "date                                          0.000000\n",
      "final.output.concentrate_ag                   0.004270\n",
      "final.output.concentrate_pb                   0.004270\n",
      "final.output.concentrate_sol                  0.021945\n",
      "final.output.concentrate_au                   0.004211\n",
      "                                                ...   \n",
      "secondary_cleaner.state.floatbank5_a_level    0.005042\n",
      "secondary_cleaner.state.floatbank5_b_air      0.005042\n",
      "secondary_cleaner.state.floatbank5_b_level    0.004982\n",
      "secondary_cleaner.state.floatbank6_a_air      0.006109\n",
      "secondary_cleaner.state.floatbank6_a_level    0.005042\n",
      "Length: 87, dtype: float64\n",
      "Количество пропусков в каждом столбце\n",
      "date                                          0.000000\n",
      "final.output.concentrate_ag                   0.004270\n",
      "final.output.concentrate_pb                   0.004270\n",
      "final.output.concentrate_sol                  0.021945\n",
      "final.output.concentrate_au                   0.004211\n",
      "                                                ...   \n",
      "secondary_cleaner.state.floatbank5_a_level    0.005042\n",
      "secondary_cleaner.state.floatbank5_b_air      0.005042\n",
      "secondary_cleaner.state.floatbank5_b_level    0.004982\n",
      "secondary_cleaner.state.floatbank6_a_air      0.006109\n",
      "secondary_cleaner.state.floatbank6_a_level    0.005042\n",
      "Length: 87, dtype: float64\n",
      "Количество пропусков в каждом столбце\n",
      "date                                          0.000000\n",
      "final.output.concentrate_ag                   0.004270\n",
      "final.output.concentrate_pb                   0.004270\n",
      "final.output.concentrate_sol                  0.021945\n",
      "final.output.concentrate_au                   0.004211\n",
      "                                                ...   \n",
      "secondary_cleaner.state.floatbank5_a_level    0.005042\n",
      "secondary_cleaner.state.floatbank5_b_air      0.005042\n",
      "secondary_cleaner.state.floatbank5_b_level    0.004982\n",
      "secondary_cleaner.state.floatbank6_a_air      0.006109\n",
      "secondary_cleaner.state.floatbank6_a_level    0.005042\n",
      "Length: 87, dtype: float64\n",
      "Количество пропусков в каждом столбце\n",
      "date                                          0.000000\n",
      "final.output.concentrate_ag                   0.004270\n",
      "final.output.concentrate_pb                   0.004270\n",
      "final.output.concentrate_sol                  0.021945\n",
      "final.output.concentrate_au                   0.004211\n",
      "                                                ...   \n",
      "secondary_cleaner.state.floatbank5_a_level    0.005042\n",
      "secondary_cleaner.state.floatbank5_b_air      0.005042\n",
      "secondary_cleaner.state.floatbank5_b_level    0.004982\n",
      "secondary_cleaner.state.floatbank6_a_air      0.006109\n",
      "secondary_cleaner.state.floatbank6_a_level    0.005042\n",
      "Length: 87, dtype: float64\n",
      "Количество пропусков в каждом столбце\n",
      "date                                          0.000000\n",
      "final.output.concentrate_ag                   0.004270\n",
      "final.output.concentrate_pb                   0.004270\n",
      "final.output.concentrate_sol                  0.021945\n",
      "final.output.concentrate_au                   0.004211\n",
      "                                                ...   \n",
      "secondary_cleaner.state.floatbank5_a_level    0.005042\n",
      "secondary_cleaner.state.floatbank5_b_air      0.005042\n",
      "secondary_cleaner.state.floatbank5_b_level    0.004982\n",
      "secondary_cleaner.state.floatbank6_a_air      0.006109\n",
      "secondary_cleaner.state.floatbank6_a_level    0.005042\n",
      "Length: 87, dtype: float64\n",
      "Количество пропусков в каждом столбце\n",
      "date                                          0.000000\n",
      "final.output.concentrate_ag                   0.004270\n",
      "final.output.concentrate_pb                   0.004270\n",
      "final.output.concentrate_sol                  0.021945\n",
      "final.output.concentrate_au                   0.004211\n",
      "                                                ...   \n",
      "secondary_cleaner.state.floatbank5_a_level    0.005042\n",
      "secondary_cleaner.state.floatbank5_b_air      0.005042\n",
      "secondary_cleaner.state.floatbank5_b_level    0.004982\n",
      "secondary_cleaner.state.floatbank6_a_air      0.006109\n",
      "secondary_cleaner.state.floatbank6_a_level    0.005042\n",
      "Length: 87, dtype: float64\n",
      "Количество пропусков в каждом столбце\n",
      "date                                          0.000000\n",
      "final.output.concentrate_ag                   0.004270\n",
      "final.output.concentrate_pb                   0.004270\n",
      "final.output.concentrate_sol                  0.021945\n",
      "final.output.concentrate_au                   0.004211\n",
      "                                                ...   \n",
      "secondary_cleaner.state.floatbank5_a_level    0.005042\n",
      "secondary_cleaner.state.floatbank5_b_air      0.005042\n",
      "secondary_cleaner.state.floatbank5_b_level    0.004982\n",
      "secondary_cleaner.state.floatbank6_a_air      0.006109\n",
      "secondary_cleaner.state.floatbank6_a_level    0.005042\n",
      "Length: 87, dtype: float64\n",
      "Количество пропусков в каждом столбце\n",
      "date                                          0.000000\n",
      "final.output.concentrate_ag                   0.004270\n",
      "final.output.concentrate_pb                   0.004270\n",
      "final.output.concentrate_sol                  0.021945\n",
      "final.output.concentrate_au                   0.004211\n",
      "                                                ...   \n",
      "secondary_cleaner.state.floatbank5_a_level    0.005042\n",
      "secondary_cleaner.state.floatbank5_b_air      0.005042\n",
      "secondary_cleaner.state.floatbank5_b_level    0.004982\n",
      "secondary_cleaner.state.floatbank6_a_air      0.006109\n",
      "secondary_cleaner.state.floatbank6_a_level    0.005042\n",
      "Length: 87, dtype: float64\n",
      "Количество пропусков в каждом столбце\n",
      "date                                          0.000000\n",
      "final.output.concentrate_ag                   0.004270\n",
      "final.output.concentrate_pb                   0.004270\n",
      "final.output.concentrate_sol                  0.021945\n",
      "final.output.concentrate_au                   0.004211\n",
      "                                                ...   \n",
      "secondary_cleaner.state.floatbank5_a_level    0.005042\n",
      "secondary_cleaner.state.floatbank5_b_air      0.005042\n",
      "secondary_cleaner.state.floatbank5_b_level    0.004982\n",
      "secondary_cleaner.state.floatbank6_a_air      0.006109\n",
      "secondary_cleaner.state.floatbank6_a_level    0.005042\n",
      "Length: 87, dtype: float64\n",
      "Количество пропусков в каждом столбце\n",
      "date                                          0.000000\n",
      "final.output.concentrate_ag                   0.004270\n",
      "final.output.concentrate_pb                   0.004270\n",
      "final.output.concentrate_sol                  0.021945\n",
      "final.output.concentrate_au                   0.004211\n",
      "                                                ...   \n",
      "secondary_cleaner.state.floatbank5_a_level    0.005042\n",
      "secondary_cleaner.state.floatbank5_b_air      0.005042\n",
      "secondary_cleaner.state.floatbank5_b_level    0.004982\n",
      "secondary_cleaner.state.floatbank6_a_air      0.006109\n",
      "secondary_cleaner.state.floatbank6_a_level    0.005042\n",
      "Length: 87, dtype: float64\n",
      "Количество пропусков в каждом столбце\n",
      "date                                          0.000000\n",
      "final.output.concentrate_ag                   0.004270\n",
      "final.output.concentrate_pb                   0.004270\n",
      "final.output.concentrate_sol                  0.021945\n",
      "final.output.concentrate_au                   0.004211\n",
      "                                                ...   \n",
      "secondary_cleaner.state.floatbank5_a_level    0.005042\n",
      "secondary_cleaner.state.floatbank5_b_air      0.005042\n",
      "secondary_cleaner.state.floatbank5_b_level    0.004982\n",
      "secondary_cleaner.state.floatbank6_a_air      0.006109\n",
      "secondary_cleaner.state.floatbank6_a_level    0.005042\n",
      "Length: 87, dtype: float64\n",
      "Количество пропусков в каждом столбце\n",
      "date                                          0.000000\n",
      "final.output.concentrate_ag                   0.004270\n",
      "final.output.concentrate_pb                   0.004270\n",
      "final.output.concentrate_sol                  0.021945\n",
      "final.output.concentrate_au                   0.004211\n",
      "                                                ...   \n",
      "secondary_cleaner.state.floatbank5_a_level    0.005042\n",
      "secondary_cleaner.state.floatbank5_b_air      0.005042\n",
      "secondary_cleaner.state.floatbank5_b_level    0.004982\n",
      "secondary_cleaner.state.floatbank6_a_air      0.006109\n",
      "secondary_cleaner.state.floatbank6_a_level    0.005042\n",
      "Length: 87, dtype: float64\n",
      "Количество пропусков в каждом столбце\n",
      "date                                          0.000000\n",
      "final.output.concentrate_ag                   0.004270\n",
      "final.output.concentrate_pb                   0.004270\n",
      "final.output.concentrate_sol                  0.021945\n",
      "final.output.concentrate_au                   0.004211\n",
      "                                                ...   \n",
      "secondary_cleaner.state.floatbank5_a_level    0.005042\n",
      "secondary_cleaner.state.floatbank5_b_air      0.005042\n",
      "secondary_cleaner.state.floatbank5_b_level    0.004982\n",
      "secondary_cleaner.state.floatbank6_a_air      0.006109\n",
      "secondary_cleaner.state.floatbank6_a_level    0.005042\n",
      "Length: 87, dtype: float64\n",
      "Количество пропусков в каждом столбце\n",
      "date                                          0.000000\n",
      "final.output.concentrate_ag                   0.004270\n",
      "final.output.concentrate_pb                   0.004270\n",
      "final.output.concentrate_sol                  0.021945\n",
      "final.output.concentrate_au                   0.004211\n",
      "                                                ...   \n",
      "secondary_cleaner.state.floatbank5_a_level    0.005042\n",
      "secondary_cleaner.state.floatbank5_b_air      0.005042\n",
      "secondary_cleaner.state.floatbank5_b_level    0.004982\n",
      "secondary_cleaner.state.floatbank6_a_air      0.006109\n",
      "secondary_cleaner.state.floatbank6_a_level    0.005042\n",
      "Length: 87, dtype: float64\n",
      "Количество пропусков в каждом столбце\n",
      "date                                          0.000000\n",
      "final.output.concentrate_ag                   0.004270\n",
      "final.output.concentrate_pb                   0.004270\n",
      "final.output.concentrate_sol                  0.021945\n",
      "final.output.concentrate_au                   0.004211\n",
      "                                                ...   \n",
      "secondary_cleaner.state.floatbank5_a_level    0.005042\n",
      "secondary_cleaner.state.floatbank5_b_air      0.005042\n",
      "secondary_cleaner.state.floatbank5_b_level    0.004982\n",
      "secondary_cleaner.state.floatbank6_a_air      0.006109\n",
      "secondary_cleaner.state.floatbank6_a_level    0.005042\n",
      "Length: 87, dtype: float64\n",
      "Количество пропусков в каждом столбце\n",
      "date                                          0.000000\n",
      "final.output.concentrate_ag                   0.004270\n",
      "final.output.concentrate_pb                   0.004270\n",
      "final.output.concentrate_sol                  0.021945\n",
      "final.output.concentrate_au                   0.004211\n",
      "                                                ...   \n",
      "secondary_cleaner.state.floatbank5_a_level    0.005042\n",
      "secondary_cleaner.state.floatbank5_b_air      0.005042\n",
      "secondary_cleaner.state.floatbank5_b_level    0.004982\n",
      "secondary_cleaner.state.floatbank6_a_air      0.006109\n",
      "secondary_cleaner.state.floatbank6_a_level    0.005042\n",
      "Length: 87, dtype: float64\n",
      "Количество пропусков в каждом столбце\n",
      "date                                          0.000000\n",
      "final.output.concentrate_ag                   0.004270\n",
      "final.output.concentrate_pb                   0.004270\n",
      "final.output.concentrate_sol                  0.021945\n",
      "final.output.concentrate_au                   0.004211\n",
      "                                                ...   \n",
      "secondary_cleaner.state.floatbank5_a_level    0.005042\n",
      "secondary_cleaner.state.floatbank5_b_air      0.005042\n",
      "secondary_cleaner.state.floatbank5_b_level    0.004982\n",
      "secondary_cleaner.state.floatbank6_a_air      0.006109\n",
      "secondary_cleaner.state.floatbank6_a_level    0.005042\n",
      "Length: 87, dtype: float64\n",
      "Количество пропусков в каждом столбце\n",
      "date                                          0.000000\n",
      "final.output.concentrate_ag                   0.004270\n",
      "final.output.concentrate_pb                   0.004270\n",
      "final.output.concentrate_sol                  0.021945\n",
      "final.output.concentrate_au                   0.004211\n",
      "                                                ...   \n",
      "secondary_cleaner.state.floatbank5_a_level    0.005042\n",
      "secondary_cleaner.state.floatbank5_b_air      0.005042\n",
      "secondary_cleaner.state.floatbank5_b_level    0.004982\n",
      "secondary_cleaner.state.floatbank6_a_air      0.006109\n",
      "secondary_cleaner.state.floatbank6_a_level    0.005042\n",
      "Length: 87, dtype: float64\n",
      "Количество пропусков в каждом столбце\n",
      "date                                          0.000000\n",
      "final.output.concentrate_ag                   0.004270\n",
      "final.output.concentrate_pb                   0.004270\n",
      "final.output.concentrate_sol                  0.021945\n",
      "final.output.concentrate_au                   0.004211\n",
      "                                                ...   \n",
      "secondary_cleaner.state.floatbank5_a_level    0.005042\n",
      "secondary_cleaner.state.floatbank5_b_air      0.005042\n",
      "secondary_cleaner.state.floatbank5_b_level    0.004982\n",
      "secondary_cleaner.state.floatbank6_a_air      0.006109\n",
      "secondary_cleaner.state.floatbank6_a_level    0.005042\n",
      "Length: 87, dtype: float64\n",
      "Количество пропусков в каждом столбце\n",
      "date                                          0.000000\n",
      "final.output.concentrate_ag                   0.004270\n",
      "final.output.concentrate_pb                   0.004270\n",
      "final.output.concentrate_sol                  0.021945\n",
      "final.output.concentrate_au                   0.004211\n",
      "                                                ...   \n",
      "secondary_cleaner.state.floatbank5_a_level    0.005042\n",
      "secondary_cleaner.state.floatbank5_b_air      0.005042\n",
      "secondary_cleaner.state.floatbank5_b_level    0.004982\n",
      "secondary_cleaner.state.floatbank6_a_air      0.006109\n",
      "secondary_cleaner.state.floatbank6_a_level    0.005042\n",
      "Length: 87, dtype: float64\n",
      "Количество пропусков в каждом столбце\n",
      "date                                          0.000000\n",
      "final.output.concentrate_ag                   0.004270\n",
      "final.output.concentrate_pb                   0.004270\n",
      "final.output.concentrate_sol                  0.021945\n",
      "final.output.concentrate_au                   0.004211\n",
      "                                                ...   \n",
      "secondary_cleaner.state.floatbank5_a_level    0.005042\n",
      "secondary_cleaner.state.floatbank5_b_air      0.005042\n",
      "secondary_cleaner.state.floatbank5_b_level    0.004982\n",
      "secondary_cleaner.state.floatbank6_a_air      0.006109\n",
      "secondary_cleaner.state.floatbank6_a_level    0.005042\n",
      "Length: 87, dtype: float64\n",
      "Количество пропусков в каждом столбце\n",
      "date                                          0.000000\n",
      "final.output.concentrate_ag                   0.004270\n",
      "final.output.concentrate_pb                   0.004270\n",
      "final.output.concentrate_sol                  0.021945\n",
      "final.output.concentrate_au                   0.004211\n",
      "                                                ...   \n",
      "secondary_cleaner.state.floatbank5_a_level    0.005042\n",
      "secondary_cleaner.state.floatbank5_b_air      0.005042\n",
      "secondary_cleaner.state.floatbank5_b_level    0.004982\n",
      "secondary_cleaner.state.floatbank6_a_air      0.006109\n",
      "secondary_cleaner.state.floatbank6_a_level    0.005042\n",
      "Length: 87, dtype: float64\n",
      "Количество пропусков в каждом столбце\n",
      "date                                          0.000000\n",
      "final.output.concentrate_ag                   0.004270\n",
      "final.output.concentrate_pb                   0.004270\n",
      "final.output.concentrate_sol                  0.021945\n",
      "final.output.concentrate_au                   0.004211\n",
      "                                                ...   \n",
      "secondary_cleaner.state.floatbank5_a_level    0.005042\n",
      "secondary_cleaner.state.floatbank5_b_air      0.005042\n",
      "secondary_cleaner.state.floatbank5_b_level    0.004982\n",
      "secondary_cleaner.state.floatbank6_a_air      0.006109\n",
      "secondary_cleaner.state.floatbank6_a_level    0.005042\n",
      "Length: 87, dtype: float64\n",
      "Количество пропусков в каждом столбце\n",
      "date                                          0.000000\n",
      "final.output.concentrate_ag                   0.004270\n",
      "final.output.concentrate_pb                   0.004270\n",
      "final.output.concentrate_sol                  0.021945\n",
      "final.output.concentrate_au                   0.004211\n",
      "                                                ...   \n",
      "secondary_cleaner.state.floatbank5_a_level    0.005042\n",
      "secondary_cleaner.state.floatbank5_b_air      0.005042\n",
      "secondary_cleaner.state.floatbank5_b_level    0.004982\n",
      "secondary_cleaner.state.floatbank6_a_air      0.006109\n",
      "secondary_cleaner.state.floatbank6_a_level    0.005042\n",
      "Length: 87, dtype: float64\n",
      "Количество пропусков в каждом столбце\n",
      "date                                          0.000000\n",
      "final.output.concentrate_ag                   0.004270\n",
      "final.output.concentrate_pb                   0.004270\n",
      "final.output.concentrate_sol                  0.021945\n",
      "final.output.concentrate_au                   0.004211\n",
      "                                                ...   \n",
      "secondary_cleaner.state.floatbank5_a_level    0.005042\n",
      "secondary_cleaner.state.floatbank5_b_air      0.005042\n",
      "secondary_cleaner.state.floatbank5_b_level    0.004982\n",
      "secondary_cleaner.state.floatbank6_a_air      0.006109\n",
      "secondary_cleaner.state.floatbank6_a_level    0.005042\n",
      "Length: 87, dtype: float64\n",
      "Количество пропусков в каждом столбце\n",
      "date                                          0.000000\n",
      "final.output.concentrate_ag                   0.004270\n",
      "final.output.concentrate_pb                   0.004270\n",
      "final.output.concentrate_sol                  0.021945\n",
      "final.output.concentrate_au                   0.004211\n",
      "                                                ...   \n",
      "secondary_cleaner.state.floatbank5_a_level    0.005042\n",
      "secondary_cleaner.state.floatbank5_b_air      0.005042\n",
      "secondary_cleaner.state.floatbank5_b_level    0.004982\n",
      "secondary_cleaner.state.floatbank6_a_air      0.006109\n",
      "secondary_cleaner.state.floatbank6_a_level    0.005042\n",
      "Length: 87, dtype: float64\n",
      "Количество пропусков в каждом столбце\n",
      "date                                          0.000000\n",
      "final.output.concentrate_ag                   0.004270\n",
      "final.output.concentrate_pb                   0.004270\n",
      "final.output.concentrate_sol                  0.021945\n",
      "final.output.concentrate_au                   0.004211\n",
      "                                                ...   \n",
      "secondary_cleaner.state.floatbank5_a_level    0.005042\n",
      "secondary_cleaner.state.floatbank5_b_air      0.005042\n",
      "secondary_cleaner.state.floatbank5_b_level    0.004982\n",
      "secondary_cleaner.state.floatbank6_a_air      0.006109\n",
      "secondary_cleaner.state.floatbank6_a_level    0.005042\n",
      "Length: 87, dtype: float64\n",
      "Количество пропусков в каждом столбце\n",
      "date                                          0.000000\n",
      "final.output.concentrate_ag                   0.004270\n",
      "final.output.concentrate_pb                   0.004270\n",
      "final.output.concentrate_sol                  0.021945\n",
      "final.output.concentrate_au                   0.004211\n",
      "                                                ...   \n",
      "secondary_cleaner.state.floatbank5_a_level    0.005042\n",
      "secondary_cleaner.state.floatbank5_b_air      0.005042\n",
      "secondary_cleaner.state.floatbank5_b_level    0.004982\n",
      "secondary_cleaner.state.floatbank6_a_air      0.006109\n",
      "secondary_cleaner.state.floatbank6_a_level    0.005042\n",
      "Length: 87, dtype: float64\n",
      "Количество пропусков в каждом столбце\n",
      "date                                          0.000000\n",
      "final.output.concentrate_ag                   0.004270\n",
      "final.output.concentrate_pb                   0.004270\n",
      "final.output.concentrate_sol                  0.021945\n",
      "final.output.concentrate_au                   0.004211\n",
      "                                                ...   \n",
      "secondary_cleaner.state.floatbank5_a_level    0.005042\n",
      "secondary_cleaner.state.floatbank5_b_air      0.005042\n",
      "secondary_cleaner.state.floatbank5_b_level    0.004982\n",
      "secondary_cleaner.state.floatbank6_a_air      0.006109\n",
      "secondary_cleaner.state.floatbank6_a_level    0.005042\n",
      "Length: 87, dtype: float64\n",
      "Количество пропусков в каждом столбце\n",
      "date                                          0.000000\n",
      "final.output.concentrate_ag                   0.004270\n",
      "final.output.concentrate_pb                   0.004270\n",
      "final.output.concentrate_sol                  0.021945\n",
      "final.output.concentrate_au                   0.004211\n",
      "                                                ...   \n",
      "secondary_cleaner.state.floatbank5_a_level    0.005042\n",
      "secondary_cleaner.state.floatbank5_b_air      0.005042\n",
      "secondary_cleaner.state.floatbank5_b_level    0.004982\n",
      "secondary_cleaner.state.floatbank6_a_air      0.006109\n",
      "secondary_cleaner.state.floatbank6_a_level    0.005042\n",
      "Length: 87, dtype: float64\n",
      "Количество пропусков в каждом столбце\n",
      "date                                          0.000000\n",
      "final.output.concentrate_ag                   0.004270\n",
      "final.output.concentrate_pb                   0.004270\n",
      "final.output.concentrate_sol                  0.021945\n",
      "final.output.concentrate_au                   0.004211\n",
      "                                                ...   \n",
      "secondary_cleaner.state.floatbank5_a_level    0.005042\n",
      "secondary_cleaner.state.floatbank5_b_air      0.005042\n",
      "secondary_cleaner.state.floatbank5_b_level    0.004982\n",
      "secondary_cleaner.state.floatbank6_a_air      0.006109\n",
      "secondary_cleaner.state.floatbank6_a_level    0.005042\n",
      "Length: 87, dtype: float64\n",
      "Количество пропусков в каждом столбце\n",
      "date                                          0.000000\n",
      "final.output.concentrate_ag                   0.004270\n",
      "final.output.concentrate_pb                   0.004270\n",
      "final.output.concentrate_sol                  0.021945\n",
      "final.output.concentrate_au                   0.004211\n",
      "                                                ...   \n",
      "secondary_cleaner.state.floatbank5_a_level    0.005042\n",
      "secondary_cleaner.state.floatbank5_b_air      0.005042\n",
      "secondary_cleaner.state.floatbank5_b_level    0.004982\n",
      "secondary_cleaner.state.floatbank6_a_air      0.006109\n",
      "secondary_cleaner.state.floatbank6_a_level    0.005042\n",
      "Length: 87, dtype: float64\n",
      "Количество пропусков в каждом столбце\n",
      "date                                          0.000000\n",
      "final.output.concentrate_ag                   0.004270\n",
      "final.output.concentrate_pb                   0.004270\n",
      "final.output.concentrate_sol                  0.021945\n",
      "final.output.concentrate_au                   0.004211\n",
      "                                                ...   \n",
      "secondary_cleaner.state.floatbank5_a_level    0.005042\n",
      "secondary_cleaner.state.floatbank5_b_air      0.005042\n",
      "secondary_cleaner.state.floatbank5_b_level    0.004982\n",
      "secondary_cleaner.state.floatbank6_a_air      0.006109\n",
      "secondary_cleaner.state.floatbank6_a_level    0.005042\n",
      "Length: 87, dtype: float64\n",
      "Количество пропусков в каждом столбце\n",
      "date                                          0.000000\n",
      "final.output.concentrate_ag                   0.004270\n",
      "final.output.concentrate_pb                   0.004270\n",
      "final.output.concentrate_sol                  0.021945\n",
      "final.output.concentrate_au                   0.004211\n",
      "                                                ...   \n",
      "secondary_cleaner.state.floatbank5_a_level    0.005042\n",
      "secondary_cleaner.state.floatbank5_b_air      0.005042\n",
      "secondary_cleaner.state.floatbank5_b_level    0.004982\n",
      "secondary_cleaner.state.floatbank6_a_air      0.006109\n",
      "secondary_cleaner.state.floatbank6_a_level    0.005042\n",
      "Length: 87, dtype: float64\n",
      "Количество пропусков в каждом столбце\n",
      "date                                          0.000000\n",
      "final.output.concentrate_ag                   0.004270\n",
      "final.output.concentrate_pb                   0.004270\n",
      "final.output.concentrate_sol                  0.021945\n",
      "final.output.concentrate_au                   0.004211\n",
      "                                                ...   \n",
      "secondary_cleaner.state.floatbank5_a_level    0.005042\n",
      "secondary_cleaner.state.floatbank5_b_air      0.005042\n",
      "secondary_cleaner.state.floatbank5_b_level    0.004982\n",
      "secondary_cleaner.state.floatbank6_a_air      0.006109\n",
      "secondary_cleaner.state.floatbank6_a_level    0.005042\n",
      "Length: 87, dtype: float64\n",
      "Количество пропусков в каждом столбце\n",
      "date                                          0.000000\n",
      "final.output.concentrate_ag                   0.004270\n",
      "final.output.concentrate_pb                   0.004270\n",
      "final.output.concentrate_sol                  0.021945\n",
      "final.output.concentrate_au                   0.004211\n",
      "                                                ...   \n",
      "secondary_cleaner.state.floatbank5_a_level    0.005042\n",
      "secondary_cleaner.state.floatbank5_b_air      0.005042\n",
      "secondary_cleaner.state.floatbank5_b_level    0.004982\n",
      "secondary_cleaner.state.floatbank6_a_air      0.006109\n",
      "secondary_cleaner.state.floatbank6_a_level    0.005042\n",
      "Length: 87, dtype: float64\n",
      "Количество пропусков в каждом столбце\n",
      "date                                          0.000000\n",
      "final.output.concentrate_ag                   0.004270\n",
      "final.output.concentrate_pb                   0.004270\n",
      "final.output.concentrate_sol                  0.021945\n",
      "final.output.concentrate_au                   0.004211\n",
      "                                                ...   \n",
      "secondary_cleaner.state.floatbank5_a_level    0.005042\n",
      "secondary_cleaner.state.floatbank5_b_air      0.005042\n",
      "secondary_cleaner.state.floatbank5_b_level    0.004982\n",
      "secondary_cleaner.state.floatbank6_a_air      0.006109\n",
      "secondary_cleaner.state.floatbank6_a_level    0.005042\n",
      "Length: 87, dtype: float64\n",
      "Количество пропусков в каждом столбце\n",
      "date                                          0.000000\n",
      "final.output.concentrate_ag                   0.004270\n",
      "final.output.concentrate_pb                   0.004270\n",
      "final.output.concentrate_sol                  0.021945\n",
      "final.output.concentrate_au                   0.004211\n",
      "                                                ...   \n",
      "secondary_cleaner.state.floatbank5_a_level    0.005042\n",
      "secondary_cleaner.state.floatbank5_b_air      0.005042\n",
      "secondary_cleaner.state.floatbank5_b_level    0.004982\n",
      "secondary_cleaner.state.floatbank6_a_air      0.006109\n",
      "secondary_cleaner.state.floatbank6_a_level    0.005042\n",
      "Length: 87, dtype: float64\n",
      "Количество пропусков в каждом столбце\n",
      "date                                          0.000000\n",
      "final.output.concentrate_ag                   0.004270\n",
      "final.output.concentrate_pb                   0.004270\n",
      "final.output.concentrate_sol                  0.021945\n",
      "final.output.concentrate_au                   0.004211\n",
      "                                                ...   \n",
      "secondary_cleaner.state.floatbank5_a_level    0.005042\n",
      "secondary_cleaner.state.floatbank5_b_air      0.005042\n",
      "secondary_cleaner.state.floatbank5_b_level    0.004982\n",
      "secondary_cleaner.state.floatbank6_a_air      0.006109\n",
      "secondary_cleaner.state.floatbank6_a_level    0.005042\n",
      "Length: 87, dtype: float64\n",
      "Количество пропусков в каждом столбце\n",
      "date                                          0.000000\n",
      "final.output.concentrate_ag                   0.004270\n",
      "final.output.concentrate_pb                   0.004270\n",
      "final.output.concentrate_sol                  0.021945\n",
      "final.output.concentrate_au                   0.004211\n",
      "                                                ...   \n",
      "secondary_cleaner.state.floatbank5_a_level    0.005042\n",
      "secondary_cleaner.state.floatbank5_b_air      0.005042\n",
      "secondary_cleaner.state.floatbank5_b_level    0.004982\n",
      "secondary_cleaner.state.floatbank6_a_air      0.006109\n",
      "secondary_cleaner.state.floatbank6_a_level    0.005042\n",
      "Length: 87, dtype: float64\n",
      "Количество пропусков в каждом столбце\n",
      "date                                          0.000000\n",
      "final.output.concentrate_ag                   0.004270\n",
      "final.output.concentrate_pb                   0.004270\n",
      "final.output.concentrate_sol                  0.021945\n",
      "final.output.concentrate_au                   0.004211\n",
      "                                                ...   \n",
      "secondary_cleaner.state.floatbank5_a_level    0.005042\n",
      "secondary_cleaner.state.floatbank5_b_air      0.005042\n",
      "secondary_cleaner.state.floatbank5_b_level    0.004982\n",
      "secondary_cleaner.state.floatbank6_a_air      0.006109\n",
      "secondary_cleaner.state.floatbank6_a_level    0.005042\n",
      "Length: 87, dtype: float64\n",
      "Количество пропусков в каждом столбце\n",
      "date                                          0.000000\n",
      "final.output.concentrate_ag                   0.004270\n",
      "final.output.concentrate_pb                   0.004270\n",
      "final.output.concentrate_sol                  0.021945\n",
      "final.output.concentrate_au                   0.004211\n",
      "                                                ...   \n",
      "secondary_cleaner.state.floatbank5_a_level    0.005042\n",
      "secondary_cleaner.state.floatbank5_b_air      0.005042\n",
      "secondary_cleaner.state.floatbank5_b_level    0.004982\n",
      "secondary_cleaner.state.floatbank6_a_air      0.006109\n",
      "secondary_cleaner.state.floatbank6_a_level    0.005042\n",
      "Length: 87, dtype: float64\n",
      "Количество пропусков в каждом столбце\n",
      "date                                          0.000000\n",
      "final.output.concentrate_ag                   0.004270\n",
      "final.output.concentrate_pb                   0.004270\n",
      "final.output.concentrate_sol                  0.021945\n",
      "final.output.concentrate_au                   0.004211\n",
      "                                                ...   \n",
      "secondary_cleaner.state.floatbank5_a_level    0.005042\n",
      "secondary_cleaner.state.floatbank5_b_air      0.005042\n",
      "secondary_cleaner.state.floatbank5_b_level    0.004982\n",
      "secondary_cleaner.state.floatbank6_a_air      0.006109\n",
      "secondary_cleaner.state.floatbank6_a_level    0.005042\n",
      "Length: 87, dtype: float64\n",
      "Количество пропусков в каждом столбце\n",
      "date                                          0.000000\n",
      "final.output.concentrate_ag                   0.004270\n",
      "final.output.concentrate_pb                   0.004270\n",
      "final.output.concentrate_sol                  0.021945\n",
      "final.output.concentrate_au                   0.004211\n",
      "                                                ...   \n",
      "secondary_cleaner.state.floatbank5_a_level    0.005042\n",
      "secondary_cleaner.state.floatbank5_b_air      0.005042\n",
      "secondary_cleaner.state.floatbank5_b_level    0.004982\n",
      "secondary_cleaner.state.floatbank6_a_air      0.006109\n",
      "secondary_cleaner.state.floatbank6_a_level    0.005042\n",
      "Length: 87, dtype: float64\n",
      "Количество пропусков в каждом столбце\n",
      "date                                          0.000000\n",
      "final.output.concentrate_ag                   0.004270\n",
      "final.output.concentrate_pb                   0.004270\n",
      "final.output.concentrate_sol                  0.021945\n",
      "final.output.concentrate_au                   0.004211\n",
      "                                                ...   \n",
      "secondary_cleaner.state.floatbank5_a_level    0.005042\n",
      "secondary_cleaner.state.floatbank5_b_air      0.005042\n",
      "secondary_cleaner.state.floatbank5_b_level    0.004982\n",
      "secondary_cleaner.state.floatbank6_a_air      0.006109\n",
      "secondary_cleaner.state.floatbank6_a_level    0.005042\n",
      "Length: 87, dtype: float64\n",
      "Количество пропусков в каждом столбце\n",
      "date                                          0.000000\n",
      "final.output.concentrate_ag                   0.004270\n",
      "final.output.concentrate_pb                   0.004270\n",
      "final.output.concentrate_sol                  0.021945\n",
      "final.output.concentrate_au                   0.004211\n",
      "                                                ...   \n",
      "secondary_cleaner.state.floatbank5_a_level    0.005042\n",
      "secondary_cleaner.state.floatbank5_b_air      0.005042\n",
      "secondary_cleaner.state.floatbank5_b_level    0.004982\n",
      "secondary_cleaner.state.floatbank6_a_air      0.006109\n",
      "secondary_cleaner.state.floatbank6_a_level    0.005042\n",
      "Length: 87, dtype: float64\n",
      "Количество пропусков в каждом столбце\n",
      "date                                          0.000000\n",
      "final.output.concentrate_ag                   0.004270\n",
      "final.output.concentrate_pb                   0.004270\n",
      "final.output.concentrate_sol                  0.021945\n",
      "final.output.concentrate_au                   0.004211\n",
      "                                                ...   \n",
      "secondary_cleaner.state.floatbank5_a_level    0.005042\n",
      "secondary_cleaner.state.floatbank5_b_air      0.005042\n",
      "secondary_cleaner.state.floatbank5_b_level    0.004982\n",
      "secondary_cleaner.state.floatbank6_a_air      0.006109\n",
      "secondary_cleaner.state.floatbank6_a_level    0.005042\n",
      "Length: 87, dtype: float64\n",
      "Количество пропусков в каждом столбце\n",
      "date                                          0.000000\n",
      "final.output.concentrate_ag                   0.004270\n",
      "final.output.concentrate_pb                   0.004270\n",
      "final.output.concentrate_sol                  0.021945\n",
      "final.output.concentrate_au                   0.004211\n",
      "                                                ...   \n",
      "secondary_cleaner.state.floatbank5_a_level    0.005042\n",
      "secondary_cleaner.state.floatbank5_b_air      0.005042\n",
      "secondary_cleaner.state.floatbank5_b_level    0.004982\n",
      "secondary_cleaner.state.floatbank6_a_air      0.006109\n",
      "secondary_cleaner.state.floatbank6_a_level    0.005042\n",
      "Length: 87, dtype: float64\n",
      "Количество пропусков в каждом столбце\n",
      "date                                          0.000000\n",
      "final.output.concentrate_ag                   0.004270\n",
      "final.output.concentrate_pb                   0.004270\n",
      "final.output.concentrate_sol                  0.021945\n",
      "final.output.concentrate_au                   0.004211\n",
      "                                                ...   \n",
      "secondary_cleaner.state.floatbank5_a_level    0.005042\n",
      "secondary_cleaner.state.floatbank5_b_air      0.005042\n",
      "secondary_cleaner.state.floatbank5_b_level    0.004982\n",
      "secondary_cleaner.state.floatbank6_a_air      0.006109\n",
      "secondary_cleaner.state.floatbank6_a_level    0.005042\n",
      "Length: 87, dtype: float64\n",
      "Количество пропусков в каждом столбце\n",
      "date                                          0.000000\n",
      "final.output.concentrate_ag                   0.004270\n",
      "final.output.concentrate_pb                   0.004270\n",
      "final.output.concentrate_sol                  0.021945\n",
      "final.output.concentrate_au                   0.004211\n",
      "                                                ...   \n",
      "secondary_cleaner.state.floatbank5_a_level    0.005042\n",
      "secondary_cleaner.state.floatbank5_b_air      0.005042\n",
      "secondary_cleaner.state.floatbank5_b_level    0.004982\n",
      "secondary_cleaner.state.floatbank6_a_air      0.006109\n",
      "secondary_cleaner.state.floatbank6_a_level    0.005042\n",
      "Length: 87, dtype: float64\n",
      "Количество пропусков в каждом столбце\n",
      "date                                          0.000000\n",
      "final.output.concentrate_ag                   0.004270\n",
      "final.output.concentrate_pb                   0.004270\n",
      "final.output.concentrate_sol                  0.021945\n",
      "final.output.concentrate_au                   0.004211\n",
      "                                                ...   \n",
      "secondary_cleaner.state.floatbank5_a_level    0.005042\n",
      "secondary_cleaner.state.floatbank5_b_air      0.005042\n",
      "secondary_cleaner.state.floatbank5_b_level    0.004982\n",
      "secondary_cleaner.state.floatbank6_a_air      0.006109\n",
      "secondary_cleaner.state.floatbank6_a_level    0.005042\n",
      "Length: 87, dtype: float64\n",
      "Количество пропусков в каждом столбце\n",
      "date                                          0.000000\n",
      "final.output.concentrate_ag                   0.004270\n",
      "final.output.concentrate_pb                   0.004270\n",
      "final.output.concentrate_sol                  0.021945\n",
      "final.output.concentrate_au                   0.004211\n",
      "                                                ...   \n",
      "secondary_cleaner.state.floatbank5_a_level    0.005042\n",
      "secondary_cleaner.state.floatbank5_b_air      0.005042\n",
      "secondary_cleaner.state.floatbank5_b_level    0.004982\n",
      "secondary_cleaner.state.floatbank6_a_air      0.006109\n",
      "secondary_cleaner.state.floatbank6_a_level    0.005042\n",
      "Length: 87, dtype: float64\n",
      "Количество пропусков в каждом столбце\n",
      "date                                          0.000000\n",
      "final.output.concentrate_ag                   0.004270\n",
      "final.output.concentrate_pb                   0.004270\n",
      "final.output.concentrate_sol                  0.021945\n",
      "final.output.concentrate_au                   0.004211\n",
      "                                                ...   \n",
      "secondary_cleaner.state.floatbank5_a_level    0.005042\n",
      "secondary_cleaner.state.floatbank5_b_air      0.005042\n",
      "secondary_cleaner.state.floatbank5_b_level    0.004982\n",
      "secondary_cleaner.state.floatbank6_a_air      0.006109\n",
      "secondary_cleaner.state.floatbank6_a_level    0.005042\n",
      "Length: 87, dtype: float64\n",
      "Количество пропусков в каждом столбце\n",
      "date                                          0.000000\n",
      "final.output.concentrate_ag                   0.004270\n",
      "final.output.concentrate_pb                   0.004270\n",
      "final.output.concentrate_sol                  0.021945\n",
      "final.output.concentrate_au                   0.004211\n",
      "                                                ...   \n",
      "secondary_cleaner.state.floatbank5_a_level    0.005042\n",
      "secondary_cleaner.state.floatbank5_b_air      0.005042\n",
      "secondary_cleaner.state.floatbank5_b_level    0.004982\n",
      "secondary_cleaner.state.floatbank6_a_air      0.006109\n",
      "secondary_cleaner.state.floatbank6_a_level    0.005042\n",
      "Length: 87, dtype: float64\n",
      "Количество пропусков в каждом столбце\n",
      "date                                          0.000000\n",
      "final.output.concentrate_ag                   0.004270\n",
      "final.output.concentrate_pb                   0.004270\n",
      "final.output.concentrate_sol                  0.021945\n",
      "final.output.concentrate_au                   0.004211\n",
      "                                                ...   \n",
      "secondary_cleaner.state.floatbank5_a_level    0.005042\n",
      "secondary_cleaner.state.floatbank5_b_air      0.005042\n",
      "secondary_cleaner.state.floatbank5_b_level    0.004982\n",
      "secondary_cleaner.state.floatbank6_a_air      0.006109\n",
      "secondary_cleaner.state.floatbank6_a_level    0.005042\n",
      "Length: 87, dtype: float64\n",
      "Количество пропусков в каждом столбце\n",
      "date                                          0.000000\n",
      "final.output.concentrate_ag                   0.004270\n",
      "final.output.concentrate_pb                   0.004270\n",
      "final.output.concentrate_sol                  0.021945\n",
      "final.output.concentrate_au                   0.004211\n",
      "                                                ...   \n",
      "secondary_cleaner.state.floatbank5_a_level    0.005042\n",
      "secondary_cleaner.state.floatbank5_b_air      0.005042\n",
      "secondary_cleaner.state.floatbank5_b_level    0.004982\n",
      "secondary_cleaner.state.floatbank6_a_air      0.006109\n",
      "secondary_cleaner.state.floatbank6_a_level    0.005042\n",
      "Length: 87, dtype: float64\n",
      "Количество пропусков в каждом столбце\n",
      "date                                          0.000000\n",
      "final.output.concentrate_ag                   0.004270\n",
      "final.output.concentrate_pb                   0.004270\n",
      "final.output.concentrate_sol                  0.021945\n",
      "final.output.concentrate_au                   0.004211\n",
      "                                                ...   \n",
      "secondary_cleaner.state.floatbank5_a_level    0.005042\n",
      "secondary_cleaner.state.floatbank5_b_air      0.005042\n",
      "secondary_cleaner.state.floatbank5_b_level    0.004982\n",
      "secondary_cleaner.state.floatbank6_a_air      0.006109\n",
      "secondary_cleaner.state.floatbank6_a_level    0.005042\n",
      "Length: 87, dtype: float64\n",
      "Количество пропусков в каждом столбце\n",
      "date                                          0.000000\n",
      "final.output.concentrate_ag                   0.004270\n",
      "final.output.concentrate_pb                   0.004270\n",
      "final.output.concentrate_sol                  0.021945\n",
      "final.output.concentrate_au                   0.004211\n",
      "                                                ...   \n",
      "secondary_cleaner.state.floatbank5_a_level    0.005042\n",
      "secondary_cleaner.state.floatbank5_b_air      0.005042\n",
      "secondary_cleaner.state.floatbank5_b_level    0.004982\n",
      "secondary_cleaner.state.floatbank6_a_air      0.006109\n",
      "secondary_cleaner.state.floatbank6_a_level    0.005042\n",
      "Length: 87, dtype: float64\n",
      "Количество пропусков в каждом столбце\n",
      "date                                          0.000000\n",
      "final.output.concentrate_ag                   0.004270\n",
      "final.output.concentrate_pb                   0.004270\n",
      "final.output.concentrate_sol                  0.021945\n",
      "final.output.concentrate_au                   0.004211\n",
      "                                                ...   \n",
      "secondary_cleaner.state.floatbank5_a_level    0.005042\n",
      "secondary_cleaner.state.floatbank5_b_air      0.005042\n",
      "secondary_cleaner.state.floatbank5_b_level    0.004982\n",
      "secondary_cleaner.state.floatbank6_a_air      0.006109\n",
      "secondary_cleaner.state.floatbank6_a_level    0.005042\n",
      "Length: 87, dtype: float64\n",
      "Количество пропусков в каждом столбце\n",
      "date                                          0.000000\n",
      "final.output.concentrate_ag                   0.004270\n",
      "final.output.concentrate_pb                   0.004270\n",
      "final.output.concentrate_sol                  0.021945\n",
      "final.output.concentrate_au                   0.004211\n",
      "                                                ...   \n",
      "secondary_cleaner.state.floatbank5_a_level    0.005042\n",
      "secondary_cleaner.state.floatbank5_b_air      0.005042\n",
      "secondary_cleaner.state.floatbank5_b_level    0.004982\n",
      "secondary_cleaner.state.floatbank6_a_air      0.006109\n",
      "secondary_cleaner.state.floatbank6_a_level    0.005042\n",
      "Length: 87, dtype: float64\n",
      "Количество пропусков в каждом столбце\n",
      "date                                          0.000000\n",
      "final.output.concentrate_ag                   0.004270\n",
      "final.output.concentrate_pb                   0.004270\n",
      "final.output.concentrate_sol                  0.021945\n",
      "final.output.concentrate_au                   0.004211\n",
      "                                                ...   \n",
      "secondary_cleaner.state.floatbank5_a_level    0.005042\n",
      "secondary_cleaner.state.floatbank5_b_air      0.005042\n",
      "secondary_cleaner.state.floatbank5_b_level    0.004982\n",
      "secondary_cleaner.state.floatbank6_a_air      0.006109\n",
      "secondary_cleaner.state.floatbank6_a_level    0.005042\n",
      "Length: 87, dtype: float64\n",
      "Количество пропусков в каждом столбце\n",
      "date                                          0.000000\n",
      "final.output.concentrate_ag                   0.004270\n",
      "final.output.concentrate_pb                   0.004270\n",
      "final.output.concentrate_sol                  0.021945\n",
      "final.output.concentrate_au                   0.004211\n",
      "                                                ...   \n",
      "secondary_cleaner.state.floatbank5_a_level    0.005042\n",
      "secondary_cleaner.state.floatbank5_b_air      0.005042\n",
      "secondary_cleaner.state.floatbank5_b_level    0.004982\n",
      "secondary_cleaner.state.floatbank6_a_air      0.006109\n",
      "secondary_cleaner.state.floatbank6_a_level    0.005042\n",
      "Length: 87, dtype: float64\n",
      "Количество пропусков в каждом столбце\n",
      "date                                          0.000000\n",
      "final.output.concentrate_ag                   0.004270\n",
      "final.output.concentrate_pb                   0.004270\n",
      "final.output.concentrate_sol                  0.021945\n",
      "final.output.concentrate_au                   0.004211\n",
      "                                                ...   \n",
      "secondary_cleaner.state.floatbank5_a_level    0.005042\n",
      "secondary_cleaner.state.floatbank5_b_air      0.005042\n",
      "secondary_cleaner.state.floatbank5_b_level    0.004982\n",
      "secondary_cleaner.state.floatbank6_a_air      0.006109\n",
      "secondary_cleaner.state.floatbank6_a_level    0.005042\n",
      "Length: 87, dtype: float64\n",
      "Количество пропусков в каждом столбце\n",
      "date                                          0.000000\n",
      "final.output.concentrate_ag                   0.004270\n",
      "final.output.concentrate_pb                   0.004270\n",
      "final.output.concentrate_sol                  0.021945\n",
      "final.output.concentrate_au                   0.004211\n",
      "                                                ...   \n",
      "secondary_cleaner.state.floatbank5_a_level    0.005042\n",
      "secondary_cleaner.state.floatbank5_b_air      0.005042\n",
      "secondary_cleaner.state.floatbank5_b_level    0.004982\n",
      "secondary_cleaner.state.floatbank6_a_air      0.006109\n",
      "secondary_cleaner.state.floatbank6_a_level    0.005042\n",
      "Length: 87, dtype: float64\n",
      "Количество пропусков в каждом столбце\n",
      "date                                          0.000000\n",
      "final.output.concentrate_ag                   0.004270\n",
      "final.output.concentrate_pb                   0.004270\n",
      "final.output.concentrate_sol                  0.021945\n",
      "final.output.concentrate_au                   0.004211\n",
      "                                                ...   \n",
      "secondary_cleaner.state.floatbank5_a_level    0.005042\n",
      "secondary_cleaner.state.floatbank5_b_air      0.005042\n",
      "secondary_cleaner.state.floatbank5_b_level    0.004982\n",
      "secondary_cleaner.state.floatbank6_a_air      0.006109\n",
      "secondary_cleaner.state.floatbank6_a_level    0.005042\n",
      "Length: 87, dtype: float64\n",
      "Количество пропусков в каждом столбце\n",
      "date                                          0.000000\n",
      "final.output.concentrate_ag                   0.004270\n",
      "final.output.concentrate_pb                   0.004270\n",
      "final.output.concentrate_sol                  0.021945\n",
      "final.output.concentrate_au                   0.004211\n",
      "                                                ...   \n",
      "secondary_cleaner.state.floatbank5_a_level    0.005042\n",
      "secondary_cleaner.state.floatbank5_b_air      0.005042\n",
      "secondary_cleaner.state.floatbank5_b_level    0.004982\n",
      "secondary_cleaner.state.floatbank6_a_air      0.006109\n",
      "secondary_cleaner.state.floatbank6_a_level    0.005042\n",
      "Length: 87, dtype: float64\n",
      "Количество пропусков в каждом столбце\n",
      "date                                          0.000000\n",
      "final.output.concentrate_ag                   0.004270\n",
      "final.output.concentrate_pb                   0.004270\n",
      "final.output.concentrate_sol                  0.021945\n",
      "final.output.concentrate_au                   0.004211\n",
      "                                                ...   \n",
      "secondary_cleaner.state.floatbank5_a_level    0.005042\n",
      "secondary_cleaner.state.floatbank5_b_air      0.005042\n",
      "secondary_cleaner.state.floatbank5_b_level    0.004982\n",
      "secondary_cleaner.state.floatbank6_a_air      0.006109\n",
      "secondary_cleaner.state.floatbank6_a_level    0.005042\n",
      "Length: 87, dtype: float64\n",
      "Количество пропусков в каждом столбце\n",
      "date                                          0.000000\n",
      "final.output.concentrate_ag                   0.004270\n",
      "final.output.concentrate_pb                   0.004270\n",
      "final.output.concentrate_sol                  0.021945\n",
      "final.output.concentrate_au                   0.004211\n",
      "                                                ...   \n",
      "secondary_cleaner.state.floatbank5_a_level    0.005042\n",
      "secondary_cleaner.state.floatbank5_b_air      0.005042\n",
      "secondary_cleaner.state.floatbank5_b_level    0.004982\n",
      "secondary_cleaner.state.floatbank6_a_air      0.006109\n",
      "secondary_cleaner.state.floatbank6_a_level    0.005042\n",
      "Length: 87, dtype: float64\n",
      "Количество пропусков в каждом столбце\n",
      "date                                          0.000000\n",
      "final.output.concentrate_ag                   0.004270\n",
      "final.output.concentrate_pb                   0.004270\n",
      "final.output.concentrate_sol                  0.021945\n",
      "final.output.concentrate_au                   0.004211\n",
      "                                                ...   \n",
      "secondary_cleaner.state.floatbank5_a_level    0.005042\n",
      "secondary_cleaner.state.floatbank5_b_air      0.005042\n",
      "secondary_cleaner.state.floatbank5_b_level    0.004982\n",
      "secondary_cleaner.state.floatbank6_a_air      0.006109\n",
      "secondary_cleaner.state.floatbank6_a_level    0.005042\n",
      "Length: 87, dtype: float64\n",
      "Количество пропусков в каждом столбце\n",
      "date                                          0.000000\n",
      "final.output.concentrate_ag                   0.004270\n",
      "final.output.concentrate_pb                   0.004270\n",
      "final.output.concentrate_sol                  0.021945\n",
      "final.output.concentrate_au                   0.004211\n",
      "                                                ...   \n",
      "secondary_cleaner.state.floatbank5_a_level    0.005042\n",
      "secondary_cleaner.state.floatbank5_b_air      0.005042\n",
      "secondary_cleaner.state.floatbank5_b_level    0.004982\n",
      "secondary_cleaner.state.floatbank6_a_air      0.006109\n",
      "secondary_cleaner.state.floatbank6_a_level    0.005042\n",
      "Length: 87, dtype: float64\n",
      "Количество пропусков в каждом столбце\n",
      "date                                          0.000000\n",
      "final.output.concentrate_ag                   0.004270\n",
      "final.output.concentrate_pb                   0.004270\n",
      "final.output.concentrate_sol                  0.021945\n",
      "final.output.concentrate_au                   0.004211\n",
      "                                                ...   \n",
      "secondary_cleaner.state.floatbank5_a_level    0.005042\n",
      "secondary_cleaner.state.floatbank5_b_air      0.005042\n",
      "secondary_cleaner.state.floatbank5_b_level    0.004982\n",
      "secondary_cleaner.state.floatbank6_a_air      0.006109\n",
      "secondary_cleaner.state.floatbank6_a_level    0.005042\n",
      "Length: 87, dtype: float64\n",
      "Количество пропусков в каждом столбце\n",
      "date                                          0.000000\n",
      "final.output.concentrate_ag                   0.004270\n",
      "final.output.concentrate_pb                   0.004270\n",
      "final.output.concentrate_sol                  0.021945\n",
      "final.output.concentrate_au                   0.004211\n",
      "                                                ...   \n",
      "secondary_cleaner.state.floatbank5_a_level    0.005042\n",
      "secondary_cleaner.state.floatbank5_b_air      0.005042\n",
      "secondary_cleaner.state.floatbank5_b_level    0.004982\n",
      "secondary_cleaner.state.floatbank6_a_air      0.006109\n",
      "secondary_cleaner.state.floatbank6_a_level    0.005042\n",
      "Length: 87, dtype: float64\n",
      "Количество пропусков в каждом столбце\n",
      "date                                          0.000000\n",
      "final.output.concentrate_ag                   0.004270\n",
      "final.output.concentrate_pb                   0.004270\n",
      "final.output.concentrate_sol                  0.021945\n",
      "final.output.concentrate_au                   0.004211\n",
      "                                                ...   \n",
      "secondary_cleaner.state.floatbank5_a_level    0.005042\n",
      "secondary_cleaner.state.floatbank5_b_air      0.005042\n",
      "secondary_cleaner.state.floatbank5_b_level    0.004982\n",
      "secondary_cleaner.state.floatbank6_a_air      0.006109\n",
      "secondary_cleaner.state.floatbank6_a_level    0.005042\n",
      "Length: 87, dtype: float64\n",
      "Количество пропусков в каждом столбце\n",
      "date                                          0.000000\n",
      "final.output.concentrate_ag                   0.004270\n",
      "final.output.concentrate_pb                   0.004270\n",
      "final.output.concentrate_sol                  0.021945\n",
      "final.output.concentrate_au                   0.004211\n",
      "                                                ...   \n",
      "secondary_cleaner.state.floatbank5_a_level    0.005042\n",
      "secondary_cleaner.state.floatbank5_b_air      0.005042\n",
      "secondary_cleaner.state.floatbank5_b_level    0.004982\n",
      "secondary_cleaner.state.floatbank6_a_air      0.006109\n",
      "secondary_cleaner.state.floatbank6_a_level    0.005042\n",
      "Length: 87, dtype: float64\n",
      "Количество пропусков в каждом столбце\n",
      "date                                          0.000000\n",
      "final.output.concentrate_ag                   0.004270\n",
      "final.output.concentrate_pb                   0.004270\n",
      "final.output.concentrate_sol                  0.021945\n",
      "final.output.concentrate_au                   0.004211\n",
      "                                                ...   \n",
      "secondary_cleaner.state.floatbank5_a_level    0.005042\n",
      "secondary_cleaner.state.floatbank5_b_air      0.005042\n",
      "secondary_cleaner.state.floatbank5_b_level    0.004982\n",
      "secondary_cleaner.state.floatbank6_a_air      0.006109\n",
      "secondary_cleaner.state.floatbank6_a_level    0.005042\n",
      "Length: 87, dtype: float64\n",
      "Количество пропусков в каждом столбце\n",
      "date                                          0.000000\n",
      "final.output.concentrate_ag                   0.004270\n",
      "final.output.concentrate_pb                   0.004270\n",
      "final.output.concentrate_sol                  0.021945\n",
      "final.output.concentrate_au                   0.004211\n",
      "                                                ...   \n",
      "secondary_cleaner.state.floatbank5_a_level    0.005042\n",
      "secondary_cleaner.state.floatbank5_b_air      0.005042\n",
      "secondary_cleaner.state.floatbank5_b_level    0.004982\n",
      "secondary_cleaner.state.floatbank6_a_air      0.006109\n",
      "secondary_cleaner.state.floatbank6_a_level    0.005042\n",
      "Length: 87, dtype: float64\n",
      "Количество пропусков в каждом столбце\n",
      "date                                          0.000000\n",
      "final.output.concentrate_ag                   0.004270\n",
      "final.output.concentrate_pb                   0.004270\n",
      "final.output.concentrate_sol                  0.021945\n",
      "final.output.concentrate_au                   0.004211\n",
      "                                                ...   \n",
      "secondary_cleaner.state.floatbank5_a_level    0.005042\n",
      "secondary_cleaner.state.floatbank5_b_air      0.005042\n",
      "secondary_cleaner.state.floatbank5_b_level    0.004982\n",
      "secondary_cleaner.state.floatbank6_a_air      0.006109\n",
      "secondary_cleaner.state.floatbank6_a_level    0.005042\n",
      "Length: 87, dtype: float64\n"
     ]
    }
   ],
   "source": [
    "show_isna(df_train)"
   ]
  },
  {
   "cell_type": "code",
   "execution_count": 25,
   "metadata": {},
   "outputs": [
    {
     "name": "stdout",
     "output_type": "stream",
     "text": [
      "Количество пропусков в каждом столбце\n",
      "date                                          0.000000\n",
      "final.output.concentrate_ag                   0.003918\n",
      "final.output.concentrate_pb                   0.003830\n",
      "final.output.concentrate_sol                  0.016948\n",
      "final.output.concentrate_au                   0.003786\n",
      "                                                ...   \n",
      "secondary_cleaner.state.floatbank5_a_level    0.004446\n",
      "secondary_cleaner.state.floatbank5_b_air      0.004446\n",
      "secondary_cleaner.state.floatbank5_b_level    0.004402\n",
      "secondary_cleaner.state.floatbank6_a_air      0.005239\n",
      "secondary_cleaner.state.floatbank6_a_level    0.004446\n",
      "Length: 87, dtype: float64\n",
      "Количество пропусков в каждом столбце\n",
      "date                                          0.000000\n",
      "final.output.concentrate_ag                   0.003918\n",
      "final.output.concentrate_pb                   0.003830\n",
      "final.output.concentrate_sol                  0.016948\n",
      "final.output.concentrate_au                   0.003786\n",
      "                                                ...   \n",
      "secondary_cleaner.state.floatbank5_a_level    0.004446\n",
      "secondary_cleaner.state.floatbank5_b_air      0.004446\n",
      "secondary_cleaner.state.floatbank5_b_level    0.004402\n",
      "secondary_cleaner.state.floatbank6_a_air      0.005239\n",
      "secondary_cleaner.state.floatbank6_a_level    0.004446\n",
      "Length: 87, dtype: float64\n",
      "Количество пропусков в каждом столбце\n",
      "date                                          0.000000\n",
      "final.output.concentrate_ag                   0.003918\n",
      "final.output.concentrate_pb                   0.003830\n",
      "final.output.concentrate_sol                  0.016948\n",
      "final.output.concentrate_au                   0.003786\n",
      "                                                ...   \n",
      "secondary_cleaner.state.floatbank5_a_level    0.004446\n",
      "secondary_cleaner.state.floatbank5_b_air      0.004446\n",
      "secondary_cleaner.state.floatbank5_b_level    0.004402\n",
      "secondary_cleaner.state.floatbank6_a_air      0.005239\n",
      "secondary_cleaner.state.floatbank6_a_level    0.004446\n",
      "Length: 87, dtype: float64\n",
      "Количество пропусков в каждом столбце\n",
      "date                                          0.000000\n",
      "final.output.concentrate_ag                   0.003918\n",
      "final.output.concentrate_pb                   0.003830\n",
      "final.output.concentrate_sol                  0.016948\n",
      "final.output.concentrate_au                   0.003786\n",
      "                                                ...   \n",
      "secondary_cleaner.state.floatbank5_a_level    0.004446\n",
      "secondary_cleaner.state.floatbank5_b_air      0.004446\n",
      "secondary_cleaner.state.floatbank5_b_level    0.004402\n",
      "secondary_cleaner.state.floatbank6_a_air      0.005239\n",
      "secondary_cleaner.state.floatbank6_a_level    0.004446\n",
      "Length: 87, dtype: float64\n",
      "Количество пропусков в каждом столбце\n",
      "date                                          0.000000\n",
      "final.output.concentrate_ag                   0.003918\n",
      "final.output.concentrate_pb                   0.003830\n",
      "final.output.concentrate_sol                  0.016948\n",
      "final.output.concentrate_au                   0.003786\n",
      "                                                ...   \n",
      "secondary_cleaner.state.floatbank5_a_level    0.004446\n",
      "secondary_cleaner.state.floatbank5_b_air      0.004446\n",
      "secondary_cleaner.state.floatbank5_b_level    0.004402\n",
      "secondary_cleaner.state.floatbank6_a_air      0.005239\n",
      "secondary_cleaner.state.floatbank6_a_level    0.004446\n",
      "Length: 87, dtype: float64\n",
      "Количество пропусков в каждом столбце\n",
      "date                                          0.000000\n",
      "final.output.concentrate_ag                   0.003918\n",
      "final.output.concentrate_pb                   0.003830\n",
      "final.output.concentrate_sol                  0.016948\n",
      "final.output.concentrate_au                   0.003786\n",
      "                                                ...   \n",
      "secondary_cleaner.state.floatbank5_a_level    0.004446\n",
      "secondary_cleaner.state.floatbank5_b_air      0.004446\n",
      "secondary_cleaner.state.floatbank5_b_level    0.004402\n",
      "secondary_cleaner.state.floatbank6_a_air      0.005239\n",
      "secondary_cleaner.state.floatbank6_a_level    0.004446\n",
      "Length: 87, dtype: float64\n",
      "Количество пропусков в каждом столбце\n",
      "date                                          0.000000\n",
      "final.output.concentrate_ag                   0.003918\n",
      "final.output.concentrate_pb                   0.003830\n",
      "final.output.concentrate_sol                  0.016948\n",
      "final.output.concentrate_au                   0.003786\n",
      "                                                ...   \n",
      "secondary_cleaner.state.floatbank5_a_level    0.004446\n",
      "secondary_cleaner.state.floatbank5_b_air      0.004446\n",
      "secondary_cleaner.state.floatbank5_b_level    0.004402\n",
      "secondary_cleaner.state.floatbank6_a_air      0.005239\n",
      "secondary_cleaner.state.floatbank6_a_level    0.004446\n",
      "Length: 87, dtype: float64\n",
      "Количество пропусков в каждом столбце\n",
      "date                                          0.000000\n",
      "final.output.concentrate_ag                   0.003918\n",
      "final.output.concentrate_pb                   0.003830\n",
      "final.output.concentrate_sol                  0.016948\n",
      "final.output.concentrate_au                   0.003786\n",
      "                                                ...   \n",
      "secondary_cleaner.state.floatbank5_a_level    0.004446\n",
      "secondary_cleaner.state.floatbank5_b_air      0.004446\n",
      "secondary_cleaner.state.floatbank5_b_level    0.004402\n",
      "secondary_cleaner.state.floatbank6_a_air      0.005239\n",
      "secondary_cleaner.state.floatbank6_a_level    0.004446\n",
      "Length: 87, dtype: float64\n",
      "Количество пропусков в каждом столбце\n",
      "date                                          0.000000\n",
      "final.output.concentrate_ag                   0.003918\n",
      "final.output.concentrate_pb                   0.003830\n",
      "final.output.concentrate_sol                  0.016948\n",
      "final.output.concentrate_au                   0.003786\n",
      "                                                ...   \n",
      "secondary_cleaner.state.floatbank5_a_level    0.004446\n",
      "secondary_cleaner.state.floatbank5_b_air      0.004446\n",
      "secondary_cleaner.state.floatbank5_b_level    0.004402\n",
      "secondary_cleaner.state.floatbank6_a_air      0.005239\n",
      "secondary_cleaner.state.floatbank6_a_level    0.004446\n",
      "Length: 87, dtype: float64\n",
      "Количество пропусков в каждом столбце\n",
      "date                                          0.000000\n",
      "final.output.concentrate_ag                   0.003918\n",
      "final.output.concentrate_pb                   0.003830\n",
      "final.output.concentrate_sol                  0.016948\n",
      "final.output.concentrate_au                   0.003786\n",
      "                                                ...   \n",
      "secondary_cleaner.state.floatbank5_a_level    0.004446\n",
      "secondary_cleaner.state.floatbank5_b_air      0.004446\n",
      "secondary_cleaner.state.floatbank5_b_level    0.004402\n",
      "secondary_cleaner.state.floatbank6_a_air      0.005239\n",
      "secondary_cleaner.state.floatbank6_a_level    0.004446\n",
      "Length: 87, dtype: float64\n",
      "Количество пропусков в каждом столбце\n",
      "date                                          0.000000\n",
      "final.output.concentrate_ag                   0.003918\n",
      "final.output.concentrate_pb                   0.003830\n",
      "final.output.concentrate_sol                  0.016948\n",
      "final.output.concentrate_au                   0.003786\n",
      "                                                ...   \n",
      "secondary_cleaner.state.floatbank5_a_level    0.004446\n",
      "secondary_cleaner.state.floatbank5_b_air      0.004446\n",
      "secondary_cleaner.state.floatbank5_b_level    0.004402\n",
      "secondary_cleaner.state.floatbank6_a_air      0.005239\n",
      "secondary_cleaner.state.floatbank6_a_level    0.004446\n",
      "Length: 87, dtype: float64\n",
      "Количество пропусков в каждом столбце\n",
      "date                                          0.000000\n",
      "final.output.concentrate_ag                   0.003918\n",
      "final.output.concentrate_pb                   0.003830\n",
      "final.output.concentrate_sol                  0.016948\n",
      "final.output.concentrate_au                   0.003786\n",
      "                                                ...   \n",
      "secondary_cleaner.state.floatbank5_a_level    0.004446\n",
      "secondary_cleaner.state.floatbank5_b_air      0.004446\n",
      "secondary_cleaner.state.floatbank5_b_level    0.004402\n",
      "secondary_cleaner.state.floatbank6_a_air      0.005239\n",
      "secondary_cleaner.state.floatbank6_a_level    0.004446\n",
      "Length: 87, dtype: float64\n",
      "Количество пропусков в каждом столбце\n",
      "date                                          0.000000\n",
      "final.output.concentrate_ag                   0.003918\n",
      "final.output.concentrate_pb                   0.003830\n",
      "final.output.concentrate_sol                  0.016948\n",
      "final.output.concentrate_au                   0.003786\n",
      "                                                ...   \n",
      "secondary_cleaner.state.floatbank5_a_level    0.004446\n",
      "secondary_cleaner.state.floatbank5_b_air      0.004446\n",
      "secondary_cleaner.state.floatbank5_b_level    0.004402\n",
      "secondary_cleaner.state.floatbank6_a_air      0.005239\n",
      "secondary_cleaner.state.floatbank6_a_level    0.004446\n",
      "Length: 87, dtype: float64\n",
      "Количество пропусков в каждом столбце\n",
      "date                                          0.000000\n",
      "final.output.concentrate_ag                   0.003918\n",
      "final.output.concentrate_pb                   0.003830\n",
      "final.output.concentrate_sol                  0.016948\n",
      "final.output.concentrate_au                   0.003786\n",
      "                                                ...   \n",
      "secondary_cleaner.state.floatbank5_a_level    0.004446\n",
      "secondary_cleaner.state.floatbank5_b_air      0.004446\n",
      "secondary_cleaner.state.floatbank5_b_level    0.004402\n",
      "secondary_cleaner.state.floatbank6_a_air      0.005239\n",
      "secondary_cleaner.state.floatbank6_a_level    0.004446\n",
      "Length: 87, dtype: float64\n",
      "Количество пропусков в каждом столбце\n",
      "date                                          0.000000\n",
      "final.output.concentrate_ag                   0.003918\n",
      "final.output.concentrate_pb                   0.003830\n",
      "final.output.concentrate_sol                  0.016948\n",
      "final.output.concentrate_au                   0.003786\n",
      "                                                ...   \n",
      "secondary_cleaner.state.floatbank5_a_level    0.004446\n",
      "secondary_cleaner.state.floatbank5_b_air      0.004446\n",
      "secondary_cleaner.state.floatbank5_b_level    0.004402\n",
      "secondary_cleaner.state.floatbank6_a_air      0.005239\n",
      "secondary_cleaner.state.floatbank6_a_level    0.004446\n",
      "Length: 87, dtype: float64\n",
      "Количество пропусков в каждом столбце\n",
      "date                                          0.000000\n",
      "final.output.concentrate_ag                   0.003918\n",
      "final.output.concentrate_pb                   0.003830\n",
      "final.output.concentrate_sol                  0.016948\n",
      "final.output.concentrate_au                   0.003786\n",
      "                                                ...   \n",
      "secondary_cleaner.state.floatbank5_a_level    0.004446\n",
      "secondary_cleaner.state.floatbank5_b_air      0.004446\n",
      "secondary_cleaner.state.floatbank5_b_level    0.004402\n",
      "secondary_cleaner.state.floatbank6_a_air      0.005239\n",
      "secondary_cleaner.state.floatbank6_a_level    0.004446\n",
      "Length: 87, dtype: float64\n",
      "Количество пропусков в каждом столбце\n",
      "date                                          0.000000\n",
      "final.output.concentrate_ag                   0.003918\n",
      "final.output.concentrate_pb                   0.003830\n",
      "final.output.concentrate_sol                  0.016948\n",
      "final.output.concentrate_au                   0.003786\n",
      "                                                ...   \n",
      "secondary_cleaner.state.floatbank5_a_level    0.004446\n",
      "secondary_cleaner.state.floatbank5_b_air      0.004446\n",
      "secondary_cleaner.state.floatbank5_b_level    0.004402\n",
      "secondary_cleaner.state.floatbank6_a_air      0.005239\n",
      "secondary_cleaner.state.floatbank6_a_level    0.004446\n",
      "Length: 87, dtype: float64\n",
      "Количество пропусков в каждом столбце\n",
      "date                                          0.000000\n",
      "final.output.concentrate_ag                   0.003918\n",
      "final.output.concentrate_pb                   0.003830\n",
      "final.output.concentrate_sol                  0.016948\n",
      "final.output.concentrate_au                   0.003786\n",
      "                                                ...   \n",
      "secondary_cleaner.state.floatbank5_a_level    0.004446\n",
      "secondary_cleaner.state.floatbank5_b_air      0.004446\n",
      "secondary_cleaner.state.floatbank5_b_level    0.004402\n",
      "secondary_cleaner.state.floatbank6_a_air      0.005239\n",
      "secondary_cleaner.state.floatbank6_a_level    0.004446\n",
      "Length: 87, dtype: float64\n",
      "Количество пропусков в каждом столбце\n",
      "date                                          0.000000\n",
      "final.output.concentrate_ag                   0.003918\n",
      "final.output.concentrate_pb                   0.003830\n",
      "final.output.concentrate_sol                  0.016948\n",
      "final.output.concentrate_au                   0.003786\n",
      "                                                ...   \n",
      "secondary_cleaner.state.floatbank5_a_level    0.004446\n",
      "secondary_cleaner.state.floatbank5_b_air      0.004446\n",
      "secondary_cleaner.state.floatbank5_b_level    0.004402\n",
      "secondary_cleaner.state.floatbank6_a_air      0.005239\n",
      "secondary_cleaner.state.floatbank6_a_level    0.004446\n",
      "Length: 87, dtype: float64\n",
      "Количество пропусков в каждом столбце\n",
      "date                                          0.000000\n",
      "final.output.concentrate_ag                   0.003918\n",
      "final.output.concentrate_pb                   0.003830\n",
      "final.output.concentrate_sol                  0.016948\n",
      "final.output.concentrate_au                   0.003786\n",
      "                                                ...   \n",
      "secondary_cleaner.state.floatbank5_a_level    0.004446\n",
      "secondary_cleaner.state.floatbank5_b_air      0.004446\n",
      "secondary_cleaner.state.floatbank5_b_level    0.004402\n",
      "secondary_cleaner.state.floatbank6_a_air      0.005239\n",
      "secondary_cleaner.state.floatbank6_a_level    0.004446\n",
      "Length: 87, dtype: float64\n",
      "Количество пропусков в каждом столбце\n",
      "date                                          0.000000\n",
      "final.output.concentrate_ag                   0.003918\n",
      "final.output.concentrate_pb                   0.003830\n",
      "final.output.concentrate_sol                  0.016948\n",
      "final.output.concentrate_au                   0.003786\n",
      "                                                ...   \n",
      "secondary_cleaner.state.floatbank5_a_level    0.004446\n",
      "secondary_cleaner.state.floatbank5_b_air      0.004446\n",
      "secondary_cleaner.state.floatbank5_b_level    0.004402\n",
      "secondary_cleaner.state.floatbank6_a_air      0.005239\n",
      "secondary_cleaner.state.floatbank6_a_level    0.004446\n",
      "Length: 87, dtype: float64\n",
      "Количество пропусков в каждом столбце\n",
      "date                                          0.000000\n",
      "final.output.concentrate_ag                   0.003918\n",
      "final.output.concentrate_pb                   0.003830\n",
      "final.output.concentrate_sol                  0.016948\n",
      "final.output.concentrate_au                   0.003786\n",
      "                                                ...   \n",
      "secondary_cleaner.state.floatbank5_a_level    0.004446\n",
      "secondary_cleaner.state.floatbank5_b_air      0.004446\n",
      "secondary_cleaner.state.floatbank5_b_level    0.004402\n",
      "secondary_cleaner.state.floatbank6_a_air      0.005239\n",
      "secondary_cleaner.state.floatbank6_a_level    0.004446\n",
      "Length: 87, dtype: float64\n",
      "Количество пропусков в каждом столбце\n",
      "date                                          0.000000\n",
      "final.output.concentrate_ag                   0.003918\n",
      "final.output.concentrate_pb                   0.003830\n",
      "final.output.concentrate_sol                  0.016948\n",
      "final.output.concentrate_au                   0.003786\n",
      "                                                ...   \n",
      "secondary_cleaner.state.floatbank5_a_level    0.004446\n",
      "secondary_cleaner.state.floatbank5_b_air      0.004446\n",
      "secondary_cleaner.state.floatbank5_b_level    0.004402\n",
      "secondary_cleaner.state.floatbank6_a_air      0.005239\n",
      "secondary_cleaner.state.floatbank6_a_level    0.004446\n",
      "Length: 87, dtype: float64\n",
      "Количество пропусков в каждом столбце\n",
      "date                                          0.000000\n",
      "final.output.concentrate_ag                   0.003918\n",
      "final.output.concentrate_pb                   0.003830\n",
      "final.output.concentrate_sol                  0.016948\n",
      "final.output.concentrate_au                   0.003786\n",
      "                                                ...   \n",
      "secondary_cleaner.state.floatbank5_a_level    0.004446\n",
      "secondary_cleaner.state.floatbank5_b_air      0.004446\n",
      "secondary_cleaner.state.floatbank5_b_level    0.004402\n",
      "secondary_cleaner.state.floatbank6_a_air      0.005239\n",
      "secondary_cleaner.state.floatbank6_a_level    0.004446\n",
      "Length: 87, dtype: float64\n",
      "Количество пропусков в каждом столбце\n",
      "date                                          0.000000\n",
      "final.output.concentrate_ag                   0.003918\n",
      "final.output.concentrate_pb                   0.003830\n",
      "final.output.concentrate_sol                  0.016948\n",
      "final.output.concentrate_au                   0.003786\n",
      "                                                ...   \n",
      "secondary_cleaner.state.floatbank5_a_level    0.004446\n",
      "secondary_cleaner.state.floatbank5_b_air      0.004446\n",
      "secondary_cleaner.state.floatbank5_b_level    0.004402\n",
      "secondary_cleaner.state.floatbank6_a_air      0.005239\n",
      "secondary_cleaner.state.floatbank6_a_level    0.004446\n",
      "Length: 87, dtype: float64\n",
      "Количество пропусков в каждом столбце\n",
      "date                                          0.000000\n",
      "final.output.concentrate_ag                   0.003918\n",
      "final.output.concentrate_pb                   0.003830\n",
      "final.output.concentrate_sol                  0.016948\n",
      "final.output.concentrate_au                   0.003786\n",
      "                                                ...   \n",
      "secondary_cleaner.state.floatbank5_a_level    0.004446\n",
      "secondary_cleaner.state.floatbank5_b_air      0.004446\n",
      "secondary_cleaner.state.floatbank5_b_level    0.004402\n",
      "secondary_cleaner.state.floatbank6_a_air      0.005239\n",
      "secondary_cleaner.state.floatbank6_a_level    0.004446\n",
      "Length: 87, dtype: float64\n",
      "Количество пропусков в каждом столбце\n",
      "date                                          0.000000\n",
      "final.output.concentrate_ag                   0.003918\n",
      "final.output.concentrate_pb                   0.003830\n",
      "final.output.concentrate_sol                  0.016948\n",
      "final.output.concentrate_au                   0.003786\n",
      "                                                ...   \n",
      "secondary_cleaner.state.floatbank5_a_level    0.004446\n",
      "secondary_cleaner.state.floatbank5_b_air      0.004446\n",
      "secondary_cleaner.state.floatbank5_b_level    0.004402\n",
      "secondary_cleaner.state.floatbank6_a_air      0.005239\n",
      "secondary_cleaner.state.floatbank6_a_level    0.004446\n",
      "Length: 87, dtype: float64\n",
      "Количество пропусков в каждом столбце\n",
      "date                                          0.000000\n",
      "final.output.concentrate_ag                   0.003918\n",
      "final.output.concentrate_pb                   0.003830\n",
      "final.output.concentrate_sol                  0.016948\n",
      "final.output.concentrate_au                   0.003786\n",
      "                                                ...   \n",
      "secondary_cleaner.state.floatbank5_a_level    0.004446\n",
      "secondary_cleaner.state.floatbank5_b_air      0.004446\n",
      "secondary_cleaner.state.floatbank5_b_level    0.004402\n",
      "secondary_cleaner.state.floatbank6_a_air      0.005239\n",
      "secondary_cleaner.state.floatbank6_a_level    0.004446\n",
      "Length: 87, dtype: float64\n",
      "Количество пропусков в каждом столбце\n",
      "date                                          0.000000\n",
      "final.output.concentrate_ag                   0.003918\n",
      "final.output.concentrate_pb                   0.003830\n",
      "final.output.concentrate_sol                  0.016948\n",
      "final.output.concentrate_au                   0.003786\n",
      "                                                ...   \n",
      "secondary_cleaner.state.floatbank5_a_level    0.004446\n",
      "secondary_cleaner.state.floatbank5_b_air      0.004446\n",
      "secondary_cleaner.state.floatbank5_b_level    0.004402\n",
      "secondary_cleaner.state.floatbank6_a_air      0.005239\n",
      "secondary_cleaner.state.floatbank6_a_level    0.004446\n",
      "Length: 87, dtype: float64\n",
      "Количество пропусков в каждом столбце\n",
      "date                                          0.000000\n",
      "final.output.concentrate_ag                   0.003918\n",
      "final.output.concentrate_pb                   0.003830\n",
      "final.output.concentrate_sol                  0.016948\n",
      "final.output.concentrate_au                   0.003786\n",
      "                                                ...   \n",
      "secondary_cleaner.state.floatbank5_a_level    0.004446\n",
      "secondary_cleaner.state.floatbank5_b_air      0.004446\n",
      "secondary_cleaner.state.floatbank5_b_level    0.004402\n",
      "secondary_cleaner.state.floatbank6_a_air      0.005239\n",
      "secondary_cleaner.state.floatbank6_a_level    0.004446\n",
      "Length: 87, dtype: float64\n",
      "Количество пропусков в каждом столбце\n",
      "date                                          0.000000\n",
      "final.output.concentrate_ag                   0.003918\n",
      "final.output.concentrate_pb                   0.003830\n",
      "final.output.concentrate_sol                  0.016948\n",
      "final.output.concentrate_au                   0.003786\n",
      "                                                ...   \n",
      "secondary_cleaner.state.floatbank5_a_level    0.004446\n",
      "secondary_cleaner.state.floatbank5_b_air      0.004446\n",
      "secondary_cleaner.state.floatbank5_b_level    0.004402\n",
      "secondary_cleaner.state.floatbank6_a_air      0.005239\n",
      "secondary_cleaner.state.floatbank6_a_level    0.004446\n",
      "Length: 87, dtype: float64\n",
      "Количество пропусков в каждом столбце\n",
      "date                                          0.000000\n",
      "final.output.concentrate_ag                   0.003918\n",
      "final.output.concentrate_pb                   0.003830\n",
      "final.output.concentrate_sol                  0.016948\n",
      "final.output.concentrate_au                   0.003786\n",
      "                                                ...   \n",
      "secondary_cleaner.state.floatbank5_a_level    0.004446\n",
      "secondary_cleaner.state.floatbank5_b_air      0.004446\n",
      "secondary_cleaner.state.floatbank5_b_level    0.004402\n",
      "secondary_cleaner.state.floatbank6_a_air      0.005239\n",
      "secondary_cleaner.state.floatbank6_a_level    0.004446\n",
      "Length: 87, dtype: float64\n",
      "Количество пропусков в каждом столбце\n",
      "date                                          0.000000\n",
      "final.output.concentrate_ag                   0.003918\n",
      "final.output.concentrate_pb                   0.003830\n",
      "final.output.concentrate_sol                  0.016948\n",
      "final.output.concentrate_au                   0.003786\n",
      "                                                ...   \n",
      "secondary_cleaner.state.floatbank5_a_level    0.004446\n",
      "secondary_cleaner.state.floatbank5_b_air      0.004446\n",
      "secondary_cleaner.state.floatbank5_b_level    0.004402\n",
      "secondary_cleaner.state.floatbank6_a_air      0.005239\n",
      "secondary_cleaner.state.floatbank6_a_level    0.004446\n",
      "Length: 87, dtype: float64\n",
      "Количество пропусков в каждом столбце\n",
      "date                                          0.000000\n",
      "final.output.concentrate_ag                   0.003918\n",
      "final.output.concentrate_pb                   0.003830\n",
      "final.output.concentrate_sol                  0.016948\n",
      "final.output.concentrate_au                   0.003786\n",
      "                                                ...   \n",
      "secondary_cleaner.state.floatbank5_a_level    0.004446\n",
      "secondary_cleaner.state.floatbank5_b_air      0.004446\n",
      "secondary_cleaner.state.floatbank5_b_level    0.004402\n",
      "secondary_cleaner.state.floatbank6_a_air      0.005239\n",
      "secondary_cleaner.state.floatbank6_a_level    0.004446\n",
      "Length: 87, dtype: float64\n",
      "Количество пропусков в каждом столбце\n",
      "date                                          0.000000\n",
      "final.output.concentrate_ag                   0.003918\n",
      "final.output.concentrate_pb                   0.003830\n",
      "final.output.concentrate_sol                  0.016948\n",
      "final.output.concentrate_au                   0.003786\n",
      "                                                ...   \n",
      "secondary_cleaner.state.floatbank5_a_level    0.004446\n",
      "secondary_cleaner.state.floatbank5_b_air      0.004446\n",
      "secondary_cleaner.state.floatbank5_b_level    0.004402\n",
      "secondary_cleaner.state.floatbank6_a_air      0.005239\n",
      "secondary_cleaner.state.floatbank6_a_level    0.004446\n",
      "Length: 87, dtype: float64\n",
      "Количество пропусков в каждом столбце\n",
      "date                                          0.000000\n",
      "final.output.concentrate_ag                   0.003918\n",
      "final.output.concentrate_pb                   0.003830\n",
      "final.output.concentrate_sol                  0.016948\n",
      "final.output.concentrate_au                   0.003786\n",
      "                                                ...   \n",
      "secondary_cleaner.state.floatbank5_a_level    0.004446\n",
      "secondary_cleaner.state.floatbank5_b_air      0.004446\n",
      "secondary_cleaner.state.floatbank5_b_level    0.004402\n",
      "secondary_cleaner.state.floatbank6_a_air      0.005239\n",
      "secondary_cleaner.state.floatbank6_a_level    0.004446\n",
      "Length: 87, dtype: float64\n",
      "Количество пропусков в каждом столбце\n",
      "date                                          0.000000\n",
      "final.output.concentrate_ag                   0.003918\n",
      "final.output.concentrate_pb                   0.003830\n",
      "final.output.concentrate_sol                  0.016948\n",
      "final.output.concentrate_au                   0.003786\n",
      "                                                ...   \n",
      "secondary_cleaner.state.floatbank5_a_level    0.004446\n",
      "secondary_cleaner.state.floatbank5_b_air      0.004446\n",
      "secondary_cleaner.state.floatbank5_b_level    0.004402\n",
      "secondary_cleaner.state.floatbank6_a_air      0.005239\n",
      "secondary_cleaner.state.floatbank6_a_level    0.004446\n",
      "Length: 87, dtype: float64\n",
      "Количество пропусков в каждом столбце\n",
      "date                                          0.000000\n",
      "final.output.concentrate_ag                   0.003918\n",
      "final.output.concentrate_pb                   0.003830\n",
      "final.output.concentrate_sol                  0.016948\n",
      "final.output.concentrate_au                   0.003786\n",
      "                                                ...   \n",
      "secondary_cleaner.state.floatbank5_a_level    0.004446\n",
      "secondary_cleaner.state.floatbank5_b_air      0.004446\n",
      "secondary_cleaner.state.floatbank5_b_level    0.004402\n",
      "secondary_cleaner.state.floatbank6_a_air      0.005239\n",
      "secondary_cleaner.state.floatbank6_a_level    0.004446\n",
      "Length: 87, dtype: float64\n",
      "Количество пропусков в каждом столбце\n",
      "date                                          0.000000\n",
      "final.output.concentrate_ag                   0.003918\n",
      "final.output.concentrate_pb                   0.003830\n",
      "final.output.concentrate_sol                  0.016948\n",
      "final.output.concentrate_au                   0.003786\n",
      "                                                ...   \n",
      "secondary_cleaner.state.floatbank5_a_level    0.004446\n",
      "secondary_cleaner.state.floatbank5_b_air      0.004446\n",
      "secondary_cleaner.state.floatbank5_b_level    0.004402\n",
      "secondary_cleaner.state.floatbank6_a_air      0.005239\n",
      "secondary_cleaner.state.floatbank6_a_level    0.004446\n",
      "Length: 87, dtype: float64\n",
      "Количество пропусков в каждом столбце\n",
      "date                                          0.000000\n",
      "final.output.concentrate_ag                   0.003918\n",
      "final.output.concentrate_pb                   0.003830\n",
      "final.output.concentrate_sol                  0.016948\n",
      "final.output.concentrate_au                   0.003786\n",
      "                                                ...   \n",
      "secondary_cleaner.state.floatbank5_a_level    0.004446\n",
      "secondary_cleaner.state.floatbank5_b_air      0.004446\n",
      "secondary_cleaner.state.floatbank5_b_level    0.004402\n",
      "secondary_cleaner.state.floatbank6_a_air      0.005239\n",
      "secondary_cleaner.state.floatbank6_a_level    0.004446\n",
      "Length: 87, dtype: float64\n",
      "Количество пропусков в каждом столбце\n",
      "date                                          0.000000\n",
      "final.output.concentrate_ag                   0.003918\n",
      "final.output.concentrate_pb                   0.003830\n",
      "final.output.concentrate_sol                  0.016948\n",
      "final.output.concentrate_au                   0.003786\n",
      "                                                ...   \n",
      "secondary_cleaner.state.floatbank5_a_level    0.004446\n",
      "secondary_cleaner.state.floatbank5_b_air      0.004446\n",
      "secondary_cleaner.state.floatbank5_b_level    0.004402\n",
      "secondary_cleaner.state.floatbank6_a_air      0.005239\n",
      "secondary_cleaner.state.floatbank6_a_level    0.004446\n",
      "Length: 87, dtype: float64\n",
      "Количество пропусков в каждом столбце\n",
      "date                                          0.000000\n",
      "final.output.concentrate_ag                   0.003918\n",
      "final.output.concentrate_pb                   0.003830\n",
      "final.output.concentrate_sol                  0.016948\n",
      "final.output.concentrate_au                   0.003786\n",
      "                                                ...   \n",
      "secondary_cleaner.state.floatbank5_a_level    0.004446\n",
      "secondary_cleaner.state.floatbank5_b_air      0.004446\n",
      "secondary_cleaner.state.floatbank5_b_level    0.004402\n",
      "secondary_cleaner.state.floatbank6_a_air      0.005239\n",
      "secondary_cleaner.state.floatbank6_a_level    0.004446\n",
      "Length: 87, dtype: float64\n",
      "Количество пропусков в каждом столбце\n",
      "date                                          0.000000\n",
      "final.output.concentrate_ag                   0.003918\n",
      "final.output.concentrate_pb                   0.003830\n",
      "final.output.concentrate_sol                  0.016948\n",
      "final.output.concentrate_au                   0.003786\n",
      "                                                ...   \n",
      "secondary_cleaner.state.floatbank5_a_level    0.004446\n",
      "secondary_cleaner.state.floatbank5_b_air      0.004446\n",
      "secondary_cleaner.state.floatbank5_b_level    0.004402\n",
      "secondary_cleaner.state.floatbank6_a_air      0.005239\n",
      "secondary_cleaner.state.floatbank6_a_level    0.004446\n",
      "Length: 87, dtype: float64\n",
      "Количество пропусков в каждом столбце\n",
      "date                                          0.000000\n",
      "final.output.concentrate_ag                   0.003918\n",
      "final.output.concentrate_pb                   0.003830\n",
      "final.output.concentrate_sol                  0.016948\n",
      "final.output.concentrate_au                   0.003786\n",
      "                                                ...   \n",
      "secondary_cleaner.state.floatbank5_a_level    0.004446\n",
      "secondary_cleaner.state.floatbank5_b_air      0.004446\n",
      "secondary_cleaner.state.floatbank5_b_level    0.004402\n",
      "secondary_cleaner.state.floatbank6_a_air      0.005239\n",
      "secondary_cleaner.state.floatbank6_a_level    0.004446\n",
      "Length: 87, dtype: float64\n",
      "Количество пропусков в каждом столбце\n",
      "date                                          0.000000\n",
      "final.output.concentrate_ag                   0.003918\n",
      "final.output.concentrate_pb                   0.003830\n",
      "final.output.concentrate_sol                  0.016948\n",
      "final.output.concentrate_au                   0.003786\n",
      "                                                ...   \n",
      "secondary_cleaner.state.floatbank5_a_level    0.004446\n",
      "secondary_cleaner.state.floatbank5_b_air      0.004446\n",
      "secondary_cleaner.state.floatbank5_b_level    0.004402\n",
      "secondary_cleaner.state.floatbank6_a_air      0.005239\n",
      "secondary_cleaner.state.floatbank6_a_level    0.004446\n",
      "Length: 87, dtype: float64\n",
      "Количество пропусков в каждом столбце\n",
      "date                                          0.000000\n",
      "final.output.concentrate_ag                   0.003918\n",
      "final.output.concentrate_pb                   0.003830\n",
      "final.output.concentrate_sol                  0.016948\n",
      "final.output.concentrate_au                   0.003786\n",
      "                                                ...   \n",
      "secondary_cleaner.state.floatbank5_a_level    0.004446\n",
      "secondary_cleaner.state.floatbank5_b_air      0.004446\n",
      "secondary_cleaner.state.floatbank5_b_level    0.004402\n",
      "secondary_cleaner.state.floatbank6_a_air      0.005239\n",
      "secondary_cleaner.state.floatbank6_a_level    0.004446\n",
      "Length: 87, dtype: float64\n",
      "Количество пропусков в каждом столбце\n",
      "date                                          0.000000\n",
      "final.output.concentrate_ag                   0.003918\n",
      "final.output.concentrate_pb                   0.003830\n",
      "final.output.concentrate_sol                  0.016948\n",
      "final.output.concentrate_au                   0.003786\n",
      "                                                ...   \n",
      "secondary_cleaner.state.floatbank5_a_level    0.004446\n",
      "secondary_cleaner.state.floatbank5_b_air      0.004446\n",
      "secondary_cleaner.state.floatbank5_b_level    0.004402\n",
      "secondary_cleaner.state.floatbank6_a_air      0.005239\n",
      "secondary_cleaner.state.floatbank6_a_level    0.004446\n",
      "Length: 87, dtype: float64\n",
      "Количество пропусков в каждом столбце\n",
      "date                                          0.000000\n",
      "final.output.concentrate_ag                   0.003918\n",
      "final.output.concentrate_pb                   0.003830\n",
      "final.output.concentrate_sol                  0.016948\n",
      "final.output.concentrate_au                   0.003786\n",
      "                                                ...   \n",
      "secondary_cleaner.state.floatbank5_a_level    0.004446\n",
      "secondary_cleaner.state.floatbank5_b_air      0.004446\n",
      "secondary_cleaner.state.floatbank5_b_level    0.004402\n",
      "secondary_cleaner.state.floatbank6_a_air      0.005239\n",
      "secondary_cleaner.state.floatbank6_a_level    0.004446\n",
      "Length: 87, dtype: float64\n",
      "Количество пропусков в каждом столбце\n",
      "date                                          0.000000\n",
      "final.output.concentrate_ag                   0.003918\n",
      "final.output.concentrate_pb                   0.003830\n",
      "final.output.concentrate_sol                  0.016948\n",
      "final.output.concentrate_au                   0.003786\n",
      "                                                ...   \n",
      "secondary_cleaner.state.floatbank5_a_level    0.004446\n",
      "secondary_cleaner.state.floatbank5_b_air      0.004446\n",
      "secondary_cleaner.state.floatbank5_b_level    0.004402\n",
      "secondary_cleaner.state.floatbank6_a_air      0.005239\n",
      "secondary_cleaner.state.floatbank6_a_level    0.004446\n",
      "Length: 87, dtype: float64\n",
      "Количество пропусков в каждом столбце\n",
      "date                                          0.000000\n",
      "final.output.concentrate_ag                   0.003918\n",
      "final.output.concentrate_pb                   0.003830\n",
      "final.output.concentrate_sol                  0.016948\n",
      "final.output.concentrate_au                   0.003786\n",
      "                                                ...   \n",
      "secondary_cleaner.state.floatbank5_a_level    0.004446\n",
      "secondary_cleaner.state.floatbank5_b_air      0.004446\n",
      "secondary_cleaner.state.floatbank5_b_level    0.004402\n",
      "secondary_cleaner.state.floatbank6_a_air      0.005239\n",
      "secondary_cleaner.state.floatbank6_a_level    0.004446\n",
      "Length: 87, dtype: float64\n",
      "Количество пропусков в каждом столбце\n",
      "date                                          0.000000\n",
      "final.output.concentrate_ag                   0.003918\n",
      "final.output.concentrate_pb                   0.003830\n",
      "final.output.concentrate_sol                  0.016948\n",
      "final.output.concentrate_au                   0.003786\n",
      "                                                ...   \n",
      "secondary_cleaner.state.floatbank5_a_level    0.004446\n",
      "secondary_cleaner.state.floatbank5_b_air      0.004446\n",
      "secondary_cleaner.state.floatbank5_b_level    0.004402\n",
      "secondary_cleaner.state.floatbank6_a_air      0.005239\n",
      "secondary_cleaner.state.floatbank6_a_level    0.004446\n",
      "Length: 87, dtype: float64\n",
      "Количество пропусков в каждом столбце\n",
      "date                                          0.000000\n",
      "final.output.concentrate_ag                   0.003918\n",
      "final.output.concentrate_pb                   0.003830\n",
      "final.output.concentrate_sol                  0.016948\n",
      "final.output.concentrate_au                   0.003786\n",
      "                                                ...   \n",
      "secondary_cleaner.state.floatbank5_a_level    0.004446\n",
      "secondary_cleaner.state.floatbank5_b_air      0.004446\n",
      "secondary_cleaner.state.floatbank5_b_level    0.004402\n",
      "secondary_cleaner.state.floatbank6_a_air      0.005239\n",
      "secondary_cleaner.state.floatbank6_a_level    0.004446\n",
      "Length: 87, dtype: float64\n",
      "Количество пропусков в каждом столбце\n",
      "date                                          0.000000\n",
      "final.output.concentrate_ag                   0.003918\n",
      "final.output.concentrate_pb                   0.003830\n",
      "final.output.concentrate_sol                  0.016948\n",
      "final.output.concentrate_au                   0.003786\n",
      "                                                ...   \n",
      "secondary_cleaner.state.floatbank5_a_level    0.004446\n",
      "secondary_cleaner.state.floatbank5_b_air      0.004446\n",
      "secondary_cleaner.state.floatbank5_b_level    0.004402\n",
      "secondary_cleaner.state.floatbank6_a_air      0.005239\n",
      "secondary_cleaner.state.floatbank6_a_level    0.004446\n",
      "Length: 87, dtype: float64\n",
      "Количество пропусков в каждом столбце\n",
      "date                                          0.000000\n",
      "final.output.concentrate_ag                   0.003918\n",
      "final.output.concentrate_pb                   0.003830\n",
      "final.output.concentrate_sol                  0.016948\n",
      "final.output.concentrate_au                   0.003786\n",
      "                                                ...   \n",
      "secondary_cleaner.state.floatbank5_a_level    0.004446\n",
      "secondary_cleaner.state.floatbank5_b_air      0.004446\n",
      "secondary_cleaner.state.floatbank5_b_level    0.004402\n",
      "secondary_cleaner.state.floatbank6_a_air      0.005239\n",
      "secondary_cleaner.state.floatbank6_a_level    0.004446\n",
      "Length: 87, dtype: float64\n",
      "Количество пропусков в каждом столбце\n",
      "date                                          0.000000\n",
      "final.output.concentrate_ag                   0.003918\n",
      "final.output.concentrate_pb                   0.003830\n",
      "final.output.concentrate_sol                  0.016948\n",
      "final.output.concentrate_au                   0.003786\n",
      "                                                ...   \n",
      "secondary_cleaner.state.floatbank5_a_level    0.004446\n",
      "secondary_cleaner.state.floatbank5_b_air      0.004446\n",
      "secondary_cleaner.state.floatbank5_b_level    0.004402\n",
      "secondary_cleaner.state.floatbank6_a_air      0.005239\n",
      "secondary_cleaner.state.floatbank6_a_level    0.004446\n",
      "Length: 87, dtype: float64\n",
      "Количество пропусков в каждом столбце\n",
      "date                                          0.000000\n",
      "final.output.concentrate_ag                   0.003918\n",
      "final.output.concentrate_pb                   0.003830\n",
      "final.output.concentrate_sol                  0.016948\n",
      "final.output.concentrate_au                   0.003786\n",
      "                                                ...   \n",
      "secondary_cleaner.state.floatbank5_a_level    0.004446\n",
      "secondary_cleaner.state.floatbank5_b_air      0.004446\n",
      "secondary_cleaner.state.floatbank5_b_level    0.004402\n",
      "secondary_cleaner.state.floatbank6_a_air      0.005239\n",
      "secondary_cleaner.state.floatbank6_a_level    0.004446\n",
      "Length: 87, dtype: float64\n",
      "Количество пропусков в каждом столбце\n",
      "date                                          0.000000\n",
      "final.output.concentrate_ag                   0.003918\n",
      "final.output.concentrate_pb                   0.003830\n",
      "final.output.concentrate_sol                  0.016948\n",
      "final.output.concentrate_au                   0.003786\n",
      "                                                ...   \n",
      "secondary_cleaner.state.floatbank5_a_level    0.004446\n",
      "secondary_cleaner.state.floatbank5_b_air      0.004446\n",
      "secondary_cleaner.state.floatbank5_b_level    0.004402\n",
      "secondary_cleaner.state.floatbank6_a_air      0.005239\n",
      "secondary_cleaner.state.floatbank6_a_level    0.004446\n",
      "Length: 87, dtype: float64\n",
      "Количество пропусков в каждом столбце\n",
      "date                                          0.000000\n",
      "final.output.concentrate_ag                   0.003918\n",
      "final.output.concentrate_pb                   0.003830\n",
      "final.output.concentrate_sol                  0.016948\n",
      "final.output.concentrate_au                   0.003786\n",
      "                                                ...   \n",
      "secondary_cleaner.state.floatbank5_a_level    0.004446\n",
      "secondary_cleaner.state.floatbank5_b_air      0.004446\n",
      "secondary_cleaner.state.floatbank5_b_level    0.004402\n",
      "secondary_cleaner.state.floatbank6_a_air      0.005239\n",
      "secondary_cleaner.state.floatbank6_a_level    0.004446\n",
      "Length: 87, dtype: float64\n",
      "Количество пропусков в каждом столбце\n",
      "date                                          0.000000\n",
      "final.output.concentrate_ag                   0.003918\n",
      "final.output.concentrate_pb                   0.003830\n",
      "final.output.concentrate_sol                  0.016948\n",
      "final.output.concentrate_au                   0.003786\n",
      "                                                ...   \n",
      "secondary_cleaner.state.floatbank5_a_level    0.004446\n",
      "secondary_cleaner.state.floatbank5_b_air      0.004446\n",
      "secondary_cleaner.state.floatbank5_b_level    0.004402\n",
      "secondary_cleaner.state.floatbank6_a_air      0.005239\n",
      "secondary_cleaner.state.floatbank6_a_level    0.004446\n",
      "Length: 87, dtype: float64\n",
      "Количество пропусков в каждом столбце\n",
      "date                                          0.000000\n",
      "final.output.concentrate_ag                   0.003918\n",
      "final.output.concentrate_pb                   0.003830\n",
      "final.output.concentrate_sol                  0.016948\n",
      "final.output.concentrate_au                   0.003786\n",
      "                                                ...   \n",
      "secondary_cleaner.state.floatbank5_a_level    0.004446\n",
      "secondary_cleaner.state.floatbank5_b_air      0.004446\n",
      "secondary_cleaner.state.floatbank5_b_level    0.004402\n",
      "secondary_cleaner.state.floatbank6_a_air      0.005239\n",
      "secondary_cleaner.state.floatbank6_a_level    0.004446\n",
      "Length: 87, dtype: float64\n",
      "Количество пропусков в каждом столбце\n",
      "date                                          0.000000\n",
      "final.output.concentrate_ag                   0.003918\n",
      "final.output.concentrate_pb                   0.003830\n",
      "final.output.concentrate_sol                  0.016948\n",
      "final.output.concentrate_au                   0.003786\n",
      "                                                ...   \n",
      "secondary_cleaner.state.floatbank5_a_level    0.004446\n",
      "secondary_cleaner.state.floatbank5_b_air      0.004446\n",
      "secondary_cleaner.state.floatbank5_b_level    0.004402\n",
      "secondary_cleaner.state.floatbank6_a_air      0.005239\n",
      "secondary_cleaner.state.floatbank6_a_level    0.004446\n",
      "Length: 87, dtype: float64\n",
      "Количество пропусков в каждом столбце\n",
      "date                                          0.000000\n",
      "final.output.concentrate_ag                   0.003918\n",
      "final.output.concentrate_pb                   0.003830\n",
      "final.output.concentrate_sol                  0.016948\n",
      "final.output.concentrate_au                   0.003786\n",
      "                                                ...   \n",
      "secondary_cleaner.state.floatbank5_a_level    0.004446\n",
      "secondary_cleaner.state.floatbank5_b_air      0.004446\n",
      "secondary_cleaner.state.floatbank5_b_level    0.004402\n",
      "secondary_cleaner.state.floatbank6_a_air      0.005239\n",
      "secondary_cleaner.state.floatbank6_a_level    0.004446\n",
      "Length: 87, dtype: float64\n",
      "Количество пропусков в каждом столбце\n",
      "date                                          0.000000\n",
      "final.output.concentrate_ag                   0.003918\n",
      "final.output.concentrate_pb                   0.003830\n",
      "final.output.concentrate_sol                  0.016948\n",
      "final.output.concentrate_au                   0.003786\n",
      "                                                ...   \n",
      "secondary_cleaner.state.floatbank5_a_level    0.004446\n",
      "secondary_cleaner.state.floatbank5_b_air      0.004446\n",
      "secondary_cleaner.state.floatbank5_b_level    0.004402\n",
      "secondary_cleaner.state.floatbank6_a_air      0.005239\n",
      "secondary_cleaner.state.floatbank6_a_level    0.004446\n",
      "Length: 87, dtype: float64\n",
      "Количество пропусков в каждом столбце\n",
      "date                                          0.000000\n",
      "final.output.concentrate_ag                   0.003918\n",
      "final.output.concentrate_pb                   0.003830\n",
      "final.output.concentrate_sol                  0.016948\n",
      "final.output.concentrate_au                   0.003786\n",
      "                                                ...   \n",
      "secondary_cleaner.state.floatbank5_a_level    0.004446\n",
      "secondary_cleaner.state.floatbank5_b_air      0.004446\n",
      "secondary_cleaner.state.floatbank5_b_level    0.004402\n",
      "secondary_cleaner.state.floatbank6_a_air      0.005239\n",
      "secondary_cleaner.state.floatbank6_a_level    0.004446\n",
      "Length: 87, dtype: float64\n",
      "Количество пропусков в каждом столбце\n",
      "date                                          0.000000\n",
      "final.output.concentrate_ag                   0.003918\n",
      "final.output.concentrate_pb                   0.003830\n",
      "final.output.concentrate_sol                  0.016948\n",
      "final.output.concentrate_au                   0.003786\n",
      "                                                ...   \n",
      "secondary_cleaner.state.floatbank5_a_level    0.004446\n",
      "secondary_cleaner.state.floatbank5_b_air      0.004446\n",
      "secondary_cleaner.state.floatbank5_b_level    0.004402\n",
      "secondary_cleaner.state.floatbank6_a_air      0.005239\n",
      "secondary_cleaner.state.floatbank6_a_level    0.004446\n",
      "Length: 87, dtype: float64\n",
      "Количество пропусков в каждом столбце\n",
      "date                                          0.000000\n",
      "final.output.concentrate_ag                   0.003918\n",
      "final.output.concentrate_pb                   0.003830\n",
      "final.output.concentrate_sol                  0.016948\n",
      "final.output.concentrate_au                   0.003786\n",
      "                                                ...   \n",
      "secondary_cleaner.state.floatbank5_a_level    0.004446\n",
      "secondary_cleaner.state.floatbank5_b_air      0.004446\n",
      "secondary_cleaner.state.floatbank5_b_level    0.004402\n",
      "secondary_cleaner.state.floatbank6_a_air      0.005239\n",
      "secondary_cleaner.state.floatbank6_a_level    0.004446\n",
      "Length: 87, dtype: float64\n",
      "Количество пропусков в каждом столбце\n",
      "date                                          0.000000\n",
      "final.output.concentrate_ag                   0.003918\n",
      "final.output.concentrate_pb                   0.003830\n",
      "final.output.concentrate_sol                  0.016948\n",
      "final.output.concentrate_au                   0.003786\n",
      "                                                ...   \n",
      "secondary_cleaner.state.floatbank5_a_level    0.004446\n",
      "secondary_cleaner.state.floatbank5_b_air      0.004446\n",
      "secondary_cleaner.state.floatbank5_b_level    0.004402\n",
      "secondary_cleaner.state.floatbank6_a_air      0.005239\n",
      "secondary_cleaner.state.floatbank6_a_level    0.004446\n",
      "Length: 87, dtype: float64\n",
      "Количество пропусков в каждом столбце\n",
      "date                                          0.000000\n",
      "final.output.concentrate_ag                   0.003918\n",
      "final.output.concentrate_pb                   0.003830\n",
      "final.output.concentrate_sol                  0.016948\n",
      "final.output.concentrate_au                   0.003786\n",
      "                                                ...   \n",
      "secondary_cleaner.state.floatbank5_a_level    0.004446\n",
      "secondary_cleaner.state.floatbank5_b_air      0.004446\n",
      "secondary_cleaner.state.floatbank5_b_level    0.004402\n",
      "secondary_cleaner.state.floatbank6_a_air      0.005239\n",
      "secondary_cleaner.state.floatbank6_a_level    0.004446\n",
      "Length: 87, dtype: float64\n",
      "Количество пропусков в каждом столбце\n",
      "date                                          0.000000\n",
      "final.output.concentrate_ag                   0.003918\n",
      "final.output.concentrate_pb                   0.003830\n",
      "final.output.concentrate_sol                  0.016948\n",
      "final.output.concentrate_au                   0.003786\n",
      "                                                ...   \n",
      "secondary_cleaner.state.floatbank5_a_level    0.004446\n",
      "secondary_cleaner.state.floatbank5_b_air      0.004446\n",
      "secondary_cleaner.state.floatbank5_b_level    0.004402\n",
      "secondary_cleaner.state.floatbank6_a_air      0.005239\n",
      "secondary_cleaner.state.floatbank6_a_level    0.004446\n",
      "Length: 87, dtype: float64\n",
      "Количество пропусков в каждом столбце\n",
      "date                                          0.000000\n",
      "final.output.concentrate_ag                   0.003918\n",
      "final.output.concentrate_pb                   0.003830\n",
      "final.output.concentrate_sol                  0.016948\n",
      "final.output.concentrate_au                   0.003786\n",
      "                                                ...   \n",
      "secondary_cleaner.state.floatbank5_a_level    0.004446\n",
      "secondary_cleaner.state.floatbank5_b_air      0.004446\n",
      "secondary_cleaner.state.floatbank5_b_level    0.004402\n",
      "secondary_cleaner.state.floatbank6_a_air      0.005239\n",
      "secondary_cleaner.state.floatbank6_a_level    0.004446\n",
      "Length: 87, dtype: float64\n",
      "Количество пропусков в каждом столбце\n",
      "date                                          0.000000\n",
      "final.output.concentrate_ag                   0.003918\n",
      "final.output.concentrate_pb                   0.003830\n",
      "final.output.concentrate_sol                  0.016948\n",
      "final.output.concentrate_au                   0.003786\n",
      "                                                ...   \n",
      "secondary_cleaner.state.floatbank5_a_level    0.004446\n",
      "secondary_cleaner.state.floatbank5_b_air      0.004446\n",
      "secondary_cleaner.state.floatbank5_b_level    0.004402\n",
      "secondary_cleaner.state.floatbank6_a_air      0.005239\n",
      "secondary_cleaner.state.floatbank6_a_level    0.004446\n",
      "Length: 87, dtype: float64\n",
      "Количество пропусков в каждом столбце\n",
      "date                                          0.000000\n",
      "final.output.concentrate_ag                   0.003918\n",
      "final.output.concentrate_pb                   0.003830\n",
      "final.output.concentrate_sol                  0.016948\n",
      "final.output.concentrate_au                   0.003786\n",
      "                                                ...   \n",
      "secondary_cleaner.state.floatbank5_a_level    0.004446\n",
      "secondary_cleaner.state.floatbank5_b_air      0.004446\n",
      "secondary_cleaner.state.floatbank5_b_level    0.004402\n",
      "secondary_cleaner.state.floatbank6_a_air      0.005239\n",
      "secondary_cleaner.state.floatbank6_a_level    0.004446\n",
      "Length: 87, dtype: float64\n",
      "Количество пропусков в каждом столбце\n",
      "date                                          0.000000\n",
      "final.output.concentrate_ag                   0.003918\n",
      "final.output.concentrate_pb                   0.003830\n",
      "final.output.concentrate_sol                  0.016948\n",
      "final.output.concentrate_au                   0.003786\n",
      "                                                ...   \n",
      "secondary_cleaner.state.floatbank5_a_level    0.004446\n",
      "secondary_cleaner.state.floatbank5_b_air      0.004446\n",
      "secondary_cleaner.state.floatbank5_b_level    0.004402\n",
      "secondary_cleaner.state.floatbank6_a_air      0.005239\n",
      "secondary_cleaner.state.floatbank6_a_level    0.004446\n",
      "Length: 87, dtype: float64\n",
      "Количество пропусков в каждом столбце\n",
      "date                                          0.000000\n",
      "final.output.concentrate_ag                   0.003918\n",
      "final.output.concentrate_pb                   0.003830\n",
      "final.output.concentrate_sol                  0.016948\n",
      "final.output.concentrate_au                   0.003786\n",
      "                                                ...   \n",
      "secondary_cleaner.state.floatbank5_a_level    0.004446\n",
      "secondary_cleaner.state.floatbank5_b_air      0.004446\n",
      "secondary_cleaner.state.floatbank5_b_level    0.004402\n",
      "secondary_cleaner.state.floatbank6_a_air      0.005239\n",
      "secondary_cleaner.state.floatbank6_a_level    0.004446\n",
      "Length: 87, dtype: float64\n",
      "Количество пропусков в каждом столбце\n",
      "date                                          0.000000\n",
      "final.output.concentrate_ag                   0.003918\n",
      "final.output.concentrate_pb                   0.003830\n",
      "final.output.concentrate_sol                  0.016948\n",
      "final.output.concentrate_au                   0.003786\n",
      "                                                ...   \n",
      "secondary_cleaner.state.floatbank5_a_level    0.004446\n",
      "secondary_cleaner.state.floatbank5_b_air      0.004446\n",
      "secondary_cleaner.state.floatbank5_b_level    0.004402\n",
      "secondary_cleaner.state.floatbank6_a_air      0.005239\n",
      "secondary_cleaner.state.floatbank6_a_level    0.004446\n",
      "Length: 87, dtype: float64\n",
      "Количество пропусков в каждом столбце\n",
      "date                                          0.000000\n",
      "final.output.concentrate_ag                   0.003918\n",
      "final.output.concentrate_pb                   0.003830\n",
      "final.output.concentrate_sol                  0.016948\n",
      "final.output.concentrate_au                   0.003786\n",
      "                                                ...   \n",
      "secondary_cleaner.state.floatbank5_a_level    0.004446\n",
      "secondary_cleaner.state.floatbank5_b_air      0.004446\n",
      "secondary_cleaner.state.floatbank5_b_level    0.004402\n",
      "secondary_cleaner.state.floatbank6_a_air      0.005239\n",
      "secondary_cleaner.state.floatbank6_a_level    0.004446\n",
      "Length: 87, dtype: float64\n",
      "Количество пропусков в каждом столбце\n",
      "date                                          0.000000\n",
      "final.output.concentrate_ag                   0.003918\n",
      "final.output.concentrate_pb                   0.003830\n",
      "final.output.concentrate_sol                  0.016948\n",
      "final.output.concentrate_au                   0.003786\n",
      "                                                ...   \n",
      "secondary_cleaner.state.floatbank5_a_level    0.004446\n",
      "secondary_cleaner.state.floatbank5_b_air      0.004446\n",
      "secondary_cleaner.state.floatbank5_b_level    0.004402\n",
      "secondary_cleaner.state.floatbank6_a_air      0.005239\n",
      "secondary_cleaner.state.floatbank6_a_level    0.004446\n",
      "Length: 87, dtype: float64\n",
      "Количество пропусков в каждом столбце\n",
      "date                                          0.000000\n",
      "final.output.concentrate_ag                   0.003918\n",
      "final.output.concentrate_pb                   0.003830\n",
      "final.output.concentrate_sol                  0.016948\n",
      "final.output.concentrate_au                   0.003786\n",
      "                                                ...   \n",
      "secondary_cleaner.state.floatbank5_a_level    0.004446\n",
      "secondary_cleaner.state.floatbank5_b_air      0.004446\n",
      "secondary_cleaner.state.floatbank5_b_level    0.004402\n",
      "secondary_cleaner.state.floatbank6_a_air      0.005239\n",
      "secondary_cleaner.state.floatbank6_a_level    0.004446\n",
      "Length: 87, dtype: float64\n",
      "Количество пропусков в каждом столбце\n",
      "date                                          0.000000\n",
      "final.output.concentrate_ag                   0.003918\n",
      "final.output.concentrate_pb                   0.003830\n",
      "final.output.concentrate_sol                  0.016948\n",
      "final.output.concentrate_au                   0.003786\n",
      "                                                ...   \n",
      "secondary_cleaner.state.floatbank5_a_level    0.004446\n",
      "secondary_cleaner.state.floatbank5_b_air      0.004446\n",
      "secondary_cleaner.state.floatbank5_b_level    0.004402\n",
      "secondary_cleaner.state.floatbank6_a_air      0.005239\n",
      "secondary_cleaner.state.floatbank6_a_level    0.004446\n",
      "Length: 87, dtype: float64\n",
      "Количество пропусков в каждом столбце\n",
      "date                                          0.000000\n",
      "final.output.concentrate_ag                   0.003918\n",
      "final.output.concentrate_pb                   0.003830\n",
      "final.output.concentrate_sol                  0.016948\n",
      "final.output.concentrate_au                   0.003786\n",
      "                                                ...   \n",
      "secondary_cleaner.state.floatbank5_a_level    0.004446\n",
      "secondary_cleaner.state.floatbank5_b_air      0.004446\n",
      "secondary_cleaner.state.floatbank5_b_level    0.004402\n",
      "secondary_cleaner.state.floatbank6_a_air      0.005239\n",
      "secondary_cleaner.state.floatbank6_a_level    0.004446\n",
      "Length: 87, dtype: float64\n",
      "Количество пропусков в каждом столбце\n",
      "date                                          0.000000\n",
      "final.output.concentrate_ag                   0.003918\n",
      "final.output.concentrate_pb                   0.003830\n",
      "final.output.concentrate_sol                  0.016948\n",
      "final.output.concentrate_au                   0.003786\n",
      "                                                ...   \n",
      "secondary_cleaner.state.floatbank5_a_level    0.004446\n",
      "secondary_cleaner.state.floatbank5_b_air      0.004446\n",
      "secondary_cleaner.state.floatbank5_b_level    0.004402\n",
      "secondary_cleaner.state.floatbank6_a_air      0.005239\n",
      "secondary_cleaner.state.floatbank6_a_level    0.004446\n",
      "Length: 87, dtype: float64\n",
      "Количество пропусков в каждом столбце\n",
      "date                                          0.000000\n",
      "final.output.concentrate_ag                   0.003918\n",
      "final.output.concentrate_pb                   0.003830\n",
      "final.output.concentrate_sol                  0.016948\n",
      "final.output.concentrate_au                   0.003786\n",
      "                                                ...   \n",
      "secondary_cleaner.state.floatbank5_a_level    0.004446\n",
      "secondary_cleaner.state.floatbank5_b_air      0.004446\n",
      "secondary_cleaner.state.floatbank5_b_level    0.004402\n",
      "secondary_cleaner.state.floatbank6_a_air      0.005239\n",
      "secondary_cleaner.state.floatbank6_a_level    0.004446\n",
      "Length: 87, dtype: float64\n",
      "Количество пропусков в каждом столбце\n",
      "date                                          0.000000\n",
      "final.output.concentrate_ag                   0.003918\n",
      "final.output.concentrate_pb                   0.003830\n",
      "final.output.concentrate_sol                  0.016948\n",
      "final.output.concentrate_au                   0.003786\n",
      "                                                ...   \n",
      "secondary_cleaner.state.floatbank5_a_level    0.004446\n",
      "secondary_cleaner.state.floatbank5_b_air      0.004446\n",
      "secondary_cleaner.state.floatbank5_b_level    0.004402\n",
      "secondary_cleaner.state.floatbank6_a_air      0.005239\n",
      "secondary_cleaner.state.floatbank6_a_level    0.004446\n",
      "Length: 87, dtype: float64\n",
      "Количество пропусков в каждом столбце\n",
      "date                                          0.000000\n",
      "final.output.concentrate_ag                   0.003918\n",
      "final.output.concentrate_pb                   0.003830\n",
      "final.output.concentrate_sol                  0.016948\n",
      "final.output.concentrate_au                   0.003786\n",
      "                                                ...   \n",
      "secondary_cleaner.state.floatbank5_a_level    0.004446\n",
      "secondary_cleaner.state.floatbank5_b_air      0.004446\n",
      "secondary_cleaner.state.floatbank5_b_level    0.004402\n",
      "secondary_cleaner.state.floatbank6_a_air      0.005239\n",
      "secondary_cleaner.state.floatbank6_a_level    0.004446\n",
      "Length: 87, dtype: float64\n",
      "Количество пропусков в каждом столбце\n",
      "date                                          0.000000\n",
      "final.output.concentrate_ag                   0.003918\n",
      "final.output.concentrate_pb                   0.003830\n",
      "final.output.concentrate_sol                  0.016948\n",
      "final.output.concentrate_au                   0.003786\n",
      "                                                ...   \n",
      "secondary_cleaner.state.floatbank5_a_level    0.004446\n",
      "secondary_cleaner.state.floatbank5_b_air      0.004446\n",
      "secondary_cleaner.state.floatbank5_b_level    0.004402\n",
      "secondary_cleaner.state.floatbank6_a_air      0.005239\n",
      "secondary_cleaner.state.floatbank6_a_level    0.004446\n",
      "Length: 87, dtype: float64\n",
      "Количество пропусков в каждом столбце\n",
      "date                                          0.000000\n",
      "final.output.concentrate_ag                   0.003918\n",
      "final.output.concentrate_pb                   0.003830\n",
      "final.output.concentrate_sol                  0.016948\n",
      "final.output.concentrate_au                   0.003786\n",
      "                                                ...   \n",
      "secondary_cleaner.state.floatbank5_a_level    0.004446\n",
      "secondary_cleaner.state.floatbank5_b_air      0.004446\n",
      "secondary_cleaner.state.floatbank5_b_level    0.004402\n",
      "secondary_cleaner.state.floatbank6_a_air      0.005239\n",
      "secondary_cleaner.state.floatbank6_a_level    0.004446\n",
      "Length: 87, dtype: float64\n",
      "Количество пропусков в каждом столбце\n",
      "date                                          0.000000\n",
      "final.output.concentrate_ag                   0.003918\n",
      "final.output.concentrate_pb                   0.003830\n",
      "final.output.concentrate_sol                  0.016948\n",
      "final.output.concentrate_au                   0.003786\n",
      "                                                ...   \n",
      "secondary_cleaner.state.floatbank5_a_level    0.004446\n",
      "secondary_cleaner.state.floatbank5_b_air      0.004446\n",
      "secondary_cleaner.state.floatbank5_b_level    0.004402\n",
      "secondary_cleaner.state.floatbank6_a_air      0.005239\n",
      "secondary_cleaner.state.floatbank6_a_level    0.004446\n",
      "Length: 87, dtype: float64\n"
     ]
    }
   ],
   "source": [
    "show_isna(df_full)"
   ]
  },
  {
   "cell_type": "markdown",
   "metadata": {},
   "source": [
    "### Рассчитаем эффективность обогащения чернового концентрата rougher.output.recovery (MAE)"
   ]
  },
  {
   "cell_type": "markdown",
   "metadata": {},
   "source": [
    "Эффективность обогащения рассчитывается по формуле\n",
    "\n",
    "![](https://pictures.s3.yandex.net/resources/Recovery_1576238822.jpg)\n",
    "\n",
    "- C — доля золота в концентрате после флотации/очистки;\n",
    "- F — доля золота в сырье/концентрате до флотации/очистки;\n",
    "- T — доля золота в отвальных хвостах после флотации/очистки."
   ]
  },
  {
   "cell_type": "markdown",
   "metadata": {},
   "source": [
    "Для того чтобы не выдавало `ValueError: Input contains NaN, infinity or a value too large for dtype('float64').`  удалим пропуски из столбцов со значением NaN"
   ]
  },
  {
   "cell_type": "code",
   "execution_count": 26,
   "metadata": {},
   "outputs": [],
   "source": [
    "df_train.dropna(subset=['rougher.output.concentrate_au', 'rougher.input.feed_au',\n",
    "                                   'rougher.output.tail_au','rougher.output.recovery'], inplace=True)"
   ]
  },
  {
   "cell_type": "code",
   "execution_count": 27,
   "metadata": {},
   "outputs": [
    {
     "name": "stdout",
     "output_type": "stream",
     "text": [
      "Эффективность обогащения чернового концентрата 0        87.107763\n",
      "1        86.843261\n",
      "2        86.842308\n",
      "3        87.226430\n",
      "4        86.688794\n",
      "           ...    \n",
      "16855    89.574376\n",
      "16856    87.724007\n",
      "16857    88.890579\n",
      "16858    89.858126\n",
      "16859    89.514960\n",
      "Length: 14287, dtype: float64\n",
      "Абсолютная средняя ошибка = 1.035865202282935e-14\n"
     ]
    }
   ],
   "source": [
    "concentrate_au_column = df_train['rougher.output.concentrate_au']\n",
    "feed_au_column = df_train['rougher.input.feed_au']\n",
    "tail_au_column = df_train['rougher.output.tail_au']\n",
    "input_recovery = df_train['rougher.output.recovery']\n",
    "calculated_recovery = (concentrate_au_column * (feed_au_column - tail_au_column) / feed_au_column \n",
    "                        / (concentrate_au_column - tail_au_column) * 100)\n",
    "print('Эффективность обогащения чернового концентрата', calculated_recovery)\n",
    "print('Абсолютная средняя ошибка =', mean_absolute_error(input_recovery, calculated_recovery))"
   ]
  },
  {
   "cell_type": "markdown",
   "metadata": {},
   "source": [
    "MAE имеет очень малое отклонение - это значит, что расчетное значение rougher.output.recovery совпадает с данными из столбца."
   ]
  },
  {
   "cell_type": "markdown",
   "metadata": {},
   "source": [
    "Также подготовим данные по другим фреймам"
   ]
  },
  {
   "cell_type": "code",
   "execution_count": 28,
   "metadata": {},
   "outputs": [
    {
     "data": {
      "text/plain": [
       "date                                          0.0\n",
       "final.output.concentrate_ag                   0.0\n",
       "final.output.concentrate_pb                   0.0\n",
       "final.output.concentrate_sol                  0.0\n",
       "final.output.concentrate_au                   0.0\n",
       "                                             ... \n",
       "secondary_cleaner.state.floatbank5_a_level    0.0\n",
       "secondary_cleaner.state.floatbank5_b_air      0.0\n",
       "secondary_cleaner.state.floatbank5_b_level    0.0\n",
       "secondary_cleaner.state.floatbank6_a_air      0.0\n",
       "secondary_cleaner.state.floatbank6_a_level    0.0\n",
       "Length: 87, dtype: float64"
      ]
     },
     "execution_count": 28,
     "metadata": {},
     "output_type": "execute_result"
    }
   ],
   "source": [
    "good_df_train = df_train.dropna()\n",
    "good_df_train.isna().mean()"
   ]
  },
  {
   "cell_type": "code",
   "execution_count": 29,
   "metadata": {},
   "outputs": [
    {
     "data": {
      "text/plain": [
       "date                                          0.0\n",
       "primary_cleaner.input.sulfate                 0.0\n",
       "primary_cleaner.input.depressant              0.0\n",
       "primary_cleaner.input.feed_size               0.0\n",
       "primary_cleaner.input.xanthate                0.0\n",
       "primary_cleaner.state.floatbank8_a_air        0.0\n",
       "primary_cleaner.state.floatbank8_a_level      0.0\n",
       "primary_cleaner.state.floatbank8_b_air        0.0\n",
       "primary_cleaner.state.floatbank8_b_level      0.0\n",
       "primary_cleaner.state.floatbank8_c_air        0.0\n",
       "primary_cleaner.state.floatbank8_c_level      0.0\n",
       "primary_cleaner.state.floatbank8_d_air        0.0\n",
       "primary_cleaner.state.floatbank8_d_level      0.0\n",
       "rougher.input.feed_ag                         0.0\n",
       "rougher.input.feed_pb                         0.0\n",
       "rougher.input.feed_rate                       0.0\n",
       "rougher.input.feed_size                       0.0\n",
       "rougher.input.feed_sol                        0.0\n",
       "rougher.input.feed_au                         0.0\n",
       "rougher.input.floatbank10_sulfate             0.0\n",
       "rougher.input.floatbank10_xanthate            0.0\n",
       "rougher.input.floatbank11_sulfate             0.0\n",
       "rougher.input.floatbank11_xanthate            0.0\n",
       "rougher.state.floatbank10_a_air               0.0\n",
       "rougher.state.floatbank10_a_level             0.0\n",
       "rougher.state.floatbank10_b_air               0.0\n",
       "rougher.state.floatbank10_b_level             0.0\n",
       "rougher.state.floatbank10_c_air               0.0\n",
       "rougher.state.floatbank10_c_level             0.0\n",
       "rougher.state.floatbank10_d_air               0.0\n",
       "rougher.state.floatbank10_d_level             0.0\n",
       "rougher.state.floatbank10_e_air               0.0\n",
       "rougher.state.floatbank10_e_level             0.0\n",
       "rougher.state.floatbank10_f_air               0.0\n",
       "rougher.state.floatbank10_f_level             0.0\n",
       "secondary_cleaner.state.floatbank2_a_air      0.0\n",
       "secondary_cleaner.state.floatbank2_a_level    0.0\n",
       "secondary_cleaner.state.floatbank2_b_air      0.0\n",
       "secondary_cleaner.state.floatbank2_b_level    0.0\n",
       "secondary_cleaner.state.floatbank3_a_air      0.0\n",
       "secondary_cleaner.state.floatbank3_a_level    0.0\n",
       "secondary_cleaner.state.floatbank3_b_air      0.0\n",
       "secondary_cleaner.state.floatbank3_b_level    0.0\n",
       "secondary_cleaner.state.floatbank4_a_air      0.0\n",
       "secondary_cleaner.state.floatbank4_a_level    0.0\n",
       "secondary_cleaner.state.floatbank4_b_air      0.0\n",
       "secondary_cleaner.state.floatbank4_b_level    0.0\n",
       "secondary_cleaner.state.floatbank5_a_air      0.0\n",
       "secondary_cleaner.state.floatbank5_a_level    0.0\n",
       "secondary_cleaner.state.floatbank5_b_air      0.0\n",
       "secondary_cleaner.state.floatbank5_b_level    0.0\n",
       "secondary_cleaner.state.floatbank6_a_air      0.0\n",
       "secondary_cleaner.state.floatbank6_a_level    0.0\n",
       "dtype: float64"
      ]
     },
     "execution_count": 29,
     "metadata": {},
     "output_type": "execute_result"
    }
   ],
   "source": [
    "good_df_test = df_test.dropna()\n",
    "good_df_test.isna().mean()"
   ]
  },
  {
   "cell_type": "markdown",
   "metadata": {},
   "source": [
    "**Вывод** Исходя из задания `Некоторые параметры недоступны, потому что замеряются и/или рассчитываются значительно позже. Из-за этого в тестовой выборке отсутствуют некоторые признаки, которые могут быть в обучающей. Также в тестовом наборе нет целевых признаков.` Скорее всего столбцы этапов `rougher.output`, `rougher.calculation`, `final.output`, `primary_cleaner.output` и `secondary_cleaner.output` отсутсвуют в тестовой выборке, так как заполняются после тех. процессов"
   ]
  },
  {
   "cell_type": "code",
   "execution_count": 30,
   "metadata": {},
   "outputs": [
    {
     "data": {
      "text/html": [
       "<div>\n",
       "<style scoped>\n",
       "    .dataframe tbody tr th:only-of-type {\n",
       "        vertical-align: middle;\n",
       "    }\n",
       "\n",
       "    .dataframe tbody tr th {\n",
       "        vertical-align: top;\n",
       "    }\n",
       "\n",
       "    .dataframe thead th {\n",
       "        text-align: right;\n",
       "    }\n",
       "</style>\n",
       "<table border=\"1\" class=\"dataframe\">\n",
       "  <thead>\n",
       "    <tr style=\"text-align: right;\">\n",
       "      <th></th>\n",
       "      <th>date</th>\n",
       "      <th>primary_cleaner.input.sulfate</th>\n",
       "      <th>primary_cleaner.input.depressant</th>\n",
       "      <th>primary_cleaner.input.feed_size</th>\n",
       "      <th>primary_cleaner.input.xanthate</th>\n",
       "      <th>primary_cleaner.state.floatbank8_a_air</th>\n",
       "      <th>primary_cleaner.state.floatbank8_a_level</th>\n",
       "      <th>primary_cleaner.state.floatbank8_b_air</th>\n",
       "      <th>primary_cleaner.state.floatbank8_b_level</th>\n",
       "      <th>primary_cleaner.state.floatbank8_c_air</th>\n",
       "      <th>...</th>\n",
       "      <th>secondary_cleaner.state.floatbank4_a_air</th>\n",
       "      <th>secondary_cleaner.state.floatbank4_a_level</th>\n",
       "      <th>secondary_cleaner.state.floatbank4_b_air</th>\n",
       "      <th>secondary_cleaner.state.floatbank4_b_level</th>\n",
       "      <th>secondary_cleaner.state.floatbank5_a_air</th>\n",
       "      <th>secondary_cleaner.state.floatbank5_a_level</th>\n",
       "      <th>secondary_cleaner.state.floatbank5_b_air</th>\n",
       "      <th>secondary_cleaner.state.floatbank5_b_level</th>\n",
       "      <th>secondary_cleaner.state.floatbank6_a_air</th>\n",
       "      <th>secondary_cleaner.state.floatbank6_a_level</th>\n",
       "    </tr>\n",
       "  </thead>\n",
       "  <tbody>\n",
       "    <tr>\n",
       "      <th>0</th>\n",
       "      <td>2016-09-01 00:59:59</td>\n",
       "      <td>210.800909</td>\n",
       "      <td>14.993118</td>\n",
       "      <td>8.080000</td>\n",
       "      <td>1.005021</td>\n",
       "      <td>1398.981301</td>\n",
       "      <td>-500.225577</td>\n",
       "      <td>1399.144926</td>\n",
       "      <td>-499.919735</td>\n",
       "      <td>1400.102998</td>\n",
       "      <td>...</td>\n",
       "      <td>12.023554</td>\n",
       "      <td>-497.795834</td>\n",
       "      <td>8.016656</td>\n",
       "      <td>-501.289139</td>\n",
       "      <td>7.946562</td>\n",
       "      <td>-432.317850</td>\n",
       "      <td>4.872511</td>\n",
       "      <td>-500.037437</td>\n",
       "      <td>26.705889</td>\n",
       "      <td>-499.709414</td>\n",
       "    </tr>\n",
       "    <tr>\n",
       "      <th>1</th>\n",
       "      <td>2016-09-01 01:59:59</td>\n",
       "      <td>215.392455</td>\n",
       "      <td>14.987471</td>\n",
       "      <td>8.080000</td>\n",
       "      <td>0.990469</td>\n",
       "      <td>1398.777912</td>\n",
       "      <td>-500.057435</td>\n",
       "      <td>1398.055362</td>\n",
       "      <td>-499.778182</td>\n",
       "      <td>1396.151033</td>\n",
       "      <td>...</td>\n",
       "      <td>12.058140</td>\n",
       "      <td>-498.695773</td>\n",
       "      <td>8.130979</td>\n",
       "      <td>-499.634209</td>\n",
       "      <td>7.958270</td>\n",
       "      <td>-525.839648</td>\n",
       "      <td>4.878850</td>\n",
       "      <td>-500.162375</td>\n",
       "      <td>25.019940</td>\n",
       "      <td>-499.819438</td>\n",
       "    </tr>\n",
       "    <tr>\n",
       "      <th>2</th>\n",
       "      <td>2016-09-01 02:59:59</td>\n",
       "      <td>215.259946</td>\n",
       "      <td>12.884934</td>\n",
       "      <td>7.786667</td>\n",
       "      <td>0.996043</td>\n",
       "      <td>1398.493666</td>\n",
       "      <td>-500.868360</td>\n",
       "      <td>1398.860436</td>\n",
       "      <td>-499.764529</td>\n",
       "      <td>1398.075709</td>\n",
       "      <td>...</td>\n",
       "      <td>11.962366</td>\n",
       "      <td>-498.767484</td>\n",
       "      <td>8.096893</td>\n",
       "      <td>-500.827423</td>\n",
       "      <td>8.071056</td>\n",
       "      <td>-500.801673</td>\n",
       "      <td>4.905125</td>\n",
       "      <td>-499.828510</td>\n",
       "      <td>24.994862</td>\n",
       "      <td>-500.622559</td>\n",
       "    </tr>\n",
       "    <tr>\n",
       "      <th>3</th>\n",
       "      <td>2016-09-01 03:59:59</td>\n",
       "      <td>215.336236</td>\n",
       "      <td>12.006805</td>\n",
       "      <td>7.640000</td>\n",
       "      <td>0.863514</td>\n",
       "      <td>1399.618111</td>\n",
       "      <td>-498.863574</td>\n",
       "      <td>1397.440120</td>\n",
       "      <td>-499.211024</td>\n",
       "      <td>1400.129303</td>\n",
       "      <td>...</td>\n",
       "      <td>12.033091</td>\n",
       "      <td>-498.350935</td>\n",
       "      <td>8.074946</td>\n",
       "      <td>-499.474407</td>\n",
       "      <td>7.897085</td>\n",
       "      <td>-500.868509</td>\n",
       "      <td>4.931400</td>\n",
       "      <td>-499.963623</td>\n",
       "      <td>24.948919</td>\n",
       "      <td>-498.709987</td>\n",
       "    </tr>\n",
       "    <tr>\n",
       "      <th>4</th>\n",
       "      <td>2016-09-01 04:59:59</td>\n",
       "      <td>199.099327</td>\n",
       "      <td>10.682530</td>\n",
       "      <td>7.530000</td>\n",
       "      <td>0.805575</td>\n",
       "      <td>1401.268123</td>\n",
       "      <td>-500.808305</td>\n",
       "      <td>1398.128818</td>\n",
       "      <td>-499.504543</td>\n",
       "      <td>1402.172226</td>\n",
       "      <td>...</td>\n",
       "      <td>12.025367</td>\n",
       "      <td>-500.786497</td>\n",
       "      <td>8.054678</td>\n",
       "      <td>-500.397500</td>\n",
       "      <td>8.107890</td>\n",
       "      <td>-509.526725</td>\n",
       "      <td>4.957674</td>\n",
       "      <td>-500.360026</td>\n",
       "      <td>25.003331</td>\n",
       "      <td>-500.856333</td>\n",
       "    </tr>\n",
       "  </tbody>\n",
       "</table>\n",
       "<p>5 rows × 53 columns</p>\n",
       "</div>"
      ],
      "text/plain": [
       "                  date  primary_cleaner.input.sulfate  \\\n",
       "0  2016-09-01 00:59:59                     210.800909   \n",
       "1  2016-09-01 01:59:59                     215.392455   \n",
       "2  2016-09-01 02:59:59                     215.259946   \n",
       "3  2016-09-01 03:59:59                     215.336236   \n",
       "4  2016-09-01 04:59:59                     199.099327   \n",
       "\n",
       "   primary_cleaner.input.depressant  primary_cleaner.input.feed_size  \\\n",
       "0                         14.993118                         8.080000   \n",
       "1                         14.987471                         8.080000   \n",
       "2                         12.884934                         7.786667   \n",
       "3                         12.006805                         7.640000   \n",
       "4                         10.682530                         7.530000   \n",
       "\n",
       "   primary_cleaner.input.xanthate  primary_cleaner.state.floatbank8_a_air  \\\n",
       "0                        1.005021                             1398.981301   \n",
       "1                        0.990469                             1398.777912   \n",
       "2                        0.996043                             1398.493666   \n",
       "3                        0.863514                             1399.618111   \n",
       "4                        0.805575                             1401.268123   \n",
       "\n",
       "   primary_cleaner.state.floatbank8_a_level  \\\n",
       "0                               -500.225577   \n",
       "1                               -500.057435   \n",
       "2                               -500.868360   \n",
       "3                               -498.863574   \n",
       "4                               -500.808305   \n",
       "\n",
       "   primary_cleaner.state.floatbank8_b_air  \\\n",
       "0                             1399.144926   \n",
       "1                             1398.055362   \n",
       "2                             1398.860436   \n",
       "3                             1397.440120   \n",
       "4                             1398.128818   \n",
       "\n",
       "   primary_cleaner.state.floatbank8_b_level  \\\n",
       "0                               -499.919735   \n",
       "1                               -499.778182   \n",
       "2                               -499.764529   \n",
       "3                               -499.211024   \n",
       "4                               -499.504543   \n",
       "\n",
       "   primary_cleaner.state.floatbank8_c_air  ...  \\\n",
       "0                             1400.102998  ...   \n",
       "1                             1396.151033  ...   \n",
       "2                             1398.075709  ...   \n",
       "3                             1400.129303  ...   \n",
       "4                             1402.172226  ...   \n",
       "\n",
       "   secondary_cleaner.state.floatbank4_a_air  \\\n",
       "0                                 12.023554   \n",
       "1                                 12.058140   \n",
       "2                                 11.962366   \n",
       "3                                 12.033091   \n",
       "4                                 12.025367   \n",
       "\n",
       "   secondary_cleaner.state.floatbank4_a_level  \\\n",
       "0                                 -497.795834   \n",
       "1                                 -498.695773   \n",
       "2                                 -498.767484   \n",
       "3                                 -498.350935   \n",
       "4                                 -500.786497   \n",
       "\n",
       "   secondary_cleaner.state.floatbank4_b_air  \\\n",
       "0                                  8.016656   \n",
       "1                                  8.130979   \n",
       "2                                  8.096893   \n",
       "3                                  8.074946   \n",
       "4                                  8.054678   \n",
       "\n",
       "   secondary_cleaner.state.floatbank4_b_level  \\\n",
       "0                                 -501.289139   \n",
       "1                                 -499.634209   \n",
       "2                                 -500.827423   \n",
       "3                                 -499.474407   \n",
       "4                                 -500.397500   \n",
       "\n",
       "   secondary_cleaner.state.floatbank5_a_air  \\\n",
       "0                                  7.946562   \n",
       "1                                  7.958270   \n",
       "2                                  8.071056   \n",
       "3                                  7.897085   \n",
       "4                                  8.107890   \n",
       "\n",
       "   secondary_cleaner.state.floatbank5_a_level  \\\n",
       "0                                 -432.317850   \n",
       "1                                 -525.839648   \n",
       "2                                 -500.801673   \n",
       "3                                 -500.868509   \n",
       "4                                 -509.526725   \n",
       "\n",
       "   secondary_cleaner.state.floatbank5_b_air  \\\n",
       "0                                  4.872511   \n",
       "1                                  4.878850   \n",
       "2                                  4.905125   \n",
       "3                                  4.931400   \n",
       "4                                  4.957674   \n",
       "\n",
       "   secondary_cleaner.state.floatbank5_b_level  \\\n",
       "0                                 -500.037437   \n",
       "1                                 -500.162375   \n",
       "2                                 -499.828510   \n",
       "3                                 -499.963623   \n",
       "4                                 -500.360026   \n",
       "\n",
       "   secondary_cleaner.state.floatbank6_a_air  \\\n",
       "0                                 26.705889   \n",
       "1                                 25.019940   \n",
       "2                                 24.994862   \n",
       "3                                 24.948919   \n",
       "4                                 25.003331   \n",
       "\n",
       "   secondary_cleaner.state.floatbank6_a_level  \n",
       "0                                 -499.709414  \n",
       "1                                 -499.819438  \n",
       "2                                 -500.622559  \n",
       "3                                 -498.709987  \n",
       "4                                 -500.856333  \n",
       "\n",
       "[5 rows x 53 columns]"
      ]
     },
     "execution_count": 30,
     "metadata": {},
     "output_type": "execute_result"
    }
   ],
   "source": [
    "good_df_test.head()"
   ]
  },
  {
   "cell_type": "code",
   "execution_count": 31,
   "metadata": {},
   "outputs": [
    {
     "data": {
      "text/plain": [
       "Index(['date', 'primary_cleaner.input.sulfate',\n",
       "       'primary_cleaner.input.depressant', 'primary_cleaner.input.feed_size',\n",
       "       'primary_cleaner.input.xanthate',\n",
       "       'primary_cleaner.state.floatbank8_a_air',\n",
       "       'primary_cleaner.state.floatbank8_a_level',\n",
       "       'primary_cleaner.state.floatbank8_b_air',\n",
       "       'primary_cleaner.state.floatbank8_b_level',\n",
       "       'primary_cleaner.state.floatbank8_c_air',\n",
       "       'primary_cleaner.state.floatbank8_c_level',\n",
       "       'primary_cleaner.state.floatbank8_d_air',\n",
       "       'primary_cleaner.state.floatbank8_d_level', 'rougher.input.feed_ag',\n",
       "       'rougher.input.feed_pb', 'rougher.input.feed_rate',\n",
       "       'rougher.input.feed_size', 'rougher.input.feed_sol',\n",
       "       'rougher.input.feed_au', 'rougher.input.floatbank10_sulfate',\n",
       "       'rougher.input.floatbank10_xanthate',\n",
       "       'rougher.input.floatbank11_sulfate',\n",
       "       'rougher.input.floatbank11_xanthate', 'rougher.state.floatbank10_a_air',\n",
       "       'rougher.state.floatbank10_a_level', 'rougher.state.floatbank10_b_air',\n",
       "       'rougher.state.floatbank10_b_level', 'rougher.state.floatbank10_c_air',\n",
       "       'rougher.state.floatbank10_c_level', 'rougher.state.floatbank10_d_air',\n",
       "       'rougher.state.floatbank10_d_level', 'rougher.state.floatbank10_e_air',\n",
       "       'rougher.state.floatbank10_e_level', 'rougher.state.floatbank10_f_air',\n",
       "       'rougher.state.floatbank10_f_level',\n",
       "       'secondary_cleaner.state.floatbank2_a_air',\n",
       "       'secondary_cleaner.state.floatbank2_a_level',\n",
       "       'secondary_cleaner.state.floatbank2_b_air',\n",
       "       'secondary_cleaner.state.floatbank2_b_level',\n",
       "       'secondary_cleaner.state.floatbank3_a_air',\n",
       "       'secondary_cleaner.state.floatbank3_a_level',\n",
       "       'secondary_cleaner.state.floatbank3_b_air',\n",
       "       'secondary_cleaner.state.floatbank3_b_level',\n",
       "       'secondary_cleaner.state.floatbank4_a_air',\n",
       "       'secondary_cleaner.state.floatbank4_a_level',\n",
       "       'secondary_cleaner.state.floatbank4_b_air',\n",
       "       'secondary_cleaner.state.floatbank4_b_level',\n",
       "       'secondary_cleaner.state.floatbank5_a_air',\n",
       "       'secondary_cleaner.state.floatbank5_a_level',\n",
       "       'secondary_cleaner.state.floatbank5_b_air',\n",
       "       'secondary_cleaner.state.floatbank5_b_level',\n",
       "       'secondary_cleaner.state.floatbank6_a_air',\n",
       "       'secondary_cleaner.state.floatbank6_a_level'],\n",
       "      dtype='object')"
      ]
     },
     "execution_count": 31,
     "metadata": {},
     "output_type": "execute_result"
    }
   ],
   "source": [
    "good_df_test.columns"
   ]
  },
  {
   "cell_type": "markdown",
   "metadata": {},
   "source": [
    "### Выделение ключевых столбцов для модели и их обработка"
   ]
  },
  {
   "cell_type": "markdown",
   "metadata": {},
   "source": [
    "Выделим столбцы из тестовой выборки, по которым будем обучать модель"
   ]
  },
  {
   "cell_type": "code",
   "execution_count": 32,
   "metadata": {},
   "outputs": [
    {
     "name": "stdout",
     "output_type": "stream",
     "text": [
      "{'rougher.state.floatbank10_a_level', 'rougher.state.floatbank10_c_air', 'rougher.state.floatbank10_b_air', 'rougher.input.feed_rate', 'rougher.input.feed_pb', 'rougher.state.floatbank10_c_level', 'rougher.input.feed_size', 'rougher.input.floatbank10_xanthate', 'rougher.input.feed_ag', 'rougher.state.floatbank10_e_air', 'rougher.state.floatbank10_e_level', 'rougher.state.floatbank10_f_level', 'rougher.input.floatbank11_sulfate', 'rougher.state.floatbank10_b_level', 'rougher.state.floatbank10_a_air', 'rougher.input.feed_sol', 'rougher.input.floatbank11_xanthate', 'rougher.state.floatbank10_f_air', 'rougher.input.floatbank10_sulfate', 'rougher.state.floatbank10_d_level', 'rougher.input.feed_au', 'rougher.state.floatbank10_d_air'}\n",
      "------------\n",
      "{'rougher.state.floatbank10_a_level', 'rougher.state.floatbank10_c_air', 'secondary_cleaner.state.floatbank2_a_air', 'rougher.state.floatbank10_b_air', 'secondary_cleaner.state.floatbank5_a_air', 'secondary_cleaner.state.floatbank3_a_air', 'primary_cleaner.state.floatbank8_a_level', 'primary_cleaner.state.floatbank8_a_air', 'primary_cleaner.state.floatbank8_d_level', 'rougher.input.feed_rate', 'secondary_cleaner.state.floatbank4_a_level', 'secondary_cleaner.state.floatbank2_b_air', 'secondary_cleaner.state.floatbank5_b_air', 'primary_cleaner.input.sulfate', 'rougher.input.feed_pb', 'rougher.state.floatbank10_c_level', 'primary_cleaner.input.depressant', 'rougher.input.feed_size', 'primary_cleaner.state.floatbank8_d_air', 'rougher.input.floatbank10_xanthate', 'secondary_cleaner.state.floatbank5_b_level', 'secondary_cleaner.state.floatbank6_a_level', 'rougher.input.feed_ag', 'rougher.state.floatbank10_e_air', 'primary_cleaner.state.floatbank8_c_air', 'primary_cleaner.input.feed_size', 'secondary_cleaner.state.floatbank3_a_level', 'secondary_cleaner.state.floatbank6_a_air', 'primary_cleaner.state.floatbank8_b_air', 'rougher.state.floatbank10_e_level', 'rougher.state.floatbank10_f_level', 'rougher.input.floatbank11_sulfate', 'secondary_cleaner.state.floatbank4_b_level', 'rougher.state.floatbank10_b_level', 'rougher.state.floatbank10_a_air', 'primary_cleaner.state.floatbank8_c_level', 'secondary_cleaner.state.floatbank4_b_air', 'rougher.input.feed_sol', 'secondary_cleaner.state.floatbank3_b_air', 'rougher.input.floatbank11_xanthate', 'secondary_cleaner.state.floatbank4_a_air', 'secondary_cleaner.state.floatbank2_a_level', 'rougher.state.floatbank10_f_air', 'primary_cleaner.state.floatbank8_b_level', 'primary_cleaner.input.xanthate', 'secondary_cleaner.state.floatbank5_a_level', 'secondary_cleaner.state.floatbank2_b_level', 'secondary_cleaner.state.floatbank3_b_level', 'rougher.input.floatbank10_sulfate', 'rougher.state.floatbank10_d_level', 'rougher.input.feed_au', 'rougher.state.floatbank10_d_air'}\n"
     ]
    }
   ],
   "source": [
    "features_columns = good_df_test.columns[1:] # Оставим все столбцы кроме data, так как не несет никаког осмысла для обучения\n",
    "rougher_features_columns = set(features_columns[12:34]) # Для предсказания rougher.output.recovery используем данные\n",
    "#из стобцов rougher\n",
    "final_features_columns = set(features_columns) # Тут будем использовать все столбцы из тестовой выборки\n",
    "print(rougher_features_columns)\n",
    "print('------------')\n",
    "print(final_features_columns)"
   ]
  },
  {
   "cell_type": "code",
   "execution_count": null,
   "metadata": {},
   "outputs": [],
   "source": []
  },
  {
   "cell_type": "code",
   "execution_count": 33,
   "metadata": {},
   "outputs": [
    {
     "data": {
      "image/png": "[encoded data removed]",
      "text/plain": [
       "<Figure size 720x576 with 1 Axes>"
      ]
     },
     "metadata": {
      "needs_background": "light"
     },
     "output_type": "display_data"
    }
   ],
   "source": [
    "plt.figure(figsize=[10,8])\n",
    "\n",
    "plt.hist(good_df_train['rougher.output.recovery'], bins=90)\n",
    "\n",
    "plt.xlim([0, 100])\n",
    "plt.ylim([0, 700])\n",
    "\n",
    "plt.xlabel(\"Эффективность обогащения чернового концентрата \")\n",
    "plt.ylabel(\"Количество результатов\")\n",
    "\n",
    "plt.title(\"Гистограмма распределения по эффективности обогащения\")\n",
    "plt.show()"
   ]
  },
  {
   "cell_type": "code",
   "execution_count": 34,
   "metadata": {},
   "outputs": [
    {
     "data": {
      "image/png": "[encoded data removed]",
      "text/plain": [
       "<Figure size 720x576 with 1 Axes>"
      ]
     },
     "metadata": {
      "needs_background": "light"
     },
     "output_type": "display_data"
    }
   ],
   "source": [
    "plt.figure(figsize=[10,8])\n",
    "\n",
    "plt.hist(good_df_train['rougher.output.concentrate_au'], bins=100)\n",
    "\n",
    "plt.xlim([0, 100])\n",
    "plt.ylim([0, 700])\n",
    "\n",
    "plt.xlabel(\"Эффективность обогащения чернового концентрата \")\n",
    "plt.ylabel(\"Количество результатов\")\n",
    "\n",
    "plt.title(\"Доля золота в концентрате до очистки\")\n",
    "plt.show()"
   ]
  },
  {
   "cell_type": "markdown",
   "metadata": {},
   "source": [
    "На гистограмме виидм довольно много нулевых результатов, нужно рассмотреть их поподробнее и возможно убрать."
   ]
  },
  {
   "cell_type": "code",
   "execution_count": 35,
   "metadata": {},
   "outputs": [
    {
     "data": {
      "text/html": [
       "<div>\n",
       "<style scoped>\n",
       "    .dataframe tbody tr th:only-of-type {\n",
       "        vertical-align: middle;\n",
       "    }\n",
       "\n",
       "    .dataframe tbody tr th {\n",
       "        vertical-align: top;\n",
       "    }\n",
       "\n",
       "    .dataframe thead th {\n",
       "        text-align: right;\n",
       "    }\n",
       "</style>\n",
       "<table border=\"1\" class=\"dataframe\">\n",
       "  <thead>\n",
       "    <tr style=\"text-align: right;\">\n",
       "      <th></th>\n",
       "      <th>date</th>\n",
       "      <th>final.output.concentrate_ag</th>\n",
       "      <th>final.output.concentrate_pb</th>\n",
       "      <th>final.output.concentrate_sol</th>\n",
       "      <th>final.output.concentrate_au</th>\n",
       "      <th>final.output.recovery</th>\n",
       "      <th>final.output.tail_ag</th>\n",
       "      <th>final.output.tail_pb</th>\n",
       "      <th>final.output.tail_sol</th>\n",
       "      <th>final.output.tail_au</th>\n",
       "      <th>...</th>\n",
       "      <th>secondary_cleaner.state.floatbank4_a_air</th>\n",
       "      <th>secondary_cleaner.state.floatbank4_a_level</th>\n",
       "      <th>secondary_cleaner.state.floatbank4_b_air</th>\n",
       "      <th>secondary_cleaner.state.floatbank4_b_level</th>\n",
       "      <th>secondary_cleaner.state.floatbank5_a_air</th>\n",
       "      <th>secondary_cleaner.state.floatbank5_a_level</th>\n",
       "      <th>secondary_cleaner.state.floatbank5_b_air</th>\n",
       "      <th>secondary_cleaner.state.floatbank5_b_level</th>\n",
       "      <th>secondary_cleaner.state.floatbank6_a_air</th>\n",
       "      <th>secondary_cleaner.state.floatbank6_a_level</th>\n",
       "    </tr>\n",
       "  </thead>\n",
       "  <tbody>\n",
       "    <tr>\n",
       "      <th>45</th>\n",
       "      <td>2016-01-16 21:00:00</td>\n",
       "      <td>4.566664</td>\n",
       "      <td>10.406178</td>\n",
       "      <td>4.588698</td>\n",
       "      <td>46.614456</td>\n",
       "      <td>68.403877</td>\n",
       "      <td>10.705777</td>\n",
       "      <td>1.509070</td>\n",
       "      <td>17.875134</td>\n",
       "      <td>2.509776</td>\n",
       "      <td>...</td>\n",
       "      <td>14.025588</td>\n",
       "      <td>-550.404242</td>\n",
       "      <td>12.028925</td>\n",
       "      <td>-550.570104</td>\n",
       "      <td>10.052072</td>\n",
       "      <td>-500.797905</td>\n",
       "      <td>7.984500</td>\n",
       "      <td>-499.581046</td>\n",
       "      <td>11.982025</td>\n",
       "      <td>-599.161228</td>\n",
       "    </tr>\n",
       "    <tr>\n",
       "      <th>46</th>\n",
       "      <td>2016-01-16 22:00:00</td>\n",
       "      <td>4.577832</td>\n",
       "      <td>10.691605</td>\n",
       "      <td>5.274175</td>\n",
       "      <td>46.250638</td>\n",
       "      <td>70.675633</td>\n",
       "      <td>10.728531</td>\n",
       "      <td>1.641216</td>\n",
       "      <td>18.349339</td>\n",
       "      <td>2.540843</td>\n",
       "      <td>...</td>\n",
       "      <td>14.094808</td>\n",
       "      <td>-550.676337</td>\n",
       "      <td>12.004728</td>\n",
       "      <td>-550.496522</td>\n",
       "      <td>9.953139</td>\n",
       "      <td>-500.330920</td>\n",
       "      <td>8.012074</td>\n",
       "      <td>-500.133530</td>\n",
       "      <td>11.975316</td>\n",
       "      <td>-598.839683</td>\n",
       "    </tr>\n",
       "    <tr>\n",
       "      <th>51</th>\n",
       "      <td>2016-01-17 03:00:00</td>\n",
       "      <td>5.759800</td>\n",
       "      <td>9.537415</td>\n",
       "      <td>3.997737</td>\n",
       "      <td>45.267942</td>\n",
       "      <td>68.638723</td>\n",
       "      <td>10.623064</td>\n",
       "      <td>1.217058</td>\n",
       "      <td>16.072705</td>\n",
       "      <td>2.471388</td>\n",
       "      <td>...</td>\n",
       "      <td>14.164342</td>\n",
       "      <td>-552.959690</td>\n",
       "      <td>11.917980</td>\n",
       "      <td>-549.417320</td>\n",
       "      <td>10.016315</td>\n",
       "      <td>-497.644975</td>\n",
       "      <td>7.999080</td>\n",
       "      <td>-500.112143</td>\n",
       "      <td>12.043030</td>\n",
       "      <td>-599.630112</td>\n",
       "    </tr>\n",
       "  </tbody>\n",
       "</table>\n",
       "<p>3 rows × 87 columns</p>\n",
       "</div>"
      ],
      "text/plain": [
       "                   date  final.output.concentrate_ag  \\\n",
       "45  2016-01-16 21:00:00                     4.566664   \n",
       "46  2016-01-16 22:00:00                     4.577832   \n",
       "51  2016-01-17 03:00:00                     5.759800   \n",
       "\n",
       "    final.output.concentrate_pb  final.output.concentrate_sol  \\\n",
       "45                    10.406178                      4.588698   \n",
       "46                    10.691605                      5.274175   \n",
       "51                     9.537415                      3.997737   \n",
       "\n",
       "    final.output.concentrate_au  final.output.recovery  final.output.tail_ag  \\\n",
       "45                    46.614456              68.403877             10.705777   \n",
       "46                    46.250638              70.675633             10.728531   \n",
       "51                    45.267942              68.638723             10.623064   \n",
       "\n",
       "    final.output.tail_pb  final.output.tail_sol  final.output.tail_au  ...  \\\n",
       "45              1.509070              17.875134              2.509776  ...   \n",
       "46              1.641216              18.349339              2.540843  ...   \n",
       "51              1.217058              16.072705              2.471388  ...   \n",
       "\n",
       "    secondary_cleaner.state.floatbank4_a_air  \\\n",
       "45                                 14.025588   \n",
       "46                                 14.094808   \n",
       "51                                 14.164342   \n",
       "\n",
       "    secondary_cleaner.state.floatbank4_a_level  \\\n",
       "45                                 -550.404242   \n",
       "46                                 -550.676337   \n",
       "51                                 -552.959690   \n",
       "\n",
       "    secondary_cleaner.state.floatbank4_b_air  \\\n",
       "45                                 12.028925   \n",
       "46                                 12.004728   \n",
       "51                                 11.917980   \n",
       "\n",
       "    secondary_cleaner.state.floatbank4_b_level  \\\n",
       "45                                 -550.570104   \n",
       "46                                 -550.496522   \n",
       "51                                 -549.417320   \n",
       "\n",
       "    secondary_cleaner.state.floatbank5_a_air  \\\n",
       "45                                 10.052072   \n",
       "46                                  9.953139   \n",
       "51                                 10.016315   \n",
       "\n",
       "    secondary_cleaner.state.floatbank5_a_level  \\\n",
       "45                                 -500.797905   \n",
       "46                                 -500.330920   \n",
       "51                                 -497.644975   \n",
       "\n",
       "    secondary_cleaner.state.floatbank5_b_air  \\\n",
       "45                                  7.984500   \n",
       "46                                  8.012074   \n",
       "51                                  7.999080   \n",
       "\n",
       "    secondary_cleaner.state.floatbank5_b_level  \\\n",
       "45                                 -499.581046   \n",
       "46                                 -500.133530   \n",
       "51                                 -500.112143   \n",
       "\n",
       "    secondary_cleaner.state.floatbank6_a_air  \\\n",
       "45                                 11.982025   \n",
       "46                                 11.975316   \n",
       "51                                 12.043030   \n",
       "\n",
       "    secondary_cleaner.state.floatbank6_a_level  \n",
       "45                                 -599.161228  \n",
       "46                                 -598.839683  \n",
       "51                                 -599.630112  \n",
       "\n",
       "[3 rows x 87 columns]"
      ]
     },
     "execution_count": 35,
     "metadata": {},
     "output_type": "execute_result"
    }
   ],
   "source": [
    "good_df_train[good_df_train['rougher.output.recovery'] < 1].head(3)"
   ]
  },
  {
   "cell_type": "code",
   "execution_count": 36,
   "metadata": {},
   "outputs": [
    {
     "data": {
      "text/html": [
       "<div>\n",
       "<style scoped>\n",
       "    .dataframe tbody tr th:only-of-type {\n",
       "        vertical-align: middle;\n",
       "    }\n",
       "\n",
       "    .dataframe tbody tr th {\n",
       "        vertical-align: top;\n",
       "    }\n",
       "\n",
       "    .dataframe thead th {\n",
       "        text-align: right;\n",
       "    }\n",
       "</style>\n",
       "<table border=\"1\" class=\"dataframe\">\n",
       "  <thead>\n",
       "    <tr style=\"text-align: right;\">\n",
       "      <th></th>\n",
       "      <th>date</th>\n",
       "      <th>final.output.concentrate_ag</th>\n",
       "      <th>final.output.concentrate_pb</th>\n",
       "      <th>final.output.concentrate_sol</th>\n",
       "      <th>final.output.concentrate_au</th>\n",
       "      <th>final.output.recovery</th>\n",
       "      <th>final.output.tail_ag</th>\n",
       "      <th>final.output.tail_pb</th>\n",
       "      <th>final.output.tail_sol</th>\n",
       "      <th>final.output.tail_au</th>\n",
       "      <th>...</th>\n",
       "      <th>secondary_cleaner.state.floatbank4_a_air</th>\n",
       "      <th>secondary_cleaner.state.floatbank4_a_level</th>\n",
       "      <th>secondary_cleaner.state.floatbank4_b_air</th>\n",
       "      <th>secondary_cleaner.state.floatbank4_b_level</th>\n",
       "      <th>secondary_cleaner.state.floatbank5_a_air</th>\n",
       "      <th>secondary_cleaner.state.floatbank5_a_level</th>\n",
       "      <th>secondary_cleaner.state.floatbank5_b_air</th>\n",
       "      <th>secondary_cleaner.state.floatbank5_b_level</th>\n",
       "      <th>secondary_cleaner.state.floatbank6_a_air</th>\n",
       "      <th>secondary_cleaner.state.floatbank6_a_level</th>\n",
       "    </tr>\n",
       "  </thead>\n",
       "  <tbody>\n",
       "    <tr>\n",
       "      <th>45</th>\n",
       "      <td>2016-01-16 21:00:00</td>\n",
       "      <td>4.566664</td>\n",
       "      <td>10.406178</td>\n",
       "      <td>4.588698</td>\n",
       "      <td>46.614456</td>\n",
       "      <td>68.403877</td>\n",
       "      <td>10.705777</td>\n",
       "      <td>1.509070</td>\n",
       "      <td>17.875134</td>\n",
       "      <td>2.509776</td>\n",
       "      <td>...</td>\n",
       "      <td>14.025588</td>\n",
       "      <td>-550.404242</td>\n",
       "      <td>12.028925</td>\n",
       "      <td>-550.570104</td>\n",
       "      <td>10.052072</td>\n",
       "      <td>-500.797905</td>\n",
       "      <td>7.984500</td>\n",
       "      <td>-499.581046</td>\n",
       "      <td>11.982025</td>\n",
       "      <td>-599.161228</td>\n",
       "    </tr>\n",
       "    <tr>\n",
       "      <th>46</th>\n",
       "      <td>2016-01-16 22:00:00</td>\n",
       "      <td>4.577832</td>\n",
       "      <td>10.691605</td>\n",
       "      <td>5.274175</td>\n",
       "      <td>46.250638</td>\n",
       "      <td>70.675633</td>\n",
       "      <td>10.728531</td>\n",
       "      <td>1.641216</td>\n",
       "      <td>18.349339</td>\n",
       "      <td>2.540843</td>\n",
       "      <td>...</td>\n",
       "      <td>14.094808</td>\n",
       "      <td>-550.676337</td>\n",
       "      <td>12.004728</td>\n",
       "      <td>-550.496522</td>\n",
       "      <td>9.953139</td>\n",
       "      <td>-500.330920</td>\n",
       "      <td>8.012074</td>\n",
       "      <td>-500.133530</td>\n",
       "      <td>11.975316</td>\n",
       "      <td>-598.839683</td>\n",
       "    </tr>\n",
       "    <tr>\n",
       "      <th>51</th>\n",
       "      <td>2016-01-17 03:00:00</td>\n",
       "      <td>5.759800</td>\n",
       "      <td>9.537415</td>\n",
       "      <td>3.997737</td>\n",
       "      <td>45.267942</td>\n",
       "      <td>68.638723</td>\n",
       "      <td>10.623064</td>\n",
       "      <td>1.217058</td>\n",
       "      <td>16.072705</td>\n",
       "      <td>2.471388</td>\n",
       "      <td>...</td>\n",
       "      <td>14.164342</td>\n",
       "      <td>-552.959690</td>\n",
       "      <td>11.917980</td>\n",
       "      <td>-549.417320</td>\n",
       "      <td>10.016315</td>\n",
       "      <td>-497.644975</td>\n",
       "      <td>7.999080</td>\n",
       "      <td>-500.112143</td>\n",
       "      <td>12.043030</td>\n",
       "      <td>-599.630112</td>\n",
       "    </tr>\n",
       "  </tbody>\n",
       "</table>\n",
       "<p>3 rows × 87 columns</p>\n",
       "</div>"
      ],
      "text/plain": [
       "                   date  final.output.concentrate_ag  \\\n",
       "45  2016-01-16 21:00:00                     4.566664   \n",
       "46  2016-01-16 22:00:00                     4.577832   \n",
       "51  2016-01-17 03:00:00                     5.759800   \n",
       "\n",
       "    final.output.concentrate_pb  final.output.concentrate_sol  \\\n",
       "45                    10.406178                      4.588698   \n",
       "46                    10.691605                      5.274175   \n",
       "51                     9.537415                      3.997737   \n",
       "\n",
       "    final.output.concentrate_au  final.output.recovery  final.output.tail_ag  \\\n",
       "45                    46.614456              68.403877             10.705777   \n",
       "46                    46.250638              70.675633             10.728531   \n",
       "51                    45.267942              68.638723             10.623064   \n",
       "\n",
       "    final.output.tail_pb  final.output.tail_sol  final.output.tail_au  ...  \\\n",
       "45              1.509070              17.875134              2.509776  ...   \n",
       "46              1.641216              18.349339              2.540843  ...   \n",
       "51              1.217058              16.072705              2.471388  ...   \n",
       "\n",
       "    secondary_cleaner.state.floatbank4_a_air  \\\n",
       "45                                 14.025588   \n",
       "46                                 14.094808   \n",
       "51                                 14.164342   \n",
       "\n",
       "    secondary_cleaner.state.floatbank4_a_level  \\\n",
       "45                                 -550.404242   \n",
       "46                                 -550.676337   \n",
       "51                                 -552.959690   \n",
       "\n",
       "    secondary_cleaner.state.floatbank4_b_air  \\\n",
       "45                                 12.028925   \n",
       "46                                 12.004728   \n",
       "51                                 11.917980   \n",
       "\n",
       "    secondary_cleaner.state.floatbank4_b_level  \\\n",
       "45                                 -550.570104   \n",
       "46                                 -550.496522   \n",
       "51                                 -549.417320   \n",
       "\n",
       "    secondary_cleaner.state.floatbank5_a_air  \\\n",
       "45                                 10.052072   \n",
       "46                                  9.953139   \n",
       "51                                 10.016315   \n",
       "\n",
       "    secondary_cleaner.state.floatbank5_a_level  \\\n",
       "45                                 -500.797905   \n",
       "46                                 -500.330920   \n",
       "51                                 -497.644975   \n",
       "\n",
       "    secondary_cleaner.state.floatbank5_b_air  \\\n",
       "45                                  7.984500   \n",
       "46                                  8.012074   \n",
       "51                                  7.999080   \n",
       "\n",
       "    secondary_cleaner.state.floatbank5_b_level  \\\n",
       "45                                 -499.581046   \n",
       "46                                 -500.133530   \n",
       "51                                 -500.112143   \n",
       "\n",
       "    secondary_cleaner.state.floatbank6_a_air  \\\n",
       "45                                 11.982025   \n",
       "46                                 11.975316   \n",
       "51                                 12.043030   \n",
       "\n",
       "    secondary_cleaner.state.floatbank6_a_level  \n",
       "45                                 -599.161228  \n",
       "46                                 -598.839683  \n",
       "51                                 -599.630112  \n",
       "\n",
       "[3 rows x 87 columns]"
      ]
     },
     "execution_count": 36,
     "metadata": {},
     "output_type": "execute_result"
    }
   ],
   "source": [
    "good_df_train[good_df_train['rougher.output.concentrate_au'] < 1].head(3)"
   ]
  },
  {
   "cell_type": "markdown",
   "metadata": {},
   "source": [
    "Видим, что по столбцам где проходит этап rougher нет никаких данных, следовательно можем их удалить."
   ]
  },
  {
   "cell_type": "code",
   "execution_count": 37,
   "metadata": {},
   "outputs": [
    {
     "data": {
      "text/html": [
       "<div>\n",
       "<style scoped>\n",
       "    .dataframe tbody tr th:only-of-type {\n",
       "        vertical-align: middle;\n",
       "    }\n",
       "\n",
       "    .dataframe tbody tr th {\n",
       "        vertical-align: top;\n",
       "    }\n",
       "\n",
       "    .dataframe thead th {\n",
       "        text-align: right;\n",
       "    }\n",
       "</style>\n",
       "<table border=\"1\" class=\"dataframe\">\n",
       "  <thead>\n",
       "    <tr style=\"text-align: right;\">\n",
       "      <th></th>\n",
       "      <th>date</th>\n",
       "      <th>final.output.concentrate_ag</th>\n",
       "      <th>final.output.concentrate_pb</th>\n",
       "      <th>final.output.concentrate_sol</th>\n",
       "      <th>final.output.concentrate_au</th>\n",
       "      <th>final.output.recovery</th>\n",
       "      <th>final.output.tail_ag</th>\n",
       "      <th>final.output.tail_pb</th>\n",
       "      <th>final.output.tail_sol</th>\n",
       "      <th>final.output.tail_au</th>\n",
       "      <th>...</th>\n",
       "      <th>secondary_cleaner.state.floatbank4_a_air</th>\n",
       "      <th>secondary_cleaner.state.floatbank4_a_level</th>\n",
       "      <th>secondary_cleaner.state.floatbank4_b_air</th>\n",
       "      <th>secondary_cleaner.state.floatbank4_b_level</th>\n",
       "      <th>secondary_cleaner.state.floatbank5_a_air</th>\n",
       "      <th>secondary_cleaner.state.floatbank5_a_level</th>\n",
       "      <th>secondary_cleaner.state.floatbank5_b_air</th>\n",
       "      <th>secondary_cleaner.state.floatbank5_b_level</th>\n",
       "      <th>secondary_cleaner.state.floatbank6_a_air</th>\n",
       "      <th>secondary_cleaner.state.floatbank6_a_level</th>\n",
       "    </tr>\n",
       "  </thead>\n",
       "  <tbody>\n",
       "  </tbody>\n",
       "</table>\n",
       "<p>0 rows × 87 columns</p>\n",
       "</div>"
      ],
      "text/plain": [
       "Empty DataFrame\n",
       "Columns: [date, final.output.concentrate_ag, final.output.concentrate_pb, final.output.concentrate_sol, final.output.concentrate_au, final.output.recovery, final.output.tail_ag, final.output.tail_pb, final.output.tail_sol, final.output.tail_au, primary_cleaner.input.sulfate, primary_cleaner.input.depressant, primary_cleaner.input.feed_size, primary_cleaner.input.xanthate, primary_cleaner.output.concentrate_ag, primary_cleaner.output.concentrate_pb, primary_cleaner.output.concentrate_sol, primary_cleaner.output.concentrate_au, primary_cleaner.output.tail_ag, primary_cleaner.output.tail_pb, primary_cleaner.output.tail_sol, primary_cleaner.output.tail_au, primary_cleaner.state.floatbank8_a_air, primary_cleaner.state.floatbank8_a_level, primary_cleaner.state.floatbank8_b_air, primary_cleaner.state.floatbank8_b_level, primary_cleaner.state.floatbank8_c_air, primary_cleaner.state.floatbank8_c_level, primary_cleaner.state.floatbank8_d_air, primary_cleaner.state.floatbank8_d_level, rougher.calculation.sulfate_to_au_concentrate, rougher.calculation.floatbank10_sulfate_to_au_feed, rougher.calculation.floatbank11_sulfate_to_au_feed, rougher.calculation.au_pb_ratio, rougher.input.feed_ag, rougher.input.feed_pb, rougher.input.feed_rate, rougher.input.feed_size, rougher.input.feed_sol, rougher.input.feed_au, rougher.input.floatbank10_sulfate, rougher.input.floatbank10_xanthate, rougher.input.floatbank11_sulfate, rougher.input.floatbank11_xanthate, rougher.output.concentrate_ag, rougher.output.concentrate_pb, rougher.output.concentrate_sol, rougher.output.concentrate_au, rougher.output.recovery, rougher.output.tail_ag, rougher.output.tail_pb, rougher.output.tail_sol, rougher.output.tail_au, rougher.state.floatbank10_a_air, rougher.state.floatbank10_a_level, rougher.state.floatbank10_b_air, rougher.state.floatbank10_b_level, rougher.state.floatbank10_c_air, rougher.state.floatbank10_c_level, rougher.state.floatbank10_d_air, rougher.state.floatbank10_d_level, rougher.state.floatbank10_e_air, rougher.state.floatbank10_e_level, rougher.state.floatbank10_f_air, rougher.state.floatbank10_f_level, secondary_cleaner.output.tail_ag, secondary_cleaner.output.tail_pb, secondary_cleaner.output.tail_sol, secondary_cleaner.output.tail_au, secondary_cleaner.state.floatbank2_a_air, secondary_cleaner.state.floatbank2_a_level, secondary_cleaner.state.floatbank2_b_air, secondary_cleaner.state.floatbank2_b_level, secondary_cleaner.state.floatbank3_a_air, secondary_cleaner.state.floatbank3_a_level, secondary_cleaner.state.floatbank3_b_air, secondary_cleaner.state.floatbank3_b_level, secondary_cleaner.state.floatbank4_a_air, secondary_cleaner.state.floatbank4_a_level, secondary_cleaner.state.floatbank4_b_air, secondary_cleaner.state.floatbank4_b_level, secondary_cleaner.state.floatbank5_a_air, secondary_cleaner.state.floatbank5_a_level, secondary_cleaner.state.floatbank5_b_air, secondary_cleaner.state.floatbank5_b_level, secondary_cleaner.state.floatbank6_a_air, secondary_cleaner.state.floatbank6_a_level]\n",
       "Index: []\n",
       "\n",
       "[0 rows x 87 columns]"
      ]
     },
     "execution_count": 37,
     "metadata": {},
     "output_type": "execute_result"
    }
   ],
   "source": [
    "good_df_train = good_df_train.drop(good_df_train[good_df_train['rougher.output.recovery'] == 0].index)\n",
    "good_df_train[good_df_train['rougher.output.recovery'] < 1].head()"
   ]
  },
  {
   "cell_type": "markdown",
   "metadata": {},
   "source": [
    "Все ок, в данных теперь нет нулевых значений"
   ]
  },
  {
   "cell_type": "code",
   "execution_count": 38,
   "metadata": {},
   "outputs": [],
   "source": [
    "# Проверка\n",
    "#plt.figure(figsize=[10,8])\n",
    "\n",
    "#plt.hist(good_df_train['rougher.output.recovery'], bins=90)\n",
    "\n",
    "#plt.xlim([0, 100])\n",
    "#plt.ylim([0, 700])\n",
    "\n",
    "#plt.xlabel(\"Эффективность обогащения чернового концентрата \")\n",
    "#plt.ylabel(\"Количество результатов\")\n",
    "\n",
    "#plt.title(\"Гистограмма распределения по эффективности обогащения\")\n",
    "#plt.show()"
   ]
  },
  {
   "cell_type": "code",
   "execution_count": 39,
   "metadata": {},
   "outputs": [
    {
     "data": {
      "image/png": "[encoded data removed]",
      "text/plain": [
       "<Figure size 864x648 with 1 Axes>"
      ]
     },
     "metadata": {
      "needs_background": "light"
     },
     "output_type": "display_data"
    }
   ],
   "source": [
    "# Построим гистограмму эффективности финального концентрата с обработанными данными\n",
    "plt.figure(figsize=[12,9])\n",
    "\n",
    "plt.hist(good_df_train['final.output.recovery'], bins=100)\n",
    "\n",
    "plt.xlim([0, 110])\n",
    "plt.ylim([0, 800])\n",
    "\n",
    "plt.xlabel(\"Эффективность обогащения финального концентрата \")\n",
    "plt.ylabel(\"Количество результатов\")\n",
    "\n",
    "plt.title(\"Гистограмма распределения по эффективности обогащения\")\n",
    "plt.show()"
   ]
  },
  {
   "cell_type": "code",
   "execution_count": 40,
   "metadata": {},
   "outputs": [
    {
     "data": {
      "text/html": [
       "<div>\n",
       "<style scoped>\n",
       "    .dataframe tbody tr th:only-of-type {\n",
       "        vertical-align: middle;\n",
       "    }\n",
       "\n",
       "    .dataframe tbody tr th {\n",
       "        vertical-align: top;\n",
       "    }\n",
       "\n",
       "    .dataframe thead th {\n",
       "        text-align: right;\n",
       "    }\n",
       "</style>\n",
       "<table border=\"1\" class=\"dataframe\">\n",
       "  <thead>\n",
       "    <tr style=\"text-align: right;\">\n",
       "      <th></th>\n",
       "      <th>date</th>\n",
       "      <th>final.output.concentrate_ag</th>\n",
       "      <th>final.output.concentrate_pb</th>\n",
       "      <th>final.output.concentrate_sol</th>\n",
       "      <th>final.output.concentrate_au</th>\n",
       "      <th>final.output.recovery</th>\n",
       "      <th>final.output.tail_ag</th>\n",
       "      <th>final.output.tail_pb</th>\n",
       "      <th>final.output.tail_sol</th>\n",
       "      <th>final.output.tail_au</th>\n",
       "      <th>...</th>\n",
       "      <th>secondary_cleaner.state.floatbank4_a_air</th>\n",
       "      <th>secondary_cleaner.state.floatbank4_a_level</th>\n",
       "      <th>secondary_cleaner.state.floatbank4_b_air</th>\n",
       "      <th>secondary_cleaner.state.floatbank4_b_level</th>\n",
       "      <th>secondary_cleaner.state.floatbank5_a_air</th>\n",
       "      <th>secondary_cleaner.state.floatbank5_a_level</th>\n",
       "      <th>secondary_cleaner.state.floatbank5_b_air</th>\n",
       "      <th>secondary_cleaner.state.floatbank5_b_level</th>\n",
       "      <th>secondary_cleaner.state.floatbank6_a_air</th>\n",
       "      <th>secondary_cleaner.state.floatbank6_a_level</th>\n",
       "    </tr>\n",
       "  </thead>\n",
       "  <tbody>\n",
       "    <tr>\n",
       "      <th>707</th>\n",
       "      <td>2016-02-13 11:00:00</td>\n",
       "      <td>0.0</td>\n",
       "      <td>0.0</td>\n",
       "      <td>0.0</td>\n",
       "      <td>0.0</td>\n",
       "      <td>0.0</td>\n",
       "      <td>8.894029</td>\n",
       "      <td>0.843584</td>\n",
       "      <td>15.417342</td>\n",
       "      <td>1.779052</td>\n",
       "      <td>...</td>\n",
       "      <td>21.991762</td>\n",
       "      <td>-399.587122</td>\n",
       "      <td>21.988937</td>\n",
       "      <td>-401.366408</td>\n",
       "      <td>22.995012</td>\n",
       "      <td>-399.370680</td>\n",
       "      <td>20.966863</td>\n",
       "      <td>-399.308354</td>\n",
       "      <td>24.987274</td>\n",
       "      <td>-399.619808</td>\n",
       "    </tr>\n",
       "    <tr>\n",
       "      <th>1354</th>\n",
       "      <td>2016-03-11 10:00:00</td>\n",
       "      <td>0.0</td>\n",
       "      <td>0.0</td>\n",
       "      <td>0.0</td>\n",
       "      <td>0.0</td>\n",
       "      <td>0.0</td>\n",
       "      <td>10.817313</td>\n",
       "      <td>1.462800</td>\n",
       "      <td>16.407607</td>\n",
       "      <td>2.984504</td>\n",
       "      <td>...</td>\n",
       "      <td>11.979352</td>\n",
       "      <td>-453.431061</td>\n",
       "      <td>12.003445</td>\n",
       "      <td>-450.179844</td>\n",
       "      <td>11.982937</td>\n",
       "      <td>-449.856468</td>\n",
       "      <td>9.927727</td>\n",
       "      <td>-450.521700</td>\n",
       "      <td>19.971682</td>\n",
       "      <td>-500.685521</td>\n",
       "    </tr>\n",
       "    <tr>\n",
       "      <th>1355</th>\n",
       "      <td>2016-03-11 11:00:00</td>\n",
       "      <td>0.0</td>\n",
       "      <td>0.0</td>\n",
       "      <td>0.0</td>\n",
       "      <td>0.0</td>\n",
       "      <td>0.0</td>\n",
       "      <td>10.436792</td>\n",
       "      <td>1.207636</td>\n",
       "      <td>17.800392</td>\n",
       "      <td>2.747294</td>\n",
       "      <td>...</td>\n",
       "      <td>12.034636</td>\n",
       "      <td>-446.590944</td>\n",
       "      <td>12.130405</td>\n",
       "      <td>-449.684812</td>\n",
       "      <td>11.844983</td>\n",
       "      <td>-450.881424</td>\n",
       "      <td>9.916784</td>\n",
       "      <td>-449.542871</td>\n",
       "      <td>20.004767</td>\n",
       "      <td>-500.137068</td>\n",
       "    </tr>\n",
       "  </tbody>\n",
       "</table>\n",
       "<p>3 rows × 87 columns</p>\n",
       "</div>"
      ],
      "text/plain": [
       "                     date  final.output.concentrate_ag  \\\n",
       "707   2016-02-13 11:00:00                          0.0   \n",
       "1354  2016-03-11 10:00:00                          0.0   \n",
       "1355  2016-03-11 11:00:00                          0.0   \n",
       "\n",
       "      final.output.concentrate_pb  final.output.concentrate_sol  \\\n",
       "707                           0.0                           0.0   \n",
       "1354                          0.0                           0.0   \n",
       "1355                          0.0                           0.0   \n",
       "\n",
       "      final.output.concentrate_au  final.output.recovery  \\\n",
       "707                           0.0                    0.0   \n",
       "1354                          0.0                    0.0   \n",
       "1355                          0.0                    0.0   \n",
       "\n",
       "      final.output.tail_ag  final.output.tail_pb  final.output.tail_sol  \\\n",
       "707               8.894029              0.843584              15.417342   \n",
       "1354             10.817313              1.462800              16.407607   \n",
       "1355             10.436792              1.207636              17.800392   \n",
       "\n",
       "      final.output.tail_au  ...  secondary_cleaner.state.floatbank4_a_air  \\\n",
       "707               1.779052  ...                                 21.991762   \n",
       "1354              2.984504  ...                                 11.979352   \n",
       "1355              2.747294  ...                                 12.034636   \n",
       "\n",
       "      secondary_cleaner.state.floatbank4_a_level  \\\n",
       "707                                  -399.587122   \n",
       "1354                                 -453.431061   \n",
       "1355                                 -446.590944   \n",
       "\n",
       "      secondary_cleaner.state.floatbank4_b_air  \\\n",
       "707                                  21.988937   \n",
       "1354                                 12.003445   \n",
       "1355                                 12.130405   \n",
       "\n",
       "      secondary_cleaner.state.floatbank4_b_level  \\\n",
       "707                                  -401.366408   \n",
       "1354                                 -450.179844   \n",
       "1355                                 -449.684812   \n",
       "\n",
       "      secondary_cleaner.state.floatbank5_a_air  \\\n",
       "707                                  22.995012   \n",
       "1354                                 11.982937   \n",
       "1355                                 11.844983   \n",
       "\n",
       "      secondary_cleaner.state.floatbank5_a_level  \\\n",
       "707                                  -399.370680   \n",
       "1354                                 -449.856468   \n",
       "1355                                 -450.881424   \n",
       "\n",
       "      secondary_cleaner.state.floatbank5_b_air  \\\n",
       "707                                  20.966863   \n",
       "1354                                  9.927727   \n",
       "1355                                  9.916784   \n",
       "\n",
       "      secondary_cleaner.state.floatbank5_b_level  \\\n",
       "707                                  -399.308354   \n",
       "1354                                 -450.521700   \n",
       "1355                                 -449.542871   \n",
       "\n",
       "      secondary_cleaner.state.floatbank6_a_air  \\\n",
       "707                                  24.987274   \n",
       "1354                                 19.971682   \n",
       "1355                                 20.004767   \n",
       "\n",
       "      secondary_cleaner.state.floatbank6_a_level  \n",
       "707                                  -399.619808  \n",
       "1354                                 -500.685521  \n",
       "1355                                 -500.137068  \n",
       "\n",
       "[3 rows x 87 columns]"
      ]
     },
     "execution_count": 40,
     "metadata": {},
     "output_type": "execute_result"
    }
   ],
   "source": [
    "# Аналогично видим нулевые занчнеия, рассмотрим их поближе и по возможности удалим\n",
    "good_df_train[good_df_train['final.output.recovery'] < 1].head(3)"
   ]
  },
  {
   "cell_type": "code",
   "execution_count": 41,
   "metadata": {},
   "outputs": [
    {
     "data": {
      "text/html": [
       "<div>\n",
       "<style scoped>\n",
       "    .dataframe tbody tr th:only-of-type {\n",
       "        vertical-align: middle;\n",
       "    }\n",
       "\n",
       "    .dataframe tbody tr th {\n",
       "        vertical-align: top;\n",
       "    }\n",
       "\n",
       "    .dataframe thead th {\n",
       "        text-align: right;\n",
       "    }\n",
       "</style>\n",
       "<table border=\"1\" class=\"dataframe\">\n",
       "  <thead>\n",
       "    <tr style=\"text-align: right;\">\n",
       "      <th></th>\n",
       "      <th>date</th>\n",
       "      <th>final.output.concentrate_ag</th>\n",
       "      <th>final.output.concentrate_pb</th>\n",
       "      <th>final.output.concentrate_sol</th>\n",
       "      <th>final.output.concentrate_au</th>\n",
       "      <th>final.output.recovery</th>\n",
       "      <th>final.output.tail_ag</th>\n",
       "      <th>final.output.tail_pb</th>\n",
       "      <th>final.output.tail_sol</th>\n",
       "      <th>final.output.tail_au</th>\n",
       "      <th>...</th>\n",
       "      <th>secondary_cleaner.state.floatbank4_a_air</th>\n",
       "      <th>secondary_cleaner.state.floatbank4_a_level</th>\n",
       "      <th>secondary_cleaner.state.floatbank4_b_air</th>\n",
       "      <th>secondary_cleaner.state.floatbank4_b_level</th>\n",
       "      <th>secondary_cleaner.state.floatbank5_a_air</th>\n",
       "      <th>secondary_cleaner.state.floatbank5_a_level</th>\n",
       "      <th>secondary_cleaner.state.floatbank5_b_air</th>\n",
       "      <th>secondary_cleaner.state.floatbank5_b_level</th>\n",
       "      <th>secondary_cleaner.state.floatbank6_a_air</th>\n",
       "      <th>secondary_cleaner.state.floatbank6_a_level</th>\n",
       "    </tr>\n",
       "  </thead>\n",
       "  <tbody>\n",
       "  </tbody>\n",
       "</table>\n",
       "<p>0 rows × 87 columns</p>\n",
       "</div>"
      ],
      "text/plain": [
       "Empty DataFrame\n",
       "Columns: [date, final.output.concentrate_ag, final.output.concentrate_pb, final.output.concentrate_sol, final.output.concentrate_au, final.output.recovery, final.output.tail_ag, final.output.tail_pb, final.output.tail_sol, final.output.tail_au, primary_cleaner.input.sulfate, primary_cleaner.input.depressant, primary_cleaner.input.feed_size, primary_cleaner.input.xanthate, primary_cleaner.output.concentrate_ag, primary_cleaner.output.concentrate_pb, primary_cleaner.output.concentrate_sol, primary_cleaner.output.concentrate_au, primary_cleaner.output.tail_ag, primary_cleaner.output.tail_pb, primary_cleaner.output.tail_sol, primary_cleaner.output.tail_au, primary_cleaner.state.floatbank8_a_air, primary_cleaner.state.floatbank8_a_level, primary_cleaner.state.floatbank8_b_air, primary_cleaner.state.floatbank8_b_level, primary_cleaner.state.floatbank8_c_air, primary_cleaner.state.floatbank8_c_level, primary_cleaner.state.floatbank8_d_air, primary_cleaner.state.floatbank8_d_level, rougher.calculation.sulfate_to_au_concentrate, rougher.calculation.floatbank10_sulfate_to_au_feed, rougher.calculation.floatbank11_sulfate_to_au_feed, rougher.calculation.au_pb_ratio, rougher.input.feed_ag, rougher.input.feed_pb, rougher.input.feed_rate, rougher.input.feed_size, rougher.input.feed_sol, rougher.input.feed_au, rougher.input.floatbank10_sulfate, rougher.input.floatbank10_xanthate, rougher.input.floatbank11_sulfate, rougher.input.floatbank11_xanthate, rougher.output.concentrate_ag, rougher.output.concentrate_pb, rougher.output.concentrate_sol, rougher.output.concentrate_au, rougher.output.recovery, rougher.output.tail_ag, rougher.output.tail_pb, rougher.output.tail_sol, rougher.output.tail_au, rougher.state.floatbank10_a_air, rougher.state.floatbank10_a_level, rougher.state.floatbank10_b_air, rougher.state.floatbank10_b_level, rougher.state.floatbank10_c_air, rougher.state.floatbank10_c_level, rougher.state.floatbank10_d_air, rougher.state.floatbank10_d_level, rougher.state.floatbank10_e_air, rougher.state.floatbank10_e_level, rougher.state.floatbank10_f_air, rougher.state.floatbank10_f_level, secondary_cleaner.output.tail_ag, secondary_cleaner.output.tail_pb, secondary_cleaner.output.tail_sol, secondary_cleaner.output.tail_au, secondary_cleaner.state.floatbank2_a_air, secondary_cleaner.state.floatbank2_a_level, secondary_cleaner.state.floatbank2_b_air, secondary_cleaner.state.floatbank2_b_level, secondary_cleaner.state.floatbank3_a_air, secondary_cleaner.state.floatbank3_a_level, secondary_cleaner.state.floatbank3_b_air, secondary_cleaner.state.floatbank3_b_level, secondary_cleaner.state.floatbank4_a_air, secondary_cleaner.state.floatbank4_a_level, secondary_cleaner.state.floatbank4_b_air, secondary_cleaner.state.floatbank4_b_level, secondary_cleaner.state.floatbank5_a_air, secondary_cleaner.state.floatbank5_a_level, secondary_cleaner.state.floatbank5_b_air, secondary_cleaner.state.floatbank5_b_level, secondary_cleaner.state.floatbank6_a_air, secondary_cleaner.state.floatbank6_a_level]\n",
       "Index: []\n",
       "\n",
       "[0 rows x 87 columns]"
      ]
     },
     "execution_count": 41,
     "metadata": {},
     "output_type": "execute_result"
    }
   ],
   "source": [
    "# Также видим что отсутсвуют данные в столбцах rougher, следоавательно можеи их удалить\n",
    "good_df_train = good_df_train.drop(good_df_train[good_df_train['final.output.recovery'] == 0].index)\n",
    "good_df_train[good_df_train['final.output.recovery'] < 1].head()"
   ]
  },
  {
   "cell_type": "code",
   "execution_count": 42,
   "metadata": {
    "scrolled": true
   },
   "outputs": [
    {
     "name": "stdout",
     "output_type": "stream",
     "text": [
      "<class 'pandas.core.frame.DataFrame'>\n",
      "Int64Index: 10784 entries, 0 to 16859\n",
      "Data columns (total 87 columns):\n",
      " #   Column                                              Non-Null Count  Dtype  \n",
      "---  ------                                              --------------  -----  \n",
      " 0   date                                                10784 non-null  object \n",
      " 1   final.output.concentrate_ag                         10784 non-null  float64\n",
      " 2   final.output.concentrate_pb                         10784 non-null  float64\n",
      " 3   final.output.concentrate_sol                        10784 non-null  float64\n",
      " 4   final.output.concentrate_au                         10784 non-null  float64\n",
      " 5   final.output.recovery                               10784 non-null  float64\n",
      " 6   final.output.tail_ag                                10784 non-null  float64\n",
      " 7   final.output.tail_pb                                10784 non-null  float64\n",
      " 8   final.output.tail_sol                               10784 non-null  float64\n",
      " 9   final.output.tail_au                                10784 non-null  float64\n",
      " 10  primary_cleaner.input.sulfate                       10784 non-null  float64\n",
      " 11  primary_cleaner.input.depressant                    10784 non-null  float64\n",
      " 12  primary_cleaner.input.feed_size                     10784 non-null  float64\n",
      " 13  primary_cleaner.input.xanthate                      10784 non-null  float64\n",
      " 14  primary_cleaner.output.concentrate_ag               10784 non-null  float64\n",
      " 15  primary_cleaner.output.concentrate_pb               10784 non-null  float64\n",
      " 16  primary_cleaner.output.concentrate_sol              10784 non-null  float64\n",
      " 17  primary_cleaner.output.concentrate_au               10784 non-null  float64\n",
      " 18  primary_cleaner.output.tail_ag                      10784 non-null  float64\n",
      " 19  primary_cleaner.output.tail_pb                      10784 non-null  float64\n",
      " 20  primary_cleaner.output.tail_sol                     10784 non-null  float64\n",
      " 21  primary_cleaner.output.tail_au                      10784 non-null  float64\n",
      " 22  primary_cleaner.state.floatbank8_a_air              10784 non-null  float64\n",
      " 23  primary_cleaner.state.floatbank8_a_level            10784 non-null  float64\n",
      " 24  primary_cleaner.state.floatbank8_b_air              10784 non-null  float64\n",
      " 25  primary_cleaner.state.floatbank8_b_level            10784 non-null  float64\n",
      " 26  primary_cleaner.state.floatbank8_c_air              10784 non-null  float64\n",
      " 27  primary_cleaner.state.floatbank8_c_level            10784 non-null  float64\n",
      " 28  primary_cleaner.state.floatbank8_d_air              10784 non-null  float64\n",
      " 29  primary_cleaner.state.floatbank8_d_level            10784 non-null  float64\n",
      " 30  rougher.calculation.sulfate_to_au_concentrate       10784 non-null  float64\n",
      " 31  rougher.calculation.floatbank10_sulfate_to_au_feed  10784 non-null  float64\n",
      " 32  rougher.calculation.floatbank11_sulfate_to_au_feed  10784 non-null  float64\n",
      " 33  rougher.calculation.au_pb_ratio                     10784 non-null  float64\n",
      " 34  rougher.input.feed_ag                               10784 non-null  float64\n",
      " 35  rougher.input.feed_pb                               10784 non-null  float64\n",
      " 36  rougher.input.feed_rate                             10784 non-null  float64\n",
      " 37  rougher.input.feed_size                             10784 non-null  float64\n",
      " 38  rougher.input.feed_sol                              10784 non-null  float64\n",
      " 39  rougher.input.feed_au                               10784 non-null  float64\n",
      " 40  rougher.input.floatbank10_sulfate                   10784 non-null  float64\n",
      " 41  rougher.input.floatbank10_xanthate                  10784 non-null  float64\n",
      " 42  rougher.input.floatbank11_sulfate                   10784 non-null  float64\n",
      " 43  rougher.input.floatbank11_xanthate                  10784 non-null  float64\n",
      " 44  rougher.output.concentrate_ag                       10784 non-null  float64\n",
      " 45  rougher.output.concentrate_pb                       10784 non-null  float64\n",
      " 46  rougher.output.concentrate_sol                      10784 non-null  float64\n",
      " 47  rougher.output.concentrate_au                       10784 non-null  float64\n",
      " 48  rougher.output.recovery                             10784 non-null  float64\n",
      " 49  rougher.output.tail_ag                              10784 non-null  float64\n",
      " 50  rougher.output.tail_pb                              10784 non-null  float64\n",
      " 51  rougher.output.tail_sol                             10784 non-null  float64\n",
      " 52  rougher.output.tail_au                              10784 non-null  float64\n",
      " 53  rougher.state.floatbank10_a_air                     10784 non-null  float64\n",
      " 54  rougher.state.floatbank10_a_level                   10784 non-null  float64\n",
      " 55  rougher.state.floatbank10_b_air                     10784 non-null  float64\n",
      " 56  rougher.state.floatbank10_b_level                   10784 non-null  float64\n",
      " 57  rougher.state.floatbank10_c_air                     10784 non-null  float64\n",
      " 58  rougher.state.floatbank10_c_level                   10784 non-null  float64\n",
      " 59  rougher.state.floatbank10_d_air                     10784 non-null  float64\n",
      " 60  rougher.state.floatbank10_d_level                   10784 non-null  float64\n",
      " 61  rougher.state.floatbank10_e_air                     10784 non-null  float64\n",
      " 62  rougher.state.floatbank10_e_level                   10784 non-null  float64\n",
      " 63  rougher.state.floatbank10_f_air                     10784 non-null  float64\n",
      " 64  rougher.state.floatbank10_f_level                   10784 non-null  float64\n",
      " 65  secondary_cleaner.output.tail_ag                    10784 non-null  float64\n",
      " 66  secondary_cleaner.output.tail_pb                    10784 non-null  float64\n",
      " 67  secondary_cleaner.output.tail_sol                   10784 non-null  float64\n",
      " 68  secondary_cleaner.output.tail_au                    10784 non-null  float64\n",
      " 69  secondary_cleaner.state.floatbank2_a_air            10784 non-null  float64\n",
      " 70  secondary_cleaner.state.floatbank2_a_level          10784 non-null  float64\n",
      " 71  secondary_cleaner.state.floatbank2_b_air            10784 non-null  float64\n",
      " 72  secondary_cleaner.state.floatbank2_b_level          10784 non-null  float64\n",
      " 73  secondary_cleaner.state.floatbank3_a_air            10784 non-null  float64\n",
      " 74  secondary_cleaner.state.floatbank3_a_level          10784 non-null  float64\n",
      " 75  secondary_cleaner.state.floatbank3_b_air            10784 non-null  float64\n",
      " 76  secondary_cleaner.state.floatbank3_b_level          10784 non-null  float64\n",
      " 77  secondary_cleaner.state.floatbank4_a_air            10784 non-null  float64\n",
      " 78  secondary_cleaner.state.floatbank4_a_level          10784 non-null  float64\n",
      " 79  secondary_cleaner.state.floatbank4_b_air            10784 non-null  float64\n",
      " 80  secondary_cleaner.state.floatbank4_b_level          10784 non-null  float64\n",
      " 81  secondary_cleaner.state.floatbank5_a_air            10784 non-null  float64\n",
      " 82  secondary_cleaner.state.floatbank5_a_level          10784 non-null  float64\n",
      " 83  secondary_cleaner.state.floatbank5_b_air            10784 non-null  float64\n",
      " 84  secondary_cleaner.state.floatbank5_b_level          10784 non-null  float64\n",
      " 85  secondary_cleaner.state.floatbank6_a_air            10784 non-null  float64\n",
      " 86  secondary_cleaner.state.floatbank6_a_level          10784 non-null  float64\n",
      "dtypes: float64(86), object(1)\n",
      "memory usage: 7.2+ MB\n"
     ]
    }
   ],
   "source": [
    "# Получили ровный датафрейм, который не содержит нулевые значения важных для нашей модели\n",
    "good_df_train.info()"
   ]
  },
  {
   "cell_type": "markdown",
   "metadata": {},
   "source": [
    "### Вывод\n",
    "\n",
    "По итогу подготвки данных были обнаружены такие аномалии:\n",
    "- Пропущенные значения\n",
    "- Нулевые значения в ключевых столбцах для нашей модели\n",
    "\n",
    "Были удалены значения которые могли повлият на работу нашей модели (эти данные либо еще не занесли, либо еще не были получены)\n",
    "Далее можно перейти к анализу данных"
   ]
  },
  {
   "cell_type": "markdown",
   "metadata": {},
   "source": [
    "## Анализ данных"
   ]
  },
  {
   "cell_type": "markdown",
   "metadata": {},
   "source": [
    "Построим гистограммы вещест, чтобы посмотреть на их концентрацию на каждом этапе, по идем с каждым этапом концентрация растет. Проверим,"
   ]
  },
  {
   "cell_type": "markdown",
   "metadata": {},
   "source": [
    "### Анализ концентрации металлов (Au, Ag, Pb) на различных этапах очистки"
   ]
  },
  {
   "cell_type": "code",
   "execution_count": 43,
   "metadata": {},
   "outputs": [
    {
     "data": {
      "image/png": "[encoded data removed]",
      "text/plain": [
       "<Figure size 864x648 with 1 Axes>"
      ]
     },
     "metadata": {
      "needs_background": "light"
     },
     "output_type": "display_data"
    }
   ],
   "source": [
    "# Золото\n",
    "plt.figure(figsize=[12,9])\n",
    "\n",
    "plt.hist(good_df_train['final.output.concentrate_au'], bins=100, label = 'final.output', alpha=.5)\n",
    "plt.hist(good_df_train['primary_cleaner.output.concentrate_au'], bins=100, label = 'primary_cleaner.output', alpha=.5)\n",
    "plt.hist(good_df_train['rougher.output.concentrate_au'], bins=100, label = 'rougher.output', alpha=.5)\n",
    "\n",
    "plt.xlim([0, 60])\n",
    "plt.ylim([0, 1000])\n",
    "\n",
    "plt.xlabel(\"Концентрация золота на выходе этапов\")\n",
    "plt.ylabel(\"Количество результатов\")\n",
    "\n",
    "plt.legend(loc='upper left', fontsize='x-large')\n",
    "\n",
    "plt.title(\"Гистограмма распределения концентрации золота\")\n",
    "plt.show()"
   ]
  },
  {
   "cell_type": "markdown",
   "metadata": {},
   "source": [
    "**Вывод** \n",
    "https://ru.wikipedia.org/wiki/%D0%A4%D0%BB%D0%BE%D1%82%D0%B0%D1%86%D0%B8%D1%8F\n",
    "\n",
    "На гистограмме видим что концентарция золота повышается с каждым этапом. То есть с помощью флотации мы обогащаем золото."
   ]
  },
  {
   "cell_type": "code",
   "execution_count": 44,
   "metadata": {},
   "outputs": [
    {
     "data": {
      "image/png": "[encoded data removed]",
      "text/plain": [
       "<Figure size 864x648 with 1 Axes>"
      ]
     },
     "metadata": {
      "needs_background": "light"
     },
     "output_type": "display_data"
    }
   ],
   "source": [
    "# Серебро\n",
    "plt.figure(figsize=[12,9])\n",
    "\n",
    "plt.hist(good_df_train['final.output.concentrate_ag'], bins=110, label = 'final.output', alpha=.5)\n",
    "plt.hist(good_df_train['primary_cleaner.output.concentrate_ag'], bins=110, label = 'primary_cleaner.output', alpha=.5)\n",
    "plt.hist(good_df_train['rougher.output.concentrate_ag'], bins=110, label = 'rougher.output', alpha=.5)\n",
    "\n",
    "plt.xlim([0, 25])\n",
    "plt.ylim([0, 700])\n",
    "\n",
    "plt.xlabel(\"Концентрация серебра на выходе этапов\")\n",
    "plt.ylabel(\"Количество результатов\")\n",
    "\n",
    "plt.legend(loc='upper right', fontsize='x-large')\n",
    "\n",
    "plt.title(\"Гистограмма распределения концентрации серебра\")\n",
    "plt.show()"
   ]
  },
  {
   "cell_type": "markdown",
   "metadata": {},
   "source": [
    "Концентрация серебра понижается, ввиду того, что нас интересует золото, скорее всего другие материалы отделяются от сплава фильтруются или сортируются в нужном количестве. (Прим. справа, налево)"
   ]
  },
  {
   "cell_type": "code",
   "execution_count": 45,
   "metadata": {},
   "outputs": [
    {
     "data": {
      "image/png": "[encoded data removed]",
      "text/plain": [
       "<Figure size 864x720 with 1 Axes>"
      ]
     },
     "metadata": {
      "needs_background": "light"
     },
     "output_type": "display_data"
    }
   ],
   "source": [
    "plt.figure(figsize=[12,10])\n",
    "\n",
    "plt.hist(good_df_train['final.output.concentrate_pb'], bins=100, label = 'final.output', alpha=.5)\n",
    "plt.hist(good_df_train['primary_cleaner.output.concentrate_pb'], bins=100, label = 'primary_cleaner.output', alpha=.5)\n",
    "plt.hist(good_df_train['rougher.output.concentrate_pb'], bins=100, label = 'rougher.output', alpha=.5)\n",
    "\n",
    "plt.xlim([0, 20])\n",
    "plt.ylim([0, 600])\n",
    "\n",
    "plt.xlabel(\"Концентрация свинца на выходе этапов\")\n",
    "plt.ylabel(\"Количество результатов\")\n",
    "\n",
    "plt.legend(loc='upper left', fontsize='x-large')\n",
    "\n",
    "plt.title(\"Гистограмма распределения концентрации свинца\")\n",
    "plt.show()"
   ]
  },
  {
   "cell_type": "markdown",
   "metadata": {},
   "source": [
    "Так, если честно сложно понять, но выглядит что все таки на пересечении концентрация свинац растет."
   ]
  },
  {
   "cell_type": "code",
   "execution_count": null,
   "metadata": {},
   "outputs": [],
   "source": []
  },
  {
   "cell_type": "code",
   "execution_count": null,
   "metadata": {},
   "outputs": [],
   "source": []
  },
  {
   "cell_type": "code",
   "execution_count": 46,
   "metadata": {},
   "outputs": [
    {
     "data": {
      "image/png": "[encoded data removed]",
      "text/plain": [
       "<Figure size 936x720 with 1 Axes>"
      ]
     },
     "metadata": {
      "needs_background": "light"
     },
     "output_type": "display_data"
    }
   ],
   "source": [
    "# Перед флотацией\n",
    "plt.figure(figsize=[13,10])\n",
    "\n",
    "plt.hist(good_df_train['rougher.input.feed_size'], bins=220, label = 'Train rougher.input.feed_size', alpha=.55)\n",
    "plt.hist(good_df_test['rougher.input.feed_size'], bins=220, label = 'Test rougher.input.feed_size', alpha=.55)\n",
    "\n",
    "plt.xlim([0, 500])\n",
    "plt.ylim([0, 1300])\n",
    "\n",
    "plt.xlabel(\"Размер гранул сырья, меш\")\n",
    "plt.ylabel(\"Количество результатов\")\n",
    "\n",
    "plt.legend(loc='upper right', fontsize='x-large')\n",
    "\n",
    "plt.title(\"Гистограмма распределения гранул сырья перед флотацией\")\n",
    "plt.show()"
   ]
  },
  {
   "cell_type": "markdown",
   "metadata": {},
   "source": [
    "В целом видем нормальное распеделение со смещение влево, также после 110 видим много выбросов"
   ]
  },
  {
   "cell_type": "code",
   "execution_count": 47,
   "metadata": {},
   "outputs": [
    {
     "data": {
      "image/png": "[encoded data removed]",
      "text/plain": [
       "<Figure size 864x648 with 1 Axes>"
      ]
     },
     "metadata": {
      "needs_background": "light"
     },
     "output_type": "display_data"
    }
   ],
   "source": [
    "# Перед первичной очисткой\n",
    "plt.figure(figsize=[12,9])\n",
    "\n",
    "plt.hist(good_df_train['primary_cleaner.input.feed_size'], bins=100, label = 'Train primary_cleaner.input.feed_size', alpha=.5)\n",
    "plt.hist(good_df_test['primary_cleaner.input.feed_size'], bins=100, label = 'Test primary_cleaner.input.feed_size', alpha=.5)\n",
    "\n",
    "plt.xlim([0, 16])\n",
    "plt.ylim([0, 1000])\n",
    "\n",
    "plt.xlabel(\"Размер гранул сырья\")\n",
    "plt.ylabel(\"Количество результатов\")\n",
    "\n",
    "plt.legend(loc='upper right', fontsize='x-large')\n",
    "\n",
    "plt.title(\"Гистограмма распределения гранул сырья перед первичной очисткой\")\n",
    "plt.show()"
   ]
  },
  {
   "cell_type": "code",
   "execution_count": null,
   "metadata": {},
   "outputs": [],
   "source": []
  },
  {
   "cell_type": "markdown",
   "metadata": {},
   "source": [
    "В целом видем нормальное распеделение, размер нормализовался.\n",
    "Подготовим столбцы с концентрациями всех материалов в обучающей выборке по этапам и построим гистограмму."
   ]
  },
  {
   "cell_type": "code",
   "execution_count": 48,
   "metadata": {},
   "outputs": [],
   "source": [
    "final_output_concentrate_sum_train = (good_df_train['final.output.concentrate_au'] + \n",
    "                                      good_df_train['final.output.concentrate_ag'] + \n",
    "                                      good_df_train['final.output.concentrate_pb'] +\n",
    "                                      good_df_train['final.output.concentrate_sol'])\n",
    "primary_cleaner_output_concentrate_sum_train = (good_df_train['primary_cleaner.output.concentrate_au'] + \n",
    "                                                good_df_train['primary_cleaner.output.concentrate_ag'] + \n",
    "                                                good_df_train['primary_cleaner.output.concentrate_pb'] +\n",
    "                                                good_df_train['primary_cleaner.output.concentrate_sol'])\n",
    "rougher_output_concentrate_sum_train = (good_df_train['rougher.output.concentrate_au'] + \n",
    "                                        good_df_train['rougher.output.concentrate_ag'] + \n",
    "                                        good_df_train['rougher.output.concentrate_pb'] +\n",
    "                                        good_df_train['rougher.output.concentrate_sol'])"
   ]
  },
  {
   "cell_type": "code",
   "execution_count": 49,
   "metadata": {},
   "outputs": [
    {
     "data": {
      "image/png": "[encoded data removed]",
      "text/plain": [
       "<Figure size 864x648 with 1 Axes>"
      ]
     },
     "metadata": {
      "needs_background": "light"
     },
     "output_type": "display_data"
    }
   ],
   "source": [
    "plt.figure(figsize=[12,9])\n",
    "\n",
    "plt.hist(final_output_concentrate_sum_train, bins=100, label = 'final_output', alpha=.4)\n",
    "plt.hist(primary_cleaner_output_concentrate_sum_train, bins=100, label = 'primary_cleaner_output', alpha=.5)\n",
    "plt.hist(rougher_output_concentrate_sum_train, bins=100, label = 'rougher_output', alpha=.4)\n",
    "\n",
    "plt.xlim([0, 100])\n",
    "plt.ylim([0, 1400])\n",
    "\n",
    "plt.xlabel(\"Сум. концентраця\")\n",
    "plt.ylabel(\"Количество результатов\")\n",
    "\n",
    "plt.legend(loc='upper left', fontsize='x-large')\n",
    "\n",
    "plt.title(\"Гистограмма распределения концентраций на разных этапах очистки\")\n",
    "plt.show()"
   ]
  },
  {
   "cell_type": "markdown",
   "metadata": {},
   "source": [
    "Видим довольно много аномалий в нулевых значениях, нужно их обработать."
   ]
  },
  {
   "cell_type": "code",
   "execution_count": 50,
   "metadata": {},
   "outputs": [
    {
     "data": {
      "text/plain": [
       "109"
      ]
     },
     "execution_count": 50,
     "metadata": {},
     "output_type": "execute_result"
    }
   ],
   "source": [
    "#Посмотрим сколько их\n",
    "good_df_train[good_df_train['primary_cleaner.output.concentrate_au'] < 1]['primary_cleaner.output.concentrate_au'].count()"
   ]
  },
  {
   "cell_type": "code",
   "execution_count": 51,
   "metadata": {},
   "outputs": [
    {
     "data": {
      "text/html": [
       "<div>\n",
       "<style scoped>\n",
       "    .dataframe tbody tr th:only-of-type {\n",
       "        vertical-align: middle;\n",
       "    }\n",
       "\n",
       "    .dataframe tbody tr th {\n",
       "        vertical-align: top;\n",
       "    }\n",
       "\n",
       "    .dataframe thead th {\n",
       "        text-align: right;\n",
       "    }\n",
       "</style>\n",
       "<table border=\"1\" class=\"dataframe\">\n",
       "  <thead>\n",
       "    <tr style=\"text-align: right;\">\n",
       "      <th></th>\n",
       "      <th>date</th>\n",
       "      <th>final.output.concentrate_ag</th>\n",
       "      <th>final.output.concentrate_pb</th>\n",
       "      <th>final.output.concentrate_sol</th>\n",
       "      <th>final.output.concentrate_au</th>\n",
       "      <th>final.output.recovery</th>\n",
       "      <th>final.output.tail_ag</th>\n",
       "      <th>final.output.tail_pb</th>\n",
       "      <th>final.output.tail_sol</th>\n",
       "      <th>final.output.tail_au</th>\n",
       "      <th>...</th>\n",
       "      <th>secondary_cleaner.state.floatbank4_a_air</th>\n",
       "      <th>secondary_cleaner.state.floatbank4_a_level</th>\n",
       "      <th>secondary_cleaner.state.floatbank4_b_air</th>\n",
       "      <th>secondary_cleaner.state.floatbank4_b_level</th>\n",
       "      <th>secondary_cleaner.state.floatbank5_a_air</th>\n",
       "      <th>secondary_cleaner.state.floatbank5_a_level</th>\n",
       "      <th>secondary_cleaner.state.floatbank5_b_air</th>\n",
       "      <th>secondary_cleaner.state.floatbank5_b_level</th>\n",
       "      <th>secondary_cleaner.state.floatbank6_a_air</th>\n",
       "      <th>secondary_cleaner.state.floatbank6_a_level</th>\n",
       "    </tr>\n",
       "  </thead>\n",
       "  <tbody>\n",
       "  </tbody>\n",
       "</table>\n",
       "<p>0 rows × 87 columns</p>\n",
       "</div>"
      ],
      "text/plain": [
       "Empty DataFrame\n",
       "Columns: [date, final.output.concentrate_ag, final.output.concentrate_pb, final.output.concentrate_sol, final.output.concentrate_au, final.output.recovery, final.output.tail_ag, final.output.tail_pb, final.output.tail_sol, final.output.tail_au, primary_cleaner.input.sulfate, primary_cleaner.input.depressant, primary_cleaner.input.feed_size, primary_cleaner.input.xanthate, primary_cleaner.output.concentrate_ag, primary_cleaner.output.concentrate_pb, primary_cleaner.output.concentrate_sol, primary_cleaner.output.concentrate_au, primary_cleaner.output.tail_ag, primary_cleaner.output.tail_pb, primary_cleaner.output.tail_sol, primary_cleaner.output.tail_au, primary_cleaner.state.floatbank8_a_air, primary_cleaner.state.floatbank8_a_level, primary_cleaner.state.floatbank8_b_air, primary_cleaner.state.floatbank8_b_level, primary_cleaner.state.floatbank8_c_air, primary_cleaner.state.floatbank8_c_level, primary_cleaner.state.floatbank8_d_air, primary_cleaner.state.floatbank8_d_level, rougher.calculation.sulfate_to_au_concentrate, rougher.calculation.floatbank10_sulfate_to_au_feed, rougher.calculation.floatbank11_sulfate_to_au_feed, rougher.calculation.au_pb_ratio, rougher.input.feed_ag, rougher.input.feed_pb, rougher.input.feed_rate, rougher.input.feed_size, rougher.input.feed_sol, rougher.input.feed_au, rougher.input.floatbank10_sulfate, rougher.input.floatbank10_xanthate, rougher.input.floatbank11_sulfate, rougher.input.floatbank11_xanthate, rougher.output.concentrate_ag, rougher.output.concentrate_pb, rougher.output.concentrate_sol, rougher.output.concentrate_au, rougher.output.recovery, rougher.output.tail_ag, rougher.output.tail_pb, rougher.output.tail_sol, rougher.output.tail_au, rougher.state.floatbank10_a_air, rougher.state.floatbank10_a_level, rougher.state.floatbank10_b_air, rougher.state.floatbank10_b_level, rougher.state.floatbank10_c_air, rougher.state.floatbank10_c_level, rougher.state.floatbank10_d_air, rougher.state.floatbank10_d_level, rougher.state.floatbank10_e_air, rougher.state.floatbank10_e_level, rougher.state.floatbank10_f_air, rougher.state.floatbank10_f_level, secondary_cleaner.output.tail_ag, secondary_cleaner.output.tail_pb, secondary_cleaner.output.tail_sol, secondary_cleaner.output.tail_au, secondary_cleaner.state.floatbank2_a_air, secondary_cleaner.state.floatbank2_a_level, secondary_cleaner.state.floatbank2_b_air, secondary_cleaner.state.floatbank2_b_level, secondary_cleaner.state.floatbank3_a_air, secondary_cleaner.state.floatbank3_a_level, secondary_cleaner.state.floatbank3_b_air, secondary_cleaner.state.floatbank3_b_level, secondary_cleaner.state.floatbank4_a_air, secondary_cleaner.state.floatbank4_a_level, secondary_cleaner.state.floatbank4_b_air, secondary_cleaner.state.floatbank4_b_level, secondary_cleaner.state.floatbank5_a_air, secondary_cleaner.state.floatbank5_a_level, secondary_cleaner.state.floatbank5_b_air, secondary_cleaner.state.floatbank5_b_level, secondary_cleaner.state.floatbank6_a_air, secondary_cleaner.state.floatbank6_a_level]\n",
       "Index: []\n",
       "\n",
       "[0 rows x 87 columns]"
      ]
     },
     "execution_count": 51,
     "metadata": {},
     "output_type": "execute_result"
    }
   ],
   "source": [
    "# Так как это аномалии, удаляем их\n",
    "good_df_train = good_df_train.drop(good_df_train[good_df_train['primary_cleaner.output.concentrate_au'] == 0].index)\n",
    "good_df_train[good_df_train['primary_cleaner.output.concentrate_au'] == 0].head()"
   ]
  },
  {
   "cell_type": "markdown",
   "metadata": {},
   "source": [
    "### Вывод\n",
    "\n",
    "В результате анализа были изучены:\n",
    "\n",
    "- Концентрация металлов (Au, Ag, Pb) на разных этапах очистки.\n",
    "- Размер гранул сырья на обучающей и тестовой выборках\n",
    "- Суммарная концентрация всех веществ на разных стадиях: в сырье, в черновом и финальном концентратах.\n",
    "- Найдены и обработаны аномалии. Данные готовы к обучению."
   ]
  },
  {
   "cell_type": "markdown",
   "metadata": {},
   "source": [
    "## Модель"
   ]
  },
  {
   "cell_type": "code",
   "execution_count": 52,
   "metadata": {},
   "outputs": [],
   "source": [
    "def sMAPE(y_true,y_pred):\n",
    "    error = np.mean(abs(y_true - y_pred)/((abs(y_true)+abs(y_pred))/2))*100\n",
    "    return error"
   ]
  },
  {
   "cell_type": "code",
   "execution_count": 53,
   "metadata": {},
   "outputs": [],
   "source": [
    "def final_sMAPE(sMAPE_rougher,sMAPE_final):\n",
    "    return (0.25*sMAPE_rougher + 0.75*sMAPE_final)"
   ]
  },
  {
   "cell_type": "code",
   "execution_count": null,
   "metadata": {},
   "outputs": [],
   "source": []
  },
  {
   "cell_type": "code",
   "execution_count": 54,
   "metadata": {},
   "outputs": [
    {
     "name": "stdout",
     "output_type": "stream",
     "text": [
      "{'primary_cleaner.output.tail_ag', 'rougher.output.concentrate_pb', 'final.output.tail_sol', 'rougher.output.tail_pb', 'secondary_cleaner.output.tail_au', 'rougher.output.concentrate_ag', 'secondary_cleaner.output.tail_pb', 'secondary_cleaner.output.tail_ag', 'rougher.calculation.au_pb_ratio', 'secondary_cleaner.output.tail_sol', 'final.output.tail_pb', 'primary_cleaner.output.tail_sol', 'rougher.output.tail_sol', 'final.output.concentrate_ag', 'final.output.tail_ag', 'primary_cleaner.output.concentrate_au', 'rougher.calculation.floatbank10_sulfate_to_au_feed', 'final.output.tail_au', 'primary_cleaner.output.tail_au', 'primary_cleaner.output.tail_pb', 'rougher.output.recovery', 'rougher.output.concentrate_au', 'primary_cleaner.output.concentrate_pb', 'rougher.output.tail_au', 'primary_cleaner.output.concentrate_sol', 'final.output.concentrate_pb', 'rougher.output.tail_ag', 'final.output.concentrate_au', 'rougher.calculation.sulfate_to_au_concentrate', 'final.output.concentrate_sol', 'date', 'rougher.output.concentrate_sol', 'rougher.calculation.floatbank11_sulfate_to_au_feed', 'final.output.recovery', 'primary_cleaner.output.concentrate_ag'}\n",
      "\n",
      "Index(['primary_cleaner.input.sulfate', 'primary_cleaner.input.depressant',\n",
      "       'primary_cleaner.input.feed_size', 'primary_cleaner.input.xanthate',\n",
      "       'primary_cleaner.state.floatbank8_a_air',\n",
      "       'primary_cleaner.state.floatbank8_a_level',\n",
      "       'primary_cleaner.state.floatbank8_b_air',\n",
      "       'primary_cleaner.state.floatbank8_b_level',\n",
      "       'primary_cleaner.state.floatbank8_c_air',\n",
      "       'primary_cleaner.state.floatbank8_c_level',\n",
      "       'primary_cleaner.state.floatbank8_d_air',\n",
      "       'primary_cleaner.state.floatbank8_d_level', 'rougher.input.feed_ag',\n",
      "       'rougher.input.feed_pb', 'rougher.input.feed_rate',\n",
      "       'rougher.input.feed_size', 'rougher.input.feed_sol',\n",
      "       'rougher.input.feed_au', 'rougher.input.floatbank10_sulfate',\n",
      "       'rougher.input.floatbank10_xanthate',\n",
      "       'rougher.input.floatbank11_sulfate',\n",
      "       'rougher.input.floatbank11_xanthate', 'rougher.state.floatbank10_a_air',\n",
      "       'rougher.state.floatbank10_a_level', 'rougher.state.floatbank10_b_air',\n",
      "       'rougher.state.floatbank10_b_level', 'rougher.state.floatbank10_c_air',\n",
      "       'rougher.state.floatbank10_c_level', 'rougher.state.floatbank10_d_air',\n",
      "       'rougher.state.floatbank10_d_level', 'rougher.state.floatbank10_e_air',\n",
      "       'rougher.state.floatbank10_e_level', 'rougher.state.floatbank10_f_air',\n",
      "       'rougher.state.floatbank10_f_level',\n",
      "       'secondary_cleaner.state.floatbank2_a_air',\n",
      "       'secondary_cleaner.state.floatbank2_a_level',\n",
      "       'secondary_cleaner.state.floatbank2_b_air',\n",
      "       'secondary_cleaner.state.floatbank2_b_level',\n",
      "       'secondary_cleaner.state.floatbank3_a_air',\n",
      "       'secondary_cleaner.state.floatbank3_a_level',\n",
      "       'secondary_cleaner.state.floatbank3_b_air',\n",
      "       'secondary_cleaner.state.floatbank3_b_level',\n",
      "       'secondary_cleaner.state.floatbank4_a_air',\n",
      "       'secondary_cleaner.state.floatbank4_a_level',\n",
      "       'secondary_cleaner.state.floatbank4_b_air',\n",
      "       'secondary_cleaner.state.floatbank4_b_level',\n",
      "       'secondary_cleaner.state.floatbank5_a_air',\n",
      "       'secondary_cleaner.state.floatbank5_a_level',\n",
      "       'secondary_cleaner.state.floatbank5_b_air',\n",
      "       'secondary_cleaner.state.floatbank5_b_level',\n",
      "       'secondary_cleaner.state.floatbank6_a_air',\n",
      "       'secondary_cleaner.state.floatbank6_a_level'],\n",
      "      dtype='object')\n",
      "{'secondary_cleaner.state.floatbank2_a_air', 'secondary_cleaner.state.floatbank5_a_air', 'secondary_cleaner.state.floatbank3_a_air', 'primary_cleaner.state.floatbank8_a_level', 'primary_cleaner.state.floatbank8_a_air', 'primary_cleaner.state.floatbank8_d_level', 'secondary_cleaner.state.floatbank4_a_level', 'secondary_cleaner.state.floatbank2_b_air', 'secondary_cleaner.state.floatbank5_b_air', 'primary_cleaner.input.sulfate', 'primary_cleaner.input.depressant', 'secondary_cleaner.state.floatbank6_a_level', 'primary_cleaner.state.floatbank8_d_air', 'secondary_cleaner.state.floatbank5_b_level', 'primary_cleaner.state.floatbank8_c_air', 'secondary_cleaner.state.floatbank3_a_level', 'secondary_cleaner.state.floatbank6_a_air', 'primary_cleaner.input.feed_size', 'primary_cleaner.state.floatbank8_b_air', 'secondary_cleaner.state.floatbank4_b_level', 'primary_cleaner.state.floatbank8_c_level', 'secondary_cleaner.state.floatbank4_b_air', 'secondary_cleaner.state.floatbank3_b_air', 'secondary_cleaner.state.floatbank4_a_air', 'secondary_cleaner.state.floatbank2_a_level', 'primary_cleaner.state.floatbank8_b_level', 'primary_cleaner.input.xanthate', 'secondary_cleaner.state.floatbank5_a_level', 'secondary_cleaner.state.floatbank2_b_level', 'secondary_cleaner.state.floatbank3_b_level'}\n",
      "\n",
      "Index(['rougher.input.feed_ag', 'rougher.input.feed_pb',\n",
      "       'rougher.input.feed_rate', 'rougher.input.feed_size',\n",
      "       'rougher.input.feed_sol', 'rougher.input.feed_au',\n",
      "       'rougher.input.floatbank10_sulfate',\n",
      "       'rougher.input.floatbank10_xanthate',\n",
      "       'rougher.input.floatbank11_sulfate',\n",
      "       'rougher.input.floatbank11_xanthate', 'rougher.state.floatbank10_a_air',\n",
      "       'rougher.state.floatbank10_a_level', 'rougher.state.floatbank10_b_air',\n",
      "       'rougher.state.floatbank10_b_level', 'rougher.state.floatbank10_c_air',\n",
      "       'rougher.state.floatbank10_c_level', 'rougher.state.floatbank10_d_air',\n",
      "       'rougher.state.floatbank10_d_level', 'rougher.state.floatbank10_e_air',\n",
      "       'rougher.state.floatbank10_e_level', 'rougher.state.floatbank10_f_air',\n",
      "       'rougher.state.floatbank10_f_level'],\n",
      "      dtype='object')\n"
     ]
    }
   ],
   "source": [
    "# Подготовка признаков для final.output.recovery\n",
    "columns_to_delete = set(good_df_train.columns) - final_features_columns\n",
    "print(columns_to_delete)\n",
    "train_features_dataset_final = good_df_train.drop(columns_to_delete, axis=1)\n",
    "print()\n",
    "print(train_features_dataset_final.columns)\n",
    "\n",
    "# Подготовка признаков для rougher.output.recovery\n",
    "columns_to_delete = set(train_features_dataset_final.columns) - rougher_features_columns\n",
    "print(columns_to_delete)\n",
    "train_features_dataset_rougher = train_features_dataset_final.drop(columns_to_delete, axis=1)\n",
    "print()\n",
    "print(train_features_dataset_rougher.columns)"
   ]
  },
  {
   "cell_type": "code",
   "execution_count": 55,
   "metadata": {},
   "outputs": [],
   "source": [
    "train_target_dataset_rougher = good_df_train['rougher.output.recovery']\n",
    "train_target_dataset_final = good_df_train['final.output.recovery']"
   ]
  },
  {
   "cell_type": "code",
   "execution_count": 56,
   "metadata": {},
   "outputs": [],
   "source": [
    "test_features = good_df_test.drop('date', axis=1)\n",
    "#test_features.columns"
   ]
  },
  {
   "cell_type": "code",
   "execution_count": 57,
   "metadata": {},
   "outputs": [],
   "source": [
    "test_features_final = test_features\n",
    "columns_to_delete = set(test_features_final.columns) - rougher_features_columns\n",
    "#print(columns_to_delete)\n",
    "test_features_rougher = test_features_final.drop(columns_to_delete, axis=1)"
   ]
  },
  {
   "cell_type": "code",
   "execution_count": 58,
   "metadata": {},
   "outputs": [
    {
     "data": {
      "text/plain": [
       "(5383, 22)"
      ]
     },
     "execution_count": 58,
     "metadata": {},
     "output_type": "execute_result"
    }
   ],
   "source": [
    "test_features_rougher.shape"
   ]
  },
  {
   "cell_type": "code",
   "execution_count": 59,
   "metadata": {},
   "outputs": [],
   "source": [
    "# Cчетчик функции\n",
    "custom_score = make_scorer(sMAPE,greater_is_better=False)"
   ]
  },
  {
   "cell_type": "code",
   "execution_count": null,
   "metadata": {},
   "outputs": [],
   "source": []
  },
  {
   "cell_type": "code",
   "execution_count": 60,
   "metadata": {},
   "outputs": [],
   "source": [
    "model = make_pipeline(StandardScaler(),RandomForestRegressor())\n",
    "model2 = make_pipeline(StandardScaler(),DecisionTreeRegressor())"
   ]
  },
  {
   "cell_type": "code",
   "execution_count": 61,
   "metadata": {},
   "outputs": [],
   "source": [
    "# Инициализация параметров для GridSearchCV\n",
    "params_RF = {\"randomforestregressor__n_estimators\":[5,100],\n",
    "             \"randomforestregressor__max_depth\":[1,10]}\n",
    "params_DT= {\"decisiontreeregressor__max_depth\":[1,10]}"
   ]
  },
  {
   "cell_type": "code",
   "execution_count": 62,
   "metadata": {},
   "outputs": [],
   "source": [
    "grid_rougher = GridSearchCV(model,param_grid = params_RF,scoring=custom_score)\n",
    "grid_final = GridSearchCV(model,param_grid = params_RF,scoring=custom_score)\n",
    "grid_rougher_DT = GridSearchCV(model2,param_grid = params_DT,scoring=custom_score)\n",
    "grid_final_DT = GridSearchCV(model2,param_grid = params_DT,scoring=custom_score)"
   ]
  },
  {
   "cell_type": "code",
   "execution_count": null,
   "metadata": {},
   "outputs": [],
   "source": []
  },
  {
   "cell_type": "code",
   "execution_count": 63,
   "metadata": {},
   "outputs": [
    {
     "data": {
      "text/plain": [
       "GridSearchCV(estimator=Pipeline(steps=[('standardscaler', StandardScaler()),\n",
       "                                       ('decisiontreeregressor',\n",
       "                                        DecisionTreeRegressor())]),\n",
       "             param_grid={'decisiontreeregressor__max_depth': [1, 10]},\n",
       "             scoring=make_scorer(sMAPE, greater_is_better=False))"
      ]
     },
     "execution_count": 63,
     "metadata": {},
     "output_type": "execute_result"
    }
   ],
   "source": [
    "# Запускаем обучение\n",
    "grid_rougher.fit(train_features_dataset_rougher,train_target_dataset_rougher)\n",
    "grid_final.fit(train_features_dataset_final,train_target_dataset_final)\n",
    "grid_rougher_DT.fit(train_features_dataset_rougher,train_target_dataset_rougher)\n",
    "grid_final_DT.fit(train_features_dataset_final,train_target_dataset_final)"
   ]
  },
  {
   "cell_type": "code",
   "execution_count": 64,
   "metadata": {},
   "outputs": [
    {
     "name": "stdout",
     "output_type": "stream",
     "text": [
      "Лучшие модели\n",
      "Pipeline(steps=[('standardscaler', StandardScaler()),\n",
      "                ('randomforestregressor', RandomForestRegressor(max_depth=10))])\n",
      "Pipeline(steps=[('standardscaler', StandardScaler()),\n",
      "                ('randomforestregressor', RandomForestRegressor(max_depth=10))])\n",
      "Pipeline(steps=[('standardscaler', StandardScaler()),\n",
      "                ('decisiontreeregressor', DecisionTreeRegressor(max_depth=1))])\n",
      "Pipeline(steps=[('standardscaler', StandardScaler()),\n",
      "                ('decisiontreeregressor', DecisionTreeRegressor(max_depth=1))])\n"
     ]
    }
   ],
   "source": [
    "print(\"Лучшие модели\")\n",
    "print(grid_rougher.best_estimator_)\n",
    "print(grid_rougher.best_estimator_)\n",
    "print(grid_rougher_DT.best_estimator_)\n",
    "print(grid_final_DT.best_estimator_)"
   ]
  },
  {
   "cell_type": "code",
   "execution_count": 65,
   "metadata": {},
   "outputs": [],
   "source": [
    "best_score_rougher = grid_rougher.best_score_\n",
    "best_score_final = grid_final.best_score_\n",
    "best_score_rougher_DT = grid_rougher_DT.best_score_\n",
    "best_score_final_DT = grid_final_DT.best_score_"
   ]
  },
  {
   "cell_type": "code",
   "execution_count": 66,
   "metadata": {},
   "outputs": [
    {
     "name": "stdout",
     "output_type": "stream",
     "text": [
      "rougher\n",
      "RandomForest -6.318371222484672 DecisionTree -6.970277417780446\n",
      "final\n",
      "RandomForest -8.147701254038713 DecisionTree -8.211123544466659\n"
     ]
    }
   ],
   "source": [
    "# Определяем лучшую модель для каждого целевого признака\n",
    "print(\"rougher\")\n",
    "print(\"RandomForest\",best_score_rougher,\"DecisionTree\",best_score_rougher_DT)\n",
    "print(\"final\")\n",
    "print(\"RandomForest\",best_score_final,\"DecisionTree\",best_score_final_DT)"
   ]
  },
  {
   "cell_type": "markdown",
   "metadata": {},
   "source": [
    "**Вывод** лучше всег осправляется случайное дерево, так что остановим свой выбор на нем."
   ]
  },
  {
   "cell_type": "markdown",
   "metadata": {},
   "source": [
    "### Лучшие результаты на тренировочной выборке"
   ]
  },
  {
   "cell_type": "code",
   "execution_count": 67,
   "metadata": {},
   "outputs": [
    {
     "data": {
      "text/plain": [
       "-7.690368746150202"
      ]
     },
     "execution_count": 67,
     "metadata": {},
     "output_type": "execute_result"
    }
   ],
   "source": [
    "# Финальный sMAPE RandomForest\n",
    "final_sMAPE(best_score_rougher,best_score_final)"
   ]
  },
  {
   "cell_type": "code",
   "execution_count": 68,
   "metadata": {},
   "outputs": [
    {
     "data": {
      "text/plain": [
       "-7.900912012795105"
      ]
     },
     "execution_count": 68,
     "metadata": {},
     "output_type": "execute_result"
    }
   ],
   "source": [
    "# Финальный sMAPE DecisionTree\n",
    "final_sMAPE(best_score_rougher_DT,best_score_final_DT)"
   ]
  },
  {
   "cell_type": "code",
   "execution_count": 69,
   "metadata": {},
   "outputs": [],
   "source": [
    "test_frame_for_target = good_df_test.merge(df_full.loc[:,['date',\"rougher.output.recovery\",\n",
    "                                                           \"final.output.recovery\"]],on = 'date')"
   ]
  },
  {
   "cell_type": "code",
   "execution_count": 70,
   "metadata": {},
   "outputs": [],
   "source": [
    "target_test_rougher = test_frame_for_target[\"rougher.output.recovery\"]\n",
    "target_test_final = test_frame_for_target[\"final.output.recovery\"]"
   ]
  },
  {
   "cell_type": "code",
   "execution_count": 72,
   "metadata": {},
   "outputs": [
    {
     "data": {
      "text/plain": [
       "(0       70.273583\n",
       " 1       68.910432\n",
       " 2       68.143213\n",
       " 3       67.776393\n",
       " 4       61.467078\n",
       "           ...    \n",
       " 5378    68.919891\n",
       " 5379    68.440582\n",
       " 5380    67.092759\n",
       " 5381    68.061186\n",
       " 5382    71.699976\n",
       " Name: final.output.recovery, Length: 5383, dtype: float64,\n",
       " 0       89.993421\n",
       " 1       88.089657\n",
       " 2       88.412756\n",
       " 3       87.360133\n",
       " 4       83.236367\n",
       "           ...    \n",
       " 5378    95.172585\n",
       " 5379    94.575036\n",
       " 5380    93.018138\n",
       " 5381    92.599042\n",
       " 5382    91.177695\n",
       " Name: rougher.output.recovery, Length: 5383, dtype: float64)"
      ]
     },
     "execution_count": 72,
     "metadata": {},
     "output_type": "execute_result"
    }
   ],
   "source": [
    "target_test_final, target_test_rougher"
   ]
  },
  {
   "cell_type": "code",
   "execution_count": 74,
   "metadata": {},
   "outputs": [],
   "source": [
    "rougher_recovery_real = df_full.loc[not_nan_index,'rougher.output.recovery']\n",
    "final_recovery_real = df_full.loc[test_features_final.index,'final.output.recovery']\n",
    "not_nan_index = set(test_features_rougher.index)\n",
    "not_nan_index = not_nan_index.intersection(set(final_recovery_real.index), set(rougher_recovery_real.index))"
   ]
  },
  {
   "cell_type": "code",
   "execution_count": 75,
   "metadata": {},
   "outputs": [],
   "source": [
    "final_recovery_real = df_full.loc[not_nan_index,'final.output.recovery']\n",
    "test_features_rougher = test_features_rougher.loc[not_nan_index,:]\n",
    "test_features_final = test_features_final.loc[not_nan_index,:]"
   ]
  },
  {
   "cell_type": "code",
   "execution_count": null,
   "metadata": {},
   "outputs": [],
   "source": []
  },
  {
   "cell_type": "code",
   "execution_count": 76,
   "metadata": {},
   "outputs": [],
   "source": [
    "rogher_test = grid_rougher.predict(test_features_rougher)"
   ]
  },
  {
   "cell_type": "code",
   "execution_count": 77,
   "metadata": {},
   "outputs": [],
   "source": [
    "final_test = grid_final.predict(test_features_final)"
   ]
  },
  {
   "cell_type": "markdown",
   "metadata": {},
   "source": [
    "### Финальная ошибка на тестовой выборке"
   ]
  },
  {
   "cell_type": "code",
   "execution_count": 78,
   "metadata": {},
   "outputs": [
    {
     "data": {
      "text/plain": [
       "9.191442373565621"
      ]
     },
     "execution_count": 78,
     "metadata": {},
     "output_type": "execute_result"
    }
   ],
   "source": [
    "final_sMAPE(sMAPE(target_test_rougher,rogher_test),sMAPE(target_test_final,final_test))"
   ]
  },
  {
   "cell_type": "markdown",
   "metadata": {},
   "source": [
    "### Константная модель, сравнение, анализ."
   ]
  },
  {
   "cell_type": "code",
   "execution_count": 79,
   "metadata": {},
   "outputs": [
    {
     "name": "stdout",
     "output_type": "stream",
     "text": [
      "8.73749185616434\n"
     ]
    }
   ],
   "source": [
    "dummy_regressor_rougher = DummyRegressor(strategy=\"median\")\n",
    "dummy_regressor_rougher.fit(train_features_dataset_rougher,train_target_dataset_rougher)\n",
    "dummy_rougher_pred = dummy_regressor_rougher.predict(rogher_test)\n",
    "smape_dummy_rougher = sMAPE(target_test_rougher, dummy_rougher_pred)\n",
    "print(smape_dummy_rougher) "
   ]
  },
  {
   "cell_type": "code",
   "execution_count": 80,
   "metadata": {},
   "outputs": [
    {
     "name": "stdout",
     "output_type": "stream",
     "text": [
      "9.772234877523275\n"
     ]
    }
   ],
   "source": [
    "dummy_regressor_final = DummyRegressor(strategy=\"median\")\n",
    "dummy_regressor_final.fit(train_features_dataset_final,train_target_dataset_final)\n",
    "dummy_final_pred = dummy_regressor_final.predict(final_test)\n",
    "smape_dummy_final = sMAPE(target_test_final, dummy_final_pred)\n",
    "print(smape_dummy_final) "
   ]
  },
  {
   "cell_type": "code",
   "execution_count": 72,
   "metadata": {},
   "outputs": [
    {
     "data": {
      "text/plain": [
       "9.254863366843807"
      ]
     },
     "execution_count": 72,
     "metadata": {},
     "output_type": "execute_result"
    }
   ],
   "source": [
    "final = (smape_dummy_final + smape_dummy_rougher)/2\n",
    "final"
   ]
  },
  {
   "cell_type": "markdown",
   "metadata": {},
   "source": [
    "# Вывод\n",
    "\n",
    "- Итоговая модель построена на алгоритме RandomForest\n",
    "- Ошибка на тестовой выборке: 9.17, на константной 9.25\n",
    "- Параметры алгоритма: Pipeline(steps=[('standardscaler', StandardScaler()),\n",
    "                ('randomforestregressor', RandomForestRegressor(max_depth=10))])\n"
   ]
  },
  {
   "cell_type": "raw",
   "metadata": {},
   "source": [
    "dummy_regressor_rougher = DummyRegressor(strategy=\"median\")\n",
    "dummy_regressor_rougher.fit(X_train, y_train_rougher)\n",
    "dummy_rougher_pred = dummy_regressor_rougher.predict(X_test)\n",
    "smape_dummy_rougher = smape(y_test_rougher, dummy_rougher_pred)\n",
    "print(smape_dummy_rougher) \n",
    "\n",
    "И ДАЛЕЕ: ДЛЯ FINAL И ИТОГОВЫЙ"
   ]
  },
  {
   "cell_type": "raw",
   "metadata": {},
   "source": [
    "# ПРОСТО ДЛЯ ОЗНАКОМЛЕНИЯ ВАРАИНТА КРОСС-ВАЛИДАЦИИ СО СВОЕЙ ФУНКЦИЕЙ\n",
    "\n",
    "random_state = 123\n",
    "cv = 5\n",
    "models = [DecisionTreeRegressor(random_state = random_state), \n",
    "          RandomForestRegressor(random_state=random_state), \n",
    "          LinearRegression()]\n",
    "\n",
    "\n",
    "results_cross_val = []\n",
    "\n",
    "for model in models: \n",
    "    \n",
    "    scorer = make_scorer(smape, greater_is_better=False) \n",
    "    \n",
    "    cross_val_score_rougher = cross_val_score(model, \n",
    "                                              features_train, \n",
    "                                              target_rougher_train, \n",
    "                                              cv=cv, scoring=scorer).mean()\n",
    "    cross_val_score_final = cross_val_score(model, \n",
    "                                            features_train, \n",
    "                                            target_final_train, \n",
    "                                            cv=cv, scoring=scorer).mean()\n",
    "\n",
    "    results_cross_val.append({'model name': model.__class__.__name__, \n",
    "                              'cross_val_score_rougher': cross_val_score_rougher, \n",
    "                              'cross_val_score_final': cross_val_score_final}) \n",
    "              \n",
    "pd.DataFrame(results_cross_val)"
   ]
  },
  {
   "cell_type": "markdown",
   "metadata": {},
   "source": [
    "## Чек-лист готовности проекта"
   ]
  },
  {
   "cell_type": "markdown",
   "metadata": {},
   "source": [
    "- [x]  Jupyter Notebook открыт\n",
    "- [x]  Весь код выполняется без ошибок\n",
    "- [x]  Ячейки с кодом расположены в порядке выполнения\n",
    "- [x]  Выполнен шаг 1: данные подготовлены\n",
    "    - [x]  Проверена формула вычисления эффективности обогащения\n",
    "    - [x]  Проанализированы признаки, недоступные в тестовой выборке\n",
    "    - [x]  Проведена предобработка данных\n",
    "- [x]  Выполнен шаг 2: данные проанализированы\n",
    "    - [x]  Исследовано изменение концентрации элементов на каждом этапе\n",
    "    - [x]  Проанализированы распределения размеров гранул на обучающей и тестовой выборках\n",
    "    - [x]  Исследованы суммарные концентрации\n",
    "- [x]  Выполнен шаг 3: построена модель прогнозирования\n",
    "    - [x]  Написана функция для вычисления итогового *sMAPE*\n",
    "    - [x]  Обучено и проверено несколько моделей\n",
    "    - [x]  Выбрана лучшая модель, её качество проверено на тестовой выборке"
   ]
  }
 ],
 "metadata": {
  "ExecuteTimeLog": [
   {
    "duration": 1521,
    "start_time": "2022-04-16T09:31:53.586Z"
   },
   {
    "duration": 5,
    "start_time": "2022-04-16T09:32:13.402Z"
   },
   {
    "duration": 300,
    "start_time": "2022-04-16T09:32:46.779Z"
   },
   {
    "duration": 289,
    "start_time": "2022-04-16T09:32:56.754Z"
   },
   {
    "duration": 765,
    "start_time": "2022-04-16T09:33:21.441Z"
   },
   {
    "duration": 19,
    "start_time": "2022-04-16T09:35:45.139Z"
   },
   {
    "duration": 13,
    "start_time": "2022-04-16T09:35:56.344Z"
   },
   {
    "duration": 20,
    "start_time": "2022-04-16T09:36:04.892Z"
   },
   {
    "duration": 23,
    "start_time": "2022-04-16T09:36:28.006Z"
   },
   {
    "duration": 3,
    "start_time": "2022-04-16T09:36:43.770Z"
   },
   {
    "duration": 25,
    "start_time": "2022-04-16T09:37:27.891Z"
   },
   {
    "duration": 24,
    "start_time": "2022-04-16T09:37:53.660Z"
   },
   {
    "duration": 75,
    "start_time": "2022-04-16T09:37:53.686Z"
   },
   {
    "duration": 112,
    "start_time": "2022-04-16T09:37:53.762Z"
   },
   {
    "duration": 140,
    "start_time": "2022-04-16T09:39:52.890Z"
   },
   {
    "duration": 231,
    "start_time": "2022-04-16T09:39:53.579Z"
   },
   {
    "duration": 252,
    "start_time": "2022-04-16T09:39:54.391Z"
   },
   {
    "duration": 111,
    "start_time": "2022-04-16T09:44:21.744Z"
   },
   {
    "duration": 3,
    "start_time": "2022-04-16T09:44:27.117Z"
   },
   {
    "duration": 3,
    "start_time": "2022-04-16T09:44:51.982Z"
   },
   {
    "duration": 117,
    "start_time": "2022-04-16T09:45:02.475Z"
   },
   {
    "duration": 3,
    "start_time": "2022-04-16T09:45:25.317Z"
   },
   {
    "duration": 473,
    "start_time": "2022-04-16T09:45:25.848Z"
   },
   {
    "duration": 478,
    "start_time": "2022-04-16T09:46:05.810Z"
   },
   {
    "duration": 569,
    "start_time": "2022-04-16T09:46:06.290Z"
   },
   {
    "duration": 131,
    "start_time": "2022-04-16T09:53:12.773Z"
   },
   {
    "duration": 121,
    "start_time": "2022-04-16T09:53:22.665Z"
   },
   {
    "duration": 117,
    "start_time": "2022-04-16T09:53:43.794Z"
   },
   {
    "duration": 112,
    "start_time": "2022-04-16T09:54:40.548Z"
   },
   {
    "duration": 111,
    "start_time": "2022-04-16T09:54:49.104Z"
   },
   {
    "duration": 20,
    "start_time": "2022-04-16T09:54:57.176Z"
   },
   {
    "duration": 24,
    "start_time": "2022-04-16T09:56:23.209Z"
   },
   {
    "duration": 9,
    "start_time": "2022-04-16T09:56:47.255Z"
   },
   {
    "duration": 8,
    "start_time": "2022-04-16T09:56:49.393Z"
   },
   {
    "duration": 20,
    "start_time": "2022-04-16T10:05:41.363Z"
   },
   {
    "duration": 16,
    "start_time": "2022-04-16T10:06:50.167Z"
   },
   {
    "duration": 13,
    "start_time": "2022-04-16T10:06:56.190Z"
   },
   {
    "duration": 22,
    "start_time": "2022-04-16T10:23:08.331Z"
   },
   {
    "duration": 22,
    "start_time": "2022-04-16T10:33:42.414Z"
   },
   {
    "duration": 5,
    "start_time": "2022-04-16T11:21:08.596Z"
   },
   {
    "duration": 5,
    "start_time": "2022-04-16T11:23:47.079Z"
   },
   {
    "duration": 4,
    "start_time": "2022-04-16T11:24:01.293Z"
   },
   {
    "duration": 5,
    "start_time": "2022-04-16T11:24:40.755Z"
   },
   {
    "duration": 14,
    "start_time": "2022-04-16T11:38:37.877Z"
   },
   {
    "duration": 272,
    "start_time": "2022-04-16T11:38:46.155Z"
   },
   {
    "duration": 356,
    "start_time": "2022-04-16T11:38:58.094Z"
   },
   {
    "duration": 265,
    "start_time": "2022-04-16T11:39:03.948Z"
   },
   {
    "duration": 238,
    "start_time": "2022-04-16T11:39:10.456Z"
   },
   {
    "duration": 239,
    "start_time": "2022-04-16T11:39:14.809Z"
   },
   {
    "duration": 276,
    "start_time": "2022-04-16T11:39:18.981Z"
   },
   {
    "duration": 256,
    "start_time": "2022-04-16T11:39:24.565Z"
   },
   {
    "duration": 360,
    "start_time": "2022-04-16T11:41:55.170Z"
   },
   {
    "duration": 244,
    "start_time": "2022-04-16T11:44:39.985Z"
   },
   {
    "duration": 260,
    "start_time": "2022-04-16T11:44:55.072Z"
   },
   {
    "duration": 52,
    "start_time": "2022-04-16T14:58:51.662Z"
   },
   {
    "duration": 1838,
    "start_time": "2022-04-16T14:58:56.364Z"
   },
   {
    "duration": 1470,
    "start_time": "2022-04-16T14:58:58.205Z"
   },
   {
    "duration": 3,
    "start_time": "2022-04-16T14:58:59.677Z"
   },
   {
    "duration": 26,
    "start_time": "2022-04-16T14:58:59.682Z"
   },
   {
    "duration": 13,
    "start_time": "2022-04-16T14:58:59.710Z"
   },
   {
    "duration": 20,
    "start_time": "2022-04-16T14:58:59.725Z"
   },
   {
    "duration": 67,
    "start_time": "2022-04-16T14:58:59.746Z"
   },
   {
    "duration": 87,
    "start_time": "2022-04-16T14:58:59.815Z"
   },
   {
    "duration": 136,
    "start_time": "2022-04-16T14:58:59.904Z"
   },
   {
    "duration": 151,
    "start_time": "2022-04-16T14:59:00.042Z"
   },
   {
    "duration": 255,
    "start_time": "2022-04-16T14:59:00.195Z"
   },
   {
    "duration": 277,
    "start_time": "2022-04-16T14:59:00.452Z"
   },
   {
    "duration": 3,
    "start_time": "2022-04-16T14:59:00.731Z"
   },
   {
    "duration": 240,
    "start_time": "2022-04-16T14:59:00.737Z"
   },
   {
    "duration": 657,
    "start_time": "2022-04-16T14:59:00.979Z"
   },
   {
    "duration": 693,
    "start_time": "2022-04-16T14:59:01.639Z"
   },
   {
    "duration": 15,
    "start_time": "2022-04-16T14:59:02.334Z"
   },
   {
    "duration": 10,
    "start_time": "2022-04-16T14:59:02.351Z"
   },
   {
    "duration": 44,
    "start_time": "2022-04-16T14:59:02.362Z"
   },
   {
    "duration": 20,
    "start_time": "2022-04-16T14:59:02.408Z"
   },
   {
    "duration": 31,
    "start_time": "2022-04-16T14:59:02.430Z"
   },
   {
    "duration": 5,
    "start_time": "2022-04-16T14:59:02.463Z"
   },
   {
    "duration": 10,
    "start_time": "2022-04-16T14:59:02.493Z"
   },
   {
    "duration": 451,
    "start_time": "2022-04-16T14:59:02.505Z"
   },
   {
    "duration": 511,
    "start_time": "2022-04-16T14:59:02.958Z"
   },
   {
    "duration": 24,
    "start_time": "2022-04-16T15:00:45.620Z"
   },
   {
    "duration": 25,
    "start_time": "2022-04-16T15:01:13.116Z"
   },
   {
    "duration": 23,
    "start_time": "2022-04-16T15:01:20.349Z"
   },
   {
    "duration": 23,
    "start_time": "2022-04-16T15:01:23.587Z"
   },
   {
    "duration": 20,
    "start_time": "2022-04-16T15:11:49.003Z"
   },
   {
    "duration": 349,
    "start_time": "2022-04-16T15:12:44.943Z"
   },
   {
    "duration": 2,
    "start_time": "2022-04-16T15:13:36.826Z"
   },
   {
    "duration": 129,
    "start_time": "2022-04-16T15:17:17.605Z"
   },
   {
    "duration": 278,
    "start_time": "2022-04-16T15:17:36.906Z"
   },
   {
    "duration": 293,
    "start_time": "2022-04-16T15:17:46.639Z"
   },
   {
    "duration": 295,
    "start_time": "2022-04-16T15:17:56.306Z"
   },
   {
    "duration": 284,
    "start_time": "2022-04-16T15:18:03.708Z"
   },
   {
    "duration": 24,
    "start_time": "2022-04-16T15:19:29.857Z"
   },
   {
    "duration": 22,
    "start_time": "2022-04-16T15:19:55.368Z"
   },
   {
    "duration": 18,
    "start_time": "2022-04-16T15:21:24.916Z"
   },
   {
    "duration": 20,
    "start_time": "2022-04-16T15:21:28.913Z"
   },
   {
    "duration": 133,
    "start_time": "2022-04-16T15:22:50.364Z"
   },
   {
    "duration": 18,
    "start_time": "2022-04-16T15:23:07.350Z"
   },
   {
    "duration": 21,
    "start_time": "2022-04-16T15:23:18.895Z"
   },
   {
    "duration": 14,
    "start_time": "2022-04-16T15:24:18.508Z"
   },
   {
    "duration": 5,
    "start_time": "2022-04-16T15:35:12.775Z"
   },
   {
    "duration": 5,
    "start_time": "2022-04-16T15:35:18.950Z"
   },
   {
    "duration": 297,
    "start_time": "2022-04-16T15:35:21.137Z"
   },
   {
    "duration": 271,
    "start_time": "2022-04-16T15:36:00.311Z"
   },
   {
    "duration": 4,
    "start_time": "2022-04-16T15:37:02.258Z"
   },
   {
    "duration": 381,
    "start_time": "2022-04-16T15:37:15.315Z"
   },
   {
    "duration": 11,
    "start_time": "2022-04-16T15:37:40.788Z"
   },
   {
    "duration": 5,
    "start_time": "2022-04-16T15:37:48.366Z"
   },
   {
    "duration": 497,
    "start_time": "2022-04-16T15:37:49.342Z"
   },
   {
    "duration": 4,
    "start_time": "2022-04-16T15:40:07.670Z"
   },
   {
    "duration": 606,
    "start_time": "2022-04-16T15:40:08.468Z"
   },
   {
    "duration": 6,
    "start_time": "2022-04-16T15:40:30.749Z"
   },
   {
    "duration": 518,
    "start_time": "2022-04-16T15:40:48.067Z"
   },
   {
    "duration": 648,
    "start_time": "2022-04-16T15:41:38.224Z"
   },
   {
    "duration": 527,
    "start_time": "2022-04-16T15:41:48.813Z"
   },
   {
    "duration": 139,
    "start_time": "2022-04-16T15:42:29.706Z"
   },
   {
    "duration": 4,
    "start_time": "2022-04-16T15:42:55.005Z"
   },
   {
    "duration": 509,
    "start_time": "2022-04-16T15:42:56.908Z"
   },
   {
    "duration": 782,
    "start_time": "2022-04-16T15:43:01.205Z"
   },
   {
    "duration": 621,
    "start_time": "2022-04-16T15:43:12.488Z"
   },
   {
    "duration": 579,
    "start_time": "2022-04-16T15:43:57.689Z"
   },
   {
    "duration": 695,
    "start_time": "2022-04-16T15:44:53.405Z"
   },
   {
    "duration": 620,
    "start_time": "2022-04-16T15:49:01.241Z"
   },
   {
    "duration": 771,
    "start_time": "2022-04-16T15:49:13.312Z"
   },
   {
    "duration": 393,
    "start_time": "2022-04-16T15:49:48.720Z"
   },
   {
    "duration": 855,
    "start_time": "2022-04-16T15:49:57.548Z"
   },
   {
    "duration": 738,
    "start_time": "2022-04-16T15:50:06.938Z"
   },
   {
    "duration": 788,
    "start_time": "2022-04-16T15:50:43.845Z"
   },
   {
    "duration": 958,
    "start_time": "2022-04-16T15:51:00.126Z"
   },
   {
    "duration": 786,
    "start_time": "2022-04-16T15:51:31.936Z"
   },
   {
    "duration": 676,
    "start_time": "2022-04-16T16:05:36.378Z"
   },
   {
    "duration": 670,
    "start_time": "2022-04-16T16:05:59.386Z"
   },
   {
    "duration": 1271,
    "start_time": "2022-04-16T16:12:53.958Z"
   },
   {
    "duration": 838,
    "start_time": "2022-04-16T16:13:00.095Z"
   },
   {
    "duration": 898,
    "start_time": "2022-04-16T16:13:04.617Z"
   },
   {
    "duration": 889,
    "start_time": "2022-04-16T16:13:24.277Z"
   },
   {
    "duration": 1136,
    "start_time": "2022-04-16T16:13:33.918Z"
   },
   {
    "duration": 912,
    "start_time": "2022-04-16T16:13:40.953Z"
   },
   {
    "duration": 717,
    "start_time": "2022-04-16T16:13:44.510Z"
   },
   {
    "duration": 952,
    "start_time": "2022-04-16T16:13:48.227Z"
   },
   {
    "duration": 658,
    "start_time": "2022-04-16T16:13:51.753Z"
   },
   {
    "duration": 1089,
    "start_time": "2022-04-16T16:14:03.510Z"
   },
   {
    "duration": 1210,
    "start_time": "2022-04-16T16:14:20.450Z"
   },
   {
    "duration": 1280,
    "start_time": "2022-04-16T16:14:32.609Z"
   },
   {
    "duration": 947,
    "start_time": "2022-04-16T16:14:40.356Z"
   },
   {
    "duration": 1166,
    "start_time": "2022-04-16T16:14:54.648Z"
   },
   {
    "duration": 746,
    "start_time": "2022-04-16T16:18:16.306Z"
   },
   {
    "duration": 19,
    "start_time": "2022-04-16T16:18:52.193Z"
   },
   {
    "duration": 636,
    "start_time": "2022-04-16T16:19:11.573Z"
   },
   {
    "duration": 465,
    "start_time": "2022-04-16T16:19:17.774Z"
   },
   {
    "duration": 153,
    "start_time": "2022-04-16T16:19:52.310Z"
   },
   {
    "duration": 444,
    "start_time": "2022-04-16T16:19:54.528Z"
   },
   {
    "duration": 559,
    "start_time": "2022-04-16T16:25:22.006Z"
   },
   {
    "duration": 718,
    "start_time": "2022-04-16T16:27:23.746Z"
   },
   {
    "duration": 686,
    "start_time": "2022-04-16T16:27:27.317Z"
   },
   {
    "duration": 575,
    "start_time": "2022-04-16T16:27:30.960Z"
   },
   {
    "duration": 437,
    "start_time": "2022-04-16T16:27:59.445Z"
   },
   {
    "duration": 8,
    "start_time": "2022-04-16T16:31:55.136Z"
   },
   {
    "duration": 577,
    "start_time": "2022-04-16T16:32:43.065Z"
   },
   {
    "duration": 774,
    "start_time": "2022-04-16T16:32:49.642Z"
   },
   {
    "duration": 925,
    "start_time": "2022-04-16T16:32:59.184Z"
   },
   {
    "duration": 958,
    "start_time": "2022-04-16T16:33:13.987Z"
   },
   {
    "duration": 1104,
    "start_time": "2022-04-16T16:33:17.215Z"
   },
   {
    "duration": 560,
    "start_time": "2022-04-16T16:33:50.907Z"
   },
   {
    "duration": 6,
    "start_time": "2022-04-16T16:37:42.152Z"
   },
   {
    "duration": 7,
    "start_time": "2022-04-16T16:38:03.959Z"
   },
   {
    "duration": 19,
    "start_time": "2022-04-16T16:39:42.221Z"
   },
   {
    "duration": 28,
    "start_time": "2022-04-16T16:42:09.118Z"
   },
   {
    "duration": 6,
    "start_time": "2022-04-16T17:13:21.499Z"
   },
   {
    "duration": 4,
    "start_time": "2022-04-16T17:13:52.319Z"
   },
   {
    "duration": 3,
    "start_time": "2022-04-16T17:14:01.580Z"
   },
   {
    "duration": 3,
    "start_time": "2022-04-16T17:14:10.679Z"
   },
   {
    "duration": 12,
    "start_time": "2022-04-16T17:14:18.695Z"
   },
   {
    "duration": 5,
    "start_time": "2022-04-16T17:14:54.139Z"
   },
   {
    "duration": 10,
    "start_time": "2022-04-16T17:15:03.048Z"
   },
   {
    "duration": 6,
    "start_time": "2022-04-16T17:15:55.299Z"
   },
   {
    "duration": 4,
    "start_time": "2022-04-16T17:16:00.858Z"
   },
   {
    "duration": 4,
    "start_time": "2022-04-16T17:16:19.862Z"
   },
   {
    "duration": 4,
    "start_time": "2022-04-16T17:16:25.959Z"
   },
   {
    "duration": 11,
    "start_time": "2022-04-16T17:16:39.981Z"
   },
   {
    "duration": 21,
    "start_time": "2022-04-16T17:18:13.853Z"
   },
   {
    "duration": 18,
    "start_time": "2022-04-16T17:21:24.493Z"
   },
   {
    "duration": 17,
    "start_time": "2022-04-16T17:23:05.865Z"
   },
   {
    "duration": 17,
    "start_time": "2022-04-16T17:23:49.927Z"
   },
   {
    "duration": 15,
    "start_time": "2022-04-16T17:24:20.106Z"
   },
   {
    "duration": 4,
    "start_time": "2022-04-16T17:26:03.886Z"
   },
   {
    "duration": 9,
    "start_time": "2022-04-16T17:27:17.483Z"
   },
   {
    "duration": 12,
    "start_time": "2022-04-16T17:27:43.639Z"
   },
   {
    "duration": 5,
    "start_time": "2022-04-16T17:30:15.040Z"
   },
   {
    "duration": 1651,
    "start_time": "2022-04-16T17:31:52.710Z"
   },
   {
    "duration": 830,
    "start_time": "2022-04-16T17:31:54.364Z"
   },
   {
    "duration": 3,
    "start_time": "2022-04-16T17:31:55.196Z"
   },
   {
    "duration": 28,
    "start_time": "2022-04-16T17:31:55.201Z"
   },
   {
    "duration": 15,
    "start_time": "2022-04-16T17:31:55.231Z"
   },
   {
    "duration": 28,
    "start_time": "2022-04-16T17:31:55.248Z"
   },
   {
    "duration": 29,
    "start_time": "2022-04-16T17:31:55.292Z"
   },
   {
    "duration": 101,
    "start_time": "2022-04-16T17:31:55.323Z"
   },
   {
    "duration": 141,
    "start_time": "2022-04-16T17:31:55.426Z"
   },
   {
    "duration": 142,
    "start_time": "2022-04-16T17:31:55.569Z"
   },
   {
    "duration": 246,
    "start_time": "2022-04-16T17:31:55.713Z"
   },
   {
    "duration": 264,
    "start_time": "2022-04-16T17:31:55.961Z"
   },
   {
    "duration": 4,
    "start_time": "2022-04-16T17:31:56.227Z"
   },
   {
    "duration": 223,
    "start_time": "2022-04-16T17:31:56.234Z"
   },
   {
    "duration": 504,
    "start_time": "2022-04-16T17:31:56.460Z"
   },
   {
    "duration": 646,
    "start_time": "2022-04-16T17:31:56.966Z"
   },
   {
    "duration": 16,
    "start_time": "2022-04-16T17:31:57.613Z"
   },
   {
    "duration": 11,
    "start_time": "2022-04-16T17:31:57.631Z"
   },
   {
    "duration": 19,
    "start_time": "2022-04-16T17:31:57.644Z"
   },
   {
    "duration": 15,
    "start_time": "2022-04-16T17:31:57.692Z"
   },
   {
    "duration": 23,
    "start_time": "2022-04-16T17:31:57.709Z"
   },
   {
    "duration": 8,
    "start_time": "2022-04-16T17:31:57.734Z"
   },
   {
    "duration": 7,
    "start_time": "2022-04-16T17:31:57.743Z"
   },
   {
    "duration": 308,
    "start_time": "2022-04-16T17:31:57.752Z"
   },
   {
    "duration": 279,
    "start_time": "2022-04-16T17:31:58.062Z"
   },
   {
    "duration": 23,
    "start_time": "2022-04-16T17:31:58.342Z"
   },
   {
    "duration": 40,
    "start_time": "2022-04-16T17:31:58.367Z"
   },
   {
    "duration": 20,
    "start_time": "2022-04-16T17:31:58.409Z"
   },
   {
    "duration": 4,
    "start_time": "2022-04-16T17:31:58.431Z"
   },
   {
    "duration": 396,
    "start_time": "2022-04-16T17:31:58.437Z"
   },
   {
    "duration": 24,
    "start_time": "2022-04-16T17:31:58.836Z"
   },
   {
    "duration": 45,
    "start_time": "2022-04-16T17:31:58.862Z"
   },
   {
    "duration": 17,
    "start_time": "2022-04-16T17:31:58.909Z"
   },
   {
    "duration": 558,
    "start_time": "2022-04-16T17:31:58.928Z"
   },
   {
    "duration": 591,
    "start_time": "2022-04-16T17:31:59.488Z"
   },
   {
    "duration": 1057,
    "start_time": "2022-04-16T17:32:00.081Z"
   },
   {
    "duration": 730,
    "start_time": "2022-04-16T17:32:01.140Z"
   },
   {
    "duration": 551,
    "start_time": "2022-04-16T17:32:01.872Z"
   },
   {
    "duration": 8,
    "start_time": "2022-04-16T17:32:02.425Z"
   },
   {
    "duration": 557,
    "start_time": "2022-04-16T17:32:02.435Z"
   },
   {
    "duration": 6,
    "start_time": "2022-04-16T17:32:02.998Z"
   },
   {
    "duration": 25,
    "start_time": "2022-04-16T17:32:03.006Z"
   },
   {
    "duration": 11,
    "start_time": "2022-04-16T17:32:03.033Z"
   },
   {
    "duration": 16,
    "start_time": "2022-04-16T17:32:03.046Z"
   },
   {
    "duration": 14,
    "start_time": "2022-04-16T17:32:03.064Z"
   },
   {
    "duration": 6,
    "start_time": "2022-04-16T17:32:03.092Z"
   },
   {
    "duration": 5,
    "start_time": "2022-04-16T17:34:51.113Z"
   },
   {
    "duration": 3034,
    "start_time": "2022-04-16T17:35:25.066Z"
   },
   {
    "duration": 3759,
    "start_time": "2022-04-16T17:36:16.153Z"
   },
   {
    "duration": 7374,
    "start_time": "2022-04-16T17:37:43.599Z"
   },
   {
    "duration": 121,
    "start_time": "2022-04-16T17:40:28.802Z"
   },
   {
    "duration": 13,
    "start_time": "2022-04-16T17:41:06.044Z"
   },
   {
    "duration": 12,
    "start_time": "2022-04-16T17:41:26.722Z"
   },
   {
    "duration": 23937,
    "start_time": "2022-04-16T17:42:50.871Z"
   },
   {
    "duration": 22976,
    "start_time": "2022-04-16T17:43:22.637Z"
   },
   {
    "duration": 24910,
    "start_time": "2022-04-16T17:44:11.621Z"
   },
   {
    "duration": 7942,
    "start_time": "2022-04-16T17:50:03.042Z"
   },
   {
    "duration": 2200,
    "start_time": "2022-04-16T17:51:16.554Z"
   },
   {
    "duration": 2217,
    "start_time": "2022-04-16T17:51:34.004Z"
   },
   {
    "duration": 12,
    "start_time": "2022-04-16T17:52:31.231Z"
   },
   {
    "duration": 3,
    "start_time": "2022-04-16T17:53:03.362Z"
   },
   {
    "duration": 3,
    "start_time": "2022-04-16T17:53:03.877Z"
   },
   {
    "duration": 5501,
    "start_time": "2022-04-16T17:53:04.931Z"
   },
   {
    "duration": 16,
    "start_time": "2022-04-16T17:54:51.685Z"
   },
   {
    "duration": 3,
    "start_time": "2022-04-16T17:54:53.568Z"
   },
   {
    "duration": 3,
    "start_time": "2022-04-16T17:54:53.980Z"
   },
   {
    "duration": 3,
    "start_time": "2022-04-16T17:54:58.217Z"
   },
   {
    "duration": 3,
    "start_time": "2022-04-16T17:54:58.964Z"
   },
   {
    "duration": 6892,
    "start_time": "2022-04-16T17:54:59.675Z"
   },
   {
    "duration": 6825,
    "start_time": "2022-04-16T17:55:25.364Z"
   },
   {
    "duration": 3,
    "start_time": "2022-04-16T17:57:58.717Z"
   },
   {
    "duration": 3,
    "start_time": "2022-04-16T17:57:59.104Z"
   },
   {
    "duration": 3,
    "start_time": "2022-04-16T17:57:59.435Z"
   },
   {
    "duration": 3,
    "start_time": "2022-04-16T17:58:14.472Z"
   },
   {
    "duration": 4,
    "start_time": "2022-04-16T17:58:14.847Z"
   },
   {
    "duration": 3,
    "start_time": "2022-04-16T17:58:15.225Z"
   },
   {
    "duration": 4,
    "start_time": "2022-04-16T17:58:15.664Z"
   },
   {
    "duration": 10,
    "start_time": "2022-04-16T17:58:21.012Z"
   },
   {
    "duration": 13,
    "start_time": "2022-04-16T17:59:06.279Z"
   },
   {
    "duration": 9,
    "start_time": "2022-04-16T18:01:10.931Z"
   },
   {
    "duration": 13,
    "start_time": "2022-04-16T18:01:13.981Z"
   },
   {
    "duration": 823,
    "start_time": "2022-04-16T18:01:14.594Z"
   },
   {
    "duration": 11,
    "start_time": "2022-04-16T18:03:10.440Z"
   },
   {
    "duration": 10,
    "start_time": "2022-04-16T18:03:10.746Z"
   },
   {
    "duration": 11,
    "start_time": "2022-04-16T18:03:25.234Z"
   },
   {
    "duration": 10,
    "start_time": "2022-04-16T18:05:19.710Z"
   },
   {
    "duration": 6,
    "start_time": "2022-04-16T18:05:32.887Z"
   },
   {
    "duration": 466,
    "start_time": "2022-04-16T18:05:33.868Z"
   },
   {
    "duration": 6,
    "start_time": "2022-04-16T18:05:47.437Z"
   },
   {
    "duration": 420,
    "start_time": "2022-04-16T18:05:48.308Z"
   },
   {
    "duration": 9,
    "start_time": "2022-04-16T18:10:48.164Z"
   },
   {
    "duration": 10,
    "start_time": "2022-04-16T18:12:24.958Z"
   },
   {
    "duration": 3,
    "start_time": "2022-04-16T18:13:24.412Z"
   },
   {
    "duration": 3,
    "start_time": "2022-04-16T18:14:10.473Z"
   },
   {
    "duration": 4,
    "start_time": "2022-04-16T18:14:10.892Z"
   },
   {
    "duration": 4,
    "start_time": "2022-04-16T18:14:11.333Z"
   },
   {
    "duration": 4,
    "start_time": "2022-04-16T18:14:11.786Z"
   },
   {
    "duration": 4,
    "start_time": "2022-04-16T18:14:12.270Z"
   },
   {
    "duration": 225480,
    "start_time": "2022-04-16T18:14:12.673Z"
   },
   {
    "duration": 11,
    "start_time": "2022-04-16T18:18:30.835Z"
   },
   {
    "duration": 3,
    "start_time": "2022-04-16T18:18:43.732Z"
   },
   {
    "duration": 5,
    "start_time": "2022-04-16T18:19:39.171Z"
   },
   {
    "duration": 9,
    "start_time": "2022-04-16T18:20:12.962Z"
   },
   {
    "duration": 3,
    "start_time": "2022-04-16T18:21:50.994Z"
   },
   {
    "duration": 226637,
    "start_time": "2022-04-16T18:25:07.301Z"
   },
   {
    "duration": 4,
    "start_time": "2022-04-16T18:28:53.940Z"
   },
   {
    "duration": 6,
    "start_time": "2022-04-16T18:28:53.956Z"
   },
   {
    "duration": 5,
    "start_time": "2022-04-16T18:28:53.963Z"
   },
   {
    "duration": 31,
    "start_time": "2022-04-16T18:28:53.970Z"
   },
   {
    "duration": 0,
    "start_time": "2022-04-16T18:28:54.002Z"
   },
   {
    "duration": 28,
    "start_time": "2022-04-16T18:29:12.318Z"
   },
   {
    "duration": 28,
    "start_time": "2022-04-16T18:29:17.857Z"
   },
   {
    "duration": 27,
    "start_time": "2022-04-16T18:29:28.197Z"
   },
   {
    "duration": 19,
    "start_time": "2022-04-16T18:30:07.807Z"
   },
   {
    "duration": 27,
    "start_time": "2022-04-16T18:32:32.743Z"
   },
   {
    "duration": 30,
    "start_time": "2022-04-16T18:32:52.245Z"
   },
   {
    "duration": 29,
    "start_time": "2022-04-16T18:33:02.966Z"
   },
   {
    "duration": 70,
    "start_time": "2022-04-16T18:33:54.442Z"
   },
   {
    "duration": 28,
    "start_time": "2022-04-16T18:34:03.382Z"
   },
   {
    "duration": 10,
    "start_time": "2022-04-16T18:35:40.674Z"
   },
   {
    "duration": 7,
    "start_time": "2022-04-16T18:36:04.650Z"
   },
   {
    "duration": 10,
    "start_time": "2022-04-16T18:36:11.388Z"
   },
   {
    "duration": 38,
    "start_time": "2022-04-16T18:36:25.771Z"
   },
   {
    "duration": 26,
    "start_time": "2022-04-16T18:36:35.751Z"
   },
   {
    "duration": 17,
    "start_time": "2022-04-16T18:38:04.580Z"
   },
   {
    "duration": 78,
    "start_time": "2022-04-16T18:38:51.130Z"
   },
   {
    "duration": 20,
    "start_time": "2022-04-16T18:38:58.219Z"
   },
   {
    "duration": 23,
    "start_time": "2022-04-16T18:39:13.925Z"
   },
   {
    "duration": 10,
    "start_time": "2022-04-16T18:39:37.318Z"
   },
   {
    "duration": 8,
    "start_time": "2022-04-16T18:41:12.260Z"
   },
   {
    "duration": 72,
    "start_time": "2022-04-16T18:47:58.817Z"
   },
   {
    "duration": 24,
    "start_time": "2022-04-16T18:47:59.330Z"
   },
   {
    "duration": 8,
    "start_time": "2022-04-16T18:48:00.088Z"
   },
   {
    "duration": 11,
    "start_time": "2022-04-16T18:50:28.379Z"
   },
   {
    "duration": 23,
    "start_time": "2022-04-16T18:50:33.374Z"
   },
   {
    "duration": 9,
    "start_time": "2022-04-16T18:50:44.989Z"
   },
   {
    "duration": 5,
    "start_time": "2022-04-16T18:54:52.836Z"
   },
   {
    "duration": 7,
    "start_time": "2022-04-16T18:55:09.284Z"
   },
   {
    "duration": 5,
    "start_time": "2022-04-16T18:55:35.513Z"
   },
   {
    "duration": 45,
    "start_time": "2022-04-16T18:57:25.508Z"
   },
   {
    "duration": 18,
    "start_time": "2022-04-16T18:57:26.291Z"
   },
   {
    "duration": 21,
    "start_time": "2022-04-16T18:57:28.268Z"
   },
   {
    "duration": 19,
    "start_time": "2022-04-16T18:58:26.103Z"
   },
   {
    "duration": 3456,
    "start_time": "2022-04-16T18:58:50.537Z"
   },
   {
    "duration": 17,
    "start_time": "2022-04-16T18:59:49.727Z"
   },
   {
    "duration": 74,
    "start_time": "2022-04-16T19:00:02.659Z"
   },
   {
    "duration": 22,
    "start_time": "2022-04-16T19:00:14.469Z"
   },
   {
    "duration": 3047,
    "start_time": "2022-04-16T19:00:18.121Z"
   },
   {
    "duration": 190,
    "start_time": "2022-04-16T19:00:40.644Z"
   },
   {
    "duration": 1978,
    "start_time": "2022-04-17T10:18:07.587Z"
   },
   {
    "duration": 947,
    "start_time": "2022-04-17T10:18:09.567Z"
   },
   {
    "duration": 21,
    "start_time": "2022-04-17T10:19:28.064Z"
   },
   {
    "duration": 15,
    "start_time": "2022-04-17T10:19:28.646Z"
   },
   {
    "duration": 21,
    "start_time": "2022-04-17T10:19:29.198Z"
   },
   {
    "duration": 27,
    "start_time": "2022-04-17T10:19:30.812Z"
   },
   {
    "duration": 87,
    "start_time": "2022-04-17T10:19:30.990Z"
   },
   {
    "duration": 119,
    "start_time": "2022-04-17T10:19:31.189Z"
   },
   {
    "duration": 146,
    "start_time": "2022-04-17T10:21:43.585Z"
   },
   {
    "duration": 306,
    "start_time": "2022-04-17T10:21:44.138Z"
   },
   {
    "duration": 309,
    "start_time": "2022-04-17T10:21:44.807Z"
   },
   {
    "duration": 3,
    "start_time": "2022-04-17T10:21:46.756Z"
   },
   {
    "duration": 236,
    "start_time": "2022-04-17T10:21:47.341Z"
   },
   {
    "duration": 574,
    "start_time": "2022-04-17T10:21:48.020Z"
   },
   {
    "duration": 726,
    "start_time": "2022-04-17T10:21:48.607Z"
   },
   {
    "duration": 14,
    "start_time": "2022-04-17T10:21:50.415Z"
   },
   {
    "duration": 10,
    "start_time": "2022-04-17T10:21:50.891Z"
   },
   {
    "duration": 22,
    "start_time": "2022-04-17T10:21:52.356Z"
   },
   {
    "duration": 14,
    "start_time": "2022-04-17T10:21:52.587Z"
   },
   {
    "duration": 24,
    "start_time": "2022-04-17T10:21:54.188Z"
   },
   {
    "duration": 5,
    "start_time": "2022-04-17T10:21:54.638Z"
   },
   {
    "duration": 5,
    "start_time": "2022-04-17T10:21:56.690Z"
   },
   {
    "duration": 296,
    "start_time": "2022-04-17T10:21:56.975Z"
   },
   {
    "duration": 297,
    "start_time": "2022-04-17T10:21:57.475Z"
   },
   {
    "duration": 25,
    "start_time": "2022-04-17T10:21:58.332Z"
   },
   {
    "duration": 26,
    "start_time": "2022-04-17T10:21:58.869Z"
   },
   {
    "duration": 20,
    "start_time": "2022-04-17T10:21:59.638Z"
   },
   {
    "duration": 2,
    "start_time": "2022-04-17T10:22:00.168Z"
   },
   {
    "duration": 404,
    "start_time": "2022-04-17T10:22:00.398Z"
   },
   {
    "duration": 39,
    "start_time": "2022-04-17T10:22:00.804Z"
   },
   {
    "duration": 17,
    "start_time": "2022-04-17T10:22:00.968Z"
   },
   {
    "duration": 18,
    "start_time": "2022-04-17T10:22:01.190Z"
   },
   {
    "duration": 604,
    "start_time": "2022-04-17T10:29:42.367Z"
   },
   {
    "duration": 632,
    "start_time": "2022-04-17T10:29:47.721Z"
   },
   {
    "duration": 764,
    "start_time": "2022-04-17T10:29:49.297Z"
   },
   {
    "duration": 777,
    "start_time": "2022-04-17T10:29:50.451Z"
   },
   {
    "duration": 587,
    "start_time": "2022-04-17T10:29:51.629Z"
   },
   {
    "duration": 7,
    "start_time": "2022-04-17T10:29:53.058Z"
   },
   {
    "duration": 601,
    "start_time": "2022-04-17T10:29:53.534Z"
   },
   {
    "duration": 6,
    "start_time": "2022-04-17T10:29:54.735Z"
   },
   {
    "duration": 17,
    "start_time": "2022-04-17T10:29:55.235Z"
   },
   {
    "duration": 4,
    "start_time": "2022-04-17T10:38:01.815Z"
   },
   {
    "duration": 3,
    "start_time": "2022-04-17T10:38:02.388Z"
   },
   {
    "duration": 119,
    "start_time": "2022-04-17T10:38:58.947Z"
   },
   {
    "duration": 15,
    "start_time": "2022-04-17T10:39:07.417Z"
   },
   {
    "duration": 3,
    "start_time": "2022-04-17T10:39:16.440Z"
   },
   {
    "duration": 787,
    "start_time": "2022-04-17T10:40:10.968Z"
   },
   {
    "duration": 2,
    "start_time": "2022-04-17T10:40:11.757Z"
   },
   {
    "duration": 27,
    "start_time": "2022-04-17T10:40:11.761Z"
   },
   {
    "duration": 15,
    "start_time": "2022-04-17T10:40:11.790Z"
   },
   {
    "duration": 20,
    "start_time": "2022-04-17T10:40:11.898Z"
   },
   {
    "duration": 26,
    "start_time": "2022-04-17T10:40:12.186Z"
   },
   {
    "duration": 79,
    "start_time": "2022-04-17T10:40:12.372Z"
   },
   {
    "duration": 109,
    "start_time": "2022-04-17T10:40:12.510Z"
   },
   {
    "duration": 138,
    "start_time": "2022-04-17T10:40:13.108Z"
   },
   {
    "duration": 267,
    "start_time": "2022-04-17T10:40:13.249Z"
   },
   {
    "duration": 292,
    "start_time": "2022-04-17T10:40:13.519Z"
   },
   {
    "duration": 3,
    "start_time": "2022-04-17T10:40:13.813Z"
   },
   {
    "duration": 192,
    "start_time": "2022-04-17T10:40:13.824Z"
   },
   {
    "duration": 586,
    "start_time": "2022-04-17T10:40:14.018Z"
   },
   {
    "duration": 737,
    "start_time": "2022-04-17T10:40:14.606Z"
   },
   {
    "duration": 10,
    "start_time": "2022-04-17T10:40:15.345Z"
   },
   {
    "duration": 14,
    "start_time": "2022-04-17T10:40:15.357Z"
   },
   {
    "duration": 19,
    "start_time": "2022-04-17T10:40:15.952Z"
   },
   {
    "duration": 15,
    "start_time": "2022-04-17T10:40:16.109Z"
   },
   {
    "duration": 22,
    "start_time": "2022-04-17T10:40:16.742Z"
   },
   {
    "duration": 5,
    "start_time": "2022-04-17T10:40:16.897Z"
   },
   {
    "duration": 5,
    "start_time": "2022-04-17T10:40:17.397Z"
   },
   {
    "duration": 275,
    "start_time": "2022-04-17T10:40:18.317Z"
   },
   {
    "duration": 301,
    "start_time": "2022-04-17T10:40:18.594Z"
   },
   {
    "duration": 22,
    "start_time": "2022-04-17T10:40:18.906Z"
   },
   {
    "duration": 23,
    "start_time": "2022-04-17T10:40:19.088Z"
   },
   {
    "duration": 19,
    "start_time": "2022-04-17T10:40:19.461Z"
   },
   {
    "duration": 2,
    "start_time": "2022-04-17T10:40:19.822Z"
   },
   {
    "duration": 438,
    "start_time": "2022-04-17T10:40:20.009Z"
   },
   {
    "duration": 25,
    "start_time": "2022-04-17T10:40:20.449Z"
   },
   {
    "duration": 27,
    "start_time": "2022-04-17T10:40:20.475Z"
   },
   {
    "duration": 18,
    "start_time": "2022-04-17T10:40:20.584Z"
   },
   {
    "duration": 594,
    "start_time": "2022-04-17T10:40:22.032Z"
   },
   {
    "duration": 651,
    "start_time": "2022-04-17T10:40:22.633Z"
   },
   {
    "duration": 769,
    "start_time": "2022-04-17T10:40:23.287Z"
   },
   {
    "duration": 800,
    "start_time": "2022-04-17T10:40:24.058Z"
   },
   {
    "duration": 622,
    "start_time": "2022-04-17T10:40:24.860Z"
   },
   {
    "duration": 8,
    "start_time": "2022-04-17T10:40:25.484Z"
   },
   {
    "duration": 634,
    "start_time": "2022-04-17T10:40:25.494Z"
   },
   {
    "duration": 6,
    "start_time": "2022-04-17T10:40:26.134Z"
   },
   {
    "duration": 19,
    "start_time": "2022-04-17T10:40:26.241Z"
   },
   {
    "duration": 4,
    "start_time": "2022-04-17T10:40:27.158Z"
   },
   {
    "duration": 3,
    "start_time": "2022-04-17T10:40:27.374Z"
   },
   {
    "duration": 13,
    "start_time": "2022-04-17T10:40:27.938Z"
   },
   {
    "duration": 3,
    "start_time": "2022-04-17T10:40:28.112Z"
   },
   {
    "duration": 6,
    "start_time": "2022-04-17T10:40:28.756Z"
   },
   {
    "duration": 6,
    "start_time": "2022-04-17T10:40:29.394Z"
   },
   {
    "duration": 3,
    "start_time": "2022-04-17T10:40:29.987Z"
   },
   {
    "duration": 3,
    "start_time": "2022-04-17T10:40:30.486Z"
   },
   {
    "duration": 3,
    "start_time": "2022-04-17T10:40:30.805Z"
   },
   {
    "duration": 3,
    "start_time": "2022-04-17T10:40:31.646Z"
   },
   {
    "duration": 14,
    "start_time": "2022-04-17T10:41:08.284Z"
   },
   {
    "duration": 3,
    "start_time": "2022-04-17T10:41:33.878Z"
   },
   {
    "duration": 4,
    "start_time": "2022-04-17T10:41:43.461Z"
   },
   {
    "duration": 4,
    "start_time": "2022-04-17T10:41:54.460Z"
   },
   {
    "duration": 4,
    "start_time": "2022-04-17T10:42:28.450Z"
   },
   {
    "duration": 3,
    "start_time": "2022-04-17T10:42:59.514Z"
   },
   {
    "duration": 4,
    "start_time": "2022-04-17T10:43:43.196Z"
   },
   {
    "duration": 4,
    "start_time": "2022-04-17T10:43:45.705Z"
   },
   {
    "duration": 3,
    "start_time": "2022-04-17T10:43:47.246Z"
   },
   {
    "duration": 11,
    "start_time": "2022-04-17T10:44:34.533Z"
   },
   {
    "duration": 10,
    "start_time": "2022-04-17T10:44:36.444Z"
   },
   {
    "duration": 10,
    "start_time": "2022-04-17T10:44:37.397Z"
   },
   {
    "duration": 10,
    "start_time": "2022-04-17T10:44:37.964Z"
   },
   {
    "duration": 47,
    "start_time": "2022-04-17T16:16:31.528Z"
   },
   {
    "duration": 1570,
    "start_time": "2022-04-17T16:16:47.673Z"
   },
   {
    "duration": 1161,
    "start_time": "2022-04-17T16:16:49.245Z"
   },
   {
    "duration": 3,
    "start_time": "2022-04-17T16:16:50.407Z"
   },
   {
    "duration": 21,
    "start_time": "2022-04-17T16:16:50.412Z"
   },
   {
    "duration": 24,
    "start_time": "2022-04-17T16:16:50.435Z"
   },
   {
    "duration": 16,
    "start_time": "2022-04-17T16:16:50.461Z"
   },
   {
    "duration": 22,
    "start_time": "2022-04-17T16:16:50.479Z"
   },
   {
    "duration": 100,
    "start_time": "2022-04-17T16:16:50.503Z"
   },
   {
    "duration": 115,
    "start_time": "2022-04-17T16:16:50.605Z"
   },
   {
    "duration": 118,
    "start_time": "2022-04-17T16:16:50.722Z"
   },
   {
    "duration": 209,
    "start_time": "2022-04-17T16:16:50.842Z"
   },
   {
    "duration": 225,
    "start_time": "2022-04-17T16:16:51.054Z"
   },
   {
    "duration": 3,
    "start_time": "2022-04-17T16:16:51.280Z"
   },
   {
    "duration": 166,
    "start_time": "2022-04-17T16:16:51.284Z"
   },
   {
    "duration": 437,
    "start_time": "2022-04-17T16:16:51.452Z"
   },
   {
    "duration": 552,
    "start_time": "2022-04-17T16:16:51.890Z"
   },
   {
    "duration": 22,
    "start_time": "2022-04-17T16:16:52.444Z"
   },
   {
    "duration": 7,
    "start_time": "2022-04-17T16:16:52.468Z"
   },
   {
    "duration": 14,
    "start_time": "2022-04-17T16:16:52.477Z"
   },
   {
    "duration": 10,
    "start_time": "2022-04-17T16:16:52.493Z"
   },
   {
    "duration": 17,
    "start_time": "2022-04-17T16:16:52.505Z"
   },
   {
    "duration": 34,
    "start_time": "2022-04-17T16:16:52.523Z"
   },
   {
    "duration": 5,
    "start_time": "2022-04-17T16:16:52.559Z"
   },
   {
    "duration": 236,
    "start_time": "2022-04-17T16:16:52.565Z"
   },
   {
    "duration": 233,
    "start_time": "2022-04-17T16:16:52.802Z"
   },
   {
    "duration": 25,
    "start_time": "2022-04-17T16:16:53.037Z"
   },
   {
    "duration": 25,
    "start_time": "2022-04-17T16:16:53.063Z"
   },
   {
    "duration": 20,
    "start_time": "2022-04-17T16:16:53.092Z"
   },
   {
    "duration": 2,
    "start_time": "2022-04-17T16:16:53.114Z"
   },
   {
    "duration": 329,
    "start_time": "2022-04-17T16:16:53.118Z"
   },
   {
    "duration": 25,
    "start_time": "2022-04-17T16:16:53.449Z"
   },
   {
    "duration": 16,
    "start_time": "2022-04-17T16:16:53.476Z"
   },
   {
    "duration": 15,
    "start_time": "2022-04-17T16:16:53.494Z"
   },
   {
    "duration": 496,
    "start_time": "2022-04-17T16:16:53.511Z"
   },
   {
    "duration": 502,
    "start_time": "2022-04-17T16:16:54.010Z"
   },
   {
    "duration": 574,
    "start_time": "2022-04-17T16:16:54.514Z"
   },
   {
    "duration": 587,
    "start_time": "2022-04-17T16:16:55.089Z"
   },
   {
    "duration": 467,
    "start_time": "2022-04-17T16:16:55.678Z"
   },
   {
    "duration": 7,
    "start_time": "2022-04-17T16:16:56.154Z"
   },
   {
    "duration": 470,
    "start_time": "2022-04-17T16:16:56.163Z"
   },
   {
    "duration": 6,
    "start_time": "2022-04-17T16:16:56.634Z"
   },
   {
    "duration": 25,
    "start_time": "2022-04-17T16:16:56.642Z"
   },
   {
    "duration": 4,
    "start_time": "2022-04-17T16:16:56.669Z"
   },
   {
    "duration": 4,
    "start_time": "2022-04-17T16:16:56.674Z"
   },
   {
    "duration": 123,
    "start_time": "2022-04-17T16:16:56.680Z"
   },
   {
    "duration": 1,
    "start_time": "2022-04-17T16:16:56.805Z"
   },
   {
    "duration": 0,
    "start_time": "2022-04-17T16:16:56.807Z"
   },
   {
    "duration": 0,
    "start_time": "2022-04-17T16:16:56.809Z"
   },
   {
    "duration": 0,
    "start_time": "2022-04-17T16:16:56.810Z"
   },
   {
    "duration": 0,
    "start_time": "2022-04-17T16:16:56.811Z"
   },
   {
    "duration": 1,
    "start_time": "2022-04-17T16:16:56.812Z"
   },
   {
    "duration": 0,
    "start_time": "2022-04-17T16:16:56.814Z"
   },
   {
    "duration": 0,
    "start_time": "2022-04-17T16:16:56.815Z"
   },
   {
    "duration": 0,
    "start_time": "2022-04-17T16:16:56.817Z"
   },
   {
    "duration": 0,
    "start_time": "2022-04-17T16:16:56.818Z"
   },
   {
    "duration": 0,
    "start_time": "2022-04-17T16:16:56.820Z"
   },
   {
    "duration": 0,
    "start_time": "2022-04-17T16:16:56.821Z"
   },
   {
    "duration": 0,
    "start_time": "2022-04-17T16:16:56.822Z"
   },
   {
    "duration": 0,
    "start_time": "2022-04-17T16:16:56.823Z"
   },
   {
    "duration": 0,
    "start_time": "2022-04-17T16:16:56.855Z"
   },
   {
    "duration": 0,
    "start_time": "2022-04-17T16:16:56.856Z"
   },
   {
    "duration": 1,
    "start_time": "2022-04-17T16:16:56.857Z"
   },
   {
    "duration": 0,
    "start_time": "2022-04-17T16:16:56.859Z"
   },
   {
    "duration": 9,
    "start_time": "2022-04-17T16:17:46.399Z"
   },
   {
    "duration": 1413,
    "start_time": "2022-04-17T16:19:06.795Z"
   },
   {
    "duration": 694,
    "start_time": "2022-04-17T16:19:08.210Z"
   },
   {
    "duration": 3,
    "start_time": "2022-04-17T16:19:08.906Z"
   },
   {
    "duration": 21,
    "start_time": "2022-04-17T16:19:08.911Z"
   },
   {
    "duration": 25,
    "start_time": "2022-04-17T16:19:08.933Z"
   },
   {
    "duration": 17,
    "start_time": "2022-04-17T16:19:08.959Z"
   },
   {
    "duration": 23,
    "start_time": "2022-04-17T16:19:08.977Z"
   },
   {
    "duration": 96,
    "start_time": "2022-04-17T16:19:09.002Z"
   },
   {
    "duration": 111,
    "start_time": "2022-04-17T16:19:09.100Z"
   },
   {
    "duration": 119,
    "start_time": "2022-04-17T16:19:09.214Z"
   },
   {
    "duration": 207,
    "start_time": "2022-04-17T16:19:09.335Z"
   },
   {
    "duration": 221,
    "start_time": "2022-04-17T16:19:09.544Z"
   },
   {
    "duration": 3,
    "start_time": "2022-04-17T16:19:09.766Z"
   },
   {
    "duration": 169,
    "start_time": "2022-04-17T16:19:09.770Z"
   },
   {
    "duration": 414,
    "start_time": "2022-04-17T16:19:09.940Z"
   },
   {
    "duration": 530,
    "start_time": "2022-04-17T16:19:10.356Z"
   },
   {
    "duration": 13,
    "start_time": "2022-04-17T16:19:10.887Z"
   },
   {
    "duration": 8,
    "start_time": "2022-04-17T16:19:10.901Z"
   },
   {
    "duration": 19,
    "start_time": "2022-04-17T16:19:10.911Z"
   },
   {
    "duration": 33,
    "start_time": "2022-04-17T16:19:10.931Z"
   },
   {
    "duration": 18,
    "start_time": "2022-04-17T16:19:10.965Z"
   },
   {
    "duration": 6,
    "start_time": "2022-04-17T16:19:10.984Z"
   },
   {
    "duration": 5,
    "start_time": "2022-04-17T16:19:10.992Z"
   },
   {
    "duration": 251,
    "start_time": "2022-04-17T16:19:10.999Z"
   },
   {
    "duration": 230,
    "start_time": "2022-04-17T16:19:11.253Z"
   },
   {
    "duration": 19,
    "start_time": "2022-04-17T16:19:11.485Z"
   },
   {
    "duration": 22,
    "start_time": "2022-04-17T16:19:11.506Z"
   },
   {
    "duration": 33,
    "start_time": "2022-04-17T16:19:11.532Z"
   },
   {
    "duration": 3,
    "start_time": "2022-04-17T16:19:11.566Z"
   },
   {
    "duration": 318,
    "start_time": "2022-04-17T16:19:11.570Z"
   },
   {
    "duration": 19,
    "start_time": "2022-04-17T16:19:11.889Z"
   },
   {
    "duration": 18,
    "start_time": "2022-04-17T16:19:11.909Z"
   },
   {
    "duration": 31,
    "start_time": "2022-04-17T16:19:11.929Z"
   },
   {
    "duration": 462,
    "start_time": "2022-04-17T16:19:11.961Z"
   },
   {
    "duration": 495,
    "start_time": "2022-04-17T16:19:12.424Z"
   },
   {
    "duration": 581,
    "start_time": "2022-04-17T16:19:12.921Z"
   },
   {
    "duration": 596,
    "start_time": "2022-04-17T16:19:13.504Z"
   },
   {
    "duration": 483,
    "start_time": "2022-04-17T16:19:14.101Z"
   },
   {
    "duration": 6,
    "start_time": "2022-04-17T16:19:14.586Z"
   },
   {
    "duration": 466,
    "start_time": "2022-04-17T16:19:14.594Z"
   },
   {
    "duration": 5,
    "start_time": "2022-04-17T16:19:15.062Z"
   },
   {
    "duration": 24,
    "start_time": "2022-04-17T16:19:15.069Z"
   },
   {
    "duration": 3,
    "start_time": "2022-04-17T16:19:15.094Z"
   },
   {
    "duration": 14,
    "start_time": "2022-04-17T16:19:15.098Z"
   },
   {
    "duration": 11,
    "start_time": "2022-04-17T16:19:15.114Z"
   },
   {
    "duration": 7,
    "start_time": "2022-04-17T16:19:15.126Z"
   },
   {
    "duration": 21,
    "start_time": "2022-04-17T16:19:15.135Z"
   },
   {
    "duration": 6,
    "start_time": "2022-04-17T16:19:15.157Z"
   },
   {
    "duration": 4,
    "start_time": "2022-04-17T16:19:15.165Z"
   },
   {
    "duration": 4,
    "start_time": "2022-04-17T16:19:15.171Z"
   },
   {
    "duration": 5,
    "start_time": "2022-04-17T16:19:15.177Z"
   },
   {
    "duration": 8,
    "start_time": "2022-04-17T16:19:15.183Z"
   },
   {
    "duration": 8,
    "start_time": "2022-04-17T16:19:15.192Z"
   },
   {
    "duration": 135,
    "start_time": "2022-04-17T16:19:15.201Z"
   },
   {
    "duration": 0,
    "start_time": "2022-04-17T16:19:15.338Z"
   },
   {
    "duration": 0,
    "start_time": "2022-04-17T16:19:15.339Z"
   },
   {
    "duration": 0,
    "start_time": "2022-04-17T16:19:15.340Z"
   },
   {
    "duration": 0,
    "start_time": "2022-04-17T16:19:15.340Z"
   },
   {
    "duration": 0,
    "start_time": "2022-04-17T16:19:15.341Z"
   },
   {
    "duration": 0,
    "start_time": "2022-04-17T16:19:15.342Z"
   },
   {
    "duration": 0,
    "start_time": "2022-04-17T16:19:15.343Z"
   },
   {
    "duration": 0,
    "start_time": "2022-04-17T16:19:15.345Z"
   },
   {
    "duration": 0,
    "start_time": "2022-04-17T16:19:15.345Z"
   },
   {
    "duration": 197700,
    "start_time": "2022-04-17T16:25:50.478Z"
   },
   {
    "duration": 9,
    "start_time": "2022-04-17T16:29:08.180Z"
   },
   {
    "duration": 8,
    "start_time": "2022-04-17T16:29:08.191Z"
   },
   {
    "duration": 7,
    "start_time": "2022-04-17T16:29:08.201Z"
   },
   {
    "duration": 7,
    "start_time": "2022-04-17T16:29:08.210Z"
   },
   {
    "duration": 100,
    "start_time": "2022-04-17T16:29:26.729Z"
   },
   {
    "duration": 14,
    "start_time": "2022-04-17T16:29:43.123Z"
   },
   {
    "duration": 8,
    "start_time": "2022-04-17T16:29:54.221Z"
   },
   {
    "duration": 5,
    "start_time": "2022-04-17T16:30:05.365Z"
   },
   {
    "duration": 3,
    "start_time": "2022-04-17T16:30:14.672Z"
   },
   {
    "duration": 5,
    "start_time": "2022-04-17T16:30:33.960Z"
   },
   {
    "duration": 5,
    "start_time": "2022-04-17T16:31:12.559Z"
   },
   {
    "duration": 5,
    "start_time": "2022-04-17T16:31:16.142Z"
   },
   {
    "duration": 73,
    "start_time": "2022-04-17T16:31:34.842Z"
   },
   {
    "duration": 10,
    "start_time": "2022-04-17T16:31:36.195Z"
   },
   {
    "duration": 3514,
    "start_time": "2022-04-17T16:31:47.251Z"
   },
   {
    "duration": 1757,
    "start_time": "2022-04-17T16:32:29.342Z"
   },
   {
    "duration": 8,
    "start_time": "2022-04-17T16:34:32.248Z"
   },
   {
    "duration": 1958,
    "start_time": "2022-04-17T16:34:39.109Z"
   },
   {
    "duration": 720,
    "start_time": "2022-04-17T16:34:41.070Z"
   },
   {
    "duration": 3,
    "start_time": "2022-04-17T16:34:41.792Z"
   },
   {
    "duration": 26,
    "start_time": "2022-04-17T16:34:41.796Z"
   },
   {
    "duration": 13,
    "start_time": "2022-04-17T16:34:41.826Z"
   },
   {
    "duration": 19,
    "start_time": "2022-04-17T16:34:41.855Z"
   },
   {
    "duration": 26,
    "start_time": "2022-04-17T16:34:41.876Z"
   },
   {
    "duration": 101,
    "start_time": "2022-04-17T16:34:41.904Z"
   },
   {
    "duration": 116,
    "start_time": "2022-04-17T16:34:42.007Z"
   },
   {
    "duration": 127,
    "start_time": "2022-04-17T16:34:42.125Z"
   },
   {
    "duration": 322,
    "start_time": "2022-04-17T16:34:42.255Z"
   },
   {
    "duration": 330,
    "start_time": "2022-04-17T16:34:42.579Z"
   },
   {
    "duration": 4,
    "start_time": "2022-04-17T16:34:42.912Z"
   },
   {
    "duration": 241,
    "start_time": "2022-04-17T16:34:42.920Z"
   },
   {
    "duration": 464,
    "start_time": "2022-04-17T16:34:43.163Z"
   },
   {
    "duration": 580,
    "start_time": "2022-04-17T16:34:43.629Z"
   },
   {
    "duration": 13,
    "start_time": "2022-04-17T16:34:44.211Z"
   },
   {
    "duration": 29,
    "start_time": "2022-04-17T16:34:44.226Z"
   },
   {
    "duration": 16,
    "start_time": "2022-04-17T16:34:44.257Z"
   },
   {
    "duration": 11,
    "start_time": "2022-04-17T16:34:44.275Z"
   },
   {
    "duration": 19,
    "start_time": "2022-04-17T16:34:44.288Z"
   },
   {
    "duration": 7,
    "start_time": "2022-04-17T16:34:44.309Z"
   },
   {
    "duration": 39,
    "start_time": "2022-04-17T16:34:44.318Z"
   },
   {
    "duration": 389,
    "start_time": "2022-04-17T16:34:44.358Z"
   },
   {
    "duration": 391,
    "start_time": "2022-04-17T16:34:44.755Z"
   },
   {
    "duration": 29,
    "start_time": "2022-04-17T16:34:45.154Z"
   },
   {
    "duration": 29,
    "start_time": "2022-04-17T16:34:45.185Z"
   },
   {
    "duration": 47,
    "start_time": "2022-04-17T16:34:45.216Z"
   },
   {
    "duration": 3,
    "start_time": "2022-04-17T16:34:45.265Z"
   },
   {
    "duration": 354,
    "start_time": "2022-04-17T16:34:45.270Z"
   },
   {
    "duration": 37,
    "start_time": "2022-04-17T16:34:45.626Z"
   },
   {
    "duration": 20,
    "start_time": "2022-04-17T16:34:45.665Z"
   },
   {
    "duration": 32,
    "start_time": "2022-04-17T16:34:45.687Z"
   },
   {
    "duration": 7,
    "start_time": "2022-04-17T16:34:45.720Z"
   },
   {
    "duration": 36,
    "start_time": "2022-04-17T16:34:45.729Z"
   },
   {
    "duration": 8,
    "start_time": "2022-04-17T16:34:45.767Z"
   },
   {
    "duration": 4,
    "start_time": "2022-04-17T16:34:45.778Z"
   },
   {
    "duration": 5,
    "start_time": "2022-04-17T16:34:45.784Z"
   },
   {
    "duration": 7,
    "start_time": "2022-04-17T16:34:45.791Z"
   },
   {
    "duration": 21,
    "start_time": "2022-04-17T16:34:45.800Z"
   },
   {
    "duration": 491,
    "start_time": "2022-04-17T16:34:45.827Z"
   },
   {
    "duration": 511,
    "start_time": "2022-04-17T16:34:46.319Z"
   },
   {
    "duration": 609,
    "start_time": "2022-04-17T16:34:46.832Z"
   },
   {
    "duration": 620,
    "start_time": "2022-04-17T16:34:47.443Z"
   },
   {
    "duration": 503,
    "start_time": "2022-04-17T16:34:48.065Z"
   },
   {
    "duration": 6,
    "start_time": "2022-04-17T16:34:48.569Z"
   },
   {
    "duration": 488,
    "start_time": "2022-04-17T16:34:48.577Z"
   },
   {
    "duration": 5,
    "start_time": "2022-04-17T16:34:49.067Z"
   },
   {
    "duration": 18,
    "start_time": "2022-04-17T16:34:49.074Z"
   },
   {
    "duration": 3,
    "start_time": "2022-04-17T16:34:49.093Z"
   },
   {
    "duration": 4,
    "start_time": "2022-04-17T16:34:49.098Z"
   },
   {
    "duration": 11,
    "start_time": "2022-04-17T16:34:49.104Z"
   },
   {
    "duration": 44,
    "start_time": "2022-04-17T16:34:49.117Z"
   },
   {
    "duration": 9,
    "start_time": "2022-04-17T16:34:49.162Z"
   },
   {
    "duration": 7,
    "start_time": "2022-04-17T16:34:49.172Z"
   },
   {
    "duration": 6,
    "start_time": "2022-04-17T16:34:49.180Z"
   },
   {
    "duration": 5,
    "start_time": "2022-04-17T16:34:49.188Z"
   },
   {
    "duration": 7,
    "start_time": "2022-04-17T16:34:49.194Z"
   },
   {
    "duration": 8,
    "start_time": "2022-04-17T16:34:49.202Z"
   },
   {
    "duration": 12,
    "start_time": "2022-04-17T16:34:49.212Z"
   },
   {
    "duration": 209813,
    "start_time": "2022-04-17T16:34:49.226Z"
   },
   {
    "duration": 14,
    "start_time": "2022-04-17T16:38:19.041Z"
   },
   {
    "duration": 6,
    "start_time": "2022-04-17T16:38:19.057Z"
   },
   {
    "duration": 9,
    "start_time": "2022-04-17T16:38:19.064Z"
   },
   {
    "duration": 8,
    "start_time": "2022-04-17T16:38:19.075Z"
   },
   {
    "duration": 6,
    "start_time": "2022-04-17T16:38:19.084Z"
   },
   {
    "duration": 81,
    "start_time": "2022-04-17T16:38:19.092Z"
   },
   {
    "duration": 9,
    "start_time": "2022-04-17T16:38:19.175Z"
   },
   {
    "duration": 1539,
    "start_time": "2022-04-17T16:38:19.185Z"
   },
   {
    "duration": 122,
    "start_time": "2022-04-17T16:41:44.822Z"
   },
   {
    "duration": 1615,
    "start_time": "2022-04-17T16:41:52.467Z"
   },
   {
    "duration": 10,
    "start_time": "2022-04-17T16:42:23.373Z"
   },
   {
    "duration": 5,
    "start_time": "2022-04-17T16:42:49.665Z"
   },
   {
    "duration": 15,
    "start_time": "2022-04-17T16:44:19.610Z"
   },
   {
    "duration": 5,
    "start_time": "2022-04-17T16:44:38.086Z"
   },
   {
    "duration": 7,
    "start_time": "2022-04-17T16:44:56.665Z"
   },
   {
    "duration": 4,
    "start_time": "2022-04-17T16:45:27.994Z"
   },
   {
    "duration": 6,
    "start_time": "2022-04-17T16:45:32.694Z"
   },
   {
    "duration": 18,
    "start_time": "2022-04-17T16:45:39.149Z"
   },
   {
    "duration": 3,
    "start_time": "2022-04-17T16:48:40.062Z"
   },
   {
    "duration": 2,
    "start_time": "2022-04-17T16:48:53.134Z"
   },
   {
    "duration": 8,
    "start_time": "2022-04-17T16:48:58.657Z"
   },
   {
    "duration": 6,
    "start_time": "2022-04-17T16:49:23.806Z"
   },
   {
    "duration": 6,
    "start_time": "2022-04-17T16:49:26.860Z"
   },
   {
    "duration": 2137,
    "start_time": "2022-04-17T16:49:53.375Z"
   },
   {
    "duration": 0,
    "start_time": "2022-04-17T16:49:55.513Z"
   },
   {
    "duration": 32,
    "start_time": "2022-04-17T16:52:51.592Z"
   },
   {
    "duration": 66,
    "start_time": "2022-04-17T16:52:53.804Z"
   },
   {
    "duration": 9,
    "start_time": "2022-04-17T16:53:44.278Z"
   },
   {
    "duration": 17,
    "start_time": "2022-04-17T16:53:50.594Z"
   },
   {
    "duration": 63,
    "start_time": "2022-04-17T16:54:06.948Z"
   },
   {
    "duration": 4,
    "start_time": "2022-04-17T16:55:04.793Z"
   },
   {
    "duration": 2,
    "start_time": "2022-04-17T16:55:05.227Z"
   },
   {
    "duration": 9,
    "start_time": "2022-04-17T16:55:16.303Z"
   },
   {
    "duration": 69,
    "start_time": "2022-04-17T16:55:20.470Z"
   },
   {
    "duration": 8,
    "start_time": "2022-04-17T16:55:20.876Z"
   },
   {
    "duration": 5,
    "start_time": "2022-04-17T16:55:21.694Z"
   },
   {
    "duration": 6,
    "start_time": "2022-04-17T16:55:22.140Z"
   },
   {
    "duration": 7,
    "start_time": "2022-04-17T16:55:22.668Z"
   },
   {
    "duration": 1476,
    "start_time": "2022-04-17T16:55:31.536Z"
   },
   {
    "duration": 8,
    "start_time": "2022-04-17T16:55:41.878Z"
   },
   {
    "duration": 5,
    "start_time": "2022-04-17T16:55:57.201Z"
   },
   {
    "duration": 6,
    "start_time": "2022-04-17T16:55:57.646Z"
   },
   {
    "duration": 11,
    "start_time": "2022-04-17T16:56:18.489Z"
   },
   {
    "duration": 11,
    "start_time": "2022-04-17T16:56:20.551Z"
   },
   {
    "duration": 4,
    "start_time": "2022-04-17T16:56:27.055Z"
   },
   {
    "duration": 15,
    "start_time": "2022-04-17T16:57:34.283Z"
   },
   {
    "duration": 69,
    "start_time": "2022-04-17T16:57:46.126Z"
   },
   {
    "duration": 1537,
    "start_time": "2022-04-17T16:57:49.825Z"
   },
   {
    "duration": 923,
    "start_time": "2022-04-17T16:57:51.364Z"
   },
   {
    "duration": 2,
    "start_time": "2022-04-17T16:57:52.289Z"
   },
   {
    "duration": 21,
    "start_time": "2022-04-17T16:57:52.293Z"
   },
   {
    "duration": 55,
    "start_time": "2022-04-17T16:57:52.316Z"
   },
   {
    "duration": 18,
    "start_time": "2022-04-17T16:57:52.373Z"
   },
   {
    "duration": 23,
    "start_time": "2022-04-17T16:57:52.392Z"
   },
   {
    "duration": 155,
    "start_time": "2022-04-17T16:57:52.419Z"
   },
   {
    "duration": 119,
    "start_time": "2022-04-17T16:57:52.576Z"
   },
   {
    "duration": 119,
    "start_time": "2022-04-17T16:57:52.698Z"
   },
   {
    "duration": 225,
    "start_time": "2022-04-17T16:57:52.819Z"
   },
   {
    "duration": 255,
    "start_time": "2022-04-17T16:57:53.046Z"
   },
   {
    "duration": 4,
    "start_time": "2022-04-17T16:57:53.303Z"
   },
   {
    "duration": 194,
    "start_time": "2022-04-17T16:57:53.308Z"
   },
   {
    "duration": 463,
    "start_time": "2022-04-17T16:57:53.504Z"
   },
   {
    "duration": 569,
    "start_time": "2022-04-17T16:57:53.970Z"
   },
   {
    "duration": 30,
    "start_time": "2022-04-17T16:57:54.541Z"
   },
   {
    "duration": 10,
    "start_time": "2022-04-17T16:57:54.572Z"
   },
   {
    "duration": 16,
    "start_time": "2022-04-17T16:57:54.584Z"
   },
   {
    "duration": 10,
    "start_time": "2022-04-17T16:57:54.602Z"
   },
   {
    "duration": 43,
    "start_time": "2022-04-17T16:57:54.613Z"
   },
   {
    "duration": 11,
    "start_time": "2022-04-17T16:57:54.660Z"
   },
   {
    "duration": 6,
    "start_time": "2022-04-17T16:57:54.673Z"
   },
   {
    "duration": 263,
    "start_time": "2022-04-17T16:57:54.680Z"
   },
   {
    "duration": 254,
    "start_time": "2022-04-17T16:57:54.944Z"
   },
   {
    "duration": 19,
    "start_time": "2022-04-17T16:57:55.200Z"
   },
   {
    "duration": 38,
    "start_time": "2022-04-17T16:57:55.220Z"
   },
   {
    "duration": 19,
    "start_time": "2022-04-17T16:57:55.265Z"
   },
   {
    "duration": 3,
    "start_time": "2022-04-17T16:57:55.285Z"
   },
   {
    "duration": 348,
    "start_time": "2022-04-17T16:57:55.289Z"
   },
   {
    "duration": 32,
    "start_time": "2022-04-17T16:57:55.639Z"
   },
   {
    "duration": 17,
    "start_time": "2022-04-17T16:57:55.673Z"
   },
   {
    "duration": 15,
    "start_time": "2022-04-17T16:57:55.692Z"
   },
   {
    "duration": 511,
    "start_time": "2022-04-17T16:57:55.709Z"
   },
   {
    "duration": 555,
    "start_time": "2022-04-17T16:57:56.222Z"
   },
   {
    "duration": 647,
    "start_time": "2022-04-17T16:57:56.778Z"
   },
   {
    "duration": 701,
    "start_time": "2022-04-17T16:57:57.426Z"
   },
   {
    "duration": 496,
    "start_time": "2022-04-17T16:57:58.129Z"
   },
   {
    "duration": 8,
    "start_time": "2022-04-17T16:57:58.627Z"
   },
   {
    "duration": 496,
    "start_time": "2022-04-17T16:57:58.637Z"
   },
   {
    "duration": 7,
    "start_time": "2022-04-17T16:57:59.135Z"
   },
   {
    "duration": 18,
    "start_time": "2022-04-17T16:57:59.154Z"
   },
   {
    "duration": 3,
    "start_time": "2022-04-17T16:57:59.173Z"
   },
   {
    "duration": 6,
    "start_time": "2022-04-17T16:57:59.178Z"
   },
   {
    "duration": 12,
    "start_time": "2022-04-17T16:57:59.186Z"
   },
   {
    "duration": 5,
    "start_time": "2022-04-17T16:57:59.201Z"
   },
   {
    "duration": 7,
    "start_time": "2022-04-17T16:57:59.208Z"
   },
   {
    "duration": 41,
    "start_time": "2022-04-17T16:57:59.217Z"
   },
   {
    "duration": 6,
    "start_time": "2022-04-17T16:57:59.259Z"
   },
   {
    "duration": 6,
    "start_time": "2022-04-17T16:57:59.266Z"
   },
   {
    "duration": 5,
    "start_time": "2022-04-17T16:57:59.273Z"
   },
   {
    "duration": 5,
    "start_time": "2022-04-17T16:57:59.280Z"
   },
   {
    "duration": 8,
    "start_time": "2022-04-17T16:57:59.287Z"
   },
   {
    "duration": 200200,
    "start_time": "2022-04-17T16:57:59.297Z"
   },
   {
    "duration": 8,
    "start_time": "2022-04-17T17:01:19.499Z"
   },
   {
    "duration": 6,
    "start_time": "2022-04-17T17:01:19.509Z"
   },
   {
    "duration": 6,
    "start_time": "2022-04-17T17:01:19.517Z"
   },
   {
    "duration": 29,
    "start_time": "2022-04-17T17:01:19.525Z"
   },
   {
    "duration": 4,
    "start_time": "2022-04-17T17:01:19.556Z"
   },
   {
    "duration": 65,
    "start_time": "2022-04-17T17:01:19.562Z"
   },
   {
    "duration": 31,
    "start_time": "2022-04-17T17:01:19.629Z"
   },
   {
    "duration": 113,
    "start_time": "2022-04-17T17:01:19.662Z"
   },
   {
    "duration": 0,
    "start_time": "2022-04-17T17:01:19.776Z"
   },
   {
    "duration": 0,
    "start_time": "2022-04-17T17:01:19.778Z"
   },
   {
    "duration": 18,
    "start_time": "2022-04-17T17:01:48.886Z"
   },
   {
    "duration": 9,
    "start_time": "2022-04-17T17:01:51.114Z"
   },
   {
    "duration": 9,
    "start_time": "2022-04-17T17:02:01.347Z"
   },
   {
    "duration": 136,
    "start_time": "2022-04-17T17:03:40.404Z"
   },
   {
    "duration": 13,
    "start_time": "2022-04-17T17:04:55.145Z"
   },
   {
    "duration": 20,
    "start_time": "2022-04-17T17:05:02.784Z"
   },
   {
    "duration": 3,
    "start_time": "2022-04-17T17:05:55.888Z"
   },
   {
    "duration": 15,
    "start_time": "2022-04-17T17:06:21.583Z"
   },
   {
    "duration": 3,
    "start_time": "2022-04-17T17:06:22.046Z"
   },
   {
    "duration": 67,
    "start_time": "2022-04-17T17:06:22.446Z"
   },
   {
    "duration": 21,
    "start_time": "2022-04-17T17:06:22.824Z"
   },
   {
    "duration": 20,
    "start_time": "2022-04-17T17:06:25.860Z"
   },
   {
    "duration": 10,
    "start_time": "2022-04-17T17:06:26.708Z"
   },
   {
    "duration": 24,
    "start_time": "2022-04-17T17:06:32.125Z"
   },
   {
    "duration": 31,
    "start_time": "2022-04-17T17:07:53.880Z"
   },
   {
    "duration": 78,
    "start_time": "2022-04-17T17:07:58.933Z"
   },
   {
    "duration": 9,
    "start_time": "2022-04-17T17:08:46.576Z"
   },
   {
    "duration": 9,
    "start_time": "2022-04-17T17:09:10.645Z"
   },
   {
    "duration": 29,
    "start_time": "2022-04-17T17:09:37.048Z"
   },
   {
    "duration": 28,
    "start_time": "2022-04-17T17:09:47.671Z"
   },
   {
    "duration": 28,
    "start_time": "2022-04-17T17:11:02.360Z"
   },
   {
    "duration": 7,
    "start_time": "2022-04-17T17:11:54.399Z"
   },
   {
    "duration": 67,
    "start_time": "2022-04-17T17:12:01.740Z"
   },
   {
    "duration": 16,
    "start_time": "2022-04-17T17:12:11.488Z"
   },
   {
    "duration": 62,
    "start_time": "2022-04-17T17:14:48.912Z"
   },
   {
    "duration": 19,
    "start_time": "2022-04-17T17:14:51.207Z"
   },
   {
    "duration": 9,
    "start_time": "2022-04-17T17:14:55.379Z"
   },
   {
    "duration": 18,
    "start_time": "2022-04-17T17:15:04.121Z"
   },
   {
    "duration": 5,
    "start_time": "2022-04-17T17:15:20.313Z"
   },
   {
    "duration": 10,
    "start_time": "2022-04-17T17:18:33.280Z"
   },
   {
    "duration": 9,
    "start_time": "2022-04-17T17:18:54.023Z"
   },
   {
    "duration": 8,
    "start_time": "2022-04-17T17:19:11.338Z"
   },
   {
    "duration": 8,
    "start_time": "2022-04-17T17:21:29.767Z"
   },
   {
    "duration": 5,
    "start_time": "2022-04-17T17:21:34.234Z"
   },
   {
    "duration": 6,
    "start_time": "2022-04-17T17:21:51.277Z"
   },
   {
    "duration": 8,
    "start_time": "2022-04-17T17:21:51.732Z"
   },
   {
    "duration": 39,
    "start_time": "2022-04-17T17:22:08.015Z"
   },
   {
    "duration": 16,
    "start_time": "2022-04-17T17:22:15.230Z"
   },
   {
    "duration": 5,
    "start_time": "2022-04-17T17:22:17.735Z"
   },
   {
    "duration": 7,
    "start_time": "2022-04-17T17:22:22.903Z"
   },
   {
    "duration": 11,
    "start_time": "2022-04-17T17:24:02.324Z"
   },
   {
    "duration": 9,
    "start_time": "2022-04-17T17:24:22.242Z"
   },
   {
    "duration": 4,
    "start_time": "2022-04-17T17:24:52.345Z"
   },
   {
    "duration": 11,
    "start_time": "2022-04-17T17:25:02.245Z"
   },
   {
    "duration": 10,
    "start_time": "2022-04-17T17:28:59.291Z"
   },
   {
    "duration": 6,
    "start_time": "2022-04-17T17:29:19.232Z"
   },
   {
    "duration": 189,
    "start_time": "2022-04-17T17:29:38.248Z"
   },
   {
    "duration": 6,
    "start_time": "2022-04-17T17:31:10.695Z"
   },
   {
    "duration": 147,
    "start_time": "2022-04-17T17:37:41.249Z"
   },
   {
    "duration": 9,
    "start_time": "2022-04-17T17:37:45.262Z"
   },
   {
    "duration": 3,
    "start_time": "2022-04-17T17:37:58.967Z"
   },
   {
    "duration": 4,
    "start_time": "2022-04-17T17:38:03.216Z"
   },
   {
    "duration": 1560,
    "start_time": "2022-04-17T17:44:10.703Z"
   },
   {
    "duration": 745,
    "start_time": "2022-04-17T17:44:12.265Z"
   },
   {
    "duration": 3,
    "start_time": "2022-04-17T17:44:13.012Z"
   },
   {
    "duration": 26,
    "start_time": "2022-04-17T17:44:13.016Z"
   },
   {
    "duration": 21,
    "start_time": "2022-04-17T17:44:13.044Z"
   },
   {
    "duration": 17,
    "start_time": "2022-04-17T17:44:13.066Z"
   },
   {
    "duration": 26,
    "start_time": "2022-04-17T17:44:13.085Z"
   },
   {
    "duration": 109,
    "start_time": "2022-04-17T17:44:13.113Z"
   },
   {
    "duration": 118,
    "start_time": "2022-04-17T17:44:13.224Z"
   },
   {
    "duration": 130,
    "start_time": "2022-04-17T17:44:13.346Z"
   },
   {
    "duration": 221,
    "start_time": "2022-04-17T17:44:13.477Z"
   },
   {
    "duration": 231,
    "start_time": "2022-04-17T17:44:13.700Z"
   },
   {
    "duration": 3,
    "start_time": "2022-04-17T17:44:13.932Z"
   },
   {
    "duration": 159,
    "start_time": "2022-04-17T17:44:13.937Z"
   },
   {
    "duration": 466,
    "start_time": "2022-04-17T17:44:14.120Z"
   },
   {
    "duration": 769,
    "start_time": "2022-04-17T17:44:14.587Z"
   },
   {
    "duration": 14,
    "start_time": "2022-04-17T17:44:15.358Z"
   },
   {
    "duration": 10,
    "start_time": "2022-04-17T17:44:15.374Z"
   },
   {
    "duration": 18,
    "start_time": "2022-04-17T17:44:15.385Z"
   },
   {
    "duration": 10,
    "start_time": "2022-04-17T17:44:15.405Z"
   },
   {
    "duration": 56,
    "start_time": "2022-04-17T17:44:15.416Z"
   },
   {
    "duration": 11,
    "start_time": "2022-04-17T17:44:15.473Z"
   },
   {
    "duration": 5,
    "start_time": "2022-04-17T17:44:15.486Z"
   },
   {
    "duration": 259,
    "start_time": "2022-04-17T17:44:15.493Z"
   },
   {
    "duration": 242,
    "start_time": "2022-04-17T17:44:15.755Z"
   },
   {
    "duration": 19,
    "start_time": "2022-04-17T17:44:15.999Z"
   },
   {
    "duration": 40,
    "start_time": "2022-04-17T17:44:16.020Z"
   },
   {
    "duration": 109,
    "start_time": "2022-04-17T17:44:16.065Z"
   },
   {
    "duration": 3,
    "start_time": "2022-04-17T17:44:16.176Z"
   },
   {
    "duration": 264,
    "start_time": "2022-04-17T17:44:16.181Z"
   },
   {
    "duration": 24,
    "start_time": "2022-04-17T17:44:16.447Z"
   },
   {
    "duration": 15,
    "start_time": "2022-04-17T17:44:16.473Z"
   },
   {
    "duration": 16,
    "start_time": "2022-04-17T17:44:16.490Z"
   },
   {
    "duration": 499,
    "start_time": "2022-04-17T17:44:16.508Z"
   },
   {
    "duration": 516,
    "start_time": "2022-04-17T17:44:17.009Z"
   },
   {
    "duration": 597,
    "start_time": "2022-04-17T17:44:17.527Z"
   },
   {
    "duration": 622,
    "start_time": "2022-04-17T17:44:18.126Z"
   },
   {
    "duration": 492,
    "start_time": "2022-04-17T17:44:18.754Z"
   },
   {
    "duration": 8,
    "start_time": "2022-04-17T17:44:19.248Z"
   },
   {
    "duration": 473,
    "start_time": "2022-04-17T17:44:19.258Z"
   },
   {
    "duration": 7,
    "start_time": "2022-04-17T17:44:19.733Z"
   },
   {
    "duration": 30,
    "start_time": "2022-04-17T17:44:19.742Z"
   },
   {
    "duration": 3,
    "start_time": "2022-04-17T17:44:19.774Z"
   },
   {
    "duration": 8,
    "start_time": "2022-04-17T17:44:19.779Z"
   },
   {
    "duration": 12,
    "start_time": "2022-04-17T17:44:19.789Z"
   },
   {
    "duration": 3,
    "start_time": "2022-04-17T17:44:19.802Z"
   },
   {
    "duration": 8,
    "start_time": "2022-04-17T17:44:19.807Z"
   },
   {
    "duration": 42,
    "start_time": "2022-04-17T17:44:19.816Z"
   },
   {
    "duration": 7,
    "start_time": "2022-04-17T17:44:19.860Z"
   },
   {
    "duration": 6,
    "start_time": "2022-04-17T17:44:19.869Z"
   },
   {
    "duration": 8,
    "start_time": "2022-04-17T17:44:19.876Z"
   },
   {
    "duration": 4,
    "start_time": "2022-04-17T17:44:19.886Z"
   },
   {
    "duration": 14,
    "start_time": "2022-04-17T17:44:19.892Z"
   },
   {
    "duration": 212039,
    "start_time": "2022-04-17T17:44:19.908Z"
   },
   {
    "duration": 9,
    "start_time": "2022-04-17T17:47:51.948Z"
   },
   {
    "duration": 12,
    "start_time": "2022-04-17T17:47:51.959Z"
   },
   {
    "duration": 7,
    "start_time": "2022-04-17T17:47:51.972Z"
   },
   {
    "duration": 6,
    "start_time": "2022-04-17T17:47:51.981Z"
   },
   {
    "duration": 5,
    "start_time": "2022-04-17T17:47:51.989Z"
   },
   {
    "duration": 18,
    "start_time": "2022-04-17T17:47:51.996Z"
   },
   {
    "duration": 4,
    "start_time": "2022-04-17T17:47:52.055Z"
   },
   {
    "duration": 78,
    "start_time": "2022-04-17T17:47:52.060Z"
   },
   {
    "duration": 0,
    "start_time": "2022-04-17T17:47:52.139Z"
   },
   {
    "duration": 0,
    "start_time": "2022-04-17T17:47:52.141Z"
   },
   {
    "duration": 0,
    "start_time": "2022-04-17T17:47:52.154Z"
   },
   {
    "duration": 0,
    "start_time": "2022-04-17T17:47:52.155Z"
   },
   {
    "duration": 0,
    "start_time": "2022-04-17T17:47:52.156Z"
   },
   {
    "duration": 0,
    "start_time": "2022-04-17T17:47:52.157Z"
   },
   {
    "duration": 0,
    "start_time": "2022-04-17T17:47:52.158Z"
   },
   {
    "duration": 0,
    "start_time": "2022-04-17T17:47:52.158Z"
   },
   {
    "duration": 7,
    "start_time": "2022-04-17T17:48:22.306Z"
   },
   {
    "duration": 8,
    "start_time": "2022-04-17T17:48:22.990Z"
   },
   {
    "duration": 43,
    "start_time": "2022-04-17T17:48:24.904Z"
   },
   {
    "duration": 18,
    "start_time": "2022-04-17T17:48:25.363Z"
   },
   {
    "duration": 8,
    "start_time": "2022-04-17T17:48:26.421Z"
   },
   {
    "duration": 8,
    "start_time": "2022-04-17T17:48:39.492Z"
   },
   {
    "duration": 7,
    "start_time": "2022-04-17T17:48:40.274Z"
   },
   {
    "duration": 9,
    "start_time": "2022-04-17T17:48:41.523Z"
   },
   {
    "duration": 4,
    "start_time": "2022-04-17T17:49:24.347Z"
   },
   {
    "duration": 57811,
    "start_time": "2022-04-18T04:46:41.084Z"
   },
   {
    "duration": 1114,
    "start_time": "2022-04-18T04:47:38.898Z"
   },
   {
    "duration": 3,
    "start_time": "2022-04-18T04:47:40.014Z"
   },
   {
    "duration": 39,
    "start_time": "2022-04-18T04:47:40.020Z"
   },
   {
    "duration": 18,
    "start_time": "2022-04-18T04:47:40.061Z"
   },
   {
    "duration": 26,
    "start_time": "2022-04-18T04:47:40.081Z"
   },
   {
    "duration": 72,
    "start_time": "2022-04-18T04:47:40.109Z"
   },
   {
    "duration": 143,
    "start_time": "2022-04-18T04:47:40.183Z"
   },
   {
    "duration": 197,
    "start_time": "2022-04-18T04:47:40.328Z"
   },
   {
    "duration": 249,
    "start_time": "2022-04-18T04:47:40.528Z"
   },
   {
    "duration": 411,
    "start_time": "2022-04-18T04:47:40.779Z"
   },
   {
    "duration": 351,
    "start_time": "2022-04-18T04:47:41.192Z"
   },
   {
    "duration": 20,
    "start_time": "2022-04-18T04:51:12.817Z"
   },
   {
    "duration": 16,
    "start_time": "2022-04-18T04:51:13.554Z"
   },
   {
    "duration": 22,
    "start_time": "2022-04-18T04:51:14.149Z"
   },
   {
    "duration": 36,
    "start_time": "2022-04-18T04:51:14.939Z"
   },
   {
    "duration": 137,
    "start_time": "2022-04-18T04:51:15.468Z"
   },
   {
    "duration": 195,
    "start_time": "2022-04-18T04:51:15.931Z"
   },
   {
    "duration": 186,
    "start_time": "2022-04-18T04:51:16.681Z"
   },
   {
    "duration": 348,
    "start_time": "2022-04-18T04:51:16.870Z"
   },
   {
    "duration": 357,
    "start_time": "2022-04-18T04:51:17.221Z"
   },
   {
    "duration": 5,
    "start_time": "2022-04-18T04:51:17.580Z"
   },
   {
    "duration": 274,
    "start_time": "2022-04-18T04:51:17.587Z"
   },
   {
    "duration": 674,
    "start_time": "2022-04-18T04:51:17.863Z"
   },
   {
    "duration": 850,
    "start_time": "2022-04-18T04:51:18.551Z"
   },
   {
    "duration": 68,
    "start_time": "2022-04-18T04:51:19.405Z"
   },
   {
    "duration": 10,
    "start_time": "2022-04-18T04:51:19.475Z"
   },
   {
    "duration": 24,
    "start_time": "2022-04-18T04:51:20.070Z"
   },
   {
    "duration": 17,
    "start_time": "2022-04-18T04:51:20.536Z"
   },
   {
    "duration": 32,
    "start_time": "2022-04-18T04:51:21.235Z"
   },
   {
    "duration": 7,
    "start_time": "2022-04-18T04:51:21.415Z"
   },
   {
    "duration": 5,
    "start_time": "2022-04-18T04:51:21.912Z"
   },
   {
    "duration": 467,
    "start_time": "2022-04-18T04:51:22.604Z"
   },
   {
    "duration": 592,
    "start_time": "2022-04-18T04:51:23.074Z"
   },
   {
    "duration": 43,
    "start_time": "2022-04-18T04:51:23.669Z"
   },
   {
    "duration": 55,
    "start_time": "2022-04-18T04:51:23.715Z"
   },
   {
    "duration": 28,
    "start_time": "2022-04-18T04:51:23.773Z"
   },
   {
    "duration": 4,
    "start_time": "2022-04-18T04:51:23.977Z"
   },
   {
    "duration": 528,
    "start_time": "2022-04-18T04:51:24.194Z"
   },
   {
    "duration": 41,
    "start_time": "2022-04-18T04:51:24.725Z"
   },
   {
    "duration": 25,
    "start_time": "2022-04-18T04:51:24.768Z"
   },
   {
    "duration": 24,
    "start_time": "2022-04-18T04:51:24.795Z"
   },
   {
    "duration": 965,
    "start_time": "2022-04-18T04:51:26.469Z"
   },
   {
    "duration": 1043,
    "start_time": "2022-04-18T04:51:27.436Z"
   },
   {
    "duration": 1136,
    "start_time": "2022-04-18T04:51:28.483Z"
   },
   {
    "duration": 1259,
    "start_time": "2022-04-18T04:51:29.623Z"
   },
   {
    "duration": 1033,
    "start_time": "2022-04-18T04:51:30.885Z"
   },
   {
    "duration": 9,
    "start_time": "2022-04-18T04:51:31.921Z"
   },
   {
    "duration": 945,
    "start_time": "2022-04-18T04:51:31.932Z"
   },
   {
    "duration": 8,
    "start_time": "2022-04-18T04:51:32.880Z"
   },
   {
    "duration": 28,
    "start_time": "2022-04-18T04:51:32.890Z"
   },
   {
    "duration": 4,
    "start_time": "2022-04-18T04:51:33.991Z"
   },
   {
    "duration": 4,
    "start_time": "2022-04-18T04:51:34.637Z"
   },
   {
    "duration": 58,
    "start_time": "2022-04-18T04:51:59.103Z"
   },
   {
    "duration": 6,
    "start_time": "2022-04-18T04:51:59.163Z"
   },
   {
    "duration": 6,
    "start_time": "2022-04-18T04:51:59.172Z"
   },
   {
    "duration": 70,
    "start_time": "2022-04-18T04:51:59.181Z"
   },
   {
    "duration": 10,
    "start_time": "2022-04-18T04:51:59.257Z"
   },
   {
    "duration": 7,
    "start_time": "2022-04-18T04:51:59.270Z"
   },
   {
    "duration": 73,
    "start_time": "2022-04-18T04:51:59.279Z"
   },
   {
    "duration": 8,
    "start_time": "2022-04-18T04:51:59.355Z"
   },
   {
    "duration": 7,
    "start_time": "2022-04-18T04:51:59.365Z"
   },
   {
    "duration": 280053,
    "start_time": "2022-04-18T04:51:59.374Z"
   },
   {
    "duration": 25,
    "start_time": "2022-04-18T04:56:39.429Z"
   },
   {
    "duration": 7,
    "start_time": "2022-04-18T04:56:39.457Z"
   },
   {
    "duration": 10,
    "start_time": "2022-04-18T04:56:39.466Z"
   },
   {
    "duration": 5,
    "start_time": "2022-04-18T04:56:39.480Z"
   },
   {
    "duration": 6,
    "start_time": "2022-04-18T04:56:39.488Z"
   },
   {
    "duration": 64,
    "start_time": "2022-04-18T04:56:39.496Z"
   },
   {
    "duration": 4,
    "start_time": "2022-04-18T04:56:39.562Z"
   },
   {
    "duration": 172,
    "start_time": "2022-04-18T04:56:39.568Z"
   },
   {
    "duration": 0,
    "start_time": "2022-04-18T04:56:39.742Z"
   },
   {
    "duration": 9,
    "start_time": "2022-04-18T04:57:20.952Z"
   },
   {
    "duration": 12,
    "start_time": "2022-04-18T04:58:32.931Z"
   },
   {
    "duration": 11,
    "start_time": "2022-04-18T04:58:40.911Z"
   },
   {
    "duration": 11,
    "start_time": "2022-04-18T04:58:45.480Z"
   },
   {
    "duration": 51,
    "start_time": "2022-04-18T04:58:49.221Z"
   },
   {
    "duration": 25,
    "start_time": "2022-04-18T04:58:49.750Z"
   },
   {
    "duration": 10,
    "start_time": "2022-04-18T04:58:54.855Z"
   },
   {
    "duration": 9,
    "start_time": "2022-04-18T04:59:08.448Z"
   },
   {
    "duration": 8,
    "start_time": "2022-04-18T04:59:09.270Z"
   }
  ],
  "kernelspec": {
   "display_name": "Python 3",
   "language": "python",
   "name": "python3"
  },
  "language_info": {
   "codemirror_mode": {
    "name": "ipython",
    "version": 3
   },
   "file_extension": ".py",
   "mimetype": "text/x-python",
   "name": "python",
   "nbconvert_exporter": "python",
   "pygments_lexer": "ipython3",
   "version": "3.9.1"
  },
  "toc": {
   "base_numbering": 1,
   "nav_menu": {},
   "number_sections": true,
   "sideBar": true,
   "skip_h1_title": true,
   "title_cell": "Содержание",
   "title_sidebar": "Contents",
   "toc_cell": true,
   "toc_position": {},
   "toc_section_display": true,
   "toc_window_display": true
  }
 },
 "nbformat": 4,
 "nbformat_minor": 2
}
